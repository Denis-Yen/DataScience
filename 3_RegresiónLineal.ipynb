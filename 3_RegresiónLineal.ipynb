{
  "nbformat": 4,
  "nbformat_minor": 0,
  "metadata": {
    "colab": {
      "name": "3-RegresiónLineal.ipynb",
      "provenance": [],
      "mount_file_id": "1UstQkLO2StKK7D_MDCCe64DybcVz6CNS",
      "authorship_tag": "ABX9TyObAqeTQ0+m6wBQB1xJjE/0",
      "include_colab_link": true
    },
    "kernelspec": {
      "name": "python3",
      "display_name": "Python 3"
    },
    "language_info": {
      "name": "python"
    }
  },
  "cells": [
    {
      "cell_type": "markdown",
      "metadata": {
        "id": "view-in-github",
        "colab_type": "text"
      },
      "source": [
        "<a href=\"https://colab.research.google.com/github/Denis-Yen/DataScience/blob/main/3_Regresi%C3%B3nLineal.ipynb\" target=\"_parent\"><img src=\"https://colab.research.google.com/assets/colab-badge.svg\" alt=\"Open In Colab\"/></a>"
      ]
    },
    {
      "cell_type": "markdown",
      "metadata": {
        "id": "rAkNlEjMHa_1"
      },
      "source": [
        "# Regresión Lineal Simple en Python\n",
        "\n",
        "### Se usa el paquete statsmodel para regresion lineal o sklearn"
      ]
    },
    {
      "cell_type": "code",
      "metadata": {
        "id": "I5tSWvoWHrS6"
      },
      "source": [
        "import pandas as pd\n",
        "import statsmodels.formula.api as smf # libreria para regresión lineal"
      ],
      "execution_count": null,
      "outputs": []
    },
    {
      "cell_type": "code",
      "metadata": {
        "id": "-n6U44ClHfp5"
      },
      "source": [
        "data = pd.read_csv(\"/content/drive/MyDrive/Machine en Python  Udemy/Data/Advertising.csv\")\n",
        "data.head()"
      ],
      "execution_count": null,
      "outputs": []
    },
    {
      "cell_type": "code",
      "metadata": {
        "colab": {
          "base_uri": "https://localhost:8080/"
        },
        "id": "hMqj4DcAIB8d",
        "outputId": "8048155d-abbf-41fd-9025-b1ec59e5e9de"
      },
      "source": [
        "lm = smf.ols(formula=\"Sales~TV\", data= data).fit() # El fit sirve para buscar el modelo que mejor se ajusta a los datos\n",
        "lm.params"
      ],
      "execution_count": null,
      "outputs": [
        {
          "output_type": "execute_result",
          "data": {
            "text/plain": [
              "Intercept    7.032594\n",
              "TV           0.047537\n",
              "dtype: float64"
            ]
          },
          "metadata": {
            "tags": []
          },
          "execution_count": 7
        }
      ]
    },
    {
      "cell_type": "markdown",
      "metadata": {
        "id": "eNzigPOeKBjc"
      },
      "source": [
        "El modelo lineal predictivo sería $Sales =7.032594 + 0.047537*TV $\n",
        "\n",
        "\n"
      ]
    },
    {
      "cell_type": "code",
      "metadata": {
        "colab": {
          "base_uri": "https://localhost:8080/"
        },
        "id": "VYgetlKCJnDo",
        "outputId": "ffef0c47-95f1-4975-e1bb-5d46bc7db123"
      },
      "source": [
        "lm.params"
      ],
      "execution_count": null,
      "outputs": [
        {
          "output_type": "execute_result",
          "data": {
            "text/plain": [
              "Intercept    7.032594\n",
              "TV           0.047537\n",
              "dtype: float64"
            ]
          },
          "metadata": {
            "tags": []
          },
          "execution_count": 223
        }
      ]
    },
    {
      "cell_type": "code",
      "metadata": {
        "colab": {
          "base_uri": "https://localhost:8080/"
        },
        "id": "Y4gA1lxHKcY8",
        "outputId": "fc433b2e-5288-4a3c-8c47-bba7ebc72741"
      },
      "source": [
        "lm.pvalues"
      ],
      "execution_count": null,
      "outputs": [
        {
          "output_type": "execute_result",
          "data": {
            "text/plain": [
              "Intercept    1.406300e-35\n",
              "TV           1.467390e-42\n",
              "dtype: float64"
            ]
          },
          "metadata": {
            "tags": []
          },
          "execution_count": 225
        }
      ]
    },
    {
      "cell_type": "code",
      "metadata": {
        "colab": {
          "base_uri": "https://localhost:8080/"
        },
        "id": "tT_Zl_qgKhKM",
        "outputId": "fd1d1169-a4de-4c2d-f8e4-b7f22a6d10da"
      },
      "source": [
        "lm.rsquared"
      ],
      "execution_count": null,
      "outputs": [
        {
          "output_type": "execute_result",
          "data": {
            "text/plain": [
              "0.611875050850071"
            ]
          },
          "metadata": {
            "tags": []
          },
          "execution_count": 228
        }
      ]
    },
    {
      "cell_type": "code",
      "metadata": {
        "colab": {
          "base_uri": "https://localhost:8080/"
        },
        "id": "3S5M0xg5Ku1j",
        "outputId": "64835a6d-dc58-4f2a-919b-e0f89381109e"
      },
      "source": [
        "lm.rsquared_adj"
      ],
      "execution_count": null,
      "outputs": [
        {
          "output_type": "execute_result",
          "data": {
            "text/plain": [
              "0.6099148238341623"
            ]
          },
          "metadata": {
            "tags": []
          },
          "execution_count": 230
        }
      ]
    },
    {
      "cell_type": "code",
      "metadata": {
        "colab": {
          "base_uri": "https://localhost:8080/",
          "height": 444
        },
        "id": "j1dhLMRxKw58",
        "outputId": "f01239bd-b389-4bd5-86ed-fe1bb647026d"
      },
      "source": [
        "lm.summary() # Obtenemos el resumen "
      ],
      "execution_count": null,
      "outputs": [
        {
          "output_type": "execute_result",
          "data": {
            "text/html": [
              "<table class=\"simpletable\">\n",
              "<caption>OLS Regression Results</caption>\n",
              "<tr>\n",
              "  <th>Dep. Variable:</th>          <td>Sales</td>      <th>  R-squared:         </th> <td>   0.612</td>\n",
              "</tr>\n",
              "<tr>\n",
              "  <th>Model:</th>                   <td>OLS</td>       <th>  Adj. R-squared:    </th> <td>   0.610</td>\n",
              "</tr>\n",
              "<tr>\n",
              "  <th>Method:</th>             <td>Least Squares</td>  <th>  F-statistic:       </th> <td>   312.1</td>\n",
              "</tr>\n",
              "<tr>\n",
              "  <th>Date:</th>             <td>Fri, 16 Jul 2021</td> <th>  Prob (F-statistic):</th> <td>1.47e-42</td>\n",
              "</tr>\n",
              "<tr>\n",
              "  <th>Time:</th>                 <td>05:44:24</td>     <th>  Log-Likelihood:    </th> <td> -519.05</td>\n",
              "</tr>\n",
              "<tr>\n",
              "  <th>No. Observations:</th>      <td>   200</td>      <th>  AIC:               </th> <td>   1042.</td>\n",
              "</tr>\n",
              "<tr>\n",
              "  <th>Df Residuals:</th>          <td>   198</td>      <th>  BIC:               </th> <td>   1049.</td>\n",
              "</tr>\n",
              "<tr>\n",
              "  <th>Df Model:</th>              <td>     1</td>      <th>                     </th>     <td> </td>   \n",
              "</tr>\n",
              "<tr>\n",
              "  <th>Covariance Type:</th>      <td>nonrobust</td>    <th>                     </th>     <td> </td>   \n",
              "</tr>\n",
              "</table>\n",
              "<table class=\"simpletable\">\n",
              "<tr>\n",
              "      <td></td>         <th>coef</th>     <th>std err</th>      <th>t</th>      <th>P>|t|</th>  <th>[0.025</th>    <th>0.975]</th>  \n",
              "</tr>\n",
              "<tr>\n",
              "  <th>Intercept</th> <td>    7.0326</td> <td>    0.458</td> <td>   15.360</td> <td> 0.000</td> <td>    6.130</td> <td>    7.935</td>\n",
              "</tr>\n",
              "<tr>\n",
              "  <th>TV</th>        <td>    0.0475</td> <td>    0.003</td> <td>   17.668</td> <td> 0.000</td> <td>    0.042</td> <td>    0.053</td>\n",
              "</tr>\n",
              "</table>\n",
              "<table class=\"simpletable\">\n",
              "<tr>\n",
              "  <th>Omnibus:</th>       <td> 0.531</td> <th>  Durbin-Watson:     </th> <td>   1.935</td>\n",
              "</tr>\n",
              "<tr>\n",
              "  <th>Prob(Omnibus):</th> <td> 0.767</td> <th>  Jarque-Bera (JB):  </th> <td>   0.669</td>\n",
              "</tr>\n",
              "<tr>\n",
              "  <th>Skew:</th>          <td>-0.089</td> <th>  Prob(JB):          </th> <td>   0.716</td>\n",
              "</tr>\n",
              "<tr>\n",
              "  <th>Kurtosis:</th>      <td> 2.779</td> <th>  Cond. No.          </th> <td>    338.</td>\n",
              "</tr>\n",
              "</table><br/><br/>Warnings:<br/>[1] Standard Errors assume that the covariance matrix of the errors is correctly specified."
            ],
            "text/plain": [
              "<class 'statsmodels.iolib.summary.Summary'>\n",
              "\"\"\"\n",
              "                            OLS Regression Results                            \n",
              "==============================================================================\n",
              "Dep. Variable:                  Sales   R-squared:                       0.612\n",
              "Model:                            OLS   Adj. R-squared:                  0.610\n",
              "Method:                 Least Squares   F-statistic:                     312.1\n",
              "Date:                Fri, 16 Jul 2021   Prob (F-statistic):           1.47e-42\n",
              "Time:                        05:44:24   Log-Likelihood:                -519.05\n",
              "No. Observations:                 200   AIC:                             1042.\n",
              "Df Residuals:                     198   BIC:                             1049.\n",
              "Df Model:                           1                                         \n",
              "Covariance Type:            nonrobust                                         \n",
              "==============================================================================\n",
              "                 coef    std err          t      P>|t|      [0.025      0.975]\n",
              "------------------------------------------------------------------------------\n",
              "Intercept      7.0326      0.458     15.360      0.000       6.130       7.935\n",
              "TV             0.0475      0.003     17.668      0.000       0.042       0.053\n",
              "==============================================================================\n",
              "Omnibus:                        0.531   Durbin-Watson:                   1.935\n",
              "Prob(Omnibus):                  0.767   Jarque-Bera (JB):                0.669\n",
              "Skew:                          -0.089   Prob(JB):                        0.716\n",
              "Kurtosis:                       2.779   Cond. No.                         338.\n",
              "==============================================================================\n",
              "\n",
              "Warnings:\n",
              "[1] Standard Errors assume that the covariance matrix of the errors is correctly specified.\n",
              "\"\"\""
            ]
          },
          "metadata": {
            "tags": []
          },
          "execution_count": 8
        }
      ]
    },
    {
      "cell_type": "markdown",
      "metadata": {
        "id": "2B0oz1NHK3zj"
      },
      "source": [
        "## Prediciendo las Ventas con el modelo lineal\n"
      ]
    },
    {
      "cell_type": "code",
      "metadata": {
        "colab": {
          "base_uri": "https://localhost:8080/"
        },
        "id": "ZNurdV-YMC3y",
        "outputId": "8aabb1c5-5239-4bc9-acdc-10265e41446d"
      },
      "source": [
        "# Truco: Tener una variable en columna de tipo dataframe para predecir \n",
        "sales_pred = lm.predict(pd.DataFrame(data[\"TV\"]))\n",
        "sales_pred"
      ],
      "execution_count": null,
      "outputs": [
        {
          "output_type": "execute_result",
          "data": {
            "text/plain": [
              "0      17.970775\n",
              "1       9.147974\n",
              "2       7.850224\n",
              "3      14.234395\n",
              "4      15.627218\n",
              "         ...    \n",
              "195     8.848493\n",
              "196    11.510545\n",
              "197    15.446579\n",
              "198    20.513985\n",
              "199    18.065848\n",
              "Length: 200, dtype: float64"
            ]
          },
          "metadata": {
            "tags": []
          },
          "execution_count": 234
        }
      ]
    },
    {
      "cell_type": "code",
      "metadata": {
        "colab": {
          "base_uri": "https://localhost:8080/",
          "height": 296
        },
        "id": "GYH-xLOdOLyb",
        "outputId": "0804a0e8-a29a-4b4e-da5e-8f301281d861"
      },
      "source": [
        "import matplotlib.pyplot as plt\n",
        "%matplotlib inline\n",
        "data.plot(kind = \"scatter\", x = \"TV\", y = \"Sales\")\n",
        "plt.plot(pd.DataFrame(data[\"TV\"]), sales_pred, \"red\", linewidth = 1.5)"
      ],
      "execution_count": null,
      "outputs": [
        {
          "output_type": "execute_result",
          "data": {
            "text/plain": [
              "[<matplotlib.lines.Line2D at 0x7fd2057befd0>]"
            ]
          },
          "metadata": {
            "tags": []
          },
          "execution_count": 238
        },
        {
          "output_type": "display_data",
          "data": {
            "image/png": "[encoded data removed]",
            "text/plain": [
              "<Figure size 432x288 with 1 Axes>"
            ]
          },
          "metadata": {
            "tags": [],
            "needs_background": "light"
          }
        }
      ]
    },
    {
      "cell_type": "code",
      "metadata": {
        "colab": {
          "base_uri": "https://localhost:8080/",
          "height": 204
        },
        "id": "9PZ4_FfCPHII",
        "outputId": "46f52d87-8d9d-41b7-c86a-9e88f778a760"
      },
      "source": [
        "data[\"Sales_pred\"] = 7.032594 + 0.047537*data[\"TV\"]\n",
        "data.head()"
      ],
      "execution_count": null,
      "outputs": [
        {
          "output_type": "execute_result",
          "data": {
            "text/html": [
              "<div>\n",
              "<style scoped>\n",
              "    .dataframe tbody tr th:only-of-type {\n",
              "        vertical-align: middle;\n",
              "    }\n",
              "\n",
              "    .dataframe tbody tr th {\n",
              "        vertical-align: top;\n",
              "    }\n",
              "\n",
              "    .dataframe thead th {\n",
              "        text-align: right;\n",
              "    }\n",
              "</style>\n",
              "<table border=\"1\" class=\"dataframe\">\n",
              "  <thead>\n",
              "    <tr style=\"text-align: right;\">\n",
              "      <th></th>\n",
              "      <th>TV</th>\n",
              "      <th>Radio</th>\n",
              "      <th>Newspaper</th>\n",
              "      <th>Sales</th>\n",
              "      <th>Sales_pred</th>\n",
              "      <th>RSE</th>\n",
              "    </tr>\n",
              "  </thead>\n",
              "  <tbody>\n",
              "    <tr>\n",
              "      <th>0</th>\n",
              "      <td>230.1</td>\n",
              "      <td>37.8</td>\n",
              "      <td>69.2</td>\n",
              "      <td>22.1</td>\n",
              "      <td>17.970858</td>\n",
              "      <td>17.120148</td>\n",
              "    </tr>\n",
              "    <tr>\n",
              "      <th>1</th>\n",
              "      <td>44.5</td>\n",
              "      <td>39.3</td>\n",
              "      <td>45.1</td>\n",
              "      <td>10.4</td>\n",
              "      <td>9.147990</td>\n",
              "      <td>1.571638</td>\n",
              "    </tr>\n",
              "    <tr>\n",
              "      <th>2</th>\n",
              "      <td>17.2</td>\n",
              "      <td>45.9</td>\n",
              "      <td>69.3</td>\n",
              "      <td>9.3</td>\n",
              "      <td>7.850230</td>\n",
              "      <td>2.103660</td>\n",
              "    </tr>\n",
              "    <tr>\n",
              "      <th>3</th>\n",
              "      <td>151.5</td>\n",
              "      <td>41.3</td>\n",
              "      <td>58.5</td>\n",
              "      <td>18.5</td>\n",
              "      <td>14.234450</td>\n",
              "      <td>18.242722</td>\n",
              "    </tr>\n",
              "    <tr>\n",
              "      <th>4</th>\n",
              "      <td>180.8</td>\n",
              "      <td>10.8</td>\n",
              "      <td>58.4</td>\n",
              "      <td>12.9</td>\n",
              "      <td>15.627284</td>\n",
              "      <td>7.401664</td>\n",
              "    </tr>\n",
              "  </tbody>\n",
              "</table>\n",
              "</div>"
            ],
            "text/plain": [
              "      TV  Radio  Newspaper  Sales  Sales_pred        RSE\n",
              "0  230.1   37.8       69.2   22.1   17.970858  17.120148\n",
              "1   44.5   39.3       45.1   10.4    9.147990   1.571638\n",
              "2   17.2   45.9       69.3    9.3    7.850230   2.103660\n",
              "3  151.5   41.3       58.5   18.5   14.234450  18.242722\n",
              "4  180.8   10.8       58.4   12.9   15.627284   7.401664"
            ]
          },
          "metadata": {
            "tags": []
          },
          "execution_count": 249
        }
      ]
    },
    {
      "cell_type": "code",
      "metadata": {
        "colab": {
          "base_uri": "https://localhost:8080/",
          "height": 111
        },
        "id": "dPsCx1WIPk4U",
        "outputId": "985f3911-c399-4007-d0ec-dfa24d88d505"
      },
      "source": [
        "data[\"RSE\"] = (data[\"Sales\"] - data[\"Sales_pred\"])**2\n",
        "data.head(2)"
      ],
      "execution_count": null,
      "outputs": [
        {
          "output_type": "execute_result",
          "data": {
            "text/html": [
              "<div>\n",
              "<style scoped>\n",
              "    .dataframe tbody tr th:only-of-type {\n",
              "        vertical-align: middle;\n",
              "    }\n",
              "\n",
              "    .dataframe tbody tr th {\n",
              "        vertical-align: top;\n",
              "    }\n",
              "\n",
              "    .dataframe thead th {\n",
              "        text-align: right;\n",
              "    }\n",
              "</style>\n",
              "<table border=\"1\" class=\"dataframe\">\n",
              "  <thead>\n",
              "    <tr style=\"text-align: right;\">\n",
              "      <th></th>\n",
              "      <th>TV</th>\n",
              "      <th>Radio</th>\n",
              "      <th>Newspaper</th>\n",
              "      <th>Sales</th>\n",
              "      <th>Sales_pred</th>\n",
              "      <th>RSE</th>\n",
              "    </tr>\n",
              "  </thead>\n",
              "  <tbody>\n",
              "    <tr>\n",
              "      <th>0</th>\n",
              "      <td>230.1</td>\n",
              "      <td>37.8</td>\n",
              "      <td>69.2</td>\n",
              "      <td>22.1</td>\n",
              "      <td>17.970858</td>\n",
              "      <td>17.049816</td>\n",
              "    </tr>\n",
              "    <tr>\n",
              "      <th>1</th>\n",
              "      <td>44.5</td>\n",
              "      <td>39.3</td>\n",
              "      <td>45.1</td>\n",
              "      <td>10.4</td>\n",
              "      <td>9.147990</td>\n",
              "      <td>1.567528</td>\n",
              "    </tr>\n",
              "  </tbody>\n",
              "</table>\n",
              "</div>"
            ],
            "text/plain": [
              "      TV  Radio  Newspaper  Sales  Sales_pred        RSE\n",
              "0  230.1   37.8       69.2   22.1   17.970858  17.049816\n",
              "1   44.5   39.3       45.1   10.4    9.147990   1.567528"
            ]
          },
          "metadata": {
            "tags": []
          },
          "execution_count": 250
        }
      ]
    },
    {
      "cell_type": "code",
      "metadata": {
        "colab": {
          "base_uri": "https://localhost:8080/"
        },
        "id": "pGuwr1BRP_VO",
        "outputId": "88c72c8a-3a60-4797-9a2b-8ad028cf254a"
      },
      "source": [
        "SSD = sum(data[\"RSE\"])\n",
        "SSD"
      ],
      "execution_count": null,
      "outputs": [
        {
          "output_type": "execute_result",
          "data": {
            "text/plain": [
              "2102.5305838896525"
            ]
          },
          "metadata": {
            "tags": []
          },
          "execution_count": 258
        }
      ]
    },
    {
      "cell_type": "code",
      "metadata": {
        "colab": {
          "base_uri": "https://localhost:8080/"
        },
        "id": "XbLWT8uEQG4F",
        "outputId": "8f22e0de-9ffc-4655-9c0f-8922ad3713e8"
      },
      "source": [
        "RSE = np.sqrt(SSD/(len(data)-2))\n",
        "RSE"
      ],
      "execution_count": null,
      "outputs": [
        {
          "output_type": "execute_result",
          "data": {
            "text/plain": [
              "3.258656369238098"
            ]
          },
          "metadata": {
            "tags": []
          },
          "execution_count": 259
        }
      ]
    },
    {
      "cell_type": "code",
      "metadata": {
        "colab": {
          "base_uri": "https://localhost:8080/"
        },
        "id": "xlVsOjlzQ7RS",
        "outputId": "bab32d87-d249-4f26-acaa-dc831d325d90"
      },
      "source": [
        "sales_mean = np.mean(data[\"Sales\"])\n",
        "sales_mean"
      ],
      "execution_count": null,
      "outputs": [
        {
          "output_type": "execute_result",
          "data": {
            "text/plain": [
              "14.022500000000003"
            ]
          },
          "metadata": {
            "tags": []
          },
          "execution_count": 260
        }
      ]
    },
    {
      "cell_type": "code",
      "metadata": {
        "colab": {
          "base_uri": "https://localhost:8080/"
        },
        "id": "wQijkM9aRDfC",
        "outputId": "934bb822-011f-4490-8600-a4a84e86bc44"
      },
      "source": [
        "error = RSE/sales_mean *100\n",
        "error # Existe un 14% de error que no es explicado por el modelo"
      ],
      "execution_count": null,
      "outputs": [
        {
          "output_type": "execute_result",
          "data": {
            "text/plain": [
              "4.070845395057711"
            ]
          },
          "metadata": {
            "tags": []
          },
          "execution_count": 257
        }
      ]
    },
    {
      "cell_type": "code",
      "metadata": {
        "id": "d2ta_1UiRwoA"
      },
      "source": [
        "plt.hist((data[\"Sales\"] - data[\"Sales_pred\"])) # Los errores se distribuyen normalmente con media cero "
      ],
      "execution_count": null,
      "outputs": []
    },
    {
      "cell_type": "code",
      "metadata": {
        "id": "uQarqKKJEngA"
      },
      "source": [
        ""
      ],
      "execution_count": null,
      "outputs": []
    },
    {
      "cell_type": "markdown",
      "metadata": {
        "id": "UnPP1YR9w1_R"
      },
      "source": [
        "# Regresión lineal multiple"
      ]
    },
    {
      "cell_type": "code",
      "metadata": {
        "id": "Yah7otVpw57R"
      },
      "source": [
        "import pandas as pd\n",
        "import numpy as np\n",
        "import matplotlib.pyplot as plt\n",
        "import statsmodels.formula.api as smf"
      ],
      "execution_count": null,
      "outputs": []
    },
    {
      "cell_type": "code",
      "metadata": {
        "colab": {
          "base_uri": "https://localhost:8080/",
          "height": 444
        },
        "id": "7CnOggRExlFu",
        "outputId": "d907fe14-8824-43eb-820c-2ce209a8f8fb"
      },
      "source": [
        "# Modelo 1 con una sola variable predictora \"TV\"\n",
        "lm = smf.ols(formula=\"Sales~TV\", data= data).fit()\n",
        "lm.summary()"
      ],
      "execution_count": null,
      "outputs": [
        {
          "output_type": "execute_result",
          "data": {
            "text/html": [
              "<table class=\"simpletable\">\n",
              "<caption>OLS Regression Results</caption>\n",
              "<tr>\n",
              "  <th>Dep. Variable:</th>          <td>Sales</td>      <th>  R-squared:         </th> <td>   0.612</td>\n",
              "</tr>\n",
              "<tr>\n",
              "  <th>Model:</th>                   <td>OLS</td>       <th>  Adj. R-squared:    </th> <td>   0.610</td>\n",
              "</tr>\n",
              "<tr>\n",
              "  <th>Method:</th>             <td>Least Squares</td>  <th>  F-statistic:       </th> <td>   312.1</td>\n",
              "</tr>\n",
              "<tr>\n",
              "  <th>Date:</th>             <td>Fri, 16 Jul 2021</td> <th>  Prob (F-statistic):</th> <td>1.47e-42</td>\n",
              "</tr>\n",
              "<tr>\n",
              "  <th>Time:</th>                 <td>05:47:32</td>     <th>  Log-Likelihood:    </th> <td> -519.05</td>\n",
              "</tr>\n",
              "<tr>\n",
              "  <th>No. Observations:</th>      <td>   200</td>      <th>  AIC:               </th> <td>   1042.</td>\n",
              "</tr>\n",
              "<tr>\n",
              "  <th>Df Residuals:</th>          <td>   198</td>      <th>  BIC:               </th> <td>   1049.</td>\n",
              "</tr>\n",
              "<tr>\n",
              "  <th>Df Model:</th>              <td>     1</td>      <th>                     </th>     <td> </td>   \n",
              "</tr>\n",
              "<tr>\n",
              "  <th>Covariance Type:</th>      <td>nonrobust</td>    <th>                     </th>     <td> </td>   \n",
              "</tr>\n",
              "</table>\n",
              "<table class=\"simpletable\">\n",
              "<tr>\n",
              "      <td></td>         <th>coef</th>     <th>std err</th>      <th>t</th>      <th>P>|t|</th>  <th>[0.025</th>    <th>0.975]</th>  \n",
              "</tr>\n",
              "<tr>\n",
              "  <th>Intercept</th> <td>    7.0326</td> <td>    0.458</td> <td>   15.360</td> <td> 0.000</td> <td>    6.130</td> <td>    7.935</td>\n",
              "</tr>\n",
              "<tr>\n",
              "  <th>TV</th>        <td>    0.0475</td> <td>    0.003</td> <td>   17.668</td> <td> 0.000</td> <td>    0.042</td> <td>    0.053</td>\n",
              "</tr>\n",
              "</table>\n",
              "<table class=\"simpletable\">\n",
              "<tr>\n",
              "  <th>Omnibus:</th>       <td> 0.531</td> <th>  Durbin-Watson:     </th> <td>   1.935</td>\n",
              "</tr>\n",
              "<tr>\n",
              "  <th>Prob(Omnibus):</th> <td> 0.767</td> <th>  Jarque-Bera (JB):  </th> <td>   0.669</td>\n",
              "</tr>\n",
              "<tr>\n",
              "  <th>Skew:</th>          <td>-0.089</td> <th>  Prob(JB):          </th> <td>   0.716</td>\n",
              "</tr>\n",
              "<tr>\n",
              "  <th>Kurtosis:</th>      <td> 2.779</td> <th>  Cond. No.          </th> <td>    338.</td>\n",
              "</tr>\n",
              "</table><br/><br/>Warnings:<br/>[1] Standard Errors assume that the covariance matrix of the errors is correctly specified."
            ],
            "text/plain": [
              "<class 'statsmodels.iolib.summary.Summary'>\n",
              "\"\"\"\n",
              "                            OLS Regression Results                            \n",
              "==============================================================================\n",
              "Dep. Variable:                  Sales   R-squared:                       0.612\n",
              "Model:                            OLS   Adj. R-squared:                  0.610\n",
              "Method:                 Least Squares   F-statistic:                     312.1\n",
              "Date:                Fri, 16 Jul 2021   Prob (F-statistic):           1.47e-42\n",
              "Time:                        05:47:32   Log-Likelihood:                -519.05\n",
              "No. Observations:                 200   AIC:                             1042.\n",
              "Df Residuals:                     198   BIC:                             1049.\n",
              "Df Model:                           1                                         \n",
              "Covariance Type:            nonrobust                                         \n",
              "==============================================================================\n",
              "                 coef    std err          t      P>|t|      [0.025      0.975]\n",
              "------------------------------------------------------------------------------\n",
              "Intercept      7.0326      0.458     15.360      0.000       6.130       7.935\n",
              "TV             0.0475      0.003     17.668      0.000       0.042       0.053\n",
              "==============================================================================\n",
              "Omnibus:                        0.531   Durbin-Watson:                   1.935\n",
              "Prob(Omnibus):                  0.767   Jarque-Bera (JB):                0.669\n",
              "Skew:                          -0.089   Prob(JB):                        0.716\n",
              "Kurtosis:                       2.779   Cond. No.                         338.\n",
              "==============================================================================\n",
              "\n",
              "Warnings:\n",
              "[1] Standard Errors assume that the covariance matrix of the errors is correctly specified.\n",
              "\"\"\""
            ]
          },
          "metadata": {
            "tags": []
          },
          "execution_count": 13
        }
      ]
    },
    {
      "cell_type": "code",
      "metadata": {
        "id": "FUQHL4cZ4aQv"
      },
      "source": [
        "sales_pred = lm.predict(data[\"TV\"])\n",
        "sales_pred"
      ],
      "execution_count": null,
      "outputs": []
    },
    {
      "cell_type": "code",
      "metadata": {
        "colab": {
          "base_uri": "https://localhost:8080/"
        },
        "id": "9FrhYlk94WCf",
        "outputId": "15ff90c1-3f8b-47fd-cdb2-f8a9162e3e44"
      },
      "source": [
        "SSD =  sum((data[\"Sales\"]- sales_pred)**2)\n",
        "RSE = np.sqrt(SSD/(len(data)-2))\n",
        "error = RSE/np.mean(data[\"Sales\"])\n",
        "SSD, RSE, error"
      ],
      "execution_count": null,
      "outputs": [
        {
          "output_type": "execute_result",
          "data": {
            "text/plain": [
              "(2102.530583131351, 3.258656368650462, 0.23238768897489473)"
            ]
          },
          "metadata": {
            "tags": []
          },
          "execution_count": 23
        }
      ]
    },
    {
      "cell_type": "code",
      "metadata": {
        "colab": {
          "base_uri": "https://localhost:8080/",
          "height": 465
        },
        "id": "gF9w6dmF2MNM",
        "outputId": "b0768077-4471-45a4-e443-b87e3b785065"
      },
      "source": [
        "# Añadimos el newspapper al modelo 2\n",
        "lm2 = smf.ols(formula=\"Sales ~ TV + Newspaper\",data=data).fit()\n",
        "lm2.summary()"
      ],
      "execution_count": null,
      "outputs": [
        {
          "output_type": "execute_result",
          "data": {
            "text/html": [
              "<table class=\"simpletable\">\n",
              "<caption>OLS Regression Results</caption>\n",
              "<tr>\n",
              "  <th>Dep. Variable:</th>          <td>Sales</td>      <th>  R-squared:         </th> <td>   0.646</td>\n",
              "</tr>\n",
              "<tr>\n",
              "  <th>Model:</th>                   <td>OLS</td>       <th>  Adj. R-squared:    </th> <td>   0.642</td>\n",
              "</tr>\n",
              "<tr>\n",
              "  <th>Method:</th>             <td>Least Squares</td>  <th>  F-statistic:       </th> <td>   179.6</td>\n",
              "</tr>\n",
              "<tr>\n",
              "  <th>Date:</th>             <td>Fri, 16 Jul 2021</td> <th>  Prob (F-statistic):</th> <td>3.95e-45</td>\n",
              "</tr>\n",
              "<tr>\n",
              "  <th>Time:</th>                 <td>06:00:42</td>     <th>  Log-Likelihood:    </th> <td> -509.89</td>\n",
              "</tr>\n",
              "<tr>\n",
              "  <th>No. Observations:</th>      <td>   200</td>      <th>  AIC:               </th> <td>   1026.</td>\n",
              "</tr>\n",
              "<tr>\n",
              "  <th>Df Residuals:</th>          <td>   197</td>      <th>  BIC:               </th> <td>   1036.</td>\n",
              "</tr>\n",
              "<tr>\n",
              "  <th>Df Model:</th>              <td>     2</td>      <th>                     </th>     <td> </td>   \n",
              "</tr>\n",
              "<tr>\n",
              "  <th>Covariance Type:</th>      <td>nonrobust</td>    <th>                     </th>     <td> </td>   \n",
              "</tr>\n",
              "</table>\n",
              "<table class=\"simpletable\">\n",
              "<tr>\n",
              "      <td></td>         <th>coef</th>     <th>std err</th>      <th>t</th>      <th>P>|t|</th>  <th>[0.025</th>    <th>0.975]</th>  \n",
              "</tr>\n",
              "<tr>\n",
              "  <th>Intercept</th> <td>    5.7749</td> <td>    0.525</td> <td>   10.993</td> <td> 0.000</td> <td>    4.739</td> <td>    6.811</td>\n",
              "</tr>\n",
              "<tr>\n",
              "  <th>TV</th>        <td>    0.0469</td> <td>    0.003</td> <td>   18.173</td> <td> 0.000</td> <td>    0.042</td> <td>    0.052</td>\n",
              "</tr>\n",
              "<tr>\n",
              "  <th>Newspaper</th> <td>    0.0442</td> <td>    0.010</td> <td>    4.346</td> <td> 0.000</td> <td>    0.024</td> <td>    0.064</td>\n",
              "</tr>\n",
              "</table>\n",
              "<table class=\"simpletable\">\n",
              "<tr>\n",
              "  <th>Omnibus:</th>       <td> 0.658</td> <th>  Durbin-Watson:     </th> <td>   1.969</td>\n",
              "</tr>\n",
              "<tr>\n",
              "  <th>Prob(Omnibus):</th> <td> 0.720</td> <th>  Jarque-Bera (JB):  </th> <td>   0.415</td>\n",
              "</tr>\n",
              "<tr>\n",
              "  <th>Skew:</th>          <td>-0.093</td> <th>  Prob(JB):          </th> <td>   0.813</td>\n",
              "</tr>\n",
              "<tr>\n",
              "  <th>Kurtosis:</th>      <td> 3.122</td> <th>  Cond. No.          </th> <td>    410.</td>\n",
              "</tr>\n",
              "</table><br/><br/>Warnings:<br/>[1] Standard Errors assume that the covariance matrix of the errors is correctly specified."
            ],
            "text/plain": [
              "<class 'statsmodels.iolib.summary.Summary'>\n",
              "\"\"\"\n",
              "                            OLS Regression Results                            \n",
              "==============================================================================\n",
              "Dep. Variable:                  Sales   R-squared:                       0.646\n",
              "Model:                            OLS   Adj. R-squared:                  0.642\n",
              "Method:                 Least Squares   F-statistic:                     179.6\n",
              "Date:                Fri, 16 Jul 2021   Prob (F-statistic):           3.95e-45\n",
              "Time:                        06:00:42   Log-Likelihood:                -509.89\n",
              "No. Observations:                 200   AIC:                             1026.\n",
              "Df Residuals:                     197   BIC:                             1036.\n",
              "Df Model:                           2                                         \n",
              "Covariance Type:            nonrobust                                         \n",
              "==============================================================================\n",
              "                 coef    std err          t      P>|t|      [0.025      0.975]\n",
              "------------------------------------------------------------------------------\n",
              "Intercept      5.7749      0.525     10.993      0.000       4.739       6.811\n",
              "TV             0.0469      0.003     18.173      0.000       0.042       0.052\n",
              "Newspaper      0.0442      0.010      4.346      0.000       0.024       0.064\n",
              "==============================================================================\n",
              "Omnibus:                        0.658   Durbin-Watson:                   1.969\n",
              "Prob(Omnibus):                  0.720   Jarque-Bera (JB):                0.415\n",
              "Skew:                          -0.093   Prob(JB):                        0.813\n",
              "Kurtosis:                       3.122   Cond. No.                         410.\n",
              "==============================================================================\n",
              "\n",
              "Warnings:\n",
              "[1] Standard Errors assume that the covariance matrix of the errors is correctly specified.\n",
              "\"\"\""
            ]
          },
          "metadata": {
            "tags": []
          },
          "execution_count": 24
        }
      ]
    },
    {
      "cell_type": "code",
      "metadata": {
        "id": "wukf-bmk3Ooo"
      },
      "source": [
        "sales_pred = lm2.predict(data[[\"TV\", \"Newspaper\"]])\n",
        "sales_pred"
      ],
      "execution_count": null,
      "outputs": []
    },
    {
      "cell_type": "code",
      "metadata": {
        "colab": {
          "base_uri": "https://localhost:8080/"
        },
        "id": "oOLN94pD3iJr",
        "outputId": "1ae2b53d-b89c-40b1-b691-40f972ad52c0"
      },
      "source": [
        "# CReamos el RSE\n",
        "SSD =  sum((data[\"Sales\"]- sales_pred)**2)\n",
        "RSE = np.sqrt(SSD/(len(data)-3))\n",
        "error = RSE/np.mean(data[\"Sales\"])\n",
        "SSD, RSE, error"
      ],
      "execution_count": null,
      "outputs": [
        {
          "output_type": "execute_result",
          "data": {
            "text/plain": [
              "(1918.5618118968266, 3.1207198602528847, 0.2225508903728211)"
            ]
          },
          "metadata": {
            "tags": []
          },
          "execution_count": 26
        }
      ]
    },
    {
      "cell_type": "code",
      "metadata": {
        "colab": {
          "base_uri": "https://localhost:8080/",
          "height": 465
        },
        "id": "Bf1-F7vZ41KR",
        "outputId": "4ee0d423-1039-431a-ad22-b889c0b89398"
      },
      "source": [
        "# Añadimos Radio al modelo 3\n",
        "lm3 = smf.ols(formula=\"Sales ~ TV + Radio\",data=data).fit()\n",
        "lm3.summary()\n"
      ],
      "execution_count": null,
      "outputs": [
        {
          "output_type": "execute_result",
          "data": {
            "text/html": [
              "<table class=\"simpletable\">\n",
              "<caption>OLS Regression Results</caption>\n",
              "<tr>\n",
              "  <th>Dep. Variable:</th>          <td>Sales</td>      <th>  R-squared:         </th> <td>   0.897</td>\n",
              "</tr>\n",
              "<tr>\n",
              "  <th>Model:</th>                   <td>OLS</td>       <th>  Adj. R-squared:    </th> <td>   0.896</td>\n",
              "</tr>\n",
              "<tr>\n",
              "  <th>Method:</th>             <td>Least Squares</td>  <th>  F-statistic:       </th> <td>   859.6</td>\n",
              "</tr>\n",
              "<tr>\n",
              "  <th>Date:</th>             <td>Fri, 16 Jul 2021</td> <th>  Prob (F-statistic):</th> <td>4.83e-98</td>\n",
              "</tr>\n",
              "<tr>\n",
              "  <th>Time:</th>                 <td>06:02:37</td>     <th>  Log-Likelihood:    </th> <td> -386.20</td>\n",
              "</tr>\n",
              "<tr>\n",
              "  <th>No. Observations:</th>      <td>   200</td>      <th>  AIC:               </th> <td>   778.4</td>\n",
              "</tr>\n",
              "<tr>\n",
              "  <th>Df Residuals:</th>          <td>   197</td>      <th>  BIC:               </th> <td>   788.3</td>\n",
              "</tr>\n",
              "<tr>\n",
              "  <th>Df Model:</th>              <td>     2</td>      <th>                     </th>     <td> </td>   \n",
              "</tr>\n",
              "<tr>\n",
              "  <th>Covariance Type:</th>      <td>nonrobust</td>    <th>                     </th>     <td> </td>   \n",
              "</tr>\n",
              "</table>\n",
              "<table class=\"simpletable\">\n",
              "<tr>\n",
              "      <td></td>         <th>coef</th>     <th>std err</th>      <th>t</th>      <th>P>|t|</th>  <th>[0.025</th>    <th>0.975]</th>  \n",
              "</tr>\n",
              "<tr>\n",
              "  <th>Intercept</th> <td>    2.9211</td> <td>    0.294</td> <td>    9.919</td> <td> 0.000</td> <td>    2.340</td> <td>    3.502</td>\n",
              "</tr>\n",
              "<tr>\n",
              "  <th>TV</th>        <td>    0.0458</td> <td>    0.001</td> <td>   32.909</td> <td> 0.000</td> <td>    0.043</td> <td>    0.048</td>\n",
              "</tr>\n",
              "<tr>\n",
              "  <th>Radio</th>     <td>    0.1880</td> <td>    0.008</td> <td>   23.382</td> <td> 0.000</td> <td>    0.172</td> <td>    0.204</td>\n",
              "</tr>\n",
              "</table>\n",
              "<table class=\"simpletable\">\n",
              "<tr>\n",
              "  <th>Omnibus:</th>       <td>60.022</td> <th>  Durbin-Watson:     </th> <td>   2.081</td>\n",
              "</tr>\n",
              "<tr>\n",
              "  <th>Prob(Omnibus):</th> <td> 0.000</td> <th>  Jarque-Bera (JB):  </th> <td> 148.679</td>\n",
              "</tr>\n",
              "<tr>\n",
              "  <th>Skew:</th>          <td>-1.323</td> <th>  Prob(JB):          </th> <td>5.19e-33</td>\n",
              "</tr>\n",
              "<tr>\n",
              "  <th>Kurtosis:</th>      <td> 6.292</td> <th>  Cond. No.          </th> <td>    425.</td>\n",
              "</tr>\n",
              "</table><br/><br/>Warnings:<br/>[1] Standard Errors assume that the covariance matrix of the errors is correctly specified."
            ],
            "text/plain": [
              "<class 'statsmodels.iolib.summary.Summary'>\n",
              "\"\"\"\n",
              "                            OLS Regression Results                            \n",
              "==============================================================================\n",
              "Dep. Variable:                  Sales   R-squared:                       0.897\n",
              "Model:                            OLS   Adj. R-squared:                  0.896\n",
              "Method:                 Least Squares   F-statistic:                     859.6\n",
              "Date:                Fri, 16 Jul 2021   Prob (F-statistic):           4.83e-98\n",
              "Time:                        06:02:37   Log-Likelihood:                -386.20\n",
              "No. Observations:                 200   AIC:                             778.4\n",
              "Df Residuals:                     197   BIC:                             788.3\n",
              "Df Model:                           2                                         \n",
              "Covariance Type:            nonrobust                                         \n",
              "==============================================================================\n",
              "                 coef    std err          t      P>|t|      [0.025      0.975]\n",
              "------------------------------------------------------------------------------\n",
              "Intercept      2.9211      0.294      9.919      0.000       2.340       3.502\n",
              "TV             0.0458      0.001     32.909      0.000       0.043       0.048\n",
              "Radio          0.1880      0.008     23.382      0.000       0.172       0.204\n",
              "==============================================================================\n",
              "Omnibus:                       60.022   Durbin-Watson:                   2.081\n",
              "Prob(Omnibus):                  0.000   Jarque-Bera (JB):              148.679\n",
              "Skew:                          -1.323   Prob(JB):                     5.19e-33\n",
              "Kurtosis:                       6.292   Cond. No.                         425.\n",
              "==============================================================================\n",
              "\n",
              "Warnings:\n",
              "[1] Standard Errors assume that the covariance matrix of the errors is correctly specified.\n",
              "\"\"\""
            ]
          },
          "metadata": {
            "tags": []
          },
          "execution_count": 27
        }
      ]
    },
    {
      "cell_type": "code",
      "metadata": {
        "id": "OVxAQoFp6X64"
      },
      "source": [
        "sales_pred = lm3.predict(data[[\"TV\", \"Radio\"]]) # LA Radio Aporta mas información al modelo\n",
        "sales_pred"
      ],
      "execution_count": null,
      "outputs": []
    },
    {
      "cell_type": "code",
      "metadata": {
        "colab": {
          "base_uri": "https://localhost:8080/"
        },
        "id": "cpESSSWh6egR",
        "outputId": "a4ff4a74-4a61-42c6-f067-fbd11efdc3ac"
      },
      "source": [
        "# CReamos el RSE\n",
        "SSD =  sum((data[\"Sales\"]- sales_pred)**2)\n",
        "RSE = np.sqrt(SSD/(len(data)-3))\n",
        "error = RSE/np.mean(data[\"Sales\"])\n",
        "SSD, RSE, error"
      ],
      "execution_count": null,
      "outputs": [
        {
          "output_type": "execute_result",
          "data": {
            "text/plain": [
              "(556.9139800676187, 1.6813609125080016, 0.11990450436855063)"
            ]
          },
          "metadata": {
            "tags": []
          },
          "execution_count": 30
        }
      ]
    },
    {
      "cell_type": "code",
      "metadata": {
        "colab": {
          "base_uri": "https://localhost:8080/",
          "height": 486
        },
        "id": "HjVZUDaL7CQZ",
        "outputId": "65e4e1e7-534a-4a92-8f08-8d799d9d4356"
      },
      "source": [
        "# Agregamos las 3 VAriables predictoras al modelo\n",
        "lm4 = smf.ols(formula=\"Sales ~ TV + Radio + Newspaper\", data=data).fit()\n",
        "lm4.summary()"
      ],
      "execution_count": null,
      "outputs": [
        {
          "output_type": "execute_result",
          "data": {
            "text/html": [
              "<table class=\"simpletable\">\n",
              "<caption>OLS Regression Results</caption>\n",
              "<tr>\n",
              "  <th>Dep. Variable:</th>          <td>Sales</td>      <th>  R-squared:         </th> <td>   0.897</td>\n",
              "</tr>\n",
              "<tr>\n",
              "  <th>Model:</th>                   <td>OLS</td>       <th>  Adj. R-squared:    </th> <td>   0.896</td>\n",
              "</tr>\n",
              "<tr>\n",
              "  <th>Method:</th>             <td>Least Squares</td>  <th>  F-statistic:       </th> <td>   570.3</td>\n",
              "</tr>\n",
              "<tr>\n",
              "  <th>Date:</th>             <td>Fri, 16 Jul 2021</td> <th>  Prob (F-statistic):</th> <td>1.58e-96</td>\n",
              "</tr>\n",
              "<tr>\n",
              "  <th>Time:</th>                 <td>06:07:50</td>     <th>  Log-Likelihood:    </th> <td> -386.18</td>\n",
              "</tr>\n",
              "<tr>\n",
              "  <th>No. Observations:</th>      <td>   200</td>      <th>  AIC:               </th> <td>   780.4</td>\n",
              "</tr>\n",
              "<tr>\n",
              "  <th>Df Residuals:</th>          <td>   196</td>      <th>  BIC:               </th> <td>   793.6</td>\n",
              "</tr>\n",
              "<tr>\n",
              "  <th>Df Model:</th>              <td>     3</td>      <th>                     </th>     <td> </td>   \n",
              "</tr>\n",
              "<tr>\n",
              "  <th>Covariance Type:</th>      <td>nonrobust</td>    <th>                     </th>     <td> </td>   \n",
              "</tr>\n",
              "</table>\n",
              "<table class=\"simpletable\">\n",
              "<tr>\n",
              "      <td></td>         <th>coef</th>     <th>std err</th>      <th>t</th>      <th>P>|t|</th>  <th>[0.025</th>    <th>0.975]</th>  \n",
              "</tr>\n",
              "<tr>\n",
              "  <th>Intercept</th> <td>    2.9389</td> <td>    0.312</td> <td>    9.422</td> <td> 0.000</td> <td>    2.324</td> <td>    3.554</td>\n",
              "</tr>\n",
              "<tr>\n",
              "  <th>TV</th>        <td>    0.0458</td> <td>    0.001</td> <td>   32.809</td> <td> 0.000</td> <td>    0.043</td> <td>    0.049</td>\n",
              "</tr>\n",
              "<tr>\n",
              "  <th>Radio</th>     <td>    0.1885</td> <td>    0.009</td> <td>   21.893</td> <td> 0.000</td> <td>    0.172</td> <td>    0.206</td>\n",
              "</tr>\n",
              "<tr>\n",
              "  <th>Newspaper</th> <td>   -0.0010</td> <td>    0.006</td> <td>   -0.177</td> <td> 0.860</td> <td>   -0.013</td> <td>    0.011</td>\n",
              "</tr>\n",
              "</table>\n",
              "<table class=\"simpletable\">\n",
              "<tr>\n",
              "  <th>Omnibus:</th>       <td>60.414</td> <th>  Durbin-Watson:     </th> <td>   2.084</td>\n",
              "</tr>\n",
              "<tr>\n",
              "  <th>Prob(Omnibus):</th> <td> 0.000</td> <th>  Jarque-Bera (JB):  </th> <td> 151.241</td>\n",
              "</tr>\n",
              "<tr>\n",
              "  <th>Skew:</th>          <td>-1.327</td> <th>  Prob(JB):          </th> <td>1.44e-33</td>\n",
              "</tr>\n",
              "<tr>\n",
              "  <th>Kurtosis:</th>      <td> 6.332</td> <th>  Cond. No.          </th> <td>    454.</td>\n",
              "</tr>\n",
              "</table><br/><br/>Warnings:<br/>[1] Standard Errors assume that the covariance matrix of the errors is correctly specified."
            ],
            "text/plain": [
              "<class 'statsmodels.iolib.summary.Summary'>\n",
              "\"\"\"\n",
              "                            OLS Regression Results                            \n",
              "==============================================================================\n",
              "Dep. Variable:                  Sales   R-squared:                       0.897\n",
              "Model:                            OLS   Adj. R-squared:                  0.896\n",
              "Method:                 Least Squares   F-statistic:                     570.3\n",
              "Date:                Fri, 16 Jul 2021   Prob (F-statistic):           1.58e-96\n",
              "Time:                        06:07:50   Log-Likelihood:                -386.18\n",
              "No. Observations:                 200   AIC:                             780.4\n",
              "Df Residuals:                     196   BIC:                             793.6\n",
              "Df Model:                           3                                         \n",
              "Covariance Type:            nonrobust                                         \n",
              "==============================================================================\n",
              "                 coef    std err          t      P>|t|      [0.025      0.975]\n",
              "------------------------------------------------------------------------------\n",
              "Intercept      2.9389      0.312      9.422      0.000       2.324       3.554\n",
              "TV             0.0458      0.001     32.809      0.000       0.043       0.049\n",
              "Radio          0.1885      0.009     21.893      0.000       0.172       0.206\n",
              "Newspaper     -0.0010      0.006     -0.177      0.860      -0.013       0.011\n",
              "==============================================================================\n",
              "Omnibus:                       60.414   Durbin-Watson:                   2.084\n",
              "Prob(Omnibus):                  0.000   Jarque-Bera (JB):              151.241\n",
              "Skew:                          -1.327   Prob(JB):                     1.44e-33\n",
              "Kurtosis:                       6.332   Cond. No.                         454.\n",
              "==============================================================================\n",
              "\n",
              "Warnings:\n",
              "[1] Standard Errors assume that the covariance matrix of the errors is correctly specified.\n",
              "\"\"\""
            ]
          },
          "metadata": {
            "tags": []
          },
          "execution_count": 32
        }
      ]
    },
    {
      "cell_type": "markdown",
      "metadata": {
        "id": "3KPDcY0R8VBJ"
      },
      "source": [
        "Observamos que al agregar el newspapaer con 3 variables predictoras el modelo no mejora y tbn se aprecia que dicha variable no es signifcativa, asi que nos deshacemos de dicha predictora. Nos quedamos con el modelo 3, ya que predice mejor"
      ]
    },
    {
      "cell_type": "code",
      "metadata": {
        "id": "IajYo4Jk7gV1"
      },
      "source": [
        "sales_pred = lm4.predict(data[[\"TV\",\"Radio\",\"Newspaper\"]])\n",
        "sales_pred"
      ],
      "execution_count": null,
      "outputs": []
    },
    {
      "cell_type": "code",
      "metadata": {
        "id": "6Riqv1yvEnBY"
      },
      "source": [
        ""
      ],
      "execution_count": null,
      "outputs": []
    },
    {
      "cell_type": "code",
      "metadata": {
        "colab": {
          "base_uri": "https://localhost:8080/"
        },
        "id": "CrTo-Z4T7ns_",
        "outputId": "1c792d48-8fdc-4aa5-b3f8-20a54da1cb90"
      },
      "source": [
        "# Calculamos el RSE\n",
        "SSD = sum((data[\"Sales\"]-sales_pred)**2)\n",
        "RSE = np.sqrt(SSD/(len(data)-4))\n",
        "error = RSE/np.mean(data[\"Sales\"])\n",
        "SSD, RSE, error"
      ],
      "execution_count": null,
      "outputs": [
        {
          "output_type": "execute_result",
          "data": {
            "text/plain": [
              "(556.8252629021872, 1.685510373414744, 0.12020041885646238)"
            ]
          },
          "metadata": {
            "tags": []
          },
          "execution_count": 34
        }
      ]
    },
    {
      "cell_type": "markdown",
      "metadata": {
        "id": "M8KDdwRb9YBL"
      },
      "source": [
        "## Problema de la regresion multiple\n",
        "### Multicolinealidad, las variables predictoras estan correlacionadas entre si.\n",
        "\n",
        "$VIF = \\frac{1}{1 - R^2}$\n",
        "* Si VIF < 1, Las variables no estan correlacionadas\n",
        "* Si 1 < VIF <= 5, Las variables  estan moderadamente correlacionadas  (pueden formar parte del modelo)\n",
        "* Si VIF > 5, Las variables  estan altamente  correlacionadas (deben ser eliminadas)"
      ]
    },
    {
      "cell_type": "code",
      "metadata": {
        "colab": {
          "base_uri": "https://localhost:8080/",
          "height": 173
        },
        "id": "6Tnvpfof9iqR",
        "outputId": "bfde4c26-5200-47da-be7d-c4eb2ee22652"
      },
      "source": [
        "data.corr() # Existe un relacion debil positiva entre la radio y el newspaper, se debe eliminar uan de las 2 variables"
      ],
      "execution_count": null,
      "outputs": [
        {
          "output_type": "execute_result",
          "data": {
            "text/html": [
              "<div>\n",
              "<style scoped>\n",
              "    .dataframe tbody tr th:only-of-type {\n",
              "        vertical-align: middle;\n",
              "    }\n",
              "\n",
              "    .dataframe tbody tr th {\n",
              "        vertical-align: top;\n",
              "    }\n",
              "\n",
              "    .dataframe thead th {\n",
              "        text-align: right;\n",
              "    }\n",
              "</style>\n",
              "<table border=\"1\" class=\"dataframe\">\n",
              "  <thead>\n",
              "    <tr style=\"text-align: right;\">\n",
              "      <th></th>\n",
              "      <th>TV</th>\n",
              "      <th>Radio</th>\n",
              "      <th>Newspaper</th>\n",
              "      <th>Sales</th>\n",
              "    </tr>\n",
              "  </thead>\n",
              "  <tbody>\n",
              "    <tr>\n",
              "      <th>TV</th>\n",
              "      <td>1.000000</td>\n",
              "      <td>0.054809</td>\n",
              "      <td>0.056648</td>\n",
              "      <td>0.782224</td>\n",
              "    </tr>\n",
              "    <tr>\n",
              "      <th>Radio</th>\n",
              "      <td>0.054809</td>\n",
              "      <td>1.000000</td>\n",
              "      <td>0.354104</td>\n",
              "      <td>0.576223</td>\n",
              "    </tr>\n",
              "    <tr>\n",
              "      <th>Newspaper</th>\n",
              "      <td>0.056648</td>\n",
              "      <td>0.354104</td>\n",
              "      <td>1.000000</td>\n",
              "      <td>0.228299</td>\n",
              "    </tr>\n",
              "    <tr>\n",
              "      <th>Sales</th>\n",
              "      <td>0.782224</td>\n",
              "      <td>0.576223</td>\n",
              "      <td>0.228299</td>\n",
              "      <td>1.000000</td>\n",
              "    </tr>\n",
              "  </tbody>\n",
              "</table>\n",
              "</div>"
            ],
            "text/plain": [
              "                 TV     Radio  Newspaper     Sales\n",
              "TV         1.000000  0.054809   0.056648  0.782224\n",
              "Radio      0.054809  1.000000   0.354104  0.576223\n",
              "Newspaper  0.056648  0.354104   1.000000  0.228299\n",
              "Sales      0.782224  0.576223   0.228299  1.000000"
            ]
          },
          "metadata": {
            "tags": []
          },
          "execution_count": 35
        }
      ]
    },
    {
      "cell_type": "code",
      "metadata": {
        "colab": {
          "base_uri": "https://localhost:8080/"
        },
        "id": "gl58AUqI_Ith",
        "outputId": "e546569a-70b4-4d34-ed70-7a5646dadb4c"
      },
      "source": [
        "# Newspaper + TV + Radio -> R^2 VIF = 1/(1-R^2)\n",
        "lm_n = smf.ols(formula=\"Newspaper ~ TV + Radio\", data=data).fit()\n",
        "r_squared_n = lm_n.rsquared\n",
        "VIF = 1 /(1-r_squared_n)\n",
        "VIF\n",
        "# Radio + Newspaper + TV  -> R^2 VIF = 1/(1-R^2)"
      ],
      "execution_count": null,
      "outputs": [
        {
          "output_type": "execute_result",
          "data": {
            "text/plain": [
              "1.1451873787239288"
            ]
          },
          "metadata": {
            "tags": []
          },
          "execution_count": 40
        }
      ]
    },
    {
      "cell_type": "code",
      "metadata": {
        "colab": {
          "base_uri": "https://localhost:8080/"
        },
        "id": "yoCs6bOjBYNq",
        "outputId": "846fb5ea-7595-4432-a8f1-a5e08fda171f"
      },
      "source": [
        "# TV + Newspaper + Radio -> R^2 VIF = 1/(1-R^2)\n",
        "lm_tv = smf.ols(formula=\"TV ~ Newspaper + Radio\", data=data).fit()\n",
        "r_squared_tv = lm_tv.rsquared\n",
        "VIF = 1 /(1-r_squared_tv)\n",
        "VIF # LA tv no esta correlacionada con ninguna otra variable más"
      ],
      "execution_count": null,
      "outputs": [
        {
          "output_type": "execute_result",
          "data": {
            "text/plain": [
              "1.00461078493965"
            ]
          },
          "metadata": {
            "tags": []
          },
          "execution_count": 42
        }
      ]
    },
    {
      "cell_type": "code",
      "metadata": {
        "colab": {
          "base_uri": "https://localhost:8080/"
        },
        "id": "a98h1i3SCLRQ",
        "outputId": "27f302c0-5ebb-4a54-e45a-5c18d9af8c90"
      },
      "source": [
        "# Radio + Newspaper + TV  -> R^2 VIF = 1/(1-R^2)\n",
        "lm_radio = smf.ols(formula=\"Radio ~ TV + Newspaper\", data=data).fit()\n",
        "r_squared_radio = lm_radio.rsquared\n",
        "VIF = 1 /(1-r_squared_radio)\n",
        "VIF"
      ],
      "execution_count": null,
      "outputs": [
        {
          "output_type": "execute_result",
          "data": {
            "text/plain": [
              "1.1449519171055353"
            ]
          },
          "metadata": {
            "tags": []
          },
          "execution_count": 43
        }
      ]
    },
    {
      "cell_type": "markdown",
      "metadata": {
        "id": "lsPCf7jmCul5"
      },
      "source": [
        "Concluimos que el periodico y la radio estan correlacionadas dado que tiene casi el mismo VIF, queda claro que la TV no esta correlacionada con ninguna de ellas. Y nos quedamos con el modelo 3."
      ]
    },
    {
      "cell_type": "code",
      "metadata": {
        "id": "uh8enoYDEptI"
      },
      "source": [
        ""
      ],
      "execution_count": null,
      "outputs": []
    },
    {
      "cell_type": "markdown",
      "metadata": {
        "id": "BF9tY880DI05"
      },
      "source": [
        "# Validación del Modelo\n",
        "\n",
        "## Dividir la data en Conjunto de entrenamiento y testing"
      ]
    },
    {
      "cell_type": "code",
      "metadata": {
        "id": "DuLU-jPsDEg6"
      },
      "source": [
        "import pandas as pd\n",
        "import numpy as np\n",
        "import matplotlib.pyplot as plt\n",
        "import statsmodels.formula.api as smf"
      ],
      "execution_count": null,
      "outputs": []
    },
    {
      "cell_type": "code",
      "metadata": {
        "id": "hB61k6go7CP9"
      },
      "source": [
        "data = pd.read_csv(\"/content/drive/MyDrive/Machine en Python  Udemy/Data/Advertising.csv\")\n",
        "data.head()"
      ],
      "execution_count": null,
      "outputs": []
    },
    {
      "cell_type": "code",
      "metadata": {
        "colab": {
          "base_uri": "https://localhost:8080/"
        },
        "id": "6Ah2cYQf7Nv0",
        "outputId": "832998b0-4f5d-4db9-f27d-accd05004947"
      },
      "source": [
        "a = np.random.randn(len(data))\n",
        "check = (a<0.8)\n",
        "training = data[check]\n",
        "testing = data[~check]\n",
        "\n",
        "len(training), len(testing)"
      ],
      "execution_count": null,
      "outputs": [
        {
          "output_type": "execute_result",
          "data": {
            "text/plain": [
              "(164, 36)"
            ]
          },
          "metadata": {
            "tags": []
          },
          "execution_count": 6
        }
      ]
    },
    {
      "cell_type": "code",
      "metadata": {
        "id": "YZTENT8M-O0O"
      },
      "source": [
        "# Usando el conjunto de training\n",
        "lm = smf.ols(formula=\"Sales ~ TV + Radio\", data= training).fit()\n",
        "lm.summary()"
      ],
      "execution_count": null,
      "outputs": []
    },
    {
      "cell_type": "code",
      "metadata": {
        "id": "-B3nk2pT_TYc"
      },
      "source": [
        "# Validación del modelo con el conjunto de testing\n",
        "sales_pred = lm.predict(testing)\n",
        "sales_pred"
      ],
      "execution_count": null,
      "outputs": []
    },
    {
      "cell_type": "code",
      "metadata": {
        "colab": {
          "base_uri": "https://localhost:8080/"
        },
        "id": "x0gdAQOLAgJ0",
        "outputId": "0ae84c42-38e8-4aa5-834c-672a16dd17ac"
      },
      "source": [
        "# Calculamos la SSD\n",
        "SSD = sum((testing[\"Sales\"]-sales_pred)**2)\n",
        "RSE = np.sqrt(SSD/(len(testing)-2-1))\n",
        "error = RSE/np.mean(testing[\"Sales\"])\n",
        "SSD, RSE, error"
      ],
      "execution_count": null,
      "outputs": [
        {
          "output_type": "execute_result",
          "data": {
            "text/plain": [
              "(81.06688738746642, 1.5673456367613174, 0.10122792056585474)"
            ]
          },
          "metadata": {
            "tags": []
          },
          "execution_count": 15
        }
      ]
    },
    {
      "cell_type": "markdown",
      "metadata": {
        "id": "1PUl8GqTC_VB"
      },
      "source": [
        "El modelo no tiene overfiting o sobreajuste. ya qu eno varia mucho"
      ]
    },
    {
      "cell_type": "code",
      "metadata": {
        "id": "DsVVaZSVDGpT"
      },
      "source": [
        ""
      ],
      "execution_count": null,
      "outputs": []
    }
  ]
}