{
  "nbformat": 4,
  "nbformat_minor": 0,
  "metadata": {
    "colab": {
      "name": "3-RegresiónLineal.ipynb",
      "provenance": [],
      "mount_file_id": "1UstQkLO2StKK7D_MDCCe64DybcVz6CNS",
      "authorship_tag": "ABX9TyP36/ZTsYF3m2R7mjoMHpJ9",
      "include_colab_link": true
    },
    "kernelspec": {
      "name": "python3",
      "display_name": "Python 3"
    },
    "language_info": {
      "name": "python"
    }
  },
  "cells": [
    {
      "cell_type": "markdown",
      "metadata": {
        "id": "view-in-github",
        "colab_type": "text"
      },
      "source": [
        "<a href=\"https://colab.research.google.com/github/Denis-Yen/DataScience/blob/main/3_Regresi%C3%B3nLineal.ipynb\" target=\"_parent\"><img src=\"https://colab.research.google.com/assets/colab-badge.svg\" alt=\"Open In Colab\"/></a>"
      ]
    },
    {
      "cell_type": "markdown",
      "metadata": {
        "id": "rAkNlEjMHa_1"
      },
      "source": [
        "# Regresión Lineal Simple en Python\n",
        "\n",
        "### Se usa el paquete statsmodel para regresion lineal o sklearn"
      ]
    },
    {
      "cell_type": "code",
      "metadata": {
        "id": "I5tSWvoWHrS6"
      },
      "source": [
        "import pandas as pd\n",
        "import statsmodels.formula.api as smf # libreria para regresión lineal"
      ],
      "execution_count": null,
      "outputs": []
    },
    {
      "cell_type": "code",
      "metadata": {
        "id": "-n6U44ClHfp5"
      },
      "source": [
        "data = pd.read_csv(\"/content/drive/MyDrive/Machine en Python  Udemy/Data/Advertising.csv\")\n",
        "data.head()"
      ],
      "execution_count": null,
      "outputs": []
    },
    {
      "cell_type": "code",
      "metadata": {
        "colab": {
          "base_uri": "https://localhost:8080/"
        },
        "id": "hMqj4DcAIB8d",
        "outputId": "8048155d-abbf-41fd-9025-b1ec59e5e9de"
      },
      "source": [
        "lm = smf.ols(formula=\"Sales~TV\", data= data).fit() # El fit sirve para buscar el modelo que mejor se ajusta a los datos\n",
        "lm.params"
      ],
      "execution_count": null,
      "outputs": [
        {
          "output_type": "execute_result",
          "data": {
            "text/plain": [
              "Intercept    7.032594\n",
              "TV           0.047537\n",
              "dtype: float64"
            ]
          },
          "metadata": {
            "tags": []
          },
          "execution_count": 7
        }
      ]
    },
    {
      "cell_type": "markdown",
      "metadata": {
        "id": "eNzigPOeKBjc"
      },
      "source": [
        "El modelo lineal predictivo sería $Sales =7.032594 + 0.047537*TV $\n",
        "\n",
        "\n"
      ]
    },
    {
      "cell_type": "code",
      "metadata": {
        "colab": {
          "base_uri": "https://localhost:8080/"
        },
        "id": "VYgetlKCJnDo",
        "outputId": "ffef0c47-95f1-4975-e1bb-5d46bc7db123"
      },
      "source": [
        "lm.params"
      ],
      "execution_count": null,
      "outputs": [
        {
          "output_type": "execute_result",
          "data": {
            "text/plain": [
              "Intercept    7.032594\n",
              "TV           0.047537\n",
              "dtype: float64"
            ]
          },
          "metadata": {
            "tags": []
          },
          "execution_count": 223
        }
      ]
    },
    {
      "cell_type": "code",
      "metadata": {
        "colab": {
          "base_uri": "https://localhost:8080/"
        },
        "id": "Y4gA1lxHKcY8",
        "outputId": "fc433b2e-5288-4a3c-8c47-bba7ebc72741"
      },
      "source": [
        "lm.pvalues"
      ],
      "execution_count": null,
      "outputs": [
        {
          "output_type": "execute_result",
          "data": {
            "text/plain": [
              "Intercept    1.406300e-35\n",
              "TV           1.467390e-42\n",
              "dtype: float64"
            ]
          },
          "metadata": {
            "tags": []
          },
          "execution_count": 225
        }
      ]
    },
    {
      "cell_type": "code",
      "metadata": {
        "colab": {
          "base_uri": "https://localhost:8080/"
        },
        "id": "tT_Zl_qgKhKM",
        "outputId": "fd1d1169-a4de-4c2d-f8e4-b7f22a6d10da"
      },
      "source": [
        "lm.rsquared"
      ],
      "execution_count": null,
      "outputs": [
        {
          "output_type": "execute_result",
          "data": {
            "text/plain": [
              "0.611875050850071"
            ]
          },
          "metadata": {
            "tags": []
          },
          "execution_count": 228
        }
      ]
    },
    {
      "cell_type": "code",
      "metadata": {
        "colab": {
          "base_uri": "https://localhost:8080/"
        },
        "id": "3S5M0xg5Ku1j",
        "outputId": "64835a6d-dc58-4f2a-919b-e0f89381109e"
      },
      "source": [
        "lm.rsquared_adj"
      ],
      "execution_count": null,
      "outputs": [
        {
          "output_type": "execute_result",
          "data": {
            "text/plain": [
              "0.6099148238341623"
            ]
          },
          "metadata": {
            "tags": []
          },
          "execution_count": 230
        }
      ]
    },
    {
      "cell_type": "code",
      "metadata": {
        "colab": {
          "base_uri": "https://localhost:8080/",
          "height": 444
        },
        "id": "j1dhLMRxKw58",
        "outputId": "f01239bd-b389-4bd5-86ed-fe1bb647026d"
      },
      "source": [
        "lm.summary() # Obtenemos el resumen "
      ],
      "execution_count": null,
      "outputs": [
        {
          "output_type": "execute_result",
          "data": {
            "text/html": [
              "<table class=\"simpletable\">\n",
              "<caption>OLS Regression Results</caption>\n",
              "<tr>\n",
              "  <th>Dep. Variable:</th>          <td>Sales</td>      <th>  R-squared:         </th> <td>   0.612</td>\n",
              "</tr>\n",
              "<tr>\n",
              "  <th>Model:</th>                   <td>OLS</td>       <th>  Adj. R-squared:    </th> <td>   0.610</td>\n",
              "</tr>\n",
              "<tr>\n",
              "  <th>Method:</th>             <td>Least Squares</td>  <th>  F-statistic:       </th> <td>   312.1</td>\n",
              "</tr>\n",
              "<tr>\n",
              "  <th>Date:</th>             <td>Fri, 16 Jul 2021</td> <th>  Prob (F-statistic):</th> <td>1.47e-42</td>\n",
              "</tr>\n",
              "<tr>\n",
              "  <th>Time:</th>                 <td>05:44:24</td>     <th>  Log-Likelihood:    </th> <td> -519.05</td>\n",
              "</tr>\n",
              "<tr>\n",
              "  <th>No. Observations:</th>      <td>   200</td>      <th>  AIC:               </th> <td>   1042.</td>\n",
              "</tr>\n",
              "<tr>\n",
              "  <th>Df Residuals:</th>          <td>   198</td>      <th>  BIC:               </th> <td>   1049.</td>\n",
              "</tr>\n",
              "<tr>\n",
              "  <th>Df Model:</th>              <td>     1</td>      <th>                     </th>     <td> </td>   \n",
              "</tr>\n",
              "<tr>\n",
              "  <th>Covariance Type:</th>      <td>nonrobust</td>    <th>                     </th>     <td> </td>   \n",
              "</tr>\n",
              "</table>\n",
              "<table class=\"simpletable\">\n",
              "<tr>\n",
              "      <td></td>         <th>coef</th>     <th>std err</th>      <th>t</th>      <th>P>|t|</th>  <th>[0.025</th>    <th>0.975]</th>  \n",
              "</tr>\n",
              "<tr>\n",
              "  <th>Intercept</th> <td>    7.0326</td> <td>    0.458</td> <td>   15.360</td> <td> 0.000</td> <td>    6.130</td> <td>    7.935</td>\n",
              "</tr>\n",
              "<tr>\n",
              "  <th>TV</th>        <td>    0.0475</td> <td>    0.003</td> <td>   17.668</td> <td> 0.000</td> <td>    0.042</td> <td>    0.053</td>\n",
              "</tr>\n",
              "</table>\n",
              "<table class=\"simpletable\">\n",
              "<tr>\n",
              "  <th>Omnibus:</th>       <td> 0.531</td> <th>  Durbin-Watson:     </th> <td>   1.935</td>\n",
              "</tr>\n",
              "<tr>\n",
              "  <th>Prob(Omnibus):</th> <td> 0.767</td> <th>  Jarque-Bera (JB):  </th> <td>   0.669</td>\n",
              "</tr>\n",
              "<tr>\n",
              "  <th>Skew:</th>          <td>-0.089</td> <th>  Prob(JB):          </th> <td>   0.716</td>\n",
              "</tr>\n",
              "<tr>\n",
              "  <th>Kurtosis:</th>      <td> 2.779</td> <th>  Cond. No.          </th> <td>    338.</td>\n",
              "</tr>\n",
              "</table><br/><br/>Warnings:<br/>[1] Standard Errors assume that the covariance matrix of the errors is correctly specified."
            ],
            "text/plain": [
              "<class 'statsmodels.iolib.summary.Summary'>\n",
              "\"\"\"\n",
              "                            OLS Regression Results                            \n",
              "==============================================================================\n",
              "Dep. Variable:                  Sales   R-squared:                       0.612\n",
              "Model:                            OLS   Adj. R-squared:                  0.610\n",
              "Method:                 Least Squares   F-statistic:                     312.1\n",
              "Date:                Fri, 16 Jul 2021   Prob (F-statistic):           1.47e-42\n",
              "Time:                        05:44:24   Log-Likelihood:                -519.05\n",
              "No. Observations:                 200   AIC:                             1042.\n",
              "Df Residuals:                     198   BIC:                             1049.\n",
              "Df Model:                           1                                         \n",
              "Covariance Type:            nonrobust                                         \n",
              "==============================================================================\n",
              "                 coef    std err          t      P>|t|      [0.025      0.975]\n",
              "------------------------------------------------------------------------------\n",
              "Intercept      7.0326      0.458     15.360      0.000       6.130       7.935\n",
              "TV             0.0475      0.003     17.668      0.000       0.042       0.053\n",
              "==============================================================================\n",
              "Omnibus:                        0.531   Durbin-Watson:                   1.935\n",
              "Prob(Omnibus):                  0.767   Jarque-Bera (JB):                0.669\n",
              "Skew:                          -0.089   Prob(JB):                        0.716\n",
              "Kurtosis:                       2.779   Cond. No.                         338.\n",
              "==============================================================================\n",
              "\n",
              "Warnings:\n",
              "[1] Standard Errors assume that the covariance matrix of the errors is correctly specified.\n",
              "\"\"\""
            ]
          },
          "metadata": {
            "tags": []
          },
          "execution_count": 8
        }
      ]
    },
    {
      "cell_type": "markdown",
      "metadata": {
        "id": "2B0oz1NHK3zj"
      },
      "source": [
        "## Prediciendo las Ventas con el modelo lineal\n"
      ]
    },
    {
      "cell_type": "code",
      "metadata": {
        "colab": {
          "base_uri": "https://localhost:8080/"
        },
        "id": "ZNurdV-YMC3y",
        "outputId": "8aabb1c5-5239-4bc9-acdc-10265e41446d"
      },
      "source": [
        "# Truco: Tener una variable en columna de tipo dataframe para predecir \n",
        "sales_pred = lm.predict(pd.DataFrame(data[\"TV\"]))\n",
        "sales_pred"
      ],
      "execution_count": null,
      "outputs": [
        {
          "output_type": "execute_result",
          "data": {
            "text/plain": [
              "0      17.970775\n",
              "1       9.147974\n",
              "2       7.850224\n",
              "3      14.234395\n",
              "4      15.627218\n",
              "         ...    \n",
              "195     8.848493\n",
              "196    11.510545\n",
              "197    15.446579\n",
              "198    20.513985\n",
              "199    18.065848\n",
              "Length: 200, dtype: float64"
            ]
          },
          "metadata": {
            "tags": []
          },
          "execution_count": 234
        }
      ]
    },
    {
      "cell_type": "code",
      "metadata": {
        "colab": {
          "base_uri": "https://localhost:8080/",
          "height": 296
        },
        "id": "GYH-xLOdOLyb",
        "outputId": "0804a0e8-a29a-4b4e-da5e-8f301281d861"
      },
      "source": [
        "import matplotlib.pyplot as plt\n",
        "%matplotlib inline\n",
        "data.plot(kind = \"scatter\", x = \"TV\", y = \"Sales\")\n",
        "plt.plot(pd.DataFrame(data[\"TV\"]), sales_pred, \"red\", linewidth = 1.5)"
      ],
      "execution_count": null,
      "outputs": [
        {
          "output_type": "execute_result",
          "data": {
            "text/plain": [
              "[<matplotlib.lines.Line2D at 0x7fd2057befd0>]"
            ]
          },
          "metadata": {
            "tags": []
          },
          "execution_count": 238
        },
        {
          "output_type": "display_data",
          "data": {
            "image/png": "[encoded data removed]",
            "text/plain": [
              "<Figure size 432x288 with 1 Axes>"
            ]
          },
          "metadata": {
            "tags": [],
            "needs_background": "light"
          }
        }
      ]
    },
    {
      "cell_type": "code",
      "metadata": {
        "colab": {
          "base_uri": "https://localhost:8080/",
          "height": 204
        },
        "id": "9PZ4_FfCPHII",
        "outputId": "46f52d87-8d9d-41b7-c86a-9e88f778a760"
      },
      "source": [
        "data[\"Sales_pred\"] = 7.032594 + 0.047537*data[\"TV\"]\n",
        "data.head()"
      ],
      "execution_count": null,
      "outputs": [
        {
          "output_type": "execute_result",
          "data": {
            "text/html": [
              "<div>\n",
              "<style scoped>\n",
              "    .dataframe tbody tr th:only-of-type {\n",
              "        vertical-align: middle;\n",
              "    }\n",
              "\n",
              "    .dataframe tbody tr th {\n",
              "        vertical-align: top;\n",
              "    }\n",
              "\n",
              "    .dataframe thead th {\n",
              "        text-align: right;\n",
              "    }\n",
              "</style>\n",
              "<table border=\"1\" class=\"dataframe\">\n",
              "  <thead>\n",
              "    <tr style=\"text-align: right;\">\n",
              "      <th></th>\n",
              "      <th>TV</th>\n",
              "      <th>Radio</th>\n",
              "      <th>Newspaper</th>\n",
              "      <th>Sales</th>\n",
              "      <th>Sales_pred</th>\n",
              "      <th>RSE</th>\n",
              "    </tr>\n",
              "  </thead>\n",
              "  <tbody>\n",
              "    <tr>\n",
              "      <th>0</th>\n",
              "      <td>230.1</td>\n",
              "      <td>37.8</td>\n",
              "      <td>69.2</td>\n",
              "      <td>22.1</td>\n",
              "      <td>17.970858</td>\n",
              "      <td>17.120148</td>\n",
              "    </tr>\n",
              "    <tr>\n",
              "      <th>1</th>\n",
              "      <td>44.5</td>\n",
              "      <td>39.3</td>\n",
              "      <td>45.1</td>\n",
              "      <td>10.4</td>\n",
              "      <td>9.147990</td>\n",
              "      <td>1.571638</td>\n",
              "    </tr>\n",
              "    <tr>\n",
              "      <th>2</th>\n",
              "      <td>17.2</td>\n",
              "      <td>45.9</td>\n",
              "      <td>69.3</td>\n",
              "      <td>9.3</td>\n",
              "      <td>7.850230</td>\n",
              "      <td>2.103660</td>\n",
              "    </tr>\n",
              "    <tr>\n",
              "      <th>3</th>\n",
              "      <td>151.5</td>\n",
              "      <td>41.3</td>\n",
              "      <td>58.5</td>\n",
              "      <td>18.5</td>\n",
              "      <td>14.234450</td>\n",
              "      <td>18.242722</td>\n",
              "    </tr>\n",
              "    <tr>\n",
              "      <th>4</th>\n",
              "      <td>180.8</td>\n",
              "      <td>10.8</td>\n",
              "      <td>58.4</td>\n",
              "      <td>12.9</td>\n",
              "      <td>15.627284</td>\n",
              "      <td>7.401664</td>\n",
              "    </tr>\n",
              "  </tbody>\n",
              "</table>\n",
              "</div>"
            ],
            "text/plain": [
              "      TV  Radio  Newspaper  Sales  Sales_pred        RSE\n",
              "0  230.1   37.8       69.2   22.1   17.970858  17.120148\n",
              "1   44.5   39.3       45.1   10.4    9.147990   1.571638\n",
              "2   17.2   45.9       69.3    9.3    7.850230   2.103660\n",
              "3  151.5   41.3       58.5   18.5   14.234450  18.242722\n",
              "4  180.8   10.8       58.4   12.9   15.627284   7.401664"
            ]
          },
          "metadata": {
            "tags": []
          },
          "execution_count": 249
        }
      ]
    },
    {
      "cell_type": "code",
      "metadata": {
        "colab": {
          "base_uri": "https://localhost:8080/",
          "height": 111
        },
        "id": "dPsCx1WIPk4U",
        "outputId": "985f3911-c399-4007-d0ec-dfa24d88d505"
      },
      "source": [
        "data[\"RSE\"] = (data[\"Sales\"] - data[\"Sales_pred\"])**2\n",
        "data.head(2)"
      ],
      "execution_count": null,
      "outputs": [
        {
          "output_type": "execute_result",
          "data": {
            "text/html": [
              "<div>\n",
              "<style scoped>\n",
              "    .dataframe tbody tr th:only-of-type {\n",
              "        vertical-align: middle;\n",
              "    }\n",
              "\n",
              "    .dataframe tbody tr th {\n",
              "        vertical-align: top;\n",
              "    }\n",
              "\n",
              "    .dataframe thead th {\n",
              "        text-align: right;\n",
              "    }\n",
              "</style>\n",
              "<table border=\"1\" class=\"dataframe\">\n",
              "  <thead>\n",
              "    <tr style=\"text-align: right;\">\n",
              "      <th></th>\n",
              "      <th>TV</th>\n",
              "      <th>Radio</th>\n",
              "      <th>Newspaper</th>\n",
              "      <th>Sales</th>\n",
              "      <th>Sales_pred</th>\n",
              "      <th>RSE</th>\n",
              "    </tr>\n",
              "  </thead>\n",
              "  <tbody>\n",
              "    <tr>\n",
              "      <th>0</th>\n",
              "      <td>230.1</td>\n",
              "      <td>37.8</td>\n",
              "      <td>69.2</td>\n",
              "      <td>22.1</td>\n",
              "      <td>17.970858</td>\n",
              "      <td>17.049816</td>\n",
              "    </tr>\n",
              "    <tr>\n",
              "      <th>1</th>\n",
              "      <td>44.5</td>\n",
              "      <td>39.3</td>\n",
              "      <td>45.1</td>\n",
              "      <td>10.4</td>\n",
              "      <td>9.147990</td>\n",
              "      <td>1.567528</td>\n",
              "    </tr>\n",
              "  </tbody>\n",
              "</table>\n",
              "</div>"
            ],
            "text/plain": [
              "      TV  Radio  Newspaper  Sales  Sales_pred        RSE\n",
              "0  230.1   37.8       69.2   22.1   17.970858  17.049816\n",
              "1   44.5   39.3       45.1   10.4    9.147990   1.567528"
            ]
          },
          "metadata": {
            "tags": []
          },
          "execution_count": 250
        }
      ]
    },
    {
      "cell_type": "code",
      "metadata": {
        "colab": {
          "base_uri": "https://localhost:8080/"
        },
        "id": "pGuwr1BRP_VO",
        "outputId": "88c72c8a-3a60-4797-9a2b-8ad028cf254a"
      },
      "source": [
        "SSD = sum(data[\"RSE\"])\n",
        "SSD"
      ],
      "execution_count": null,
      "outputs": [
        {
          "output_type": "execute_result",
          "data": {
            "text/plain": [
              "2102.5305838896525"
            ]
          },
          "metadata": {
            "tags": []
          },
          "execution_count": 258
        }
      ]
    },
    {
      "cell_type": "code",
      "metadata": {
        "colab": {
          "base_uri": "https://localhost:8080/"
        },
        "id": "XbLWT8uEQG4F",
        "outputId": "8f22e0de-9ffc-4655-9c0f-8922ad3713e8"
      },
      "source": [
        "RSE = np.sqrt(SSD/(len(data)-2))\n",
        "RSE"
      ],
      "execution_count": null,
      "outputs": [
        {
          "output_type": "execute_result",
          "data": {
            "text/plain": [
              "3.258656369238098"
            ]
          },
          "metadata": {
            "tags": []
          },
          "execution_count": 259
        }
      ]
    },
    {
      "cell_type": "code",
      "metadata": {
        "colab": {
          "base_uri": "https://localhost:8080/"
        },
        "id": "xlVsOjlzQ7RS",
        "outputId": "bab32d87-d249-4f26-acaa-dc831d325d90"
      },
      "source": [
        "sales_mean = np.mean(data[\"Sales\"])\n",
        "sales_mean"
      ],
      "execution_count": null,
      "outputs": [
        {
          "output_type": "execute_result",
          "data": {
            "text/plain": [
              "14.022500000000003"
            ]
          },
          "metadata": {
            "tags": []
          },
          "execution_count": 260
        }
      ]
    },
    {
      "cell_type": "code",
      "metadata": {
        "colab": {
          "base_uri": "https://localhost:8080/"
        },
        "id": "wQijkM9aRDfC",
        "outputId": "934bb822-011f-4490-8600-a4a84e86bc44"
      },
      "source": [
        "error = RSE/sales_mean *100\n",
        "error # Existe un 14% de error que no es explicado por el modelo"
      ],
      "execution_count": null,
      "outputs": [
        {
          "output_type": "execute_result",
          "data": {
            "text/plain": [
              "4.070845395057711"
            ]
          },
          "metadata": {
            "tags": []
          },
          "execution_count": 257
        }
      ]
    },
    {
      "cell_type": "code",
      "metadata": {
        "id": "d2ta_1UiRwoA"
      },
      "source": [
        "plt.hist((data[\"Sales\"] - data[\"Sales_pred\"])) # Los errores se distribuyen normalmente con media cero "
      ],
      "execution_count": null,
      "outputs": []
    },
    {
      "cell_type": "code",
      "metadata": {
        "id": "uQarqKKJEngA"
      },
      "source": [
        ""
      ],
      "execution_count": null,
      "outputs": []
    },
    {
      "cell_type": "markdown",
      "metadata": {
        "id": "UnPP1YR9w1_R"
      },
      "source": [
        "# Regresión lineal multiple"
      ]
    },
    {
      "cell_type": "code",
      "metadata": {
        "id": "Yah7otVpw57R"
      },
      "source": [
        "import pandas as pd\n",
        "import numpy as np\n",
        "import matplotlib.pyplot as plt\n",
        "import statsmodels.formula.api as smf"
      ],
      "execution_count": null,
      "outputs": []
    },
    {
      "cell_type": "code",
      "metadata": {
        "colab": {
          "base_uri": "https://localhost:8080/",
          "height": 444
        },
        "id": "7CnOggRExlFu",
        "outputId": "d907fe14-8824-43eb-820c-2ce209a8f8fb"
      },
      "source": [
        "# Modelo 1 con una sola variable predictora \"TV\"\n",
        "lm = smf.ols(formula=\"Sales~TV\", data= data).fit()\n",
        "lm.summary()"
      ],
      "execution_count": null,
      "outputs": [
        {
          "output_type": "execute_result",
          "data": {
            "text/html": [
              "<table class=\"simpletable\">\n",
              "<caption>OLS Regression Results</caption>\n",
              "<tr>\n",
              "  <th>Dep. Variable:</th>          <td>Sales</td>      <th>  R-squared:         </th> <td>   0.612</td>\n",
              "</tr>\n",
              "<tr>\n",
              "  <th>Model:</th>                   <td>OLS</td>       <th>  Adj. R-squared:    </th> <td>   0.610</td>\n",
              "</tr>\n",
              "<tr>\n",
              "  <th>Method:</th>             <td>Least Squares</td>  <th>  F-statistic:       </th> <td>   312.1</td>\n",
              "</tr>\n",
              "<tr>\n",
              "  <th>Date:</th>             <td>Fri, 16 Jul 2021</td> <th>  Prob (F-statistic):</th> <td>1.47e-42</td>\n",
              "</tr>\n",
              "<tr>\n",
              "  <th>Time:</th>                 <td>05:47:32</td>     <th>  Log-Likelihood:    </th> <td> -519.05</td>\n",
              "</tr>\n",
              "<tr>\n",
              "  <th>No. Observations:</th>      <td>   200</td>      <th>  AIC:               </th> <td>   1042.</td>\n",
              "</tr>\n",
              "<tr>\n",
              "  <th>Df Residuals:</th>          <td>   198</td>      <th>  BIC:               </th> <td>   1049.</td>\n",
              "</tr>\n",
              "<tr>\n",
              "  <th>Df Model:</th>              <td>     1</td>      <th>                     </th>     <td> </td>   \n",
              "</tr>\n",
              "<tr>\n",
              "  <th>Covariance Type:</th>      <td>nonrobust</td>    <th>                     </th>     <td> </td>   \n",
              "</tr>\n",
              "</table>\n",
              "<table class=\"simpletable\">\n",
              "<tr>\n",
              "      <td></td>         <th>coef</th>     <th>std err</th>      <th>t</th>      <th>P>|t|</th>  <th>[0.025</th>    <th>0.975]</th>  \n",
              "</tr>\n",
              "<tr>\n",
              "  <th>Intercept</th> <td>    7.0326</td> <td>    0.458</td> <td>   15.360</td> <td> 0.000</td> <td>    6.130</td> <td>    7.935</td>\n",
              "</tr>\n",
              "<tr>\n",
              "  <th>TV</th>        <td>    0.0475</td> <td>    0.003</td> <td>   17.668</td> <td> 0.000</td> <td>    0.042</td> <td>    0.053</td>\n",
              "</tr>\n",
              "</table>\n",
              "<table class=\"simpletable\">\n",
              "<tr>\n",
              "  <th>Omnibus:</th>       <td> 0.531</td> <th>  Durbin-Watson:     </th> <td>   1.935</td>\n",
              "</tr>\n",
              "<tr>\n",
              "  <th>Prob(Omnibus):</th> <td> 0.767</td> <th>  Jarque-Bera (JB):  </th> <td>   0.669</td>\n",
              "</tr>\n",
              "<tr>\n",
              "  <th>Skew:</th>          <td>-0.089</td> <th>  Prob(JB):          </th> <td>   0.716</td>\n",
              "</tr>\n",
              "<tr>\n",
              "  <th>Kurtosis:</th>      <td> 2.779</td> <th>  Cond. No.          </th> <td>    338.</td>\n",
              "</tr>\n",
              "</table><br/><br/>Warnings:<br/>[1] Standard Errors assume that the covariance matrix of the errors is correctly specified."
            ],
            "text/plain": [
              "<class 'statsmodels.iolib.summary.Summary'>\n",
              "\"\"\"\n",
              "                            OLS Regression Results                            \n",
              "==============================================================================\n",
              "Dep. Variable:                  Sales   R-squared:                       0.612\n",
              "Model:                            OLS   Adj. R-squared:                  0.610\n",
              "Method:                 Least Squares   F-statistic:                     312.1\n",
              "Date:                Fri, 16 Jul 2021   Prob (F-statistic):           1.47e-42\n",
              "Time:                        05:47:32   Log-Likelihood:                -519.05\n",
              "No. Observations:                 200   AIC:                             1042.\n",
              "Df Residuals:                     198   BIC:                             1049.\n",
              "Df Model:                           1                                         \n",
              "Covariance Type:            nonrobust                                         \n",
              "==============================================================================\n",
              "                 coef    std err          t      P>|t|      [0.025      0.975]\n",
              "------------------------------------------------------------------------------\n",
              "Intercept      7.0326      0.458     15.360      0.000       6.130       7.935\n",
              "TV             0.0475      0.003     17.668      0.000       0.042       0.053\n",
              "==============================================================================\n",
              "Omnibus:                        0.531   Durbin-Watson:                   1.935\n",
              "Prob(Omnibus):                  0.767   Jarque-Bera (JB):                0.669\n",
              "Skew:                          -0.089   Prob(JB):                        0.716\n",
              "Kurtosis:                       2.779   Cond. No.                         338.\n",
              "==============================================================================\n",
              "\n",
              "Warnings:\n",
              "[1] Standard Errors assume that the covariance matrix of the errors is correctly specified.\n",
              "\"\"\""
            ]
          },
          "metadata": {
            "tags": []
          },
          "execution_count": 13
        }
      ]
    },
    {
      "cell_type": "code",
      "metadata": {
        "id": "FUQHL4cZ4aQv"
      },
      "source": [
        "sales_pred = lm.predict(data[\"TV\"])\n",
        "sales_pred"
      ],
      "execution_count": null,
      "outputs": []
    },
    {
      "cell_type": "code",
      "metadata": {
        "colab": {
          "base_uri": "https://localhost:8080/"
        },
        "id": "9FrhYlk94WCf",
        "outputId": "15ff90c1-3f8b-47fd-cdb2-f8a9162e3e44"
      },
      "source": [
        "SSD =  sum((data[\"Sales\"]- sales_pred)**2)\n",
        "RSE = np.sqrt(SSD/(len(data)-2))\n",
        "error = RSE/np.mean(data[\"Sales\"])\n",
        "SSD, RSE, error"
      ],
      "execution_count": null,
      "outputs": [
        {
          "output_type": "execute_result",
          "data": {
            "text/plain": [
              "(2102.530583131351, 3.258656368650462, 0.23238768897489473)"
            ]
          },
          "metadata": {
            "tags": []
          },
          "execution_count": 23
        }
      ]
    },
    {
      "cell_type": "code",
      "metadata": {
        "colab": {
          "base_uri": "https://localhost:8080/",
          "height": 465
        },
        "id": "gF9w6dmF2MNM",
        "outputId": "b0768077-4471-45a4-e443-b87e3b785065"
      },
      "source": [
        "# Añadimos el newspapper al modelo 2\n",
        "lm2 = smf.ols(formula=\"Sales ~ TV + Newspaper\",data=data).fit()\n",
        "lm2.summary()"
      ],
      "execution_count": null,
      "outputs": [
        {
          "output_type": "execute_result",
          "data": {
            "text/html": [
              "<table class=\"simpletable\">\n",
              "<caption>OLS Regression Results</caption>\n",
              "<tr>\n",
              "  <th>Dep. Variable:</th>          <td>Sales</td>      <th>  R-squared:         </th> <td>   0.646</td>\n",
              "</tr>\n",
              "<tr>\n",
              "  <th>Model:</th>                   <td>OLS</td>       <th>  Adj. R-squared:    </th> <td>   0.642</td>\n",
              "</tr>\n",
              "<tr>\n",
              "  <th>Method:</th>             <td>Least Squares</td>  <th>  F-statistic:       </th> <td>   179.6</td>\n",
              "</tr>\n",
              "<tr>\n",
              "  <th>Date:</th>             <td>Fri, 16 Jul 2021</td> <th>  Prob (F-statistic):</th> <td>3.95e-45</td>\n",
              "</tr>\n",
              "<tr>\n",
              "  <th>Time:</th>                 <td>06:00:42</td>     <th>  Log-Likelihood:    </th> <td> -509.89</td>\n",
              "</tr>\n",
              "<tr>\n",
              "  <th>No. Observations:</th>      <td>   200</td>      <th>  AIC:               </th> <td>   1026.</td>\n",
              "</tr>\n",
              "<tr>\n",
              "  <th>Df Residuals:</th>          <td>   197</td>      <th>  BIC:               </th> <td>   1036.</td>\n",
              "</tr>\n",
              "<tr>\n",
              "  <th>Df Model:</th>              <td>     2</td>      <th>                     </th>     <td> </td>   \n",
              "</tr>\n",
              "<tr>\n",
              "  <th>Covariance Type:</th>      <td>nonrobust</td>    <th>                     </th>     <td> </td>   \n",
              "</tr>\n",
              "</table>\n",
              "<table class=\"simpletable\">\n",
              "<tr>\n",
              "      <td></td>         <th>coef</th>     <th>std err</th>      <th>t</th>      <th>P>|t|</th>  <th>[0.025</th>    <th>0.975]</th>  \n",
              "</tr>\n",
              "<tr>\n",
              "  <th>Intercept</th> <td>    5.7749</td> <td>    0.525</td> <td>   10.993</td> <td> 0.000</td> <td>    4.739</td> <td>    6.811</td>\n",
              "</tr>\n",
              "<tr>\n",
              "  <th>TV</th>        <td>    0.0469</td> <td>    0.003</td> <td>   18.173</td> <td> 0.000</td> <td>    0.042</td> <td>    0.052</td>\n",
              "</tr>\n",
              "<tr>\n",
              "  <th>Newspaper</th> <td>    0.0442</td> <td>    0.010</td> <td>    4.346</td> <td> 0.000</td> <td>    0.024</td> <td>    0.064</td>\n",
              "</tr>\n",
              "</table>\n",
              "<table class=\"simpletable\">\n",
              "<tr>\n",
              "  <th>Omnibus:</th>       <td> 0.658</td> <th>  Durbin-Watson:     </th> <td>   1.969</td>\n",
              "</tr>\n",
              "<tr>\n",
              "  <th>Prob(Omnibus):</th> <td> 0.720</td> <th>  Jarque-Bera (JB):  </th> <td>   0.415</td>\n",
              "</tr>\n",
              "<tr>\n",
              "  <th>Skew:</th>          <td>-0.093</td> <th>  Prob(JB):          </th> <td>   0.813</td>\n",
              "</tr>\n",
              "<tr>\n",
              "  <th>Kurtosis:</th>      <td> 3.122</td> <th>  Cond. No.          </th> <td>    410.</td>\n",
              "</tr>\n",
              "</table><br/><br/>Warnings:<br/>[1] Standard Errors assume that the covariance matrix of the errors is correctly specified."
            ],
            "text/plain": [
              "<class 'statsmodels.iolib.summary.Summary'>\n",
              "\"\"\"\n",
              "                            OLS Regression Results                            \n",
              "==============================================================================\n",
              "Dep. Variable:                  Sales   R-squared:                       0.646\n",
              "Model:                            OLS   Adj. R-squared:                  0.642\n",
              "Method:                 Least Squares   F-statistic:                     179.6\n",
              "Date:                Fri, 16 Jul 2021   Prob (F-statistic):           3.95e-45\n",
              "Time:                        06:00:42   Log-Likelihood:                -509.89\n",
              "No. Observations:                 200   AIC:                             1026.\n",
              "Df Residuals:                     197   BIC:                             1036.\n",
              "Df Model:                           2                                         \n",
              "Covariance Type:            nonrobust                                         \n",
              "==============================================================================\n",
              "                 coef    std err          t      P>|t|      [0.025      0.975]\n",
              "------------------------------------------------------------------------------\n",
              "Intercept      5.7749      0.525     10.993      0.000       4.739       6.811\n",
              "TV             0.0469      0.003     18.173      0.000       0.042       0.052\n",
              "Newspaper      0.0442      0.010      4.346      0.000       0.024       0.064\n",
              "==============================================================================\n",
              "Omnibus:                        0.658   Durbin-Watson:                   1.969\n",
              "Prob(Omnibus):                  0.720   Jarque-Bera (JB):                0.415\n",
              "Skew:                          -0.093   Prob(JB):                        0.813\n",
              "Kurtosis:                       3.122   Cond. No.                         410.\n",
              "==============================================================================\n",
              "\n",
              "Warnings:\n",
              "[1] Standard Errors assume that the covariance matrix of the errors is correctly specified.\n",
              "\"\"\""
            ]
          },
          "metadata": {
            "tags": []
          },
          "execution_count": 24
        }
      ]
    },
    {
      "cell_type": "code",
      "metadata": {
        "id": "wukf-bmk3Ooo"
      },
      "source": [
        "sales_pred = lm2.predict(data[[\"TV\", \"Newspaper\"]])\n",
        "sales_pred"
      ],
      "execution_count": null,
      "outputs": []
    },
    {
      "cell_type": "code",
      "metadata": {
        "colab": {
          "base_uri": "https://localhost:8080/"
        },
        "id": "oOLN94pD3iJr",
        "outputId": "1ae2b53d-b89c-40b1-b691-40f972ad52c0"
      },
      "source": [
        "# CReamos el RSE\n",
        "SSD =  sum((data[\"Sales\"]- sales_pred)**2)\n",
        "RSE = np.sqrt(SSD/(len(data)-3))\n",
        "error = RSE/np.mean(data[\"Sales\"])\n",
        "SSD, RSE, error"
      ],
      "execution_count": null,
      "outputs": [
        {
          "output_type": "execute_result",
          "data": {
            "text/plain": [
              "(1918.5618118968266, 3.1207198602528847, 0.2225508903728211)"
            ]
          },
          "metadata": {
            "tags": []
          },
          "execution_count": 26
        }
      ]
    },
    {
      "cell_type": "code",
      "metadata": {
        "colab": {
          "base_uri": "https://localhost:8080/",
          "height": 465
        },
        "id": "Bf1-F7vZ41KR",
        "outputId": "4ee0d423-1039-431a-ad22-b889c0b89398"
      },
      "source": [
        "# Añadimos Radio al modelo 3\n",
        "lm3 = smf.ols(formula=\"Sales ~ TV + Radio\",data=data).fit()\n",
        "lm3.summary()\n"
      ],
      "execution_count": null,
      "outputs": [
        {
          "output_type": "execute_result",
          "data": {
            "text/html": [
              "<table class=\"simpletable\">\n",
              "<caption>OLS Regression Results</caption>\n",
              "<tr>\n",
              "  <th>Dep. Variable:</th>          <td>Sales</td>      <th>  R-squared:         </th> <td>   0.897</td>\n",
              "</tr>\n",
              "<tr>\n",
              "  <th>Model:</th>                   <td>OLS</td>       <th>  Adj. R-squared:    </th> <td>   0.896</td>\n",
              "</tr>\n",
              "<tr>\n",
              "  <th>Method:</th>             <td>Least Squares</td>  <th>  F-statistic:       </th> <td>   859.6</td>\n",
              "</tr>\n",
              "<tr>\n",
              "  <th>Date:</th>             <td>Fri, 16 Jul 2021</td> <th>  Prob (F-statistic):</th> <td>4.83e-98</td>\n",
              "</tr>\n",
              "<tr>\n",
              "  <th>Time:</th>                 <td>06:02:37</td>     <th>  Log-Likelihood:    </th> <td> -386.20</td>\n",
              "</tr>\n",
              "<tr>\n",
              "  <th>No. Observations:</th>      <td>   200</td>      <th>  AIC:               </th> <td>   778.4</td>\n",
              "</tr>\n",
              "<tr>\n",
              "  <th>Df Residuals:</th>          <td>   197</td>      <th>  BIC:               </th> <td>   788.3</td>\n",
              "</tr>\n",
              "<tr>\n",
              "  <th>Df Model:</th>              <td>     2</td>      <th>                     </th>     <td> </td>   \n",
              "</tr>\n",
              "<tr>\n",
              "  <th>Covariance Type:</th>      <td>nonrobust</td>    <th>                     </th>     <td> </td>   \n",
              "</tr>\n",
              "</table>\n",
              "<table class=\"simpletable\">\n",
              "<tr>\n",
              "      <td></td>         <th>coef</th>     <th>std err</th>      <th>t</th>      <th>P>|t|</th>  <th>[0.025</th>    <th>0.975]</th>  \n",
              "</tr>\n",
              "<tr>\n",
              "  <th>Intercept</th> <td>    2.9211</td> <td>    0.294</td> <td>    9.919</td> <td> 0.000</td> <td>    2.340</td> <td>    3.502</td>\n",
              "</tr>\n",
              "<tr>\n",
              "  <th>TV</th>        <td>    0.0458</td> <td>    0.001</td> <td>   32.909</td> <td> 0.000</td> <td>    0.043</td> <td>    0.048</td>\n",
              "</tr>\n",
              "<tr>\n",
              "  <th>Radio</th>     <td>    0.1880</td> <td>    0.008</td> <td>   23.382</td> <td> 0.000</td> <td>    0.172</td> <td>    0.204</td>\n",
              "</tr>\n",
              "</table>\n",
              "<table class=\"simpletable\">\n",
              "<tr>\n",
              "  <th>Omnibus:</th>       <td>60.022</td> <th>  Durbin-Watson:     </th> <td>   2.081</td>\n",
              "</tr>\n",
              "<tr>\n",
              "  <th>Prob(Omnibus):</th> <td> 0.000</td> <th>  Jarque-Bera (JB):  </th> <td> 148.679</td>\n",
              "</tr>\n",
              "<tr>\n",
              "  <th>Skew:</th>          <td>-1.323</td> <th>  Prob(JB):          </th> <td>5.19e-33</td>\n",
              "</tr>\n",
              "<tr>\n",
              "  <th>Kurtosis:</th>      <td> 6.292</td> <th>  Cond. No.          </th> <td>    425.</td>\n",
              "</tr>\n",
              "</table><br/><br/>Warnings:<br/>[1] Standard Errors assume that the covariance matrix of the errors is correctly specified."
            ],
            "text/plain": [
              "<class 'statsmodels.iolib.summary.Summary'>\n",
              "\"\"\"\n",
              "                            OLS Regression Results                            \n",
              "==============================================================================\n",
              "Dep. Variable:                  Sales   R-squared:                       0.897\n",
              "Model:                            OLS   Adj. R-squared:                  0.896\n",
              "Method:                 Least Squares   F-statistic:                     859.6\n",
              "Date:                Fri, 16 Jul 2021   Prob (F-statistic):           4.83e-98\n",
              "Time:                        06:02:37   Log-Likelihood:                -386.20\n",
              "No. Observations:                 200   AIC:                             778.4\n",
              "Df Residuals:                     197   BIC:                             788.3\n",
              "Df Model:                           2                                         \n",
              "Covariance Type:            nonrobust                                         \n",
              "==============================================================================\n",
              "                 coef    std err          t      P>|t|      [0.025      0.975]\n",
              "------------------------------------------------------------------------------\n",
              "Intercept      2.9211      0.294      9.919      0.000       2.340       3.502\n",
              "TV             0.0458      0.001     32.909      0.000       0.043       0.048\n",
              "Radio          0.1880      0.008     23.382      0.000       0.172       0.204\n",
              "==============================================================================\n",
              "Omnibus:                       60.022   Durbin-Watson:                   2.081\n",
              "Prob(Omnibus):                  0.000   Jarque-Bera (JB):              148.679\n",
              "Skew:                          -1.323   Prob(JB):                     5.19e-33\n",
              "Kurtosis:                       6.292   Cond. No.                         425.\n",
              "==============================================================================\n",
              "\n",
              "Warnings:\n",
              "[1] Standard Errors assume that the covariance matrix of the errors is correctly specified.\n",
              "\"\"\""
            ]
          },
          "metadata": {
            "tags": []
          },
          "execution_count": 27
        }
      ]
    },
    {
      "cell_type": "code",
      "metadata": {
        "id": "OVxAQoFp6X64"
      },
      "source": [
        "sales_pred = lm3.predict(data[[\"TV\", \"Radio\"]]) # LA Radio Aporta mas información al modelo\n",
        "sales_pred"
      ],
      "execution_count": null,
      "outputs": []
    },
    {
      "cell_type": "code",
      "metadata": {
        "colab": {
          "base_uri": "https://localhost:8080/"
        },
        "id": "cpESSSWh6egR",
        "outputId": "a4ff4a74-4a61-42c6-f067-fbd11efdc3ac"
      },
      "source": [
        "# CReamos el RSE\n",
        "SSD =  sum((data[\"Sales\"]- sales_pred)**2)\n",
        "RSE = np.sqrt(SSD/(len(data)-3))\n",
        "error = RSE/np.mean(data[\"Sales\"])\n",
        "SSD, RSE, error"
      ],
      "execution_count": null,
      "outputs": [
        {
          "output_type": "execute_result",
          "data": {
            "text/plain": [
              "(556.9139800676187, 1.6813609125080016, 0.11990450436855063)"
            ]
          },
          "metadata": {
            "tags": []
          },
          "execution_count": 30
        }
      ]
    },
    {
      "cell_type": "code",
      "metadata": {
        "colab": {
          "base_uri": "https://localhost:8080/",
          "height": 486
        },
        "id": "HjVZUDaL7CQZ",
        "outputId": "65e4e1e7-534a-4a92-8f08-8d799d9d4356"
      },
      "source": [
        "# Agregamos las 3 VAriables predictoras al modelo\n",
        "lm4 = smf.ols(formula=\"Sales ~ TV + Radio + Newspaper\", data=data).fit()\n",
        "lm4.summary()"
      ],
      "execution_count": null,
      "outputs": [
        {
          "output_type": "execute_result",
          "data": {
            "text/html": [
              "<table class=\"simpletable\">\n",
              "<caption>OLS Regression Results</caption>\n",
              "<tr>\n",
              "  <th>Dep. Variable:</th>          <td>Sales</td>      <th>  R-squared:         </th> <td>   0.897</td>\n",
              "</tr>\n",
              "<tr>\n",
              "  <th>Model:</th>                   <td>OLS</td>       <th>  Adj. R-squared:    </th> <td>   0.896</td>\n",
              "</tr>\n",
              "<tr>\n",
              "  <th>Method:</th>             <td>Least Squares</td>  <th>  F-statistic:       </th> <td>   570.3</td>\n",
              "</tr>\n",
              "<tr>\n",
              "  <th>Date:</th>             <td>Fri, 16 Jul 2021</td> <th>  Prob (F-statistic):</th> <td>1.58e-96</td>\n",
              "</tr>\n",
              "<tr>\n",
              "  <th>Time:</th>                 <td>06:07:50</td>     <th>  Log-Likelihood:    </th> <td> -386.18</td>\n",
              "</tr>\n",
              "<tr>\n",
              "  <th>No. Observations:</th>      <td>   200</td>      <th>  AIC:               </th> <td>   780.4</td>\n",
              "</tr>\n",
              "<tr>\n",
              "  <th>Df Residuals:</th>          <td>   196</td>      <th>  BIC:               </th> <td>   793.6</td>\n",
              "</tr>\n",
              "<tr>\n",
              "  <th>Df Model:</th>              <td>     3</td>      <th>                     </th>     <td> </td>   \n",
              "</tr>\n",
              "<tr>\n",
              "  <th>Covariance Type:</th>      <td>nonrobust</td>    <th>                     </th>     <td> </td>   \n",
              "</tr>\n",
              "</table>\n",
              "<table class=\"simpletable\">\n",
              "<tr>\n",
              "      <td></td>         <th>coef</th>     <th>std err</th>      <th>t</th>      <th>P>|t|</th>  <th>[0.025</th>    <th>0.975]</th>  \n",
              "</tr>\n",
              "<tr>\n",
              "  <th>Intercept</th> <td>    2.9389</td> <td>    0.312</td> <td>    9.422</td> <td> 0.000</td> <td>    2.324</td> <td>    3.554</td>\n",
              "</tr>\n",
              "<tr>\n",
              "  <th>TV</th>        <td>    0.0458</td> <td>    0.001</td> <td>   32.809</td> <td> 0.000</td> <td>    0.043</td> <td>    0.049</td>\n",
              "</tr>\n",
              "<tr>\n",
              "  <th>Radio</th>     <td>    0.1885</td> <td>    0.009</td> <td>   21.893</td> <td> 0.000</td> <td>    0.172</td> <td>    0.206</td>\n",
              "</tr>\n",
              "<tr>\n",
              "  <th>Newspaper</th> <td>   -0.0010</td> <td>    0.006</td> <td>   -0.177</td> <td> 0.860</td> <td>   -0.013</td> <td>    0.011</td>\n",
              "</tr>\n",
              "</table>\n",
              "<table class=\"simpletable\">\n",
              "<tr>\n",
              "  <th>Omnibus:</th>       <td>60.414</td> <th>  Durbin-Watson:     </th> <td>   2.084</td>\n",
              "</tr>\n",
              "<tr>\n",
              "  <th>Prob(Omnibus):</th> <td> 0.000</td> <th>  Jarque-Bera (JB):  </th> <td> 151.241</td>\n",
              "</tr>\n",
              "<tr>\n",
              "  <th>Skew:</th>          <td>-1.327</td> <th>  Prob(JB):          </th> <td>1.44e-33</td>\n",
              "</tr>\n",
              "<tr>\n",
              "  <th>Kurtosis:</th>      <td> 6.332</td> <th>  Cond. No.          </th> <td>    454.</td>\n",
              "</tr>\n",
              "</table><br/><br/>Warnings:<br/>[1] Standard Errors assume that the covariance matrix of the errors is correctly specified."
            ],
            "text/plain": [
              "<class 'statsmodels.iolib.summary.Summary'>\n",
              "\"\"\"\n",
              "                            OLS Regression Results                            \n",
              "==============================================================================\n",
              "Dep. Variable:                  Sales   R-squared:                       0.897\n",
              "Model:                            OLS   Adj. R-squared:                  0.896\n",
              "Method:                 Least Squares   F-statistic:                     570.3\n",
              "Date:                Fri, 16 Jul 2021   Prob (F-statistic):           1.58e-96\n",
              "Time:                        06:07:50   Log-Likelihood:                -386.18\n",
              "No. Observations:                 200   AIC:                             780.4\n",
              "Df Residuals:                     196   BIC:                             793.6\n",
              "Df Model:                           3                                         \n",
              "Covariance Type:            nonrobust                                         \n",
              "==============================================================================\n",
              "                 coef    std err          t      P>|t|      [0.025      0.975]\n",
              "------------------------------------------------------------------------------\n",
              "Intercept      2.9389      0.312      9.422      0.000       2.324       3.554\n",
              "TV             0.0458      0.001     32.809      0.000       0.043       0.049\n",
              "Radio          0.1885      0.009     21.893      0.000       0.172       0.206\n",
              "Newspaper     -0.0010      0.006     -0.177      0.860      -0.013       0.011\n",
              "==============================================================================\n",
              "Omnibus:                       60.414   Durbin-Watson:                   2.084\n",
              "Prob(Omnibus):                  0.000   Jarque-Bera (JB):              151.241\n",
              "Skew:                          -1.327   Prob(JB):                     1.44e-33\n",
              "Kurtosis:                       6.332   Cond. No.                         454.\n",
              "==============================================================================\n",
              "\n",
              "Warnings:\n",
              "[1] Standard Errors assume that the covariance matrix of the errors is correctly specified.\n",
              "\"\"\""
            ]
          },
          "metadata": {
            "tags": []
          },
          "execution_count": 32
        }
      ]
    },
    {
      "cell_type": "markdown",
      "metadata": {
        "id": "3KPDcY0R8VBJ"
      },
      "source": [
        "Observamos que al agregar el newspapaer con 3 variables predictoras el modelo no mejora y tbn se aprecia que dicha variable no es signifcativa, asi que nos deshacemos de dicha predictora. Nos quedamos con el modelo 3, ya que predice mejor"
      ]
    },
    {
      "cell_type": "code",
      "metadata": {
        "id": "IajYo4Jk7gV1"
      },
      "source": [
        "sales_pred = lm4.predict(data[[\"TV\",\"Radio\",\"Newspaper\"]])\n",
        "sales_pred"
      ],
      "execution_count": null,
      "outputs": []
    },
    {
      "cell_type": "code",
      "metadata": {
        "id": "6Riqv1yvEnBY"
      },
      "source": [
        ""
      ],
      "execution_count": null,
      "outputs": []
    },
    {
      "cell_type": "code",
      "metadata": {
        "colab": {
          "base_uri": "https://localhost:8080/"
        },
        "id": "CrTo-Z4T7ns_",
        "outputId": "1c792d48-8fdc-4aa5-b3f8-20a54da1cb90"
      },
      "source": [
        "# Calculamos el RSE\n",
        "SSD = sum((data[\"Sales\"]-sales_pred)**2)\n",
        "RSE = np.sqrt(SSD/(len(data)-4))\n",
        "error = RSE/np.mean(data[\"Sales\"])\n",
        "SSD, RSE, error"
      ],
      "execution_count": null,
      "outputs": [
        {
          "output_type": "execute_result",
          "data": {
            "text/plain": [
              "(556.8252629021872, 1.685510373414744, 0.12020041885646238)"
            ]
          },
          "metadata": {
            "tags": []
          },
          "execution_count": 34
        }
      ]
    },
    {
      "cell_type": "markdown",
      "metadata": {
        "id": "M8KDdwRb9YBL"
      },
      "source": [
        "## Problema de la regresion multiple\n",
        "### Multicolinealidad, las variables predictoras estan correlacionadas entre si.\n",
        "\n",
        "$VIF = \\frac{1}{1 - R^2}$\n",
        "* Si VIF < 1, Las variables no estan correlacionadas\n",
        "* Si 1 < VIF <= 5, Las variables  estan moderadamente correlacionadas  (pueden formar parte del modelo)\n",
        "* Si VIF > 5, Las variables  estan altamente  correlacionadas (deben ser eliminadas)"
      ]
    },
    {
      "cell_type": "code",
      "metadata": {
        "colab": {
          "base_uri": "https://localhost:8080/",
          "height": 173
        },
        "id": "6Tnvpfof9iqR",
        "outputId": "bfde4c26-5200-47da-be7d-c4eb2ee22652"
      },
      "source": [
        "data.corr() # Existe un relacion debil positiva entre la radio y el newspaper, se debe eliminar uan de las 2 variables"
      ],
      "execution_count": null,
      "outputs": [
        {
          "output_type": "execute_result",
          "data": {
            "text/html": [
              "<div>\n",
              "<style scoped>\n",
              "    .dataframe tbody tr th:only-of-type {\n",
              "        vertical-align: middle;\n",
              "    }\n",
              "\n",
              "    .dataframe tbody tr th {\n",
              "        vertical-align: top;\n",
              "    }\n",
              "\n",
              "    .dataframe thead th {\n",
              "        text-align: right;\n",
              "    }\n",
              "</style>\n",
              "<table border=\"1\" class=\"dataframe\">\n",
              "  <thead>\n",
              "    <tr style=\"text-align: right;\">\n",
              "      <th></th>\n",
              "      <th>TV</th>\n",
              "      <th>Radio</th>\n",
              "      <th>Newspaper</th>\n",
              "      <th>Sales</th>\n",
              "    </tr>\n",
              "  </thead>\n",
              "  <tbody>\n",
              "    <tr>\n",
              "      <th>TV</th>\n",
              "      <td>1.000000</td>\n",
              "      <td>0.054809</td>\n",
              "      <td>0.056648</td>\n",
              "      <td>0.782224</td>\n",
              "    </tr>\n",
              "    <tr>\n",
              "      <th>Radio</th>\n",
              "      <td>0.054809</td>\n",
              "      <td>1.000000</td>\n",
              "      <td>0.354104</td>\n",
              "      <td>0.576223</td>\n",
              "    </tr>\n",
              "    <tr>\n",
              "      <th>Newspaper</th>\n",
              "      <td>0.056648</td>\n",
              "      <td>0.354104</td>\n",
              "      <td>1.000000</td>\n",
              "      <td>0.228299</td>\n",
              "    </tr>\n",
              "    <tr>\n",
              "      <th>Sales</th>\n",
              "      <td>0.782224</td>\n",
              "      <td>0.576223</td>\n",
              "      <td>0.228299</td>\n",
              "      <td>1.000000</td>\n",
              "    </tr>\n",
              "  </tbody>\n",
              "</table>\n",
              "</div>"
            ],
            "text/plain": [
              "                 TV     Radio  Newspaper     Sales\n",
              "TV         1.000000  0.054809   0.056648  0.782224\n",
              "Radio      0.054809  1.000000   0.354104  0.576223\n",
              "Newspaper  0.056648  0.354104   1.000000  0.228299\n",
              "Sales      0.782224  0.576223   0.228299  1.000000"
            ]
          },
          "metadata": {
            "tags": []
          },
          "execution_count": 35
        }
      ]
    },
    {
      "cell_type": "code",
      "metadata": {
        "colab": {
          "base_uri": "https://localhost:8080/"
        },
        "id": "gl58AUqI_Ith",
        "outputId": "e546569a-70b4-4d34-ed70-7a5646dadb4c"
      },
      "source": [
        "# Newspaper + TV + Radio -> R^2 VIF = 1/(1-R^2)\n",
        "lm_n = smf.ols(formula=\"Newspaper ~ TV + Radio\", data=data).fit()\n",
        "r_squared_n = lm_n.rsquared\n",
        "VIF = 1 /(1-r_squared_n)\n",
        "VIF\n",
        "# Radio + Newspaper + TV  -> R^2 VIF = 1/(1-R^2)"
      ],
      "execution_count": null,
      "outputs": [
        {
          "output_type": "execute_result",
          "data": {
            "text/plain": [
              "1.1451873787239288"
            ]
          },
          "metadata": {
            "tags": []
          },
          "execution_count": 40
        }
      ]
    },
    {
      "cell_type": "code",
      "metadata": {
        "colab": {
          "base_uri": "https://localhost:8080/"
        },
        "id": "yoCs6bOjBYNq",
        "outputId": "846fb5ea-7595-4432-a8f1-a5e08fda171f"
      },
      "source": [
        "# TV + Newspaper + Radio -> R^2 VIF = 1/(1-R^2)\n",
        "lm_tv = smf.ols(formula=\"TV ~ Newspaper + Radio\", data=data).fit()\n",
        "r_squared_tv = lm_tv.rsquared\n",
        "VIF = 1 /(1-r_squared_tv)\n",
        "VIF # LA tv no esta correlacionada con ninguna otra variable más"
      ],
      "execution_count": null,
      "outputs": [
        {
          "output_type": "execute_result",
          "data": {
            "text/plain": [
              "1.00461078493965"
            ]
          },
          "metadata": {
            "tags": []
          },
          "execution_count": 42
        }
      ]
    },
    {
      "cell_type": "code",
      "metadata": {
        "colab": {
          "base_uri": "https://localhost:8080/"
        },
        "id": "a98h1i3SCLRQ",
        "outputId": "27f302c0-5ebb-4a54-e45a-5c18d9af8c90"
      },
      "source": [
        "# Radio + Newspaper + TV  -> R^2 VIF = 1/(1-R^2)\n",
        "lm_radio = smf.ols(formula=\"Radio ~ TV + Newspaper\", data=data).fit()\n",
        "r_squared_radio = lm_radio.rsquared\n",
        "VIF = 1 /(1-r_squared_radio)\n",
        "VIF"
      ],
      "execution_count": null,
      "outputs": [
        {
          "output_type": "execute_result",
          "data": {
            "text/plain": [
              "1.1449519171055353"
            ]
          },
          "metadata": {
            "tags": []
          },
          "execution_count": 43
        }
      ]
    },
    {
      "cell_type": "markdown",
      "metadata": {
        "id": "lsPCf7jmCul5"
      },
      "source": [
        "Concluimos que el periodico y la radio estan correlacionadas dado que tiene casi el mismo VIF, queda claro que la TV no esta correlacionada con ninguna de ellas. Y nos quedamos con el modelo 3."
      ]
    },
    {
      "cell_type": "code",
      "metadata": {
        "id": "uh8enoYDEptI"
      },
      "source": [
        ""
      ],
      "execution_count": null,
      "outputs": []
    },
    {
      "cell_type": "markdown",
      "metadata": {
        "id": "BF9tY880DI05"
      },
      "source": [
        "# Validación del Modelo\n",
        "\n",
        "## Dividir la data en Conjunto de entrenamiento y testing"
      ]
    },
    {
      "cell_type": "code",
      "metadata": {
        "id": "DuLU-jPsDEg6"
      },
      "source": [
        "import pandas as pd\n",
        "import numpy as np\n",
        "import matplotlib.pyplot as plt\n",
        "import statsmodels.formula.api as smf"
      ],
      "execution_count": null,
      "outputs": []
    },
    {
      "cell_type": "code",
      "metadata": {
        "id": "hB61k6go7CP9"
      },
      "source": [
        "data = pd.read_csv(\"/content/drive/MyDrive/Machine en Python  Udemy/Data/Advertising.csv\")\n",
        "data.head()"
      ],
      "execution_count": null,
      "outputs": []
    },
    {
      "cell_type": "code",
      "metadata": {
        "colab": {
          "base_uri": "https://localhost:8080/"
        },
        "id": "6Ah2cYQf7Nv0",
        "outputId": "832998b0-4f5d-4db9-f27d-accd05004947"
      },
      "source": [
        "a = np.random.randn(len(data))\n",
        "check = (a<0.8)\n",
        "training = data[check]\n",
        "testing = data[~check]\n",
        "\n",
        "len(training), len(testing)"
      ],
      "execution_count": null,
      "outputs": [
        {
          "output_type": "execute_result",
          "data": {
            "text/plain": [
              "(164, 36)"
            ]
          },
          "metadata": {
            "tags": []
          },
          "execution_count": 6
        }
      ]
    },
    {
      "cell_type": "code",
      "metadata": {
        "id": "YZTENT8M-O0O"
      },
      "source": [
        "# Usando el conjunto de training\n",
        "lm = smf.ols(formula=\"Sales ~ TV + Radio\", data= training).fit()\n",
        "lm.summary()"
      ],
      "execution_count": null,
      "outputs": []
    },
    {
      "cell_type": "code",
      "metadata": {
        "id": "-B3nk2pT_TYc"
      },
      "source": [
        "# Validación del modelo con el conjunto de testing\n",
        "sales_pred = lm.predict(testing)\n",
        "sales_pred"
      ],
      "execution_count": null,
      "outputs": []
    },
    {
      "cell_type": "code",
      "metadata": {
        "colab": {
          "base_uri": "https://localhost:8080/"
        },
        "id": "x0gdAQOLAgJ0",
        "outputId": "0ae84c42-38e8-4aa5-834c-672a16dd17ac"
      },
      "source": [
        "# Calculamos la SSD\n",
        "SSD = sum((testing[\"Sales\"]-sales_pred)**2)\n",
        "RSE = np.sqrt(SSD/(len(testing)-2-1))\n",
        "error = RSE/np.mean(testing[\"Sales\"])\n",
        "SSD, RSE, error"
      ],
      "execution_count": null,
      "outputs": [
        {
          "output_type": "execute_result",
          "data": {
            "text/plain": [
              "(81.06688738746642, 1.5673456367613174, 0.10122792056585474)"
            ]
          },
          "metadata": {
            "tags": []
          },
          "execution_count": 15
        }
      ]
    },
    {
      "cell_type": "markdown",
      "metadata": {
        "id": "1PUl8GqTC_VB"
      },
      "source": [
        "El modelo no tiene overfiting o sobreajuste. ya qu eno varia mucho"
      ]
    },
    {
      "cell_type": "code",
      "metadata": {
        "id": "DsVVaZSVDGpT"
      },
      "source": [
        ""
      ],
      "execution_count": null,
      "outputs": []
    },
    {
      "cell_type": "markdown",
      "metadata": {
        "id": "hYD2_VKmLl1Y"
      },
      "source": [
        "# Regresión Lineal con scikit-learn\n",
        "\n",
        "Para regresión y selección de rasgos.\n",
        "recursivamente ira poniendo y quitando variables en el modelo."
      ]
    },
    {
      "cell_type": "code",
      "metadata": {
        "id": "XUo7r1EmLpa3"
      },
      "source": [
        "from sklearn.feature_selection import RFE # RFE Recursive Features Elimination\n",
        "from sklearn.svm import SVR # SVM = Support vector machine, SVR = Support Vector Regression\n",
        "import pandas as pd\n",
        "import numpy as np\n",
        "import matplotlib.pyplot as plt"
      ],
      "execution_count": null,
      "outputs": []
    },
    {
      "cell_type": "code",
      "metadata": {
        "id": "zjHNhWxJOD2s"
      },
      "source": [
        "data = pd.read_csv(\"/content/drive/MyDrive/Machine en Python  Udemy/Data/Advertising.csv\")\n",
        "data.head()"
      ],
      "execution_count": null,
      "outputs": []
    },
    {
      "cell_type": "code",
      "metadata": {
        "id": "Q9nW7ehlOTFn"
      },
      "source": [
        "features_cols = [\"TV\", \"Radio\", \"Newspaper\"] # Variables predictoras"
      ],
      "execution_count": null,
      "outputs": []
    },
    {
      "cell_type": "code",
      "metadata": {
        "id": "BTs_ZsNNOvlQ"
      },
      "source": [
        "X = data[features_cols]\n",
        "Y = data[\"Sales\"]"
      ],
      "execution_count": null,
      "outputs": []
    },
    {
      "cell_type": "code",
      "metadata": {
        "id": "CrpiUjErPHna"
      },
      "source": [
        "estimator = SVR(kernel=\"linear\")\n",
        "selector  = RFE(estimator=estimator,\n",
        "               n_features_to_select=2,\n",
        "               step=1)\n",
        "selector  = selector.fit(X,Y)"
      ],
      "execution_count": null,
      "outputs": []
    },
    {
      "cell_type": "code",
      "metadata": {
        "colab": {
          "base_uri": "https://localhost:8080/"
        },
        "id": "tpfJrdyeP_XZ",
        "outputId": "8d725c26-b68f-4a02-9ccb-ef6820f5c5f3"
      },
      "source": [
        "selector.support_ # Se quedaron la primera y segunda variable"
      ],
      "execution_count": null,
      "outputs": [
        {
          "output_type": "execute_result",
          "data": {
            "text/plain": [
              "array([ True,  True, False])"
            ]
          },
          "metadata": {
            "tags": []
          },
          "execution_count": 13
        }
      ]
    },
    {
      "cell_type": "code",
      "metadata": {
        "colab": {
          "base_uri": "https://localhost:8080/"
        },
        "id": "k9XU2qvMQYpZ",
        "outputId": "14ddbadd-2078-4384-8dfd-6103fea598c9"
      },
      "source": [
        "selector.ranking_ # Las variables se orden de manera creciente tomando en cuenta su significancia."
      ],
      "execution_count": null,
      "outputs": [
        {
          "output_type": "execute_result",
          "data": {
            "text/plain": [
              "array([1, 1, 2])"
            ]
          },
          "metadata": {
            "tags": []
          },
          "execution_count": 14
        }
      ]
    },
    {
      "cell_type": "code",
      "metadata": {
        "id": "jGoou6hHQw3B"
      },
      "source": [
        "from sklearn.linear_model import LinearRegression\n",
        "x_pred = data[[\"TV\", \"Radio\"]]\n",
        "lm = LinearRegression()\n",
        "lm.fit(x_pred, Y)"
      ],
      "execution_count": null,
      "outputs": []
    },
    {
      "cell_type": "code",
      "metadata": {
        "colab": {
          "base_uri": "https://localhost:8080/"
        },
        "id": "4DzJMSNERqWH",
        "outputId": "f387c6c5-3d93-47ba-ed5e-da0cecdef27a"
      },
      "source": [
        "lm.intercept_, lm.coef_"
      ],
      "execution_count": null,
      "outputs": [
        {
          "output_type": "execute_result",
          "data": {
            "text/plain": [
              "(2.921099912405138, array([0.04575482, 0.18799423]))"
            ]
          },
          "metadata": {
            "tags": []
          },
          "execution_count": 22
        }
      ]
    },
    {
      "cell_type": "code",
      "metadata": {
        "colab": {
          "base_uri": "https://localhost:8080/"
        },
        "id": "PgjHlCRcSIrP",
        "outputId": "f5ee8d98-e05f-4219-e280-348e4431310f"
      },
      "source": [
        "# R cuadrado ajustado\n",
        "lm.score(x_pred,Y)"
      ],
      "execution_count": null,
      "outputs": [
        {
          "output_type": "execute_result",
          "data": {
            "text/plain": [
              "0.8971942610828956"
            ]
          },
          "metadata": {
            "tags": []
          },
          "execution_count": 23
        }
      ]
    },
    {
      "cell_type": "code",
      "metadata": {
        "id": "jw-j0529SRjv"
      },
      "source": [
        ""
      ],
      "execution_count": null,
      "outputs": []
    },
    {
      "cell_type": "markdown",
      "metadata": {
        "id": "dkmg_2Xcm1Ct"
      },
      "source": [
        "# Regresión con variables categoricas\n"
      ]
    },
    {
      "cell_type": "code",
      "metadata": {
        "id": "ZdmKOolMm5bK"
      },
      "source": [
        "import pandas as pd\n",
        "import numpy as np\n",
        "from sklearn.linear_model import LinearRegression\n",
        "import matplotlib.pyplot as plt \n"
      ],
      "execution_count": null,
      "outputs": []
    },
    {
      "cell_type": "code",
      "metadata": {
        "colab": {
          "base_uri": "https://localhost:8080/",
          "height": 204
        },
        "id": "2pU-5BnJnSXU",
        "outputId": "dcb69a36-a652-4a8a-f570-f6cf8d28e9a1"
      },
      "source": [
        "df = pd.read_csv(\"/content/drive/MyDrive/Machine en Python  Udemy/Data/Ecom Expense.csv\")\n",
        "df.head()"
      ],
      "execution_count": null,
      "outputs": [
        {
          "output_type": "execute_result",
          "data": {
            "text/html": [
              "<div>\n",
              "<style scoped>\n",
              "    .dataframe tbody tr th:only-of-type {\n",
              "        vertical-align: middle;\n",
              "    }\n",
              "\n",
              "    .dataframe tbody tr th {\n",
              "        vertical-align: top;\n",
              "    }\n",
              "\n",
              "    .dataframe thead th {\n",
              "        text-align: right;\n",
              "    }\n",
              "</style>\n",
              "<table border=\"1\" class=\"dataframe\">\n",
              "  <thead>\n",
              "    <tr style=\"text-align: right;\">\n",
              "      <th></th>\n",
              "      <th>Transaction ID</th>\n",
              "      <th>Age</th>\n",
              "      <th>Items</th>\n",
              "      <th>Monthly Income</th>\n",
              "      <th>Transaction Time</th>\n",
              "      <th>Record</th>\n",
              "      <th>Gender</th>\n",
              "      <th>City Tier</th>\n",
              "      <th>Total Spend</th>\n",
              "    </tr>\n",
              "  </thead>\n",
              "  <tbody>\n",
              "    <tr>\n",
              "      <th>0</th>\n",
              "      <td>TXN001</td>\n",
              "      <td>42</td>\n",
              "      <td>10</td>\n",
              "      <td>7313</td>\n",
              "      <td>627.668127</td>\n",
              "      <td>5</td>\n",
              "      <td>Female</td>\n",
              "      <td>Tier 1</td>\n",
              "      <td>4198.385084</td>\n",
              "    </tr>\n",
              "    <tr>\n",
              "      <th>1</th>\n",
              "      <td>TXN002</td>\n",
              "      <td>24</td>\n",
              "      <td>8</td>\n",
              "      <td>17747</td>\n",
              "      <td>126.904567</td>\n",
              "      <td>3</td>\n",
              "      <td>Female</td>\n",
              "      <td>Tier 2</td>\n",
              "      <td>4134.976648</td>\n",
              "    </tr>\n",
              "    <tr>\n",
              "      <th>2</th>\n",
              "      <td>TXN003</td>\n",
              "      <td>47</td>\n",
              "      <td>11</td>\n",
              "      <td>22845</td>\n",
              "      <td>873.469701</td>\n",
              "      <td>2</td>\n",
              "      <td>Male</td>\n",
              "      <td>Tier 2</td>\n",
              "      <td>5166.614455</td>\n",
              "    </tr>\n",
              "    <tr>\n",
              "      <th>3</th>\n",
              "      <td>TXN004</td>\n",
              "      <td>50</td>\n",
              "      <td>11</td>\n",
              "      <td>18552</td>\n",
              "      <td>380.219428</td>\n",
              "      <td>7</td>\n",
              "      <td>Female</td>\n",
              "      <td>Tier 1</td>\n",
              "      <td>7784.447676</td>\n",
              "    </tr>\n",
              "    <tr>\n",
              "      <th>4</th>\n",
              "      <td>TXN005</td>\n",
              "      <td>60</td>\n",
              "      <td>2</td>\n",
              "      <td>14439</td>\n",
              "      <td>403.374223</td>\n",
              "      <td>2</td>\n",
              "      <td>Female</td>\n",
              "      <td>Tier 2</td>\n",
              "      <td>3254.160485</td>\n",
              "    </tr>\n",
              "  </tbody>\n",
              "</table>\n",
              "</div>"
            ],
            "text/plain": [
              "  Transaction ID  Age    Items   ...  Gender  City Tier  Total Spend\n",
              "0         TXN001    42       10  ...  Female     Tier 1  4198.385084\n",
              "1         TXN002    24        8  ...  Female     Tier 2  4134.976648\n",
              "2         TXN003    47       11  ...    Male     Tier 2  5166.614455\n",
              "3         TXN004    50       11  ...  Female     Tier 1  7784.447676\n",
              "4         TXN005    60        2  ...  Female     Tier 2  3254.160485\n",
              "\n",
              "[5 rows x 9 columns]"
            ]
          },
          "metadata": {
            "tags": []
          },
          "execution_count": 4
        }
      ]
    },
    {
      "cell_type": "code",
      "metadata": {
        "colab": {
          "base_uri": "https://localhost:8080/",
          "height": 204
        },
        "id": "VWKoLG7Kn3SN",
        "outputId": "d91d958a-00cf-4fd0-f2a1-ba01da1a1a0e"
      },
      "source": [
        "dummy_gender = pd.get_dummies(df[\"Gender\"], prefix=\"Gender\")\n",
        "dummy_city_tier = pd.get_dummies(df[\"City Tier\"], prefix=\"City\")\n",
        "dummy_city_tier.head(5)"
      ],
      "execution_count": null,
      "outputs": [
        {
          "output_type": "execute_result",
          "data": {
            "text/html": [
              "<div>\n",
              "<style scoped>\n",
              "    .dataframe tbody tr th:only-of-type {\n",
              "        vertical-align: middle;\n",
              "    }\n",
              "\n",
              "    .dataframe tbody tr th {\n",
              "        vertical-align: top;\n",
              "    }\n",
              "\n",
              "    .dataframe thead th {\n",
              "        text-align: right;\n",
              "    }\n",
              "</style>\n",
              "<table border=\"1\" class=\"dataframe\">\n",
              "  <thead>\n",
              "    <tr style=\"text-align: right;\">\n",
              "      <th></th>\n",
              "      <th>City_Tier 1</th>\n",
              "      <th>City_Tier 2</th>\n",
              "      <th>City_Tier 3</th>\n",
              "    </tr>\n",
              "  </thead>\n",
              "  <tbody>\n",
              "    <tr>\n",
              "      <th>0</th>\n",
              "      <td>1</td>\n",
              "      <td>0</td>\n",
              "      <td>0</td>\n",
              "    </tr>\n",
              "    <tr>\n",
              "      <th>1</th>\n",
              "      <td>0</td>\n",
              "      <td>1</td>\n",
              "      <td>0</td>\n",
              "    </tr>\n",
              "    <tr>\n",
              "      <th>2</th>\n",
              "      <td>0</td>\n",
              "      <td>1</td>\n",
              "      <td>0</td>\n",
              "    </tr>\n",
              "    <tr>\n",
              "      <th>3</th>\n",
              "      <td>1</td>\n",
              "      <td>0</td>\n",
              "      <td>0</td>\n",
              "    </tr>\n",
              "    <tr>\n",
              "      <th>4</th>\n",
              "      <td>0</td>\n",
              "      <td>1</td>\n",
              "      <td>0</td>\n",
              "    </tr>\n",
              "  </tbody>\n",
              "</table>\n",
              "</div>"
            ],
            "text/plain": [
              "   City_Tier 1  City_Tier 2  City_Tier 3\n",
              "0            1            0            0\n",
              "1            0            1            0\n",
              "2            0            1            0\n",
              "3            1            0            0\n",
              "4            0            1            0"
            ]
          },
          "metadata": {
            "tags": []
          },
          "execution_count": 8
        }
      ]
    },
    {
      "cell_type": "code",
      "metadata": {
        "colab": {
          "base_uri": "https://localhost:8080/"
        },
        "id": "F5g1nui4oikN",
        "outputId": "4be3f127-a63f-4b38-e44a-59fa2db45a22"
      },
      "source": [
        "columns_names = df.columns.values.tolist()\n",
        "columns_names"
      ],
      "execution_count": null,
      "outputs": [
        {
          "output_type": "execute_result",
          "data": {
            "text/plain": [
              "['Transaction ID',\n",
              " 'Age ',\n",
              " ' Items ',\n",
              " 'Monthly Income',\n",
              " 'Transaction Time',\n",
              " 'Record',\n",
              " 'Gender',\n",
              " 'City Tier',\n",
              " 'Total Spend']"
            ]
          },
          "metadata": {
            "tags": []
          },
          "execution_count": 10
        }
      ]
    },
    {
      "cell_type": "code",
      "metadata": {
        "colab": {
          "base_uri": "https://localhost:8080/",
          "height": 111
        },
        "id": "5oy9QPvLoiR4",
        "outputId": "4cdda815-1500-4543-c3bc-b7e499583c7a"
      },
      "source": [
        "df_new = df[columns_names].join(dummy_gender)\n",
        "columns_names = df_new.columns.values.tolist()\n",
        "df_new.head(2)"
      ],
      "execution_count": null,
      "outputs": [
        {
          "output_type": "execute_result",
          "data": {
            "text/html": [
              "<div>\n",
              "<style scoped>\n",
              "    .dataframe tbody tr th:only-of-type {\n",
              "        vertical-align: middle;\n",
              "    }\n",
              "\n",
              "    .dataframe tbody tr th {\n",
              "        vertical-align: top;\n",
              "    }\n",
              "\n",
              "    .dataframe thead th {\n",
              "        text-align: right;\n",
              "    }\n",
              "</style>\n",
              "<table border=\"1\" class=\"dataframe\">\n",
              "  <thead>\n",
              "    <tr style=\"text-align: right;\">\n",
              "      <th></th>\n",
              "      <th>Transaction ID</th>\n",
              "      <th>Age</th>\n",
              "      <th>Items</th>\n",
              "      <th>Monthly Income</th>\n",
              "      <th>Transaction Time</th>\n",
              "      <th>Record</th>\n",
              "      <th>Gender</th>\n",
              "      <th>City Tier</th>\n",
              "      <th>Total Spend</th>\n",
              "      <th>Gender_Female</th>\n",
              "      <th>Gender_Male</th>\n",
              "    </tr>\n",
              "  </thead>\n",
              "  <tbody>\n",
              "    <tr>\n",
              "      <th>0</th>\n",
              "      <td>TXN001</td>\n",
              "      <td>42</td>\n",
              "      <td>10</td>\n",
              "      <td>7313</td>\n",
              "      <td>627.668127</td>\n",
              "      <td>5</td>\n",
              "      <td>Female</td>\n",
              "      <td>Tier 1</td>\n",
              "      <td>4198.385084</td>\n",
              "      <td>1</td>\n",
              "      <td>0</td>\n",
              "    </tr>\n",
              "    <tr>\n",
              "      <th>1</th>\n",
              "      <td>TXN002</td>\n",
              "      <td>24</td>\n",
              "      <td>8</td>\n",
              "      <td>17747</td>\n",
              "      <td>126.904567</td>\n",
              "      <td>3</td>\n",
              "      <td>Female</td>\n",
              "      <td>Tier 2</td>\n",
              "      <td>4134.976648</td>\n",
              "      <td>1</td>\n",
              "      <td>0</td>\n",
              "    </tr>\n",
              "  </tbody>\n",
              "</table>\n",
              "</div>"
            ],
            "text/plain": [
              "  Transaction ID  Age    Items   ...  Total Spend  Gender_Female  Gender_Male\n",
              "0         TXN001    42       10  ...  4198.385084              1            0\n",
              "1         TXN002    24        8  ...  4134.976648              1            0\n",
              "\n",
              "[2 rows x 11 columns]"
            ]
          },
          "metadata": {
            "tags": []
          },
          "execution_count": 13
        }
      ]
    },
    {
      "cell_type": "code",
      "metadata": {
        "colab": {
          "base_uri": "https://localhost:8080/",
          "height": 221
        },
        "id": "2AhyAD3Ypwqa",
        "outputId": "dd42c8b0-1402-404d-c658-f20028fa39cd"
      },
      "source": [
        "df_new = df_new[columns_names].join(dummy_city_tier)\n",
        "df_new.head()"
      ],
      "execution_count": null,
      "outputs": [
        {
          "output_type": "execute_result",
          "data": {
            "text/html": [
              "<div>\n",
              "<style scoped>\n",
              "    .dataframe tbody tr th:only-of-type {\n",
              "        vertical-align: middle;\n",
              "    }\n",
              "\n",
              "    .dataframe tbody tr th {\n",
              "        vertical-align: top;\n",
              "    }\n",
              "\n",
              "    .dataframe thead th {\n",
              "        text-align: right;\n",
              "    }\n",
              "</style>\n",
              "<table border=\"1\" class=\"dataframe\">\n",
              "  <thead>\n",
              "    <tr style=\"text-align: right;\">\n",
              "      <th></th>\n",
              "      <th>Transaction ID</th>\n",
              "      <th>Age</th>\n",
              "      <th>Items</th>\n",
              "      <th>Monthly Income</th>\n",
              "      <th>Transaction Time</th>\n",
              "      <th>Record</th>\n",
              "      <th>Gender</th>\n",
              "      <th>City Tier</th>\n",
              "      <th>Total Spend</th>\n",
              "      <th>Gender_Female</th>\n",
              "      <th>Gender_Male</th>\n",
              "      <th>City_Tier 1</th>\n",
              "      <th>City_Tier 2</th>\n",
              "      <th>City_Tier 3</th>\n",
              "    </tr>\n",
              "  </thead>\n",
              "  <tbody>\n",
              "    <tr>\n",
              "      <th>0</th>\n",
              "      <td>TXN001</td>\n",
              "      <td>42</td>\n",
              "      <td>10</td>\n",
              "      <td>7313</td>\n",
              "      <td>627.668127</td>\n",
              "      <td>5</td>\n",
              "      <td>Female</td>\n",
              "      <td>Tier 1</td>\n",
              "      <td>4198.385084</td>\n",
              "      <td>1</td>\n",
              "      <td>0</td>\n",
              "      <td>1</td>\n",
              "      <td>0</td>\n",
              "      <td>0</td>\n",
              "    </tr>\n",
              "    <tr>\n",
              "      <th>1</th>\n",
              "      <td>TXN002</td>\n",
              "      <td>24</td>\n",
              "      <td>8</td>\n",
              "      <td>17747</td>\n",
              "      <td>126.904567</td>\n",
              "      <td>3</td>\n",
              "      <td>Female</td>\n",
              "      <td>Tier 2</td>\n",
              "      <td>4134.976648</td>\n",
              "      <td>1</td>\n",
              "      <td>0</td>\n",
              "      <td>0</td>\n",
              "      <td>1</td>\n",
              "      <td>0</td>\n",
              "    </tr>\n",
              "    <tr>\n",
              "      <th>2</th>\n",
              "      <td>TXN003</td>\n",
              "      <td>47</td>\n",
              "      <td>11</td>\n",
              "      <td>22845</td>\n",
              "      <td>873.469701</td>\n",
              "      <td>2</td>\n",
              "      <td>Male</td>\n",
              "      <td>Tier 2</td>\n",
              "      <td>5166.614455</td>\n",
              "      <td>0</td>\n",
              "      <td>1</td>\n",
              "      <td>0</td>\n",
              "      <td>1</td>\n",
              "      <td>0</td>\n",
              "    </tr>\n",
              "    <tr>\n",
              "      <th>3</th>\n",
              "      <td>TXN004</td>\n",
              "      <td>50</td>\n",
              "      <td>11</td>\n",
              "      <td>18552</td>\n",
              "      <td>380.219428</td>\n",
              "      <td>7</td>\n",
              "      <td>Female</td>\n",
              "      <td>Tier 1</td>\n",
              "      <td>7784.447676</td>\n",
              "      <td>1</td>\n",
              "      <td>0</td>\n",
              "      <td>1</td>\n",
              "      <td>0</td>\n",
              "      <td>0</td>\n",
              "    </tr>\n",
              "    <tr>\n",
              "      <th>4</th>\n",
              "      <td>TXN005</td>\n",
              "      <td>60</td>\n",
              "      <td>2</td>\n",
              "      <td>14439</td>\n",
              "      <td>403.374223</td>\n",
              "      <td>2</td>\n",
              "      <td>Female</td>\n",
              "      <td>Tier 2</td>\n",
              "      <td>3254.160485</td>\n",
              "      <td>1</td>\n",
              "      <td>0</td>\n",
              "      <td>0</td>\n",
              "      <td>1</td>\n",
              "      <td>0</td>\n",
              "    </tr>\n",
              "  </tbody>\n",
              "</table>\n",
              "</div>"
            ],
            "text/plain": [
              "  Transaction ID  Age    Items   ...  City_Tier 1  City_Tier 2  City_Tier 3\n",
              "0         TXN001    42       10  ...            1            0            0\n",
              "1         TXN002    24        8  ...            0            1            0\n",
              "2         TXN003    47       11  ...            0            1            0\n",
              "3         TXN004    50       11  ...            1            0            0\n",
              "4         TXN005    60        2  ...            0            1            0\n",
              "\n",
              "[5 rows x 14 columns]"
            ]
          },
          "metadata": {
            "tags": []
          },
          "execution_count": 15
        }
      ]
    },
    {
      "cell_type": "code",
      "metadata": {
        "id": "ceckd3nkqSe4"
      },
      "source": [
        "# Variables predictoras\n",
        "features_cols = [\"Monthly Income\", \"Transaction Time\", \"Gender_Female\",\n",
        "                 \"Gender_Male\", \"City_Tier 1\", \"City_Tier 2\", \"City_Tier 3\",\n",
        "                 \"Record\"]"
      ],
      "execution_count": null,
      "outputs": []
    },
    {
      "cell_type": "code",
      "metadata": {
        "id": "q2eKyYIQrR32"
      },
      "source": [
        "# Variables predicotras y la predicha\n",
        "X = df_new[features_cols]\n",
        "Y = df_new[\"Total Spend\"]"
      ],
      "execution_count": null,
      "outputs": []
    },
    {
      "cell_type": "code",
      "metadata": {
        "colab": {
          "base_uri": "https://localhost:8080/"
        },
        "id": "sv4ZpbbNrhlb",
        "outputId": "d3bd535b-a28d-4668-a426-f7b86ca890a7"
      },
      "source": [
        "# Creamos el modelo\n",
        "lm = LinearRegression()\n",
        "lm.fit(X,Y)"
      ],
      "execution_count": null,
      "outputs": [
        {
          "output_type": "execute_result",
          "data": {
            "text/plain": [
              "LinearRegression(copy_X=True, fit_intercept=True, n_jobs=None, normalize=False)"
            ]
          },
          "metadata": {
            "tags": []
          },
          "execution_count": 44
        }
      ]
    },
    {
      "cell_type": "code",
      "metadata": {
        "colab": {
          "base_uri": "https://localhost:8080/"
        },
        "id": "kx2ueo70r_zz",
        "outputId": "34d6bb95-ba7b-400a-d9fb-e8e06591d6c5"
      },
      "source": [
        "# Parametros dle modelo\n",
        "lm.intercept_, lm.coef_"
      ],
      "execution_count": null,
      "outputs": [
        {
          "output_type": "execute_result",
          "data": {
            "text/plain": [
              "(-79.41713030137635,\n",
              " array([ 1.47538980e-01,  1.54946125e-01, -1.31025013e+02,  1.31025013e+02,\n",
              "         7.67643260e+01,  5.51389743e+01, -1.31903300e+02,  7.72233446e+02]))"
            ]
          },
          "metadata": {
            "tags": []
          },
          "execution_count": 45
        }
      ]
    },
    {
      "cell_type": "code",
      "metadata": {
        "colab": {
          "base_uri": "https://localhost:8080/"
        },
        "id": "WhIrFMfSsZ9G",
        "outputId": "2eaad811-27e9-46e9-81e6-3282507363a5"
      },
      "source": [
        "# Observar los parametros junto a cada variable\n",
        "list(zip(features_cols,lm.coef_))"
      ],
      "execution_count": null,
      "outputs": [
        {
          "output_type": "execute_result",
          "data": {
            "text/plain": [
              "[('Monthly Income', 0.14753898049205746),\n",
              " ('Transaction Time', 0.15494612549589704),\n",
              " ('Gender_Female', -131.02501325554584),\n",
              " ('Gender_Male', 131.02501325554567),\n",
              " ('City_Tier 1', 76.76432601049501),\n",
              " ('City_Tier 2', 55.13897430923278),\n",
              " ('City_Tier 3', -131.90330031972783),\n",
              " ('Record', 772.233445744565)]"
            ]
          },
          "metadata": {
            "tags": []
          },
          "execution_count": 46
        }
      ]
    },
    {
      "cell_type": "code",
      "metadata": {
        "colab": {
          "base_uri": "https://localhost:8080/"
        },
        "id": "n-zYPr-xs1vl",
        "outputId": "adab4dba-fc13-4a00-c9d0-2c361979e1ea"
      },
      "source": [
        "# R cuadrado\n",
        "lm.score(X,Y) # R2 bajo, agregar mas variables al modelo"
      ],
      "execution_count": null,
      "outputs": [
        {
          "output_type": "execute_result",
          "data": {
            "text/plain": [
              "0.9187458997709432"
            ]
          },
          "metadata": {
            "tags": []
          },
          "execution_count": 36
        }
      ]
    },
    {
      "cell_type": "markdown",
      "metadata": {
        "id": "tIlPSos2zLD-"
      },
      "source": [
        "### El modelo quedaria como:\n",
        "\n",
        "Total_Spend = -79.41713030137635 + Monthly Incomex0.14753898049205746 + Transaction Timex0.15494612549589704 + Gender_Femalex-131.02501325554584 + Gender_Malex131.02501325554567 + City_Tier1x76.76432601049501 + City_Tier2x55.13897430923278 + City_Tier3x-131.90330031972783 + Recordx772.233445744565\n",
        "\n",
        "* Si es hombre y vive en CT1: \n",
        "  * -79.41713030137635 + Monthly Incomex0.14753898049205746 + Transaction Timex0.15494612549589704 + 131.02501325554567 + 76.76432601049501 + Recordx772.233445744565\n",
        "* Si es hombre y vive en CT2:\n",
        "  * -79.41713030137635 + Monthly Incomex0.14753898049205746 + Transaction Timex0.15494612549589704 + 131.02501325554567 + 55.13897430923278 + Recordx772.233445744565\n",
        "* Si es hombre y vive en CT3:\n",
        "  * -79.41713030137635 + Monthly Incomex0.14753898049205746 + Transaction Timex0.15494612549589704 + 131.02501325554567 - 131.90330031972783 + Recordx772.233445744565\n",
        "\n",
        "* Si es mujer y vive en CT1:\n",
        "  * -79.41713030137635 + Monthly Incomex0.14753898049205746 + Transaction Timex0.15494612549589704 -131.02501325554584 + 76.76432601049501 + Recordx772.233445744565\n",
        "\n",
        "* Si es mujer y vive en CT2:\n",
        "  * -79.41713030137635 + Monthly Incomex0.14753898049205746 + Transaction Timex0.15494612549589704 -131.02501325554584 + 55.13897430923278 + Recordx772.233445744565\n",
        "\n",
        "* Si es mujer y vive en CT3:\n",
        "  * -79.41713030137635 + Monthly Incomex0.14753898049205746 + Transaction Timex0.15494612549589704 -131.02501325554584 - 131.90330031972783 + Recordx772.233445744565"
      ]
    },
    {
      "cell_type": "code",
      "metadata": {
        "colab": {
          "base_uri": "https://localhost:8080/",
          "height": 221
        },
        "id": "Ev2eiy1O1odo",
        "outputId": "567062f5-d60d-45f9-aefb-a377f02ea63a"
      },
      "source": [
        "# Predicción - 1 forma\n",
        "df_new[\"Prediction\"] = -79.41713030137635 + df_new[\"Monthly Income\"] * 0.14753898049205746 + df_new[\"Transaction Time\"]*0.15494612549589704 + df_new[\"Gender_Female\"] * (-131.02501325554584) + df_new[\"Gender_Male\"] * 131.02501325554567 + df_new[\"City_Tier 1\"] * 76.76432601049501 + df_new[\"City_Tier 2\"] * 55.13897430923278 + df_new[\"City_Tier 3\"] * (-131.90330031972783) + df_new[\"Record\"] * 772.233445744565\n",
        "df_new.head()"
      ],
      "execution_count": null,
      "outputs": [
        {
          "output_type": "execute_result",
          "data": {
            "text/html": [
              "<div>\n",
              "<style scoped>\n",
              "    .dataframe tbody tr th:only-of-type {\n",
              "        vertical-align: middle;\n",
              "    }\n",
              "\n",
              "    .dataframe tbody tr th {\n",
              "        vertical-align: top;\n",
              "    }\n",
              "\n",
              "    .dataframe thead th {\n",
              "        text-align: right;\n",
              "    }\n",
              "</style>\n",
              "<table border=\"1\" class=\"dataframe\">\n",
              "  <thead>\n",
              "    <tr style=\"text-align: right;\">\n",
              "      <th></th>\n",
              "      <th>Transaction ID</th>\n",
              "      <th>Age</th>\n",
              "      <th>Items</th>\n",
              "      <th>Monthly Income</th>\n",
              "      <th>Transaction Time</th>\n",
              "      <th>Record</th>\n",
              "      <th>Gender</th>\n",
              "      <th>City Tier</th>\n",
              "      <th>Total Spend</th>\n",
              "      <th>Gender_Female</th>\n",
              "      <th>Gender_Male</th>\n",
              "      <th>City_Tier 1</th>\n",
              "      <th>City_Tier 2</th>\n",
              "      <th>City_Tier 3</th>\n",
              "      <th>Prediction</th>\n",
              "    </tr>\n",
              "  </thead>\n",
              "  <tbody>\n",
              "    <tr>\n",
              "      <th>0</th>\n",
              "      <td>TXN001</td>\n",
              "      <td>42</td>\n",
              "      <td>10</td>\n",
              "      <td>7313</td>\n",
              "      <td>627.668127</td>\n",
              "      <td>5</td>\n",
              "      <td>Female</td>\n",
              "      <td>Tier 1</td>\n",
              "      <td>4198.385084</td>\n",
              "      <td>1</td>\n",
              "      <td>0</td>\n",
              "      <td>1</td>\n",
              "      <td>0</td>\n",
              "      <td>0</td>\n",
              "      <td>4903.696720</td>\n",
              "    </tr>\n",
              "    <tr>\n",
              "      <th>1</th>\n",
              "      <td>TXN002</td>\n",
              "      <td>24</td>\n",
              "      <td>8</td>\n",
              "      <td>17747</td>\n",
              "      <td>126.904567</td>\n",
              "      <td>3</td>\n",
              "      <td>Female</td>\n",
              "      <td>Tier 2</td>\n",
              "      <td>4134.976648</td>\n",
              "      <td>1</td>\n",
              "      <td>0</td>\n",
              "      <td>0</td>\n",
              "      <td>1</td>\n",
              "      <td>0</td>\n",
              "      <td>4799.434826</td>\n",
              "    </tr>\n",
              "    <tr>\n",
              "      <th>2</th>\n",
              "      <td>TXN003</td>\n",
              "      <td>47</td>\n",
              "      <td>11</td>\n",
              "      <td>22845</td>\n",
              "      <td>873.469701</td>\n",
              "      <td>2</td>\n",
              "      <td>Male</td>\n",
              "      <td>Tier 2</td>\n",
              "      <td>5166.614455</td>\n",
              "      <td>0</td>\n",
              "      <td>1</td>\n",
              "      <td>0</td>\n",
              "      <td>1</td>\n",
              "      <td>0</td>\n",
              "      <td>5157.082504</td>\n",
              "    </tr>\n",
              "    <tr>\n",
              "      <th>3</th>\n",
              "      <td>TXN004</td>\n",
              "      <td>50</td>\n",
              "      <td>11</td>\n",
              "      <td>18552</td>\n",
              "      <td>380.219428</td>\n",
              "      <td>7</td>\n",
              "      <td>Female</td>\n",
              "      <td>Tier 1</td>\n",
              "      <td>7784.447676</td>\n",
              "      <td>1</td>\n",
              "      <td>0</td>\n",
              "      <td>1</td>\n",
              "      <td>0</td>\n",
              "      <td>0</td>\n",
              "      <td>8068.012996</td>\n",
              "    </tr>\n",
              "    <tr>\n",
              "      <th>4</th>\n",
              "      <td>TXN005</td>\n",
              "      <td>60</td>\n",
              "      <td>2</td>\n",
              "      <td>14439</td>\n",
              "      <td>403.374223</td>\n",
              "      <td>2</td>\n",
              "      <td>Female</td>\n",
              "      <td>Tier 2</td>\n",
              "      <td>3254.160485</td>\n",
              "      <td>1</td>\n",
              "      <td>0</td>\n",
              "      <td>0</td>\n",
              "      <td>1</td>\n",
              "      <td>0</td>\n",
              "      <td>3581.980335</td>\n",
              "    </tr>\n",
              "  </tbody>\n",
              "</table>\n",
              "</div>"
            ],
            "text/plain": [
              "  Transaction ID  Age    Items   ...  City_Tier 2  City_Tier 3   Prediction\n",
              "0         TXN001    42       10  ...            0            0  4903.696720\n",
              "1         TXN002    24        8  ...            1            0  4799.434826\n",
              "2         TXN003    47       11  ...            1            0  5157.082504\n",
              "3         TXN004    50       11  ...            0            0  8068.012996\n",
              "4         TXN005    60        2  ...            1            0  3581.980335\n",
              "\n",
              "[5 rows x 15 columns]"
            ]
          },
          "metadata": {
            "tags": []
          },
          "execution_count": 56
        }
      ]
    },
    {
      "cell_type": "code",
      "metadata": {
        "id": "UN93KGlWCn88"
      },
      "source": [
        "# Predicción - 2 forma\n",
        "df_new[\"Prediction\"] = lm.predict(df_new[features_cols])\n",
        "df_new.head()"
      ],
      "execution_count": null,
      "outputs": []
    },
    {
      "cell_type": "code",
      "metadata": {
        "colab": {
          "base_uri": "https://localhost:8080/"
        },
        "id": "n4yqI3Q-5Fjl",
        "outputId": "9d891ff4-a431-44b4-92ef-52c95b3873df"
      },
      "source": [
        "# Calculamos la suma de los cuadrados de los errores\n",
        "SSD = np.sum((df_new[\"Prediction\"] - df_new[\"Total Spend\"])**2)\n",
        "RSE = np.sqrt(SSD/len(df_new)-len(features_cols)-1)\n",
        "Total_Spend_mean = np.mean(df_new[\"Total Spend\"])\n",
        "error = RSE/Total_Spend_mean\n",
        "\n",
        "SSD, RSE, error # Existe un 13% de error que noe s epxlicado por el modelo"
      ],
      "execution_count": null,
      "outputs": [
        {
          "output_type": "execute_result",
          "data": {
            "text/plain": [
              "(1517733985.340816, 801.5947080211582, 0.13006194434791704)"
            ]
          },
          "metadata": {
            "tags": []
          },
          "execution_count": 61
        }
      ]
    },
    {
      "cell_type": "code",
      "metadata": {
        "id": "-7ccu7mntTLf"
      },
      "source": [
        "# Interar todas las variables del modleo \n",
        "df_new = df_new[columns_names].join(dummy_city_tier)\n",
        "\n",
        "from sklearn.feature_selection import RFE\n",
        "from sklearn.svm import SVR\n",
        "\n",
        "features_cols = [\"Monthly Income\", \"Transaction Time\", \"Gender_Female\",\n",
        "                 \"Gender_Male\", \"City_Tier 1\", \"City_Tier 2\", \"City_Tier 3\",\n",
        "                 \"Record\", \"Age \"]\n",
        "X = df_new[features_cols]\n",
        "Y = df_new[\"Total Spend\"]\n",
        "\n",
        "estimator = SVR(kernel=\"linear\")\n",
        "selector  = RFE(estimator=estimator,\n",
        "               n_features_to_select=7,\n",
        "               step=1)\n",
        "selector  = selector.fit(X,Y)"
      ],
      "execution_count": null,
      "outputs": []
    },
    {
      "cell_type": "code",
      "metadata": {
        "colab": {
          "base_uri": "https://localhost:8080/"
        },
        "id": "Aidyb7k4xd0q",
        "outputId": "580c06a3-c98f-48c9-a343-a421e70ca243"
      },
      "source": [
        "selector.support_"
      ],
      "execution_count": null,
      "outputs": [
        {
          "output_type": "execute_result",
          "data": {
            "text/plain": [
              "array([ True,  True,  True,  True,  True,  True,  True,  True,  True])"
            ]
          },
          "metadata": {
            "tags": []
          },
          "execution_count": 40
        }
      ]
    },
    {
      "cell_type": "markdown",
      "metadata": {
        "id": "vedcfvPyEiTY"
      },
      "source": [
        "## Reduciendo las variables dummy n-1\n",
        "\n",
        "Los coeficientes de genero hombre y city tier 1 estaran contenidas en el intercepto."
      ]
    },
    {
      "cell_type": "code",
      "metadata": {
        "id": "sysTjIo0EvHn"
      },
      "source": [
        "dummy_gender = pd.get_dummies(df[\"Gender\"], prefix=\"Gender\").iloc[:,1:] # Todas las filas y nos quedamos con la ultima del dataset\n",
        "dummy_city_tier = pd.get_dummies(df[\"City Tier\"], prefix=\"City\").iloc[:,1:]\n",
        "dummy_city_tier.head()"
      ],
      "execution_count": null,
      "outputs": []
    },
    {
      "cell_type": "code",
      "metadata": {
        "colab": {
          "base_uri": "https://localhost:8080/",
          "height": 221
        },
        "id": "pZ1MX353G7F8",
        "outputId": "04eba1e1-bc38-474b-9654-5fb6498af5ae"
      },
      "source": [
        "columns_names = df.columns.values.tolist()\n",
        "df_new = df[columns_names].join(dummy_gender)\n",
        "columns_names = df_new.columns.values.tolist()\n",
        "df_new = df_new[columns_names].join(dummy_city_tier)\n",
        "df_new.head()"
      ],
      "execution_count": null,
      "outputs": [
        {
          "output_type": "execute_result",
          "data": {
            "text/html": [
              "<div>\n",
              "<style scoped>\n",
              "    .dataframe tbody tr th:only-of-type {\n",
              "        vertical-align: middle;\n",
              "    }\n",
              "\n",
              "    .dataframe tbody tr th {\n",
              "        vertical-align: top;\n",
              "    }\n",
              "\n",
              "    .dataframe thead th {\n",
              "        text-align: right;\n",
              "    }\n",
              "</style>\n",
              "<table border=\"1\" class=\"dataframe\">\n",
              "  <thead>\n",
              "    <tr style=\"text-align: right;\">\n",
              "      <th></th>\n",
              "      <th>Transaction ID</th>\n",
              "      <th>Age</th>\n",
              "      <th>Items</th>\n",
              "      <th>Monthly Income</th>\n",
              "      <th>Transaction Time</th>\n",
              "      <th>Record</th>\n",
              "      <th>Gender</th>\n",
              "      <th>City Tier</th>\n",
              "      <th>Total Spend</th>\n",
              "      <th>Gender_Male</th>\n",
              "      <th>City_Tier 2</th>\n",
              "      <th>City_Tier 3</th>\n",
              "    </tr>\n",
              "  </thead>\n",
              "  <tbody>\n",
              "    <tr>\n",
              "      <th>0</th>\n",
              "      <td>TXN001</td>\n",
              "      <td>42</td>\n",
              "      <td>10</td>\n",
              "      <td>7313</td>\n",
              "      <td>627.668127</td>\n",
              "      <td>5</td>\n",
              "      <td>Female</td>\n",
              "      <td>Tier 1</td>\n",
              "      <td>4198.385084</td>\n",
              "      <td>0</td>\n",
              "      <td>0</td>\n",
              "      <td>0</td>\n",
              "    </tr>\n",
              "    <tr>\n",
              "      <th>1</th>\n",
              "      <td>TXN002</td>\n",
              "      <td>24</td>\n",
              "      <td>8</td>\n",
              "      <td>17747</td>\n",
              "      <td>126.904567</td>\n",
              "      <td>3</td>\n",
              "      <td>Female</td>\n",
              "      <td>Tier 2</td>\n",
              "      <td>4134.976648</td>\n",
              "      <td>0</td>\n",
              "      <td>1</td>\n",
              "      <td>0</td>\n",
              "    </tr>\n",
              "    <tr>\n",
              "      <th>2</th>\n",
              "      <td>TXN003</td>\n",
              "      <td>47</td>\n",
              "      <td>11</td>\n",
              "      <td>22845</td>\n",
              "      <td>873.469701</td>\n",
              "      <td>2</td>\n",
              "      <td>Male</td>\n",
              "      <td>Tier 2</td>\n",
              "      <td>5166.614455</td>\n",
              "      <td>1</td>\n",
              "      <td>1</td>\n",
              "      <td>0</td>\n",
              "    </tr>\n",
              "    <tr>\n",
              "      <th>3</th>\n",
              "      <td>TXN004</td>\n",
              "      <td>50</td>\n",
              "      <td>11</td>\n",
              "      <td>18552</td>\n",
              "      <td>380.219428</td>\n",
              "      <td>7</td>\n",
              "      <td>Female</td>\n",
              "      <td>Tier 1</td>\n",
              "      <td>7784.447676</td>\n",
              "      <td>0</td>\n",
              "      <td>0</td>\n",
              "      <td>0</td>\n",
              "    </tr>\n",
              "    <tr>\n",
              "      <th>4</th>\n",
              "      <td>TXN005</td>\n",
              "      <td>60</td>\n",
              "      <td>2</td>\n",
              "      <td>14439</td>\n",
              "      <td>403.374223</td>\n",
              "      <td>2</td>\n",
              "      <td>Female</td>\n",
              "      <td>Tier 2</td>\n",
              "      <td>3254.160485</td>\n",
              "      <td>0</td>\n",
              "      <td>1</td>\n",
              "      <td>0</td>\n",
              "    </tr>\n",
              "  </tbody>\n",
              "</table>\n",
              "</div>"
            ],
            "text/plain": [
              "  Transaction ID  Age    Items   ...  Gender_Male  City_Tier 2  City_Tier 3\n",
              "0         TXN001    42       10  ...            0            0            0\n",
              "1         TXN002    24        8  ...            0            1            0\n",
              "2         TXN003    47       11  ...            1            1            0\n",
              "3         TXN004    50       11  ...            0            0            0\n",
              "4         TXN005    60        2  ...            0            1            0\n",
              "\n",
              "[5 rows x 12 columns]"
            ]
          },
          "metadata": {
            "tags": []
          },
          "execution_count": 73
        }
      ]
    },
    {
      "cell_type": "code",
      "metadata": {
        "colab": {
          "base_uri": "https://localhost:8080/"
        },
        "id": "uIIsHyQ3Rv0X",
        "outputId": "085ae349-4849-4d1c-9a7f-789590d262dc"
      },
      "source": [
        "features_cols = [\"Monthly Income\", \"Transaction Time\",\n",
        "                 \"Gender_Male\",\"City_Tier 2\", \"City_Tier 3\",\n",
        "                 \"Record\"]\n",
        "X = df_new[features_cols]\n",
        "Y = df_new[\"Total Spend\"]\n",
        "\n",
        "lm = LinearRegression()\n",
        "lm.fit(X,Y)"
      ],
      "execution_count": null,
      "outputs": [
        {
          "output_type": "execute_result",
          "data": {
            "text/plain": [
              "LinearRegression(copy_X=True, fit_intercept=True, n_jobs=None, normalize=False)"
            ]
          },
          "metadata": {
            "tags": []
          },
          "execution_count": 75
        }
      ]
    },
    {
      "cell_type": "code",
      "metadata": {
        "colab": {
          "base_uri": "https://localhost:8080/"
        },
        "id": "J3F36QPpSPdP",
        "outputId": "d841a5dd-8979-4c83-d69a-c2cde469c4c5"
      },
      "source": [
        "lm.intercept_"
      ],
      "execution_count": null,
      "outputs": [
        {
          "output_type": "execute_result",
          "data": {
            "text/plain": [
              "-133.67781754642238"
            ]
          },
          "metadata": {
            "tags": []
          },
          "execution_count": 76
        }
      ]
    },
    {
      "cell_type": "code",
      "metadata": {
        "colab": {
          "base_uri": "https://localhost:8080/"
        },
        "id": "2UfWj1reSRct",
        "outputId": "fef5c5f7-7c95-46cd-cb4c-30a0afbec2fc"
      },
      "source": [
        "list(zip(features_cols, lm.coef_))"
      ],
      "execution_count": null,
      "outputs": [
        {
          "output_type": "execute_result",
          "data": {
            "text/plain": [
              "[('Monthly Income', 0.1475389804920575),\n",
              " ('Transaction Time', 0.1549461254958966),\n",
              " ('Gender_Male', 262.0500265110957),\n",
              " ('City_Tier 2', -21.625351701263007),\n",
              " ('City_Tier 3', -208.6676263302229),\n",
              " ('Record', 772.2334457445636)]"
            ]
          },
          "metadata": {
            "tags": []
          },
          "execution_count": 77
        }
      ]
    },
    {
      "cell_type": "markdown",
      "metadata": {
        "id": "D4-yzSROWWD1"
      },
      "source": [
        "# Transformación de variables para conseguir una relacion no lineal "
      ]
    },
    {
      "cell_type": "code",
      "metadata": {
        "colab": {
          "base_uri": "https://localhost:8080/",
          "height": 204
        },
        "id": "NcFOKuVxWjDa",
        "outputId": "f2b7fdb9-3922-4f3b-81b6-f9ffa81df6fe"
      },
      "source": [
        "import pandas as pd \n",
        "data_auto = pd.read_csv(\"/content/drive/MyDrive/Machine en Python  Udemy/Data/auto-mpg.csv\")\n",
        "data_auto.head()"
      ],
      "execution_count": null,
      "outputs": [
        {
          "output_type": "execute_result",
          "data": {
            "text/html": [
              "<div>\n",
              "<style scoped>\n",
              "    .dataframe tbody tr th:only-of-type {\n",
              "        vertical-align: middle;\n",
              "    }\n",
              "\n",
              "    .dataframe tbody tr th {\n",
              "        vertical-align: top;\n",
              "    }\n",
              "\n",
              "    .dataframe thead th {\n",
              "        text-align: right;\n",
              "    }\n",
              "</style>\n",
              "<table border=\"1\" class=\"dataframe\">\n",
              "  <thead>\n",
              "    <tr style=\"text-align: right;\">\n",
              "      <th></th>\n",
              "      <th>mpg</th>\n",
              "      <th>cylinders</th>\n",
              "      <th>displacement</th>\n",
              "      <th>horsepower</th>\n",
              "      <th>weight</th>\n",
              "      <th>acceleration</th>\n",
              "      <th>model year</th>\n",
              "      <th>origin</th>\n",
              "      <th>car name</th>\n",
              "    </tr>\n",
              "  </thead>\n",
              "  <tbody>\n",
              "    <tr>\n",
              "      <th>0</th>\n",
              "      <td>18.0</td>\n",
              "      <td>8</td>\n",
              "      <td>307.0</td>\n",
              "      <td>130.0</td>\n",
              "      <td>3504</td>\n",
              "      <td>12.0</td>\n",
              "      <td>70</td>\n",
              "      <td>1</td>\n",
              "      <td>chevrolet chevelle malibu</td>\n",
              "    </tr>\n",
              "    <tr>\n",
              "      <th>1</th>\n",
              "      <td>15.0</td>\n",
              "      <td>8</td>\n",
              "      <td>350.0</td>\n",
              "      <td>165.0</td>\n",
              "      <td>3693</td>\n",
              "      <td>11.5</td>\n",
              "      <td>70</td>\n",
              "      <td>1</td>\n",
              "      <td>buick skylark 320</td>\n",
              "    </tr>\n",
              "    <tr>\n",
              "      <th>2</th>\n",
              "      <td>18.0</td>\n",
              "      <td>8</td>\n",
              "      <td>318.0</td>\n",
              "      <td>150.0</td>\n",
              "      <td>3436</td>\n",
              "      <td>11.0</td>\n",
              "      <td>70</td>\n",
              "      <td>1</td>\n",
              "      <td>plymouth satellite</td>\n",
              "    </tr>\n",
              "    <tr>\n",
              "      <th>3</th>\n",
              "      <td>16.0</td>\n",
              "      <td>8</td>\n",
              "      <td>304.0</td>\n",
              "      <td>150.0</td>\n",
              "      <td>3433</td>\n",
              "      <td>12.0</td>\n",
              "      <td>70</td>\n",
              "      <td>1</td>\n",
              "      <td>amc rebel sst</td>\n",
              "    </tr>\n",
              "    <tr>\n",
              "      <th>4</th>\n",
              "      <td>17.0</td>\n",
              "      <td>8</td>\n",
              "      <td>302.0</td>\n",
              "      <td>140.0</td>\n",
              "      <td>3449</td>\n",
              "      <td>10.5</td>\n",
              "      <td>70</td>\n",
              "      <td>1</td>\n",
              "      <td>ford torino</td>\n",
              "    </tr>\n",
              "  </tbody>\n",
              "</table>\n",
              "</div>"
            ],
            "text/plain": [
              "    mpg  cylinders  displacement  ...  model year  origin                   car name\n",
              "0  18.0          8         307.0  ...          70       1  chevrolet chevelle malibu\n",
              "1  15.0          8         350.0  ...          70       1          buick skylark 320\n",
              "2  18.0          8         318.0  ...          70       1         plymouth satellite\n",
              "3  16.0          8         304.0  ...          70       1              amc rebel sst\n",
              "4  17.0          8         302.0  ...          70       1                ford torino\n",
              "\n",
              "[5 rows x 9 columns]"
            ]
          },
          "metadata": {
            "tags": []
          },
          "execution_count": 1
        }
      ]
    },
    {
      "cell_type": "code",
      "metadata": {
        "colab": {
          "base_uri": "https://localhost:8080/",
          "height": 312
        },
        "id": "LwhEvw6VXEX1",
        "outputId": "7fe98577-a242-4263-b0a5-9c4c361959bc"
      },
      "source": [
        "import matplotlib.pyplot as plt\n",
        "%matplotlib inline\n",
        "data_auto[\"mpg\"] = data_auto[\"mpg\"].dropna()\n",
        "data_auto[\"horsepower\"] = data_auto[\"horsepower\"].dropna()\n",
        "plt.plot(data_auto[\"horsepower\"],data_auto[\"mpg\"], \"ro\" )\n",
        "plt.xlabel(\"Caballos de Potencia\")\n",
        "plt.ylabel(\"Millas por galón\")\n",
        "plt.title(\"CV vs MPG\")"
      ],
      "execution_count": null,
      "outputs": [
        {
          "output_type": "execute_result",
          "data": {
            "text/plain": [
              "Text(0.5, 1.0, 'CV vs MPG')"
            ]
          },
          "metadata": {
            "tags": []
          },
          "execution_count": 85
        },
        {
          "output_type": "display_data",
          "data": {
            "image/png": "[encoded data removed]",
            "text/plain": [
              "<Figure size 432x288 with 1 Axes>"
            ]
          },
          "metadata": {
            "tags": [],
            "needs_background": "light"
          }
        }
      ]
    },
    {
      "cell_type": "markdown",
      "metadata": {
        "id": "FnH5ImMCX9Yf"
      },
      "source": [
        "Se observa una relación inversa no muy lineal, vamos a profar con diferentes modelos."
      ]
    },
    {
      "cell_type": "markdown",
      "metadata": {
        "id": "OI11eLkmYme6"
      },
      "source": [
        "#### Modelo de regresion lineal\n",
        "\n",
        "* mpg = a + b * horsepower"
      ]
    },
    {
      "cell_type": "code",
      "metadata": {
        "id": "LEIAepa3YSgN"
      },
      "source": [
        "X = data_auto[\"horsepower\"].fillna(data_auto[\"horsepower\"].mean()) # Reemplazamos los NA con el promedio\n",
        "Y = data_auto[\"mpg\"].fillna(data_auto[\"mpg\"].mean())\n",
        "x_data = X[:, np.newaxis]\n",
        "\n",
        "lm = LinearRegression() #Requiere de formato dataframe\n",
        "lm.fit(x_data,Y)"
      ],
      "execution_count": null,
      "outputs": []
    },
    {
      "cell_type": "code",
      "metadata": {
        "colab": {
          "base_uri": "https://localhost:8080/"
        },
        "id": "rKUwIwjfaJ1m",
        "outputId": "288f16e3-04dd-4e07-eca3-7c67d9bec108"
      },
      "source": [
        "type(X) # objeto de tipo series\n",
        "type(x_data), # Es un array ndimesional"
      ],
      "execution_count": null,
      "outputs": [
        {
          "output_type": "execute_result",
          "data": {
            "text/plain": [
              "(numpy.ndarray,)"
            ]
          },
          "metadata": {
            "tags": []
          },
          "execution_count": 99
        }
      ]
    },
    {
      "cell_type": "code",
      "metadata": {
        "colab": {
          "base_uri": "https://localhost:8080/",
          "height": 282
        },
        "id": "50o5flN4bZze",
        "outputId": "ff38307e-59c0-4c29-947e-edabbb0041ce"
      },
      "source": [
        "%matplotlib inline\n",
        "plt.plot(X, Y, \"ro\")\n",
        "plt.plot(X, lm.predict(x_data), color = \"blue\")"
      ],
      "execution_count": null,
      "outputs": [
        {
          "output_type": "execute_result",
          "data": {
            "text/plain": [
              "[<matplotlib.lines.Line2D at 0x7f25a85a4dd0>]"
            ]
          },
          "metadata": {
            "tags": []
          },
          "execution_count": 100
        },
        {
          "output_type": "display_data",
          "data": {
            "image/png": "[encoded data removed]",
            "text/plain": [
              "<Figure size 432x288 with 1 Axes>"
            ]
          },
          "metadata": {
            "tags": [],
            "needs_background": "light"
          }
        }
      ]
    },
    {
      "cell_type": "code",
      "metadata": {
        "colab": {
          "base_uri": "https://localhost:8080/"
        },
        "id": "x8WBpSBldUqO",
        "outputId": "78bb9b6d-e61a-4562-eee5-8284bc8552c3"
      },
      "source": [
        "lm.score(x_data, Y)"
      ],
      "execution_count": null,
      "outputs": [
        {
          "output_type": "execute_result",
          "data": {
            "text/plain": [
              "0.574653340645025"
            ]
          },
          "metadata": {
            "tags": []
          },
          "execution_count": 101
        }
      ]
    },
    {
      "cell_type": "code",
      "metadata": {
        "colab": {
          "base_uri": "https://localhost:8080/"
        },
        "id": "8-3JDW6RdanI",
        "outputId": "c3d1d6bb-23df-42db-87c1-de92f94cdc9b"
      },
      "source": [
        "SSD = np.sum((Y - lm.predict(x_data))**2)\n",
        "RSE = np.sqrt(SSD/len(x_data)-1)\n",
        "y_mean = np.mean(Y)\n",
        "error = RSE/y_mean\n",
        "\n",
        "SSD, RSE, error"
      ],
      "execution_count": null,
      "outputs": [
        {
          "output_type": "execute_result",
          "data": {
            "text/plain": [
              "(10315.75196006092, 4.940471238582748, 0.21010252948625172)"
            ]
          },
          "metadata": {
            "tags": []
          },
          "execution_count": 104
        }
      ]
    },
    {
      "cell_type": "markdown",
      "metadata": {
        "id": "gUr9rt6BfpUC"
      },
      "source": [
        "#### Modelo de regresion cuadrático\n",
        "\n",
        "* mpg = a + b * horsepower^2"
      ]
    },
    {
      "cell_type": "code",
      "metadata": {
        "id": "jsJH2N07fv4o"
      },
      "source": [
        "x_data = X**2\n",
        "x_data = x_data[:,np.newaxis]"
      ],
      "execution_count": null,
      "outputs": []
    },
    {
      "cell_type": "code",
      "metadata": {
        "id": "wdXLlf7agvie"
      },
      "source": [
        "lm = LinearRegression()\n",
        "lm.fit(x_data, Y)"
      ],
      "execution_count": null,
      "outputs": []
    },
    {
      "cell_type": "code",
      "metadata": {
        "colab": {
          "base_uri": "https://localhost:8080/"
        },
        "id": "1-PoGtPgg58N",
        "outputId": "59ab791d-835c-4d3c-aaa3-0e5616dbe1bf"
      },
      "source": [
        "lm.score(x_data, Y)"
      ],
      "execution_count": null,
      "outputs": [
        {
          "output_type": "execute_result",
          "data": {
            "text/plain": [
              "0.4849887034823205"
            ]
          },
          "metadata": {
            "tags": []
          },
          "execution_count": 110
        }
      ]
    },
    {
      "cell_type": "code",
      "metadata": {
        "colab": {
          "base_uri": "https://localhost:8080/"
        },
        "id": "MA4Lw6EXpjV9",
        "outputId": "a18ed465-f4ba-49cb-99b6-78ac1c86aa9b"
      },
      "source": [
        "SSD = np.sum((Y - lm.predict(x_data))**2)\n",
        "RSE = np.sqrt(SSD/len(x_data)-1)\n",
        "y_mean = np.mean(Y)\n",
        "error = RSE/y_mean\n",
        "\n",
        "SSD, RSE, error"
      ],
      "execution_count": null,
      "outputs": [
        {
          "output_type": "execute_result",
          "data": {
            "text/plain": [
              "(12490.350340501926, 5.455676832957554, 0.2320125848951901)"
            ]
          },
          "metadata": {
            "tags": []
          },
          "execution_count": 111
        }
      ]
    },
    {
      "cell_type": "markdown",
      "metadata": {
        "id": "8xIjH_TkrNb8"
      },
      "source": [
        "#### Modelo de regresion lineal y cuadrático\n",
        "\n",
        "* mpg = a + b* horsepower + c * horsepower^2"
      ]
    },
    {
      "cell_type": "code",
      "metadata": {
        "id": "iK7S4k-PrVDu"
      },
      "source": [
        "from sklearn.preprocessing import PolynomialFeatures\n",
        "from sklearn import linear_model"
      ],
      "execution_count": null,
      "outputs": []
    },
    {
      "cell_type": "code",
      "metadata": {
        "colab": {
          "base_uri": "https://localhost:8080/"
        },
        "id": "lk8MJFpurgSa",
        "outputId": "2c334793-7569-4996-f7bf-6f32d0cb09bd"
      },
      "source": [
        "poly = PolynomialFeatures(degree=2) #Grado del polinomio = 2\n",
        "x_data = poly.fit_transform(X[:,np.newaxis])"
      ],
      "execution_count": null,
      "outputs": [
        {
          "output_type": "stream",
          "text": [
            "/usr/local/lib/python3.7/dist-packages/ipykernel_launcher.py:2: FutureWarning: Support for multi-dimensional indexing (e.g. `obj[:, None]`) is deprecated and will be removed in a future version.  Convert to a numpy array before indexing instead.\n",
            "  \n"
          ],
          "name": "stderr"
        }
      ]
    },
    {
      "cell_type": "code",
      "metadata": {
        "colab": {
          "base_uri": "https://localhost:8080/"
        },
        "id": "a-7tM9ODr3zm",
        "outputId": "e3a2d398-eb8b-44db-d8d5-0ebed978a713"
      },
      "source": [
        "lm = linear_model.LinearRegression()\n",
        "lm.fit(x_data, Y)"
      ],
      "execution_count": null,
      "outputs": [
        {
          "output_type": "execute_result",
          "data": {
            "text/plain": [
              "LinearRegression(copy_X=True, fit_intercept=True, n_jobs=None, normalize=False)"
            ]
          },
          "metadata": {
            "tags": []
          },
          "execution_count": 115
        }
      ]
    },
    {
      "cell_type": "code",
      "metadata": {
        "colab": {
          "base_uri": "https://localhost:8080/"
        },
        "id": "2kNk57jDsAfs",
        "outputId": "e2af3617-ed4c-4121-f890-e681879e1096"
      },
      "source": [
        "lm.score(x_data, Y)"
      ],
      "execution_count": null,
      "outputs": [
        {
          "output_type": "execute_result",
          "data": {
            "text/plain": [
              "0.6439066584257469"
            ]
          },
          "metadata": {
            "tags": []
          },
          "execution_count": 116
        }
      ]
    },
    {
      "cell_type": "code",
      "metadata": {
        "colab": {
          "base_uri": "https://localhost:8080/"
        },
        "id": "ptzfeyresJ_w",
        "outputId": "477aeea9-0f7e-4ed3-fc20-b4b1add4e3aa"
      },
      "source": [
        "lm.intercept_, lm.coef_"
      ],
      "execution_count": null,
      "outputs": [
        {
          "output_type": "execute_result",
          "data": {
            "text/plain": [
              "(55.026192447081144, array([ 0.        , -0.43404318,  0.00112615]))"
            ]
          },
          "metadata": {
            "tags": []
          },
          "execution_count": 117
        }
      ]
    },
    {
      "cell_type": "code",
      "metadata": {
        "colab": {
          "base_uri": "https://localhost:8080/"
        },
        "id": "BXVE7qz5sM8S",
        "outputId": "3cdf948e-10ea-4c96-ae1e-83a0d625ff01"
      },
      "source": [
        "# Calculamos el R2 para 5 grados del polinomio\n",
        "for d in range(2,6):\n",
        "  poly = PolynomialFeatures(degree=d)\n",
        "  x_data = poly.fit_transform(X[:,np.newaxis])\n",
        "  lm = linear_model.LinearRegression()\n",
        "  lm.fit(x_data, Y)\n",
        "  print(\"Regresión de grado \"+str(d))\n",
        "  print(lm.score(x_data, Y))\n",
        "  print(lm.intercept_)\n",
        "  print(lm.coef_)\n",
        "  regrestaion_validatión(x_data, Y, lm.predict(x_data))\n"
      ],
      "execution_count": null,
      "outputs": [
        {
          "output_type": "stream",
          "text": [
            "Regresión de grado 2\n",
            "0.6439066584257469\n",
            "55.026192447081144\n",
            "[ 0.         -0.43404318  0.00112615]\n",
            "SSD: 8636.18, RSE: 4.5 y_mean: 23.51, error:19.0%\n",
            "Regresión de grado 3\n",
            "0.6444678885560744\n",
            "58.44877411148572\n",
            "[ 0.00000000e+00 -5.27113167e-01  1.89736722e-03 -1.95723195e-06]\n",
            "SSD: 8622.57, RSE: 4.5 y_mean: 23.51, error:19.0%\n",
            "Regresión de grado 4\n",
            "0.6467674189704502\n",
            "40.096643848807936\n",
            "[ 0.00000000e+00  1.62563541e-01 -7.10892744e-03  4.65580255e-05\n",
            " -9.15840092e-08]\n",
            "SSD: 8566.8, RSE: 4.48 y_mean: 23.51, error:19.0%\n",
            "Regresión de grado 5\n",
            "0.6547512491371991\n",
            "-40.694028853270524\n",
            "[ 0.00000000e+00  4.00021894e+00 -7.54802468e-02  6.19621641e-04\n",
            " -2.36220984e-06  3.41983153e-09]\n",
            "SSD: 8373.17, RSE: 4.43 y_mean: 23.51, error:19.0%\n"
          ],
          "name": "stdout"
        },
        {
          "output_type": "stream",
          "text": [
            "/usr/local/lib/python3.7/dist-packages/ipykernel_launcher.py:4: FutureWarning: Support for multi-dimensional indexing (e.g. `obj[:, None]`) is deprecated and will be removed in a future version.  Convert to a numpy array before indexing instead.\n",
            "  after removing the cwd from sys.path.\n",
            "/usr/local/lib/python3.7/dist-packages/ipykernel_launcher.py:4: FutureWarning: Support for multi-dimensional indexing (e.g. `obj[:, None]`) is deprecated and will be removed in a future version.  Convert to a numpy array before indexing instead.\n",
            "  after removing the cwd from sys.path.\n",
            "/usr/local/lib/python3.7/dist-packages/ipykernel_launcher.py:4: FutureWarning: Support for multi-dimensional indexing (e.g. `obj[:, None]`) is deprecated and will be removed in a future version.  Convert to a numpy array before indexing instead.\n",
            "  after removing the cwd from sys.path.\n",
            "/usr/local/lib/python3.7/dist-packages/ipykernel_launcher.py:4: FutureWarning: Support for multi-dimensional indexing (e.g. `obj[:, None]`) is deprecated and will be removed in a future version.  Convert to a numpy array before indexing instead.\n",
            "  after removing the cwd from sys.path.\n"
          ],
          "name": "stderr"
        }
      ]
    },
    {
      "cell_type": "code",
      "metadata": {
        "id": "KpjBNG2itS6B"
      },
      "source": [
        "def regrestaion_validatión(x_data, Y, Y_pred):\n",
        "    SSD = round(np.sum((Y - Y_pred)**2),2)\n",
        "    RSE = round(np.sqrt(SSD/len(x_data)-1),2)\n",
        "    y_mean = round(np.mean(Y),2)\n",
        "    error = round(RSE/y_mean,2)\n",
        "    print(\"SSD: \"+str(SSD)+ \", RSE: \"+str(RSE)+\" y_mean: \"+str(y_mean)+\", error:\" +str(error*100)+\"%\")\n"
      ],
      "execution_count": null,
      "outputs": []
    },
    {
      "cell_type": "markdown",
      "metadata": {
        "id": "yAIT_yiBxA-1"
      },
      "source": [
        "# Outliers"
      ]
    },
    {
      "cell_type": "code",
      "metadata": {
        "id": "pphxRVaOxDb7"
      },
      "source": [
        "import pandas as pd \n",
        "data_auto = pd.read_csv(\"/content/drive/MyDrive/Machine en Python  Udemy/Data/auto-mpg.csv\")\n",
        "data_auto.head()"
      ],
      "execution_count": null,
      "outputs": []
    },
    {
      "cell_type": "code",
      "metadata": {
        "colab": {
          "base_uri": "https://localhost:8080/",
          "height": 282
        },
        "id": "DSKrYi5npEs4",
        "outputId": "f7412e8c-229b-48e8-f7ad-f48e5b5f821d"
      },
      "source": [
        "import matplotlib.pyplot as plt\n",
        "import numpy as np\n",
        "plt.plot(data_auto[\"weight\"], data_auto[\"mpg\"], \"ro\")"
      ],
      "execution_count": 4,
      "outputs": [
        {
          "output_type": "execute_result",
          "data": {
            "text/plain": [
              "[<matplotlib.lines.Line2D at 0x7f444cc27290>]"
            ]
          },
          "metadata": {
            "tags": []
          },
          "execution_count": 4
        },
        {
          "output_type": "display_data",
          "data": {
            "image/png": "[encoded data removed]",
            "text/plain": [
              "<Figure size 432x288 with 1 Axes>"
            ]
          },
          "metadata": {
            "tags": [],
            "needs_background": "light"
          }
        }
      ]
    },
    {
      "cell_type": "code",
      "metadata": {
        "id": "dJMUxkvLp0lP",
        "colab": {
          "base_uri": "https://localhost:8080/"
        },
        "outputId": "a6bea001-4d84-474f-b9d8-f2b082527b28"
      },
      "source": [
        "X = data_auto[\"displacement\"].fillna(data_auto[\"displacement\"].mean())\n",
        "X = X[:, np.newaxis]\n",
        "Y = data_auto[\"mpg\"].fillna(data_auto[\"mpg\"].mean())"
      ],
      "execution_count": 5,
      "outputs": [
        {
          "output_type": "stream",
          "text": [
            "/usr/local/lib/python3.7/dist-packages/ipykernel_launcher.py:2: FutureWarning: Support for multi-dimensional indexing (e.g. `obj[:, None]`) is deprecated and will be removed in a future version.  Convert to a numpy array before indexing instead.\n",
            "  \n"
          ],
          "name": "stderr"
        }
      ]
    },
    {
      "cell_type": "code",
      "metadata": {
        "colab": {
          "base_uri": "https://localhost:8080/"
        },
        "id": "GdSlkfM8pZnF",
        "outputId": "3f99d810-e47b-4b12-ef5b-771b58023f24"
      },
      "source": [
        "from sklearn.linear_model import LinearRegression\n",
        "lm = LinearRegression()\n",
        "lm.fit(X,Y) "
      ],
      "execution_count": 6,
      "outputs": [
        {
          "output_type": "execute_result",
          "data": {
            "text/plain": [
              "LinearRegression(copy_X=True, fit_intercept=True, n_jobs=None, normalize=False)"
            ]
          },
          "metadata": {
            "tags": []
          },
          "execution_count": 6
        }
      ]
    },
    {
      "cell_type": "code",
      "metadata": {
        "colab": {
          "base_uri": "https://localhost:8080/"
        },
        "id": "K5Zsk-ohrHgK",
        "outputId": "5236c856-2150-487d-c1bd-3ce3dfee5c45"
      },
      "source": [
        "lm.score(X,Y)"
      ],
      "execution_count": 7,
      "outputs": [
        {
          "output_type": "execute_result",
          "data": {
            "text/plain": [
              "0.6261049762826918"
            ]
          },
          "metadata": {
            "tags": []
          },
          "execution_count": 7
        }
      ]
    },
    {
      "cell_type": "code",
      "metadata": {
        "colab": {
          "base_uri": "https://localhost:8080/",
          "height": 282
        },
        "id": "jYOg0HpD4Jet",
        "outputId": "d3293e20-fe55-4b57-b6c2-4f66683079b1"
      },
      "source": [
        "%matplotlib inline\n",
        "plt.plot(X,Y, \"ro\")\n",
        "plt.plot(X, lm.predict(X), \"blue\")"
      ],
      "execution_count": 9,
      "outputs": [
        {
          "output_type": "execute_result",
          "data": {
            "text/plain": [
              "[<matplotlib.lines.Line2D at 0x7f4439bc0450>]"
            ]
          },
          "metadata": {
            "tags": []
          },
          "execution_count": 9
        },
        {
          "output_type": "display_data",
          "data": {
            "image/png": "[encoded data removed]",
            "text/plain": [
              "<Figure size 432x288 with 1 Axes>"
            ]
          },
          "metadata": {
            "tags": [],
            "needs_background": "light"
          }
        }
      ]
    },
    {
      "cell_type": "code",
      "metadata": {
        "colab": {
          "base_uri": "https://localhost:8080/",
          "height": 142
        },
        "id": "V1kthfIN4pU9",
        "outputId": "7916120e-352c-44b8-9c52-4fe85c29f9f6"
      },
      "source": [
        "data_auto[(data_auto[\"displacement\"]>300) & (data_auto[\"mpg\"]>20)]"
      ],
      "execution_count": 13,
      "outputs": [
        {
          "output_type": "execute_result",
          "data": {
            "text/html": [
              "<div>\n",
              "<style scoped>\n",
              "    .dataframe tbody tr th:only-of-type {\n",
              "        vertical-align: middle;\n",
              "    }\n",
              "\n",
              "    .dataframe tbody tr th {\n",
              "        vertical-align: top;\n",
              "    }\n",
              "\n",
              "    .dataframe thead th {\n",
              "        text-align: right;\n",
              "    }\n",
              "</style>\n",
              "<table border=\"1\" class=\"dataframe\">\n",
              "  <thead>\n",
              "    <tr style=\"text-align: right;\">\n",
              "      <th></th>\n",
              "      <th>mpg</th>\n",
              "      <th>cylinders</th>\n",
              "      <th>displacement</th>\n",
              "      <th>horsepower</th>\n",
              "      <th>weight</th>\n",
              "      <th>acceleration</th>\n",
              "      <th>model year</th>\n",
              "      <th>origin</th>\n",
              "      <th>car name</th>\n",
              "    </tr>\n",
              "  </thead>\n",
              "  <tbody>\n",
              "    <tr>\n",
              "      <th>258</th>\n",
              "      <td>20.2</td>\n",
              "      <td>8</td>\n",
              "      <td>302.0</td>\n",
              "      <td>139.0</td>\n",
              "      <td>3570</td>\n",
              "      <td>12.8</td>\n",
              "      <td>78</td>\n",
              "      <td>1</td>\n",
              "      <td>mercury monarch ghia</td>\n",
              "    </tr>\n",
              "    <tr>\n",
              "      <th>305</th>\n",
              "      <td>23.0</td>\n",
              "      <td>8</td>\n",
              "      <td>350.0</td>\n",
              "      <td>125.0</td>\n",
              "      <td>3900</td>\n",
              "      <td>17.4</td>\n",
              "      <td>79</td>\n",
              "      <td>1</td>\n",
              "      <td>cadillac eldorado</td>\n",
              "    </tr>\n",
              "    <tr>\n",
              "      <th>372</th>\n",
              "      <td>26.6</td>\n",
              "      <td>8</td>\n",
              "      <td>350.0</td>\n",
              "      <td>105.0</td>\n",
              "      <td>3725</td>\n",
              "      <td>19.0</td>\n",
              "      <td>81</td>\n",
              "      <td>1</td>\n",
              "      <td>oldsmobile cutlass ls</td>\n",
              "    </tr>\n",
              "  </tbody>\n",
              "</table>\n",
              "</div>"
            ],
            "text/plain": [
              "      mpg  cylinders  displacement  ...  model year  origin               car name\n",
              "258  20.2          8         302.0  ...          78       1   mercury monarch ghia\n",
              "305  23.0          8         350.0  ...          79       1      cadillac eldorado\n",
              "372  26.6          8         350.0  ...          81       1  oldsmobile cutlass ls\n",
              "\n",
              "[3 rows x 9 columns]"
            ]
          },
          "metadata": {
            "tags": []
          },
          "execution_count": 13
        }
      ]
    },
    {
      "cell_type": "code",
      "metadata": {
        "id": "gY1otvhy5d1U"
      },
      "source": [
        "data_auto_clean = data_auto.drop([395, 258, 305,372])"
      ],
      "execution_count": 15,
      "outputs": []
    },
    {
      "cell_type": "code",
      "metadata": {
        "colab": {
          "base_uri": "https://localhost:8080/"
        },
        "id": "MculoZE454lT",
        "outputId": "5f1f4366-cef0-4cf0-faf1-538a6db2aa4e"
      },
      "source": [
        "# Corrermos nuevamente el modelo eliminando ya los outliers, veremos i mejor el r2\n",
        "X = data_auto_clean[\"displacement\"].fillna(data_auto_clean[\"displacement\"].mean())\n",
        "X = X[:, np.newaxis]\n",
        "Y = data_auto_clean[\"mpg\"].fillna(data_auto_clean[\"mpg\"].mean())\n",
        "\n",
        "lm = LinearRegression()\n",
        "lm.fit(X,Y)"
      ],
      "execution_count": 17,
      "outputs": [
        {
          "output_type": "stream",
          "text": [
            "/usr/local/lib/python3.7/dist-packages/ipykernel_launcher.py:3: FutureWarning: Support for multi-dimensional indexing (e.g. `obj[:, None]`) is deprecated and will be removed in a future version.  Convert to a numpy array before indexing instead.\n",
            "  This is separate from the ipykernel package so we can avoid doing imports until\n"
          ],
          "name": "stderr"
        },
        {
          "output_type": "execute_result",
          "data": {
            "text/plain": [
              "LinearRegression(copy_X=True, fit_intercept=True, n_jobs=None, normalize=False)"
            ]
          },
          "metadata": {
            "tags": []
          },
          "execution_count": 17
        }
      ]
    },
    {
      "cell_type": "code",
      "metadata": {
        "colab": {
          "base_uri": "https://localhost:8080/"
        },
        "id": "qeenyQq96N6L",
        "outputId": "8ea335ec-9ef1-4e17-c6f9-fa89a9495bef"
      },
      "source": [
        "lm.score(X,Y) # el r2 ah mejorado na vez eliminada los outliers"
      ],
      "execution_count": 18,
      "outputs": [
        {
          "output_type": "execute_result",
          "data": {
            "text/plain": [
              "0.6466514317531822"
            ]
          },
          "metadata": {
            "tags": []
          },
          "execution_count": 18
        }
      ]
    },
    {
      "cell_type": "code",
      "metadata": {
        "colab": {
          "base_uri": "https://localhost:8080/",
          "height": 282
        },
        "id": "KJO8vHeP6x7K",
        "outputId": "22c51f89-56e9-4637-abf9-e6426f53203d"
      },
      "source": [
        "%matplotlib inline\n",
        "plt.plot(X,Y, \"ro\")\n",
        "plt.plot(X, lm.predict(X), \"blue\")"
      ],
      "execution_count": 19,
      "outputs": [
        {
          "output_type": "execute_result",
          "data": {
            "text/plain": [
              "[<matplotlib.lines.Line2D at 0x7f44338fb7d0>]"
            ]
          },
          "metadata": {
            "tags": []
          },
          "execution_count": 19
        },
        {
          "output_type": "display_data",
          "data": {
            "image/png": "[encoded data removed]",
            "text/plain": [
              "<Figure size 432x288 with 1 Axes>"
            ]
          },
          "metadata": {
            "tags": [],
            "needs_background": "light"
          }
        }
      ]
    },
    {
      "cell_type": "code",
      "metadata": {
        "id": "mSlV0_9XHnMb"
      },
      "source": [
        ""
      ],
      "execution_count": null,
      "outputs": []
    }
  ]
}