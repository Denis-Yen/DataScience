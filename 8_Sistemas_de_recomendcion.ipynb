{
  "nbformat": 4,
  "nbformat_minor": 0,
  "metadata": {
    "colab": {
      "name": "8-Sistemas-de-recomendcion.ipynb",
      "provenance": [],
      "collapsed_sections": [],
      "mount_file_id": "1hggu7A-TrNiPOQ8nkzrR1D6xgSgoyUj4",
      "authorship_tag": "ABX9TyOuJN1XRest71fIf40Q9cpA",
      "include_colab_link": true
    },
    "kernelspec": {
      "name": "python3",
      "display_name": "Python 3"
    },
    "language_info": {
      "name": "python"
    }
  },
  "cells": [
    {
      "cell_type": "markdown",
      "metadata": {
        "id": "view-in-github",
        "colab_type": "text"
      },
      "source": [
        "<a href=\"https://colab.research.google.com/github/Denis-Yen/DataScience/blob/main/8_Sistemas_de_recomendcion.ipynb\" target=\"_parent\"><img src=\"https://colab.research.google.com/assets/colab-badge.svg\" alt=\"Open In Colab\"/></a>"
      ]
    },
    {
      "cell_type": "markdown",
      "metadata": {
        "id": "kHx5Ts-wDkHd"
      },
      "source": [
        "# Sistemas de recomendación\n",
        "\n",
        "### Carga de datos de movie lens"
      ]
    },
    {
      "cell_type": "code",
      "metadata": {
        "id": "zcgs9gblOknS"
      },
      "source": [
        "import pandas as pd"
      ],
      "execution_count": null,
      "outputs": []
    },
    {
      "cell_type": "code",
      "metadata": {
        "id": "j-a8t1O4Oqw6",
        "colab": {
          "base_uri": "https://localhost:8080/",
          "height": 204
        },
        "outputId": "7f894f9b-b102-4aed-d7ff-f4511c836723"
      },
      "source": [
        "df = pd.read_csv(\"/content/drive/MyDrive/Machine en Python  Udemy/Data/u.data.csv\", sep=\"\\t\", header=None)\n",
        "df.head()"
      ],
      "execution_count": null,
      "outputs": [
        {
          "output_type": "execute_result",
          "data": {
            "text/html": [
              "<div>\n",
              "<style scoped>\n",
              "    .dataframe tbody tr th:only-of-type {\n",
              "        vertical-align: middle;\n",
              "    }\n",
              "\n",
              "    .dataframe tbody tr th {\n",
              "        vertical-align: top;\n",
              "    }\n",
              "\n",
              "    .dataframe thead th {\n",
              "        text-align: right;\n",
              "    }\n",
              "</style>\n",
              "<table border=\"1\" class=\"dataframe\">\n",
              "  <thead>\n",
              "    <tr style=\"text-align: right;\">\n",
              "      <th></th>\n",
              "      <th>0</th>\n",
              "      <th>1</th>\n",
              "      <th>2</th>\n",
              "      <th>3</th>\n",
              "    </tr>\n",
              "  </thead>\n",
              "  <tbody>\n",
              "    <tr>\n",
              "      <th>0</th>\n",
              "      <td>196</td>\n",
              "      <td>242</td>\n",
              "      <td>3</td>\n",
              "      <td>881250949</td>\n",
              "    </tr>\n",
              "    <tr>\n",
              "      <th>1</th>\n",
              "      <td>186</td>\n",
              "      <td>302</td>\n",
              "      <td>3</td>\n",
              "      <td>891717742</td>\n",
              "    </tr>\n",
              "    <tr>\n",
              "      <th>2</th>\n",
              "      <td>22</td>\n",
              "      <td>377</td>\n",
              "      <td>1</td>\n",
              "      <td>878887116</td>\n",
              "    </tr>\n",
              "    <tr>\n",
              "      <th>3</th>\n",
              "      <td>244</td>\n",
              "      <td>51</td>\n",
              "      <td>2</td>\n",
              "      <td>880606923</td>\n",
              "    </tr>\n",
              "    <tr>\n",
              "      <th>4</th>\n",
              "      <td>166</td>\n",
              "      <td>346</td>\n",
              "      <td>1</td>\n",
              "      <td>886397596</td>\n",
              "    </tr>\n",
              "  </tbody>\n",
              "</table>\n",
              "</div>"
            ],
            "text/plain": [
              "     0    1  2          3\n",
              "0  196  242  3  881250949\n",
              "1  186  302  3  891717742\n",
              "2   22  377  1  878887116\n",
              "3  244   51  2  880606923\n",
              "4  166  346  1  886397596"
            ]
          },
          "metadata": {
            "tags": []
          },
          "execution_count": 4
        }
      ]
    },
    {
      "cell_type": "code",
      "metadata": {
        "colab": {
          "base_uri": "https://localhost:8080/"
        },
        "id": "y6Ws2xPRpw4a",
        "outputId": "7d018af5-bd1e-421e-a1a4-d907c1987ddc"
      },
      "source": [
        "df.shape"
      ],
      "execution_count": null,
      "outputs": [
        {
          "output_type": "execute_result",
          "data": {
            "text/plain": [
              "(100000, 4)"
            ]
          },
          "metadata": {
            "tags": []
          },
          "execution_count": 5
        }
      ]
    },
    {
      "cell_type": "code",
      "metadata": {
        "id": "ja19GTnvrSFY"
      },
      "source": [
        "df.columns = [\"UserID\", \"ItemID\", \"Rating\", \"TimeStamp\"]\n",
        "df.head()"
      ],
      "execution_count": null,
      "outputs": []
    },
    {
      "cell_type": "markdown",
      "metadata": {
        "id": "K40lzOH3qnS5"
      },
      "source": [
        "## Análisis exploratorio de datos"
      ]
    },
    {
      "cell_type": "code",
      "metadata": {
        "id": "42oJY_ydq4iR"
      },
      "source": [
        "import matplotlib.pyplot as plt"
      ],
      "execution_count": null,
      "outputs": []
    },
    {
      "cell_type": "code",
      "metadata": {
        "colab": {
          "base_uri": "https://localhost:8080/",
          "height": 333
        },
        "id": "-JVbUqj7rX0A",
        "outputId": "4ef4a77b-fa7c-491c-ce92-b37320e0968c"
      },
      "source": [
        "plt.hist(df.Rating)"
      ],
      "execution_count": null,
      "outputs": [
        {
          "output_type": "execute_result",
          "data": {
            "text/plain": [
              "(array([ 6110.,     0., 11370.,     0.,     0., 27145.,     0., 34174.,\n",
              "            0., 21201.]),\n",
              " array([1. , 1.4, 1.8, 2.2, 2.6, 3. , 3.4, 3.8, 4.2, 4.6, 5. ]),\n",
              " <a list of 10 Patch objects>)"
            ]
          },
          "metadata": {
            "tags": []
          },
          "execution_count": 10
        },
        {
          "output_type": "display_data",
          "data": {
            "image/png": "[encoded data removed]",
            "text/plain": [
              "<Figure size 432x288 with 1 Axes>"
            ]
          },
          "metadata": {
            "tags": [],
            "needs_background": "light"
          }
        }
      ]
    },
    {
      "cell_type": "code",
      "metadata": {
        "colab": {
          "base_uri": "https://localhost:8080/",
          "height": 381
        },
        "id": "u_1Ng77FrmSP",
        "outputId": "bebc1fc4-4648-4a99-ea7d-551ada5fd163"
      },
      "source": [
        "plt.hist(df.TimeStamp)"
      ],
      "execution_count": null,
      "outputs": [
        {
          "output_type": "execute_result",
          "data": {
            "text/plain": [
              "(array([11459.,  5724., 19359.,  9315.,  9396., 10083.,  6175.,  9603.,\n",
              "        10048.,  8838.]),\n",
              " array([8.74724710e+08, 8.76580903e+08, 8.78437096e+08, 8.80293288e+08,\n",
              "        8.82149481e+08, 8.84005674e+08, 8.85861867e+08, 8.87718060e+08,\n",
              "        8.89574252e+08, 8.91430445e+08, 8.93286638e+08]),\n",
              " <a list of 10 Patch objects>)"
            ]
          },
          "metadata": {
            "tags": []
          },
          "execution_count": 11
        },
        {
          "output_type": "display_data",
          "data": {
            "image/png": "[encoded data removed]",
            "text/plain": [
              "<Figure size 432x288 with 1 Axes>"
            ]
          },
          "metadata": {
            "tags": [],
            "needs_background": "light"
          }
        }
      ]
    },
    {
      "cell_type": "code",
      "metadata": {
        "colab": {
          "base_uri": "https://localhost:8080/"
        },
        "id": "1f1HmICMrt-w",
        "outputId": "0021e0d9-8128-4f7b-e846-3f9ef9e753bf"
      },
      "source": [
        "df.groupby([\"Rating\"])[\"UserID\"].count()"
      ],
      "execution_count": null,
      "outputs": [
        {
          "output_type": "execute_result",
          "data": {
            "text/plain": [
              "Rating\n",
              "1     6110\n",
              "2    11370\n",
              "3    27145\n",
              "4    34174\n",
              "5    21201\n",
              "Name: UserID, dtype: int64"
            ]
          },
          "metadata": {
            "tags": []
          },
          "execution_count": 18
        }
      ]
    },
    {
      "cell_type": "code",
      "metadata": {
        "colab": {
          "base_uri": "https://localhost:8080/",
          "height": 354
        },
        "id": "uXDQFjGSssHg",
        "outputId": "320fd019-aba7-4af0-93c2-bf785a5095c4"
      },
      "source": [
        "plt.hist(df.groupby(\"ItemID\")[\"ItemID\"].count())"
      ],
      "execution_count": null,
      "outputs": [
        {
          "output_type": "execute_result",
          "data": {
            "text/plain": [
              "(array([1.146e+03, 2.490e+02, 1.390e+02, 6.700e+01, 3.800e+01, 2.400e+01,\n",
              "        7.000e+00, 5.000e+00, 6.000e+00, 1.000e+00]),\n",
              " array([  1. ,  59.2, 117.4, 175.6, 233.8, 292. , 350.2, 408.4, 466.6,\n",
              "        524.8, 583. ]),\n",
              " <a list of 10 Patch objects>)"
            ]
          },
          "metadata": {
            "tags": []
          },
          "execution_count": 22
        },
        {
          "output_type": "display_data",
          "data": {
            "image/png": "[encoded data removed]",
            "text/plain": [
              "<Figure size 432x288 with 1 Axes>"
            ]
          },
          "metadata": {
            "tags": [],
            "needs_background": "light"
          }
        }
      ]
    },
    {
      "cell_type": "markdown",
      "metadata": {
        "id": "g9jimxz_tC_-"
      },
      "source": [
        "## Representación en forma matricial\n",
        "\n",
        "Realizamos la conversión a una matriz para cruzar los usuarios con las peliculas y la intersección sera la valoración\n"
      ]
    },
    {
      "cell_type": "code",
      "metadata": {
        "id": "qSnGbSHVtFVu"
      },
      "source": [
        "import numpy as np"
      ],
      "execution_count": null,
      "outputs": []
    },
    {
      "cell_type": "code",
      "metadata": {
        "colab": {
          "base_uri": "https://localhost:8080/"
        },
        "id": "rbOVpEnptbHG",
        "outputId": "07f6782d-3892-4690-d633-642df45c5e28"
      },
      "source": [
        "n_users = df.UserID.unique().shape[0]\n",
        "n_users "
      ],
      "execution_count": null,
      "outputs": [
        {
          "output_type": "execute_result",
          "data": {
            "text/plain": [
              "943"
            ]
          },
          "metadata": {
            "tags": []
          },
          "execution_count": 27
        }
      ]
    },
    {
      "cell_type": "code",
      "metadata": {
        "colab": {
          "base_uri": "https://localhost:8080/"
        },
        "id": "Oz7VBT4mtxWl",
        "outputId": "be93a491-cc11-415f-d0c0-5e00c1e7ab38"
      },
      "source": [
        "n_items = df.ItemID.unique().shape[0]\n",
        "n_items"
      ],
      "execution_count": null,
      "outputs": [
        {
          "output_type": "execute_result",
          "data": {
            "text/plain": [
              "1682"
            ]
          },
          "metadata": {
            "tags": []
          },
          "execution_count": 28
        }
      ]
    },
    {
      "cell_type": "code",
      "metadata": {
        "colab": {
          "base_uri": "https://localhost:8080/"
        },
        "id": "7Tn1VCRSuDz9",
        "outputId": "7b1a0b1c-b208-45fc-c017-5acc6635b5d7"
      },
      "source": [
        " np.zeros((5,4), dtype=float) # matriz de ceros de 5*5, de tipo float\n",
        "ratings = np.zeros((n_users, n_items))\n",
        "ratings.shape # Matriz de ceros de 943 filas con 1682 columnas"
      ],
      "execution_count": null,
      "outputs": [
        {
          "output_type": "execute_result",
          "data": {
            "text/plain": [
              "(943, 1682)"
            ]
          },
          "metadata": {
            "tags": []
          },
          "execution_count": 58
        }
      ]
    },
    {
      "cell_type": "code",
      "metadata": {
        "id": "sletV2b1vs-L"
      },
      "source": [
        "for row in df.itertuples():\n",
        "  ratings[row[1]-1, row[2]-1] = row[3]"
      ],
      "execution_count": null,
      "outputs": []
    },
    {
      "cell_type": "code",
      "metadata": {
        "colab": {
          "base_uri": "https://localhost:8080/"
        },
        "id": "XUzGAd2MxEoC",
        "outputId": "361ffcb6-48a4-4551-c166-f10c69d75d06"
      },
      "source": [
        "type(ratings)"
      ],
      "execution_count": null,
      "outputs": [
        {
          "output_type": "execute_result",
          "data": {
            "text/plain": [
              "numpy.ndarray"
            ]
          },
          "metadata": {
            "tags": []
          },
          "execution_count": 61
        }
      ]
    },
    {
      "cell_type": "code",
      "metadata": {
        "colab": {
          "base_uri": "https://localhost:8080/"
        },
        "id": "CEZ45U1XxHsq",
        "outputId": "efa346f5-ab95-40f6-b8aa-5c881a9419a1"
      },
      "source": [
        "ratings.shape"
      ],
      "execution_count": null,
      "outputs": [
        {
          "output_type": "execute_result",
          "data": {
            "text/plain": [
              "(943, 1682)"
            ]
          },
          "metadata": {
            "tags": []
          },
          "execution_count": 62
        }
      ]
    },
    {
      "cell_type": "code",
      "metadata": {
        "colab": {
          "base_uri": "https://localhost:8080/"
        },
        "id": "5vVXbXZIxN7x",
        "outputId": "0e5c8a97-1688-44f5-c829-65f5df7419e9"
      },
      "source": [
        "ratings"
      ],
      "execution_count": null,
      "outputs": [
        {
          "output_type": "execute_result",
          "data": {
            "text/plain": [
              "array([[5., 3., 4., ..., 0., 0., 0.],\n",
              "       [4., 0., 0., ..., 0., 0., 0.],\n",
              "       [0., 0., 0., ..., 0., 0., 0.],\n",
              "       ...,\n",
              "       [5., 0., 0., ..., 0., 0., 0.],\n",
              "       [0., 0., 0., ..., 0., 0., 0.],\n",
              "       [0., 5., 0., ..., 0., 0., 0.]])"
            ]
          },
          "metadata": {
            "tags": []
          },
          "execution_count": 63
        }
      ]
    },
    {
      "cell_type": "markdown",
      "metadata": {
        "id": "4eBmW6BpxSoK"
      },
      "source": [
        "Se puede calcular el coeficiente de sparseidad, que porcentahe de la matriz no tiene ceros"
      ]
    },
    {
      "cell_type": "code",
      "metadata": {
        "colab": {
          "base_uri": "https://localhost:8080/"
        },
        "id": "oF-gOl6NxZF5",
        "outputId": "8fb053c1-1bd9-4399-a9e7-a228f075b89b"
      },
      "source": [
        "sparsity = float(len(ratings.nonzero()[0]))\n",
        "sparsity/= (ratings.shape[0]*ratings.shape[1])\n",
        "sparsity *= 100\n",
        "print(\"coeficiente de sparsiedad: {:2.3f}%\".format(sparsity))"
      ],
      "execution_count": null,
      "outputs": [
        {
          "output_type": "stream",
          "text": [
            "coeficiente de sparsiedad: 6.305%\n"
          ],
          "name": "stdout"
        }
      ]
    },
    {
      "cell_type": "markdown",
      "metadata": {
        "id": "hPyJGxwly-9w"
      },
      "source": [
        "## Crear conjuntos de entrenamiento y validación¶\n"
      ]
    },
    {
      "cell_type": "code",
      "metadata": {
        "id": "bi_2ynHEzArA"
      },
      "source": [
        "from sklearn.model_selection import train_test_split"
      ],
      "execution_count": null,
      "outputs": []
    },
    {
      "cell_type": "code",
      "metadata": {
        "id": "kNSKoF9GzSuf"
      },
      "source": [
        "ratings_train, ratings_test =  train_test_split(ratings, test_size = 0.3, random_state = 42)"
      ],
      "execution_count": null,
      "outputs": []
    },
    {
      "cell_type": "code",
      "metadata": {
        "colab": {
          "base_uri": "https://localhost:8080/"
        },
        "id": "_Zu61lG2zvAf",
        "outputId": "37e9298d-5dcf-4bb4-bc13-fff365b26a51"
      },
      "source": [
        "ratings_train.shape,ratings_test.shape"
      ],
      "execution_count": null,
      "outputs": [
        {
          "output_type": "execute_result",
          "data": {
            "text/plain": [
              "((660, 1682), (283, 1682))"
            ]
          },
          "metadata": {
            "tags": []
          },
          "execution_count": 87
        }
      ]
    },
    {
      "cell_type": "markdown",
      "metadata": {
        "id": "rX-YYNLgz98u"
      },
      "source": [
        "## Filtro colaborativo basado en Usuarios\n",
        "* Matriz de similaridad entre los usuarios (distancia del coseno).\n",
        "* Predecir la valoración desconocida de un ítem i para un usuario activo u basandonos en la suma ponderada de todas las valoraciones del resto de usuarios para dicho ítem.\n",
        "* Recomendaremos los nuevos ítems a los usuarios según lo establecido en los pasos anteriores."
      ]
    },
    {
      "cell_type": "code",
      "metadata": {
        "id": "Kzc12mTP0Hce"
      },
      "source": [
        "import numpy as np\n",
        "import sklearn"
      ],
      "execution_count": null,
      "outputs": []
    },
    {
      "cell_type": "code",
      "metadata": {
        "id": "7Chz6sHF0asu"
      },
      "source": [
        "sim_matrix = 1 - sklearn.metrics.pairwise.cosine_distances(ratings_train)"
      ],
      "execution_count": null,
      "outputs": []
    },
    {
      "cell_type": "code",
      "metadata": {
        "colab": {
          "base_uri": "https://localhost:8080/"
        },
        "id": "m1Mmvn9L1V4r",
        "outputId": "fa613fe7-e506-45f6-d7c6-5536016d31e7"
      },
      "source": [
        "type(sim_matrix)"
      ],
      "execution_count": null,
      "outputs": [
        {
          "output_type": "execute_result",
          "data": {
            "text/plain": [
              "numpy.ndarray"
            ]
          },
          "metadata": {
            "tags": []
          },
          "execution_count": 92
        }
      ]
    },
    {
      "cell_type": "code",
      "metadata": {
        "colab": {
          "base_uri": "https://localhost:8080/"
        },
        "id": "97oK-R8q1bwM",
        "outputId": "73cffb38-3819-4efa-8d76-dffc20cbda1a"
      },
      "source": [
        "sim_matrix.shape # 660 usuarios contra si mismos"
      ],
      "execution_count": null,
      "outputs": [
        {
          "output_type": "execute_result",
          "data": {
            "text/plain": [
              "(660, 660)"
            ]
          },
          "metadata": {
            "tags": []
          },
          "execution_count": 94
        }
      ]
    },
    {
      "cell_type": "code",
      "metadata": {
        "colab": {
          "base_uri": "https://localhost:8080/"
        },
        "id": "QdqZbX8p1lrU",
        "outputId": "bfebb76b-53fa-4806-e63f-867b8b5e142f"
      },
      "source": [
        "sim_matrix # cada usuario esta a 1 de distancia de si mismo"
      ],
      "execution_count": null,
      "outputs": [
        {
          "output_type": "execute_result",
          "data": {
            "text/plain": [
              "array([[1.        , 0.17448349, 0.18009754, ..., 0.13331459, 0.17695593,\n",
              "        0.21882481],\n",
              "       [0.17448349, 1.        , 0.07993097, ..., 0.07175808, 0.09552622,\n",
              "        0.05512655],\n",
              "       [0.18009754, 0.07993097, 1.        , ..., 0.0191736 , 0.02233385,\n",
              "        0.10310785],\n",
              "       ...,\n",
              "       [0.13331459, 0.07175808, 0.0191736 , ..., 1.        , 0.04853428,\n",
              "        0.05142508],\n",
              "       [0.17695593, 0.09552622, 0.02233385, ..., 0.04853428, 1.        ,\n",
              "        0.1198022 ],\n",
              "       [0.21882481, 0.05512655, 0.10310785, ..., 0.05142508, 0.1198022 ,\n",
              "        1.        ]])"
            ]
          },
          "metadata": {
            "tags": []
          },
          "execution_count": 95
        }
      ]
    },
    {
      "cell_type": "code",
      "metadata": {
        "id": "NGehaSFH1vGE"
      },
      "source": [
        "### Prediciendo las valoraciones\n",
        "users_predictions = sim_matrix.dot(ratings_train) / np.array([np.abs(sim_matrix).sum(axis = 1)]).T  # ponderación por todos los usuariuos d ela misma fila\n"
      ],
      "execution_count": null,
      "outputs": []
    },
    {
      "cell_type": "code",
      "metadata": {
        "colab": {
          "base_uri": "https://localhost:8080/"
        },
        "id": "tgFvE2oQ3FEz",
        "outputId": "756babc5-3cc5-4e61-c078-f838eeb5c605"
      },
      "source": [
        "users_predictions"
      ],
      "execution_count": null,
      "outputs": [
        {
          "output_type": "execute_result",
          "data": {
            "text/plain": [
              "array([[2.10259747e+00, 5.86975978e-01, 3.40264192e-01, ...,\n",
              "        0.00000000e+00, 7.33611460e-03, 6.04379414e-03],\n",
              "       [1.40999723e+00, 2.91863934e-01, 2.68085289e-01, ...,\n",
              "        0.00000000e+00, 3.50378592e-03, 2.32963985e-03],\n",
              "       [1.69014833e+00, 3.13648440e-01, 3.26127887e-01, ...,\n",
              "        0.00000000e+00, 3.25391767e-03, 1.77210119e-03],\n",
              "       ...,\n",
              "       [1.73393747e+00, 4.06719333e-01, 3.21166908e-01, ...,\n",
              "        0.00000000e+00, 2.71269625e-03, 9.00511411e-03],\n",
              "       [2.34361031e+00, 8.10544770e-01, 4.73941025e-01, ...,\n",
              "        0.00000000e+00, 1.01130066e-02, 9.66427605e-03],\n",
              "       [2.36796969e+00, 5.98146138e-01, 3.85569804e-01, ...,\n",
              "        0.00000000e+00, 6.39996638e-03, 5.37442746e-03]])"
            ]
          },
          "metadata": {
            "tags": []
          },
          "execution_count": 100
        }
      ]
    },
    {
      "cell_type": "code",
      "metadata": {
        "id": "sTJrZhs03Q7S"
      },
      "source": [
        "# comprobar el error cuadratico medio\n",
        "from sklearn.metrics import mean_squared_error"
      ],
      "execution_count": null,
      "outputs": []
    },
    {
      "cell_type": "code",
      "metadata": {
        "id": "Kn3cQ_Tw3X6b"
      },
      "source": [
        "def get_mse(preds, actuals):\n",
        "    if preds.shape[0] != actuals.shape[0]:\n",
        "        actuals = actuals.T\n",
        "    preds = preds[actuals.nonzero()].flatten()\n",
        "    actuals = actuals[actuals.nonzero()].flatten()\n",
        "    return mean_squared_error(preds, actuals)"
      ],
      "execution_count": null,
      "outputs": []
    },
    {
      "cell_type": "code",
      "metadata": {
        "colab": {
          "base_uri": "https://localhost:8080/"
        },
        "id": "Kbet2c143q-R",
        "outputId": "19ff64c3-d844-4d24-9eef-e99dc328eeca"
      },
      "source": [
        "get_mse(users_predictions, ratings_train)"
      ],
      "execution_count": null,
      "outputs": [
        {
          "output_type": "execute_result",
          "data": {
            "text/plain": [
              "7.878218313143215"
            ]
          },
          "metadata": {
            "tags": []
          },
          "execution_count": 103
        }
      ]
    },
    {
      "cell_type": "code",
      "metadata": {
        "id": "M8avBROF3u0p"
      },
      "source": [
        "get_mse(users_predictions, ratings_test)"
      ],
      "execution_count": null,
      "outputs": []
    },
    {
      "cell_type": "markdown",
      "metadata": {
        "id": "mP6EQn-L4Tgx"
      },
      "source": [
        "## Filtro colaborativo basado en los KNN\n"
      ]
    },
    {
      "cell_type": "code",
      "metadata": {
        "id": "bw7lfLJX417R"
      },
      "source": [
        "from sklearn.neighbors import NearestNeighbors\n"
      ],
      "execution_count": null,
      "outputs": []
    },
    {
      "cell_type": "code",
      "metadata": {
        "colab": {
          "base_uri": "https://localhost:8080/"
        },
        "id": "I1ir9tLf441R",
        "outputId": "849cd7d5-c0df-4cf7-803e-215dccd286ea"
      },
      "source": [
        "k = 5\n",
        "neighbors = NearestNeighbors(k, 'cosine')\n",
        "neighbors.fit(ratings_train)\n"
      ],
      "execution_count": null,
      "outputs": [
        {
          "output_type": "execute_result",
          "data": {
            "text/plain": [
              "NearestNeighbors(algorithm='auto', leaf_size=30, metric='minkowski',\n",
              "                 metric_params=None, n_jobs=None, n_neighbors=5, p=2,\n",
              "                 radius='cosine')"
            ]
          },
          "metadata": {
            "tags": []
          },
          "execution_count": 108
        }
      ]
    },
    {
      "cell_type": "code",
      "metadata": {
        "id": "LjYr-ZHR5M6I"
      },
      "source": [
        "top_k_distances, top_k_users = neighbors.kneighbors(ratings_train, return_distance=True)\n"
      ],
      "execution_count": null,
      "outputs": []
    },
    {
      "cell_type": "code",
      "metadata": {
        "colab": {
          "base_uri": "https://localhost:8080/"
        },
        "id": "WUNdWPCf5TFb",
        "outputId": "aeaccd9d-a3d6-4dc2-fec7-f91035734618"
      },
      "source": [
        "top_k_distances.shape, top_k_distances[0], top_k_users.shape, top_k_users[0]\n"
      ],
      "execution_count": null,
      "outputs": [
        {
          "output_type": "execute_result",
          "data": {
            "text/plain": [
              "((660, 5),\n",
              " array([ 0.        , 41.71330723, 43.3474336 , 45.04442252, 45.04442252]),\n",
              " (660, 5),\n",
              " array([  0, 211,  16, 583, 428]))"
            ]
          },
          "metadata": {
            "tags": []
          },
          "execution_count": 111
        }
      ]
    },
    {
      "cell_type": "code",
      "metadata": {
        "id": "21F-urmH5mbg"
      },
      "source": [
        "users_predicts_k = np.zeros(ratings_train.shape)\n",
        "for i in range(ratings_train.shape[0]):# para cada usuario del conjunto de entrenamiento\n",
        "    users_predicts_k[i,:] = top_k_distances[i].T.dot(ratings_train[top_k_users][i]) / np.array([np.abs(top_k_distances[i].T).sum(axis=0)]).T"
      ],
      "execution_count": null,
      "outputs": []
    },
    {
      "cell_type": "code",
      "metadata": {
        "colab": {
          "base_uri": "https://localhost:8080/"
        },
        "id": "Q0FCf8MK5rm_",
        "outputId": "780eaaa1-1a4c-4c46-f07d-6609b0146819"
      },
      "source": [
        "users_predicts_k.shape\n"
      ],
      "execution_count": null,
      "outputs": [
        {
          "output_type": "execute_result",
          "data": {
            "text/plain": [
              "(660, 1682)"
            ]
          },
          "metadata": {
            "tags": []
          },
          "execution_count": 113
        }
      ]
    },
    {
      "cell_type": "code",
      "metadata": {
        "colab": {
          "base_uri": "https://localhost:8080/"
        },
        "id": "lY5RZu2M5tz3",
        "outputId": "9c08641c-98c1-4cea-ac46-5baa7dde1613"
      },
      "source": [
        "users_predicts_k"
      ],
      "execution_count": null,
      "outputs": [
        {
          "output_type": "execute_result",
          "data": {
            "text/plain": [
              "array([[0.        , 0.        , 0.        , ..., 0.        , 0.        ,\n",
              "        0.        ],\n",
              "       [0.        , 0.        , 0.        , ..., 0.        , 0.        ,\n",
              "        0.        ],\n",
              "       [0.        , 0.        , 0.        , ..., 0.        , 0.        ,\n",
              "        0.        ],\n",
              "       ...,\n",
              "       [0.        , 0.        , 0.        , ..., 0.        , 0.        ,\n",
              "        0.        ],\n",
              "       [0.74469557, 0.        , 0.        , ..., 0.        , 0.        ,\n",
              "        0.        ],\n",
              "       [1.9753676 , 0.        , 0.        , ..., 0.        , 0.        ,\n",
              "        0.        ]])"
            ]
          },
          "metadata": {
            "tags": []
          },
          "execution_count": 114
        }
      ]
    },
    {
      "cell_type": "code",
      "metadata": {
        "colab": {
          "base_uri": "https://localhost:8080/"
        },
        "id": "rfZWoBNz5vzX",
        "outputId": "9c90168c-a603-4696-f2ac-ad876f7501cb"
      },
      "source": [
        "get_mse(users_predicts_k, ratings_train)"
      ],
      "execution_count": null,
      "outputs": [
        {
          "output_type": "execute_result",
          "data": {
            "text/plain": [
              "8.180803170774984"
            ]
          },
          "metadata": {
            "tags": []
          },
          "execution_count": 115
        }
      ]
    },
    {
      "cell_type": "code",
      "metadata": {
        "colab": {
          "base_uri": "https://localhost:8080/"
        },
        "id": "9YBM0rL-5wjn",
        "outputId": "03963d1d-40b0-4400-acb0-d4f8da4ed383"
      },
      "source": [
        "get_mse(users_predicts_k, ratings_test.T)"
      ],
      "execution_count": null,
      "outputs": [
        {
          "output_type": "execute_result",
          "data": {
            "text/plain": [
              "13.529678551329162"
            ]
          },
          "metadata": {
            "tags": []
          },
          "execution_count": 139
        }
      ]
    },
    {
      "cell_type": "markdown",
      "metadata": {
        "id": "Hhe87vBr60j2"
      },
      "source": [
        "## Filtro colaborativo basado en Items\n"
      ]
    },
    {
      "cell_type": "code",
      "metadata": {
        "colab": {
          "base_uri": "https://localhost:8080/"
        },
        "id": "wXpcrbkB66Cf",
        "outputId": "01ce1e24-c7ae-40a0-b523-9e1a4a8beafe"
      },
      "source": [
        "n_movies = ratings_train.shape[1]\n",
        "n_movies"
      ],
      "execution_count": null,
      "outputs": [
        {
          "output_type": "execute_result",
          "data": {
            "text/plain": [
              "1682"
            ]
          },
          "metadata": {
            "tags": []
          },
          "execution_count": 118
        }
      ]
    },
    {
      "cell_type": "code",
      "metadata": {
        "id": "X9A36-P09RnF"
      },
      "source": [
        "neighbors = NearestNeighbors(n_movies, 'cosine')"
      ],
      "execution_count": null,
      "outputs": []
    },
    {
      "cell_type": "code",
      "metadata": {
        "colab": {
          "base_uri": "https://localhost:8080/"
        },
        "id": "-QbDrss_9Yv0",
        "outputId": "c8aad978-d99a-4662-d4d1-deb442f5dc5a"
      },
      "source": [
        "neighbors.fit(ratings_train.T) # usamoa la transpuesta por que estan en las columnas"
      ],
      "execution_count": null,
      "outputs": [
        {
          "output_type": "execute_result",
          "data": {
            "text/plain": [
              "NearestNeighbors(algorithm='auto', leaf_size=30, metric='minkowski',\n",
              "                 metric_params=None, n_jobs=None, n_neighbors=1682, p=2,\n",
              "                 radius='cosine')"
            ]
          },
          "metadata": {
            "tags": []
          },
          "execution_count": 120
        }
      ]
    },
    {
      "cell_type": "code",
      "metadata": {
        "id": "BhCE77BM9d6c"
      },
      "source": [
        "top_k_distances, top_k_items = neighbors.kneighbors(ratings_train.T, return_distance=True)"
      ],
      "execution_count": null,
      "outputs": []
    },
    {
      "cell_type": "code",
      "metadata": {
        "id": "qMlIiQZY9gt8"
      },
      "source": [
        "top_k_distances.shape"
      ],
      "execution_count": null,
      "outputs": []
    },
    {
      "cell_type": "code",
      "metadata": {
        "colab": {
          "base_uri": "https://localhost:8080/"
        },
        "id": "OvvYubFR9jRr",
        "outputId": "9b9f6055-daf3-4cd0-ce4a-d2ec53f3ff0e"
      },
      "source": [
        "top_k_distances"
      ],
      "execution_count": null,
      "outputs": [
        {
          "output_type": "execute_result",
          "data": {
            "text/plain": [
              "array([[ 0.        , 53.12249994, 54.38749856, ..., 77.08436936,\n",
              "        77.39509028, 79.3473377 ],\n",
              "       [ 0.        , 27.        , 27.29468813, ..., 72.18032973,\n",
              "        75.65712128, 80.0874522 ],\n",
              "       [ 0.        , 24.77902339, 25.05992817, ..., 72.09022125,\n",
              "        75.27283707, 83.11437902],\n",
              "       ...,\n",
              "       [ 0.        ,  0.        ,  0.        , ..., 77.12976079,\n",
              "        80.79603951, 88.63407922],\n",
              "       [ 0.        ,  1.        ,  3.        , ..., 76.99350622,\n",
              "        80.7403245 , 88.51553536],\n",
              "       [ 0.        ,  1.        ,  3.        , ..., 77.03246069,\n",
              "        80.66597796, 88.51553536]])"
            ]
          },
          "metadata": {
            "tags": []
          },
          "execution_count": 122
        }
      ]
    },
    {
      "cell_type": "code",
      "metadata": {
        "colab": {
          "base_uri": "https://localhost:8080/"
        },
        "id": "WXzrJMzg9k79",
        "outputId": "100d154e-e99c-41f1-d195-7573c07528ca"
      },
      "source": [
        "top_k_items.shape"
      ],
      "execution_count": null,
      "outputs": [
        {
          "output_type": "execute_result",
          "data": {
            "text/plain": [
              "(1682, 1682)"
            ]
          },
          "metadata": {
            "tags": []
          },
          "execution_count": 123
        }
      ]
    },
    {
      "cell_type": "code",
      "metadata": {
        "colab": {
          "base_uri": "https://localhost:8080/"
        },
        "id": "l4M-OPRL9qak",
        "outputId": "7ac37d15-ba14-4041-e629-657f5f0c8ca8"
      },
      "source": [
        "top_k_items"
      ],
      "execution_count": null,
      "outputs": [
        {
          "output_type": "execute_result",
          "data": {
            "text/plain": [
              "array([[   0,  120,  404, ...,  285,  312,  301],\n",
              "       [   1,  575,  232, ...,  257,   99,   49],\n",
              "       [   2,  742, 1094, ...,  180,   99,   49],\n",
              "       ...,\n",
              "       [1565, 1571, 1570, ...,  180,   99,   49],\n",
              "       [1680, 1671, 1582, ...,  180,   99,   49],\n",
              "       [1681, 1596, 1592, ...,  180,   99,   49]])"
            ]
          },
          "metadata": {
            "tags": []
          },
          "execution_count": 124
        }
      ]
    },
    {
      "cell_type": "code",
      "metadata": {
        "id": "BlX8SdSu9thb"
      },
      "source": [
        "item_preds = ratings_train.dot(top_k_distances) / np.array([np.abs(top_k_distances).sum(axis=1)])"
      ],
      "execution_count": null,
      "outputs": []
    },
    {
      "cell_type": "code",
      "metadata": {
        "colab": {
          "base_uri": "https://localhost:8080/"
        },
        "id": "ugbYlm6r9utk",
        "outputId": "d89f1fef-2f75-4b77-ec3d-a47a08c1f273"
      },
      "source": [
        "item_preds.shape"
      ],
      "execution_count": null,
      "outputs": [
        {
          "output_type": "execute_result",
          "data": {
            "text/plain": [
              "(660, 1682)"
            ]
          },
          "metadata": {
            "tags": []
          },
          "execution_count": 129
        }
      ]
    },
    {
      "cell_type": "code",
      "metadata": {
        "colab": {
          "base_uri": "https://localhost:8080/"
        },
        "id": "KT8kcDTU-3eL",
        "outputId": "4651306a-8c46-4fa4-eb6d-8faa183de91b"
      },
      "source": [
        "top_k_items"
      ],
      "execution_count": null,
      "outputs": [
        {
          "output_type": "execute_result",
          "data": {
            "text/plain": [
              "array([[   0,  120,  404, ...,  285,  312,  301],\n",
              "       [   1,  575,  232, ...,  257,   99,   49],\n",
              "       [   2,  742, 1094, ...,  180,   99,   49],\n",
              "       ...,\n",
              "       [1565, 1571, 1570, ...,  180,   99,   49],\n",
              "       [1680, 1671, 1582, ...,  180,   99,   49],\n",
              "       [1681, 1596, 1592, ...,  180,   99,   49]])"
            ]
          },
          "metadata": {
            "tags": []
          },
          "execution_count": 133
        }
      ]
    },
    {
      "cell_type": "code",
      "metadata": {
        "colab": {
          "base_uri": "https://localhost:8080/"
        },
        "id": "hfnbnuX291qL",
        "outputId": "1fd540b0-4063-4a54-87d7-be9ce2938585"
      },
      "source": [
        "get_mse(item_preds, ratings_train)"
      ],
      "execution_count": null,
      "outputs": [
        {
          "output_type": "execute_result",
          "data": {
            "text/plain": [
              "11.172565375125632"
            ]
          },
          "metadata": {
            "tags": []
          },
          "execution_count": 130
        }
      ]
    },
    {
      "cell_type": "code",
      "metadata": {
        "id": "xaq-nb1y-ZpH"
      },
      "source": [
        "item_preds = ratings_test.dot(top_k_distances) / np.array([np.abs(top_k_distances).sum(axis=1)])"
      ],
      "execution_count": null,
      "outputs": []
    },
    {
      "cell_type": "code",
      "metadata": {
        "colab": {
          "base_uri": "https://localhost:8080/"
        },
        "id": "U8YzTxQB93yk",
        "outputId": "d19c34c4-7fd5-4522-d85a-92677b12a5a3"
      },
      "source": [
        "get_mse(item_preds, ratings_test)"
      ],
      "execution_count": null,
      "outputs": [
        {
          "output_type": "execute_result",
          "data": {
            "text/plain": [
              "10.937029821811949"
            ]
          },
          "metadata": {
            "tags": []
          },
          "execution_count": 132
        }
      ]
    },
    {
      "cell_type": "markdown",
      "metadata": {
        "id": "WbyG8ABU_cGp"
      },
      "source": [
        "## Filtrado colaborativo basado en KNN\n"
      ]
    },
    {
      "cell_type": "code",
      "metadata": {
        "id": "VKnbLoYm_d8L"
      },
      "source": [
        "k = 30\n",
        "neighbors = NearestNeighbors(k, 'cosine')\n",
        "neighbors.fit(ratings_train.T)\n",
        "top_k_distances, top_k_items = neighbors.kneighbors(ratings_train.T, return_distance=True)"
      ],
      "execution_count": null,
      "outputs": []
    },
    {
      "cell_type": "code",
      "metadata": {
        "colab": {
          "base_uri": "https://localhost:8080/"
        },
        "id": "vfCFMMBF_jST",
        "outputId": "e3850caa-f80b-4f4a-c111-ebcadf894f41"
      },
      "source": [
        "top_k_distances.shape"
      ],
      "execution_count": null,
      "outputs": [
        {
          "output_type": "execute_result",
          "data": {
            "text/plain": [
              "(1682, 30)"
            ]
          },
          "metadata": {
            "tags": []
          },
          "execution_count": 135
        }
      ]
    },
    {
      "cell_type": "code",
      "metadata": {
        "colab": {
          "base_uri": "https://localhost:8080/"
        },
        "id": "JkRBzYLZ_kp5",
        "outputId": "514148d2-509c-41b5-b5f0-04727b7a7c14"
      },
      "source": [
        "top_k_items[0]"
      ],
      "execution_count": null,
      "outputs": [
        {
          "output_type": "execute_result",
          "data": {
            "text/plain": [
              "array([  0, 120, 404, 116, 221, 150, 117, 180,   6, 741,  27,  94, 256,\n",
              "       236, 124,  81,  24, 587, 227, 110, 234,  78, 203, 545,  70,  14,\n",
              "        68, 596,  49, 143])"
            ]
          },
          "metadata": {
            "tags": []
          },
          "execution_count": 136
        }
      ]
    },
    {
      "cell_type": "code",
      "metadata": {
        "colab": {
          "base_uri": "https://localhost:8080/"
        },
        "id": "ZVG3xAAn_msK",
        "outputId": "433045a3-73fc-475e-bdaf-e4a9d2929cba"
      },
      "source": [
        "top_k_distances[0]"
      ],
      "execution_count": null,
      "outputs": [
        {
          "output_type": "execute_result",
          "data": {
            "text/plain": [
              "array([ 0.        , 53.12249994, 54.38749856, 55.50675635, 56.49778757,\n",
              "       56.9473441 , 57.21013896, 57.81003373, 58.10335619, 58.16356248,\n",
              "       58.19793811, 58.37807808, 58.70264049, 58.83876273, 58.97457079,\n",
              "       59.52310476, 59.61543424, 59.84981203, 59.89156869, 59.94163828,\n",
              "       60.15812497, 60.35726965, 60.37383539, 60.63002556, 60.86049622,\n",
              "       61.11464636, 61.31883887, 61.37589103, 61.57109712, 61.80614856])"
            ]
          },
          "metadata": {
            "tags": []
          },
          "execution_count": 137
        }
      ]
    },
    {
      "cell_type": "code",
      "metadata": {
        "colab": {
          "base_uri": "https://localhost:8080/"
        },
        "id": "8CAGRe2B_rTB",
        "outputId": "3b6f652d-75fc-4695-980f-1c12be4cb386"
      },
      "source": [
        "preds = np.zeros(ratings_train.T.shape)\n",
        "for i in range(ratings_train.T.shape[0]):\n",
        "    if(i%50==0):\n",
        "        print(\"iter \"+str(i))\n",
        "    den = 1\n",
        "    if (np.abs(top_k_distances[i]).sum(axis=0)>0):\n",
        "        den = np.abs(top_k_distances[i]).sum(axis=0)\n",
        "    preds[i, :] = top_k_distances[i].dot(ratings_train.T[top_k_items][i])/np.array([den]).T"
      ],
      "execution_count": null,
      "outputs": [
        {
          "output_type": "stream",
          "text": [
            "iter 0\n",
            "iter 50\n",
            "iter 100\n",
            "iter 150\n",
            "iter 200\n",
            "iter 250\n",
            "iter 300\n",
            "iter 350\n",
            "iter 400\n",
            "iter 450\n",
            "iter 500\n",
            "iter 550\n",
            "iter 600\n",
            "iter 650\n",
            "iter 700\n",
            "iter 750\n",
            "iter 800\n",
            "iter 850\n",
            "iter 900\n",
            "iter 950\n",
            "iter 1000\n",
            "iter 1050\n",
            "iter 1100\n",
            "iter 1150\n",
            "iter 1200\n",
            "iter 1250\n",
            "iter 1300\n",
            "iter 1350\n",
            "iter 1400\n",
            "iter 1450\n",
            "iter 1500\n",
            "iter 1550\n",
            "iter 1600\n",
            "iter 1650\n"
          ],
          "name": "stdout"
        }
      ]
    },
    {
      "cell_type": "code",
      "metadata": {
        "colab": {
          "base_uri": "https://localhost:8080/"
        },
        "id": "wNnJZc_b_sSp",
        "outputId": "b7a49fe4-3df8-406f-8ccb-f864d18c0a4b"
      },
      "source": [
        "get_mse(preds, ratings_train)"
      ],
      "execution_count": null,
      "outputs": [
        {
          "output_type": "execute_result",
          "data": {
            "text/plain": [
              "8.732017359673444"
            ]
          },
          "metadata": {
            "tags": []
          },
          "execution_count": 140
        }
      ]
    },
    {
      "cell_type": "code",
      "metadata": {
        "colab": {
          "base_uri": "https://localhost:8080/"
        },
        "id": "K1vtiOnUAMeR",
        "outputId": "34a202a5-c6bd-454b-f122-ddf682f154e3"
      },
      "source": [
        "get_mse(preds, ratings_test)"
      ],
      "execution_count": null,
      "outputs": [
        {
          "output_type": "execute_result",
          "data": {
            "text/plain": [
              "11.569842429886506"
            ]
          },
          "metadata": {
            "tags": []
          },
          "execution_count": 141
        }
      ]
    },
    {
      "cell_type": "code",
      "metadata": {
        "colab": {
          "base_uri": "https://localhost:8080/"
        },
        "id": "OI0YK-N1APHV",
        "outputId": "cea689d6-0bb5-4282-84fd-000520b017ec"
      },
      "source": [
        "preds.shape"
      ],
      "execution_count": null,
      "outputs": [
        {
          "output_type": "execute_result",
          "data": {
            "text/plain": [
              "(1682, 660)"
            ]
          },
          "metadata": {
            "tags": []
          },
          "execution_count": 142
        }
      ]
    },
    {
      "cell_type": "code",
      "metadata": {
        "colab": {
          "base_uri": "https://localhost:8080/"
        },
        "id": "T-5611HeAQ9E",
        "outputId": "3731e893-aeca-4564-ad7e-9b52a58363be"
      },
      "source": [
        "ratings_train.shape"
      ],
      "execution_count": null,
      "outputs": [
        {
          "output_type": "execute_result",
          "data": {
            "text/plain": [
              "(660, 1682)"
            ]
          },
          "metadata": {
            "tags": []
          },
          "execution_count": 143
        }
      ]
    },
    {
      "cell_type": "code",
      "metadata": {
        "colab": {
          "base_uri": "https://localhost:8080/"
        },
        "id": "SETQvNe6AS4F",
        "outputId": "c36db7ee-76f0-4d38-cdcb-11f6f7c5f89b"
      },
      "source": [
        "ratings_test.shape "
      ],
      "execution_count": null,
      "outputs": [
        {
          "output_type": "execute_result",
          "data": {
            "text/plain": [
              "(283, 1682)"
            ]
          },
          "metadata": {
            "tags": []
          },
          "execution_count": 144
        }
      ]
    }
  ]
}