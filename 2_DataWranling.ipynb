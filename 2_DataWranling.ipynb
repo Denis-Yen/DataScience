{
  "nbformat": 4,
  "nbformat_minor": 0,
  "metadata": {
    "colab": {
      "name": "2 - DataWranling.ipynb",
      "provenance": [],
      "collapsed_sections": [
        "Lzsoaa5H5cva",
        "s8VZjX9jEm_q",
        "HexKv3esJ7Si",
        "dLDHieWMOYhN",
        "vRGXnAlEQMv0",
        "b6wTMPlud8j1",
        "ycJoG1On0Eyp",
        "D0LbuUk70144",
        "62Cdxioto6Z9",
        "-w13Bkwkp6a2",
        "log2CIVht7MB",
        "GryEpKtavc2f",
        "mk1AL58hxUMb",
        "ZyFzA2Yk2jKP",
        "w8UT2Uo14fpy",
        "Gb9BRoal-e2Y",
        "Xl8sOmExqq_0",
        "2OlH2FxvrI9e",
        "HVzvBV7cO4QA",
        "jGotEmHuO9zJ",
        "MDjM_mLGsxwU",
        "vrV1wJyUEd5J",
        "q-jO-5c9-ePl",
        "slhP2UuPX-Tk",
        "Vj-_zAi9GhFl"
      ],
      "mount_file_id": "1-OWTbu2JxnOv0wDx1ynoDgZn_Gq0373p",
      "authorship_tag": "ABX9TyNcplivH5O4nljoTMuuTkUT",
      "include_colab_link": true
    },
    "kernelspec": {
      "name": "python3",
      "display_name": "Python 3"
    },
    "language_info": {
      "name": "python"
    }
  },
  "cells": [
    {
      "cell_type": "markdown",
      "metadata": {
        "id": "view-in-github",
        "colab_type": "text"
      },
      "source": [
        "<a href=\"https://colab.research.google.com/github/Denis-Yen/DataScience/blob/main/2_DataWranling.ipynb\" target=\"_parent\"><img src=\"https://colab.research.google.com/assets/colab-badge.svg\" alt=\"Open In Colab\"/></a>"
      ]
    },
    {
      "cell_type": "markdown",
      "metadata": {
        "id": "yDEvIsUj1U9O"
      },
      "source": [
        "# Distribución normal"
      ]
    },
    {
      "cell_type": "code",
      "metadata": {
        "id": "HQfh8H311ZL5"
      },
      "source": [
        "import pandas as pd\n",
        "import numpy as np\n",
        "import matplotlib.pyplot as plt\n"
      ],
      "execution_count": null,
      "outputs": []
    },
    {
      "cell_type": "code",
      "metadata": {
        "colab": {
          "base_uri": "https://localhost:8080/",
          "height": 295
        },
        "id": "FEWTiXbd1foQ",
        "outputId": "f6d075c1-2342-4ee0-b602-a112f717d06d"
      },
      "source": [
        "%matplotlib inline\n",
        "data = np.random.randn(1000000)\n",
        "x = range(1, 1000001)\n",
        "plt.plot(x, sorted(data))"
      ],
      "execution_count": null,
      "outputs": [
        {
          "output_type": "execute_result",
          "data": {
            "text/plain": [
              "[<matplotlib.lines.Line2D at 0x7f53f98be690>]"
            ]
          },
          "metadata": {
            "tags": []
          },
          "execution_count": 87
        },
        {
          "output_type": "display_data",
          "data": {
            "image/png": "[encoded data removed]",
            "text/plain": [
              "<Figure size 432x288 with 1 Axes>"
            ]
          },
          "metadata": {
            "tags": [],
            "needs_background": "light"
          }
        }
      ]
    },
    {
      "cell_type": "code",
      "metadata": {
        "colab": {
          "base_uri": "https://localhost:8080/",
          "height": 371
        },
        "id": "Q-ky0IGY2s73",
        "outputId": "79150986-3f24-4aa4-d9ce-e14b1f8ca17d"
      },
      "source": [
        "plt.hist(sorted(data))"
      ],
      "execution_count": null,
      "outputs": [
        {
          "output_type": "execute_result",
          "data": {
            "text/plain": [
              "(array([7.40000e+01, 1.87900e+03, 2.40360e+04, 1.33012e+05, 3.20023e+05,\n",
              "        3.34307e+05, 1.53574e+05, 3.03510e+04, 2.64400e+03, 1.00000e+02]),\n",
              " array([-4.77743618, -3.83267546, -2.88791474, -1.94315402, -0.9983933 ,\n",
              "        -0.05363258,  0.89112815,  1.83588887,  2.78064959,  3.72541031,\n",
              "         4.67017103]),\n",
              " <a list of 10 Patch objects>)"
            ]
          },
          "metadata": {
            "tags": []
          },
          "execution_count": 88
        },
        {
          "output_type": "display_data",
          "data": {
            "image/png": "[encoded data removed]",
            "text/plain": [
              "<Figure size 432x288 with 1 Axes>"
            ]
          },
          "metadata": {
            "tags": [],
            "needs_background": "light"
          }
        }
      ]
    },
    {
      "cell_type": "markdown",
      "metadata": {
        "id": "K_suggIo4mh8"
      },
      "source": [
        "### Crear un fucnion de distribución normal\n",
        "\n"
      ]
    },
    {
      "cell_type": "code",
      "metadata": {
        "colab": {
          "base_uri": "https://localhost:8080/",
          "height": 371
        },
        "id": "RMUfLqVT4lV6",
        "outputId": "970eaade-4764-43ec-992a-283905021ce2"
      },
      "source": [
        "mu = 5.5\n",
        "sd = 2.5\n",
        "z = np.random.randn(10000)\n",
        "data = mu + sd* z # z = (x -mu)/sd -> N(0,1), X = mu + sd*Z\n",
        "plt.hist(data)"
      ],
      "execution_count": null,
      "outputs": [
        {
          "output_type": "execute_result",
          "data": {
            "text/plain": [
              "(array([   8.,   72.,  394., 1470., 2784., 2863., 1698.,  578.,  115.,\n",
              "          18.]),\n",
              " array([-4.38966844, -2.45291683, -0.51616521,  1.4205864 ,  3.35733802,\n",
              "         5.29408963,  7.23084125,  9.16759286, 11.10434448, 13.0410961 ,\n",
              "        14.97784771]),\n",
              " <a list of 10 Patch objects>)"
            ]
          },
          "metadata": {
            "tags": []
          },
          "execution_count": 89
        },
        {
          "output_type": "display_data",
          "data": {
            "image/png": "[encoded data removed]",
            "text/plain": [
              "<Figure size 432x288 with 1 Axes>"
            ]
          },
          "metadata": {
            "tags": [],
            "needs_background": "light"
          }
        }
      ]
    },
    {
      "cell_type": "code",
      "metadata": {
        "colab": {
          "base_uri": "https://localhost:8080/"
        },
        "id": "x5eY7Nuu6jBW",
        "outputId": "42742329-7d51-412c-c6b7-8cd68818abc1"
      },
      "source": [
        "data = np.random.rand(2, 4)\n",
        "data"
      ],
      "execution_count": null,
      "outputs": [
        {
          "output_type": "execute_result",
          "data": {
            "text/plain": [
              "array([[0.38779134, 0.22612368, 0.08475487, 0.51807548],\n",
              "       [0.96922278, 0.41203407, 0.83898609, 0.01663714]])"
            ]
          },
          "metadata": {
            "tags": []
          },
          "execution_count": 90
        }
      ]
    },
    {
      "cell_type": "markdown",
      "metadata": {
        "id": "GbY6rztA-xhu"
      },
      "source": [
        "# Simulación de montecarlo\n",
        "\n",
        "* Generamos dos números aleatorios uniforme x e y entre 0 y 1.\n",
        "* Calcularemos x * x + y * y\n",
        "  * Si el valor es inferior a 1 -> estamos dentro del circulo \n",
        "  * Si el valor es superior a 1 -> estamos fuera del circulo \n",
        "* Calcularemos el nuemro total de veces  que esta dentrod el circulo y lo dividiremso entre el total  de intentos para obtener una aproximación de la probabilidad de caer dentro del circulo.\n",
        "* Usamos dicha probabilidad para aproximar el valor de pi.\n",
        "* Repetimos el experimento un numero suficente de veces (por ejemmplo 1000) par a obtener (1000)  diferentes aproxiamcione de pi.\n",
        "* Calculamos el promedio del 1000 experiemntos anteriores  para dar un valor final de pi.\n",
        "\n",
        "\n",
        "\n"
      ]
    },
    {
      "cell_type": "code",
      "metadata": {
        "id": "PQQjksMqAEe2"
      },
      "source": [
        "def pi_montecarlo(n, n_exp):\n",
        "    pi_avg = 0\n",
        "    n = 1000\n",
        "    pi_value_list = []\n",
        "    for i in range(n_exp):\n",
        "      value = 0\n",
        "      x = np.random.uniform(0,1, n).tolist()\n",
        "      y = np.random.uniform(0,1, n).tolist()\n",
        "      for j in range(n):\n",
        "          z = np.sqrt(x[j] * x[j] + y[j] * y[j])\n",
        "          if z<=1:\n",
        "              value += 1\n",
        "      float_value = float(value)\n",
        "      pi_value = float_value * 4 / n\n",
        "      pi_value_list.append(pi_value)\n",
        "      pi_avg += pi_value\n",
        "    pi = pi_avg / n_exp\n",
        "    print(pi)\n",
        "    fig = plt.plot(pi_value_list)\n",
        "    return(pi, fig) \n"
      ],
      "execution_count": null,
      "outputs": []
    },
    {
      "cell_type": "code",
      "metadata": {
        "colab": {
          "base_uri": "https://localhost:8080/",
          "height": 299
        },
        "id": "838_Y_Sh64bM",
        "outputId": "0875c3b5-5f9c-4171-f371-1569daa9ddc1"
      },
      "source": [
        "pi_montecarlo(1000, 200)"
      ],
      "execution_count": null,
      "outputs": [
        {
          "output_type": "stream",
          "text": [
            "3.1452199999999992\n"
          ],
          "name": "stdout"
        },
        {
          "output_type": "execute_result",
          "data": {
            "text/plain": [
              "(3.1452199999999992, [<matplotlib.lines.Line2D at 0x7f53f858eb10>])"
            ]
          },
          "metadata": {
            "tags": []
          },
          "execution_count": 92
        },
        {
          "output_type": "display_data",
          "data": {
            "image/png": "[encoded data removed]",
            "text/plain": [
              "<Figure size 432x288 with 1 Axes>"
            ]
          },
          "metadata": {
            "tags": [],
            "needs_background": "light"
          }
        }
      ]
    },
    {
      "cell_type": "markdown",
      "metadata": {
        "id": "2YPoNJmapVd8"
      },
      "source": [
        "# Dummy DataFrames"
      ]
    },
    {
      "cell_type": "code",
      "metadata": {
        "id": "j-TdSQH6FjEo",
        "colab": {
          "base_uri": "https://localhost:8080/",
          "height": 204
        },
        "outputId": "1c30365d-f86d-4e23-acbc-d079f552b086"
      },
      "source": [
        "n = 100000\n",
        "data = pd.DataFrame(\n",
        "    {\n",
        "      'A': np.random.randn(n),\n",
        "      'B': 1.5 + 2.5*np.random.randn(n),\n",
        "      'C': np.random.uniform(5, 32, n)\n",
        "    }\n",
        ")\n",
        "data.head()\n"
      ],
      "execution_count": null,
      "outputs": [
        {
          "output_type": "execute_result",
          "data": {
            "text/html": [
              "<div>\n",
              "<style scoped>\n",
              "    .dataframe tbody tr th:only-of-type {\n",
              "        vertical-align: middle;\n",
              "    }\n",
              "\n",
              "    .dataframe tbody tr th {\n",
              "        vertical-align: top;\n",
              "    }\n",
              "\n",
              "    .dataframe thead th {\n",
              "        text-align: right;\n",
              "    }\n",
              "</style>\n",
              "<table border=\"1\" class=\"dataframe\">\n",
              "  <thead>\n",
              "    <tr style=\"text-align: right;\">\n",
              "      <th></th>\n",
              "      <th>A</th>\n",
              "      <th>B</th>\n",
              "      <th>C</th>\n",
              "    </tr>\n",
              "  </thead>\n",
              "  <tbody>\n",
              "    <tr>\n",
              "      <th>0</th>\n",
              "      <td>0.536335</td>\n",
              "      <td>3.580799</td>\n",
              "      <td>7.805721</td>\n",
              "    </tr>\n",
              "    <tr>\n",
              "      <th>1</th>\n",
              "      <td>-1.139177</td>\n",
              "      <td>0.310548</td>\n",
              "      <td>7.448014</td>\n",
              "    </tr>\n",
              "    <tr>\n",
              "      <th>2</th>\n",
              "      <td>1.493887</td>\n",
              "      <td>1.771340</td>\n",
              "      <td>8.576847</td>\n",
              "    </tr>\n",
              "    <tr>\n",
              "      <th>3</th>\n",
              "      <td>0.126135</td>\n",
              "      <td>-0.406383</td>\n",
              "      <td>22.809576</td>\n",
              "    </tr>\n",
              "    <tr>\n",
              "      <th>4</th>\n",
              "      <td>-0.260739</td>\n",
              "      <td>0.231409</td>\n",
              "      <td>10.383015</td>\n",
              "    </tr>\n",
              "  </tbody>\n",
              "</table>\n",
              "</div>"
            ],
            "text/plain": [
              "          A         B          C\n",
              "0  0.536335  3.580799   7.805721\n",
              "1 -1.139177  0.310548   7.448014\n",
              "2  1.493887  1.771340   8.576847\n",
              "3  0.126135 -0.406383  22.809576\n",
              "4 -0.260739  0.231409  10.383015"
            ]
          },
          "metadata": {
            "tags": []
          },
          "execution_count": 93
        }
      ]
    },
    {
      "cell_type": "code",
      "metadata": {
        "colab": {
          "base_uri": "https://localhost:8080/",
          "height": 297
        },
        "id": "ipmALcAMpdWA",
        "outputId": "49e80693-7d70-433b-f19e-d2b115a63da9"
      },
      "source": [
        "data.describe()"
      ],
      "execution_count": null,
      "outputs": [
        {
          "output_type": "execute_result",
          "data": {
            "text/html": [
              "<div>\n",
              "<style scoped>\n",
              "    .dataframe tbody tr th:only-of-type {\n",
              "        vertical-align: middle;\n",
              "    }\n",
              "\n",
              "    .dataframe tbody tr th {\n",
              "        vertical-align: top;\n",
              "    }\n",
              "\n",
              "    .dataframe thead th {\n",
              "        text-align: right;\n",
              "    }\n",
              "</style>\n",
              "<table border=\"1\" class=\"dataframe\">\n",
              "  <thead>\n",
              "    <tr style=\"text-align: right;\">\n",
              "      <th></th>\n",
              "      <th>A</th>\n",
              "      <th>B</th>\n",
              "      <th>C</th>\n",
              "    </tr>\n",
              "  </thead>\n",
              "  <tbody>\n",
              "    <tr>\n",
              "      <th>count</th>\n",
              "      <td>100000.000000</td>\n",
              "      <td>100000.000000</td>\n",
              "      <td>100000.000000</td>\n",
              "    </tr>\n",
              "    <tr>\n",
              "      <th>mean</th>\n",
              "      <td>-0.003057</td>\n",
              "      <td>1.504678</td>\n",
              "      <td>18.482133</td>\n",
              "    </tr>\n",
              "    <tr>\n",
              "      <th>std</th>\n",
              "      <td>0.999954</td>\n",
              "      <td>2.502806</td>\n",
              "      <td>7.811366</td>\n",
              "    </tr>\n",
              "    <tr>\n",
              "      <th>min</th>\n",
              "      <td>-4.010835</td>\n",
              "      <td>-8.742795</td>\n",
              "      <td>5.000591</td>\n",
              "    </tr>\n",
              "    <tr>\n",
              "      <th>25%</th>\n",
              "      <td>-0.676474</td>\n",
              "      <td>-0.192496</td>\n",
              "      <td>11.674198</td>\n",
              "    </tr>\n",
              "    <tr>\n",
              "      <th>50%</th>\n",
              "      <td>-0.002905</td>\n",
              "      <td>1.499651</td>\n",
              "      <td>18.477065</td>\n",
              "    </tr>\n",
              "    <tr>\n",
              "      <th>75%</th>\n",
              "      <td>0.675957</td>\n",
              "      <td>3.193999</td>\n",
              "      <td>25.242526</td>\n",
              "    </tr>\n",
              "    <tr>\n",
              "      <th>max</th>\n",
              "      <td>4.067807</td>\n",
              "      <td>14.143861</td>\n",
              "      <td>31.999787</td>\n",
              "    </tr>\n",
              "  </tbody>\n",
              "</table>\n",
              "</div>"
            ],
            "text/plain": [
              "                   A              B              C\n",
              "count  100000.000000  100000.000000  100000.000000\n",
              "mean       -0.003057       1.504678      18.482133\n",
              "std         0.999954       2.502806       7.811366\n",
              "min        -4.010835      -8.742795       5.000591\n",
              "25%        -0.676474      -0.192496      11.674198\n",
              "50%        -0.002905       1.499651      18.477065\n",
              "75%         0.675957       3.193999      25.242526\n",
              "max         4.067807      14.143861      31.999787"
            ]
          },
          "metadata": {
            "tags": []
          },
          "execution_count": 94
        }
      ]
    },
    {
      "cell_type": "code",
      "metadata": {
        "colab": {
          "base_uri": "https://localhost:8080/",
          "height": 367
        },
        "id": "T6cfcsZ62ZFw",
        "outputId": "d83f4e56-15c1-46eb-dbfe-dec9949071ec"
      },
      "source": [
        "plt.hist(data['B'])"
      ],
      "execution_count": null,
      "outputs": [
        {
          "output_type": "execute_result",
          "data": {
            "text/plain": [
              "(array([6.7000e+01, 1.0390e+03, 7.7050e+03, 2.4468e+04, 3.5205e+04,\n",
              "        2.3255e+04, 7.1820e+03, 1.0130e+03, 6.4000e+01, 2.0000e+00]),\n",
              " array([-8.7427954 , -6.45412976, -4.16546412, -1.87679848,  0.41186716,\n",
              "         2.70053281,  4.98919845,  7.27786409,  9.56652973, 11.85519537,\n",
              "        14.14386101]),\n",
              " <a list of 10 Patch objects>)"
            ]
          },
          "metadata": {
            "tags": []
          },
          "execution_count": 95
        },
        {
          "output_type": "display_data",
          "data": {
            "image/png": "[encoded data removed]",
            "text/plain": [
              "<Figure size 432x288 with 1 Axes>"
            ]
          },
          "metadata": {
            "tags": [],
            "needs_background": "light"
          }
        }
      ]
    },
    {
      "cell_type": "code",
      "metadata": {
        "colab": {
          "base_uri": "https://localhost:8080/",
          "height": 359
        },
        "id": "9p_Xyeli3pEv",
        "outputId": "d33aef38-7921-4954-c537-0d0c29219482"
      },
      "source": [
        "n = 10\n",
        "data = pd.DataFrame(\n",
        "    {\n",
        "      'A': np.random.randn(n),\n",
        "      'B': 1.5 + 2.5*np.random.randn(n),\n",
        "      'C': np.random.uniform(5, 32, n)\n",
        "    }, index = range(10, 10 + n) # Se agrega el index y ya no esta enumerada \n",
        ")\n",
        "data"
      ],
      "execution_count": null,
      "outputs": [
        {
          "output_type": "execute_result",
          "data": {
            "text/html": [
              "<div>\n",
              "<style scoped>\n",
              "    .dataframe tbody tr th:only-of-type {\n",
              "        vertical-align: middle;\n",
              "    }\n",
              "\n",
              "    .dataframe tbody tr th {\n",
              "        vertical-align: top;\n",
              "    }\n",
              "\n",
              "    .dataframe thead th {\n",
              "        text-align: right;\n",
              "    }\n",
              "</style>\n",
              "<table border=\"1\" class=\"dataframe\">\n",
              "  <thead>\n",
              "    <tr style=\"text-align: right;\">\n",
              "      <th></th>\n",
              "      <th>A</th>\n",
              "      <th>B</th>\n",
              "      <th>C</th>\n",
              "    </tr>\n",
              "  </thead>\n",
              "  <tbody>\n",
              "    <tr>\n",
              "      <th>10</th>\n",
              "      <td>0.849874</td>\n",
              "      <td>1.550281</td>\n",
              "      <td>30.959579</td>\n",
              "    </tr>\n",
              "    <tr>\n",
              "      <th>11</th>\n",
              "      <td>-0.392978</td>\n",
              "      <td>2.881357</td>\n",
              "      <td>30.583895</td>\n",
              "    </tr>\n",
              "    <tr>\n",
              "      <th>12</th>\n",
              "      <td>0.459290</td>\n",
              "      <td>0.153253</td>\n",
              "      <td>17.920142</td>\n",
              "    </tr>\n",
              "    <tr>\n",
              "      <th>13</th>\n",
              "      <td>-0.107772</td>\n",
              "      <td>4.591605</td>\n",
              "      <td>26.280279</td>\n",
              "    </tr>\n",
              "    <tr>\n",
              "      <th>14</th>\n",
              "      <td>0.710891</td>\n",
              "      <td>3.891244</td>\n",
              "      <td>18.917779</td>\n",
              "    </tr>\n",
              "    <tr>\n",
              "      <th>15</th>\n",
              "      <td>-1.755255</td>\n",
              "      <td>2.647010</td>\n",
              "      <td>8.972123</td>\n",
              "    </tr>\n",
              "    <tr>\n",
              "      <th>16</th>\n",
              "      <td>-0.236909</td>\n",
              "      <td>-4.348290</td>\n",
              "      <td>16.797867</td>\n",
              "    </tr>\n",
              "    <tr>\n",
              "      <th>17</th>\n",
              "      <td>-0.031603</td>\n",
              "      <td>1.970806</td>\n",
              "      <td>13.802880</td>\n",
              "    </tr>\n",
              "    <tr>\n",
              "      <th>18</th>\n",
              "      <td>-1.935685</td>\n",
              "      <td>5.530638</td>\n",
              "      <td>5.016111</td>\n",
              "    </tr>\n",
              "    <tr>\n",
              "      <th>19</th>\n",
              "      <td>1.117726</td>\n",
              "      <td>0.482373</td>\n",
              "      <td>11.273045</td>\n",
              "    </tr>\n",
              "  </tbody>\n",
              "</table>\n",
              "</div>"
            ],
            "text/plain": [
              "           A         B          C\n",
              "10  0.849874  1.550281  30.959579\n",
              "11 -0.392978  2.881357  30.583895\n",
              "12  0.459290  0.153253  17.920142\n",
              "13 -0.107772  4.591605  26.280279\n",
              "14  0.710891  3.891244  18.917779\n",
              "15 -1.755255  2.647010   8.972123\n",
              "16 -0.236909 -4.348290  16.797867\n",
              "17 -0.031603  1.970806  13.802880\n",
              "18 -1.935685  5.530638   5.016111\n",
              "19  1.117726  0.482373  11.273045"
            ]
          },
          "metadata": {
            "tags": []
          },
          "execution_count": 96
        }
      ]
    },
    {
      "cell_type": "markdown",
      "metadata": {
        "id": "Lzsoaa5H5cva"
      },
      "source": [
        "# Agregación de datos por categoria\n"
      ]
    },
    {
      "cell_type": "code",
      "metadata": {
        "id": "qQcPXKCU5gvo"
      },
      "source": [
        "gender = [\"Male\", \"Female\"]\n",
        "income = [\"Poor\", \"Midle Class\", \"Rich\"]"
      ],
      "execution_count": null,
      "outputs": []
    },
    {
      "cell_type": "code",
      "metadata": {
        "colab": {
          "base_uri": "https://localhost:8080/"
        },
        "id": "Qinx9P7fCR4-",
        "outputId": "1c4c5360-72f8-476d-913c-a54f9864d10a"
      },
      "source": [
        "n = 500\n",
        "gender_data = []\n",
        "income_data = []\n",
        "for i in range(0,n):\n",
        "  gender_data.append(np.random.choice(gender))\n",
        "  income_data.append(np.random.choice(income))\n",
        "\n",
        "gender_data[1:10]\n",
        "income_data[1:10]"
      ],
      "execution_count": null,
      "outputs": [
        {
          "output_type": "execute_result",
          "data": {
            "text/plain": [
              "['Poor',\n",
              " 'Rich',\n",
              " 'Midle Class',\n",
              " 'Poor',\n",
              " 'Rich',\n",
              " 'Midle Class',\n",
              " 'Midle Class',\n",
              " 'Poor',\n",
              " 'Poor']"
            ]
          },
          "metadata": {
            "tags": []
          },
          "execution_count": 98
        }
      ]
    },
    {
      "cell_type": "code",
      "metadata": {
        "id": "Y0GkupcPCjwH"
      },
      "source": [
        "height = 160 + 30*np.random.randn(n)\n",
        "weight = 65 + 25*np.random.randn(n)\n",
        "age = 30 + 12*np.random.randn(n)\n",
        "income = 1800 + 3500 * np.random.randn(n)"
      ],
      "execution_count": null,
      "outputs": []
    },
    {
      "cell_type": "code",
      "metadata": {
        "colab": {
          "base_uri": "https://localhost:8080/",
          "height": 204
        },
        "id": "RpQPjQuVDB9C",
        "outputId": "c41c8725-0e27-48e1-a800-51da8fa6a922"
      },
      "source": [
        "data = pd.DataFrame(\n",
        "    {\n",
        "      \"Gender\" : gender_data,\n",
        "      'Economic status': income_data,\n",
        "      'Height': height,\n",
        "      'Weight': weight,\n",
        "      'Age': age,\n",
        "      'Income': income\n",
        "    }\n",
        "\n",
        ")\n",
        "\n",
        "data.head()"
      ],
      "execution_count": null,
      "outputs": [
        {
          "output_type": "execute_result",
          "data": {
            "text/html": [
              "<div>\n",
              "<style scoped>\n",
              "    .dataframe tbody tr th:only-of-type {\n",
              "        vertical-align: middle;\n",
              "    }\n",
              "\n",
              "    .dataframe tbody tr th {\n",
              "        vertical-align: top;\n",
              "    }\n",
              "\n",
              "    .dataframe thead th {\n",
              "        text-align: right;\n",
              "    }\n",
              "</style>\n",
              "<table border=\"1\" class=\"dataframe\">\n",
              "  <thead>\n",
              "    <tr style=\"text-align: right;\">\n",
              "      <th></th>\n",
              "      <th>Gender</th>\n",
              "      <th>Economic status</th>\n",
              "      <th>Height</th>\n",
              "      <th>Weight</th>\n",
              "      <th>Age</th>\n",
              "      <th>Income</th>\n",
              "    </tr>\n",
              "  </thead>\n",
              "  <tbody>\n",
              "    <tr>\n",
              "      <th>0</th>\n",
              "      <td>Male</td>\n",
              "      <td>Rich</td>\n",
              "      <td>172.158760</td>\n",
              "      <td>80.596235</td>\n",
              "      <td>31.436497</td>\n",
              "      <td>-711.406131</td>\n",
              "    </tr>\n",
              "    <tr>\n",
              "      <th>1</th>\n",
              "      <td>Female</td>\n",
              "      <td>Poor</td>\n",
              "      <td>178.040214</td>\n",
              "      <td>73.396410</td>\n",
              "      <td>50.672524</td>\n",
              "      <td>-1070.664982</td>\n",
              "    </tr>\n",
              "    <tr>\n",
              "      <th>2</th>\n",
              "      <td>Male</td>\n",
              "      <td>Rich</td>\n",
              "      <td>111.530431</td>\n",
              "      <td>17.601142</td>\n",
              "      <td>36.979868</td>\n",
              "      <td>8184.327069</td>\n",
              "    </tr>\n",
              "    <tr>\n",
              "      <th>3</th>\n",
              "      <td>Female</td>\n",
              "      <td>Midle Class</td>\n",
              "      <td>158.030333</td>\n",
              "      <td>74.595895</td>\n",
              "      <td>31.261843</td>\n",
              "      <td>-4648.443114</td>\n",
              "    </tr>\n",
              "    <tr>\n",
              "      <th>4</th>\n",
              "      <td>Male</td>\n",
              "      <td>Poor</td>\n",
              "      <td>142.331812</td>\n",
              "      <td>65.877078</td>\n",
              "      <td>56.173206</td>\n",
              "      <td>4574.481068</td>\n",
              "    </tr>\n",
              "  </tbody>\n",
              "</table>\n",
              "</div>"
            ],
            "text/plain": [
              "   Gender Economic status      Height     Weight        Age       Income\n",
              "0    Male            Rich  172.158760  80.596235  31.436497  -711.406131\n",
              "1  Female            Poor  178.040214  73.396410  50.672524 -1070.664982\n",
              "2    Male            Rich  111.530431  17.601142  36.979868  8184.327069\n",
              "3  Female     Midle Class  158.030333  74.595895  31.261843 -4648.443114\n",
              "4    Male            Poor  142.331812  65.877078  56.173206  4574.481068"
            ]
          },
          "metadata": {
            "tags": []
          },
          "execution_count": 100
        }
      ]
    },
    {
      "cell_type": "markdown",
      "metadata": {
        "id": "s8VZjX9jEm_q"
      },
      "source": [
        "# Agrupación de datos"
      ]
    },
    {
      "cell_type": "code",
      "metadata": {
        "id": "3VjGqscJEgzX"
      },
      "source": [
        "gruped_gender = data.groupby(\"Gender\")"
      ],
      "execution_count": null,
      "outputs": []
    },
    {
      "cell_type": "code",
      "metadata": {
        "colab": {
          "base_uri": "https://localhost:8080/"
        },
        "id": "-2GmdNoVFOb7",
        "outputId": "6225e4c1-2aa0-4fcd-e31c-33ea8f8850f8"
      },
      "source": [
        "gruped_gender.groups"
      ],
      "execution_count": null,
      "outputs": [
        {
          "output_type": "execute_result",
          "data": {
            "text/plain": [
              "{'Female': [1, 3, 10, 11, 17, 18, 23, 24, 25, 26, 28, 29, 30, 31, 33, 37, 41, 42, 45, 46, 48, 53, 54, 57, 61, 62, 63, 66, 70, 72, 75, 76, 77, 79, 84, 87, 88, 90, 91, 92, 94, 95, 96, 97, 98, 101, 107, 108, 109, 113, 116, 120, 121, 124, 125, 128, 129, 132, 133, 134, 135, 136, 137, 140, 142, 143, 144, 145, 147, 148, 149, 150, 153, 154, 155, 156, 158, 159, 161, 163, 164, 167, 170, 173, 178, 179, 180, 181, 182, 183, 184, 186, 187, 188, 189, 191, 192, 193, 194, 196, ...], 'Male': [0, 2, 4, 5, 6, 7, 8, 9, 12, 13, 14, 15, 16, 19, 20, 21, 22, 27, 32, 34, 35, 36, 38, 39, 40, 43, 44, 47, 49, 50, 51, 52, 55, 56, 58, 59, 60, 64, 65, 67, 68, 69, 71, 73, 74, 78, 80, 81, 82, 83, 85, 86, 89, 93, 99, 100, 102, 103, 104, 105, 106, 110, 111, 112, 114, 115, 117, 118, 119, 122, 123, 126, 127, 130, 131, 138, 139, 141, 146, 151, 152, 157, 160, 162, 165, 166, 168, 169, 171, 172, 174, 175, 176, 177, 185, 190, 195, 199, 201, 202, ...]}"
            ]
          },
          "metadata": {
            "tags": []
          },
          "execution_count": 102
        }
      ]
    },
    {
      "cell_type": "code",
      "metadata": {
        "colab": {
          "base_uri": "https://localhost:8080/"
        },
        "id": "b-sxldLQF1YD",
        "outputId": "0b09c695-8cb7-4d2b-8899-ac0e83e2789d"
      },
      "source": [
        "for names, groups in gruped_gender:\n",
        "    print(names)\n",
        "    print(groups)"
      ],
      "execution_count": null,
      "outputs": [
        {
          "output_type": "stream",
          "text": [
            "Female\n",
            "     Gender Economic status      Height     Weight        Age       Income\n",
            "1    Female            Poor  178.040214  73.396410  50.672524 -1070.664982\n",
            "3    Female     Midle Class  158.030333  74.595895  31.261843 -4648.443114\n",
            "10   Female     Midle Class  215.741032  71.922508  39.678675  5292.574111\n",
            "11   Female            Poor  205.989548  43.680857  15.779703  2448.739595\n",
            "17   Female            Poor  121.475010  49.407011  25.404741 -2745.709313\n",
            "..      ...             ...         ...        ...        ...          ...\n",
            "493  Female            Rich  167.992887  40.629060  17.308012  1135.522637\n",
            "494  Female            Poor  155.943273  54.514281  23.217110 -7944.157766\n",
            "497  Female     Midle Class  154.245825  13.889237  16.766528  -894.136899\n",
            "498  Female            Rich  148.911019  68.349203  57.347488 -1259.775665\n",
            "499  Female            Poor  159.492783  74.569711  35.815724  -674.787041\n",
            "\n",
            "[253 rows x 6 columns]\n",
            "Male\n",
            "    Gender Economic status      Height     Weight        Age       Income\n",
            "0     Male            Rich  172.158760  80.596235  31.436497  -711.406131\n",
            "2     Male            Rich  111.530431  17.601142  36.979868  8184.327069\n",
            "4     Male            Poor  142.331812  65.877078  56.173206  4574.481068\n",
            "5     Male            Rich  179.186781  17.405998  65.487303 -5473.465260\n",
            "6     Male     Midle Class  183.338212  13.294544  13.790973  -228.150689\n",
            "..     ...             ...         ...        ...        ...          ...\n",
            "486   Male            Rich  183.930531  37.793260  25.673242   765.466386\n",
            "489   Male            Rich  155.321269  50.725562  36.554664  1007.339963\n",
            "491   Male     Midle Class  177.583936  66.904821  21.412419  4902.280995\n",
            "495   Male            Rich  261.442132  59.350683  30.057999  1634.931238\n",
            "496   Male            Rich  167.210944  60.056468  33.632104  3764.391571\n",
            "\n",
            "[247 rows x 6 columns]\n"
          ],
          "name": "stdout"
        }
      ]
    },
    {
      "cell_type": "code",
      "metadata": {
        "colab": {
          "base_uri": "https://localhost:8080/",
          "height": 204
        },
        "id": "b5LlAIn8GkSC",
        "outputId": "d5dcd969-fc92-4fc3-b9d4-c65b5593a9cc"
      },
      "source": [
        "gruped_gender.get_group(\"Female\").head()"
      ],
      "execution_count": null,
      "outputs": [
        {
          "output_type": "execute_result",
          "data": {
            "text/html": [
              "<div>\n",
              "<style scoped>\n",
              "    .dataframe tbody tr th:only-of-type {\n",
              "        vertical-align: middle;\n",
              "    }\n",
              "\n",
              "    .dataframe tbody tr th {\n",
              "        vertical-align: top;\n",
              "    }\n",
              "\n",
              "    .dataframe thead th {\n",
              "        text-align: right;\n",
              "    }\n",
              "</style>\n",
              "<table border=\"1\" class=\"dataframe\">\n",
              "  <thead>\n",
              "    <tr style=\"text-align: right;\">\n",
              "      <th></th>\n",
              "      <th>Gender</th>\n",
              "      <th>Economic status</th>\n",
              "      <th>Height</th>\n",
              "      <th>Weight</th>\n",
              "      <th>Age</th>\n",
              "      <th>Income</th>\n",
              "    </tr>\n",
              "  </thead>\n",
              "  <tbody>\n",
              "    <tr>\n",
              "      <th>1</th>\n",
              "      <td>Female</td>\n",
              "      <td>Poor</td>\n",
              "      <td>178.040214</td>\n",
              "      <td>73.396410</td>\n",
              "      <td>50.672524</td>\n",
              "      <td>-1070.664982</td>\n",
              "    </tr>\n",
              "    <tr>\n",
              "      <th>3</th>\n",
              "      <td>Female</td>\n",
              "      <td>Midle Class</td>\n",
              "      <td>158.030333</td>\n",
              "      <td>74.595895</td>\n",
              "      <td>31.261843</td>\n",
              "      <td>-4648.443114</td>\n",
              "    </tr>\n",
              "    <tr>\n",
              "      <th>10</th>\n",
              "      <td>Female</td>\n",
              "      <td>Midle Class</td>\n",
              "      <td>215.741032</td>\n",
              "      <td>71.922508</td>\n",
              "      <td>39.678675</td>\n",
              "      <td>5292.574111</td>\n",
              "    </tr>\n",
              "    <tr>\n",
              "      <th>11</th>\n",
              "      <td>Female</td>\n",
              "      <td>Poor</td>\n",
              "      <td>205.989548</td>\n",
              "      <td>43.680857</td>\n",
              "      <td>15.779703</td>\n",
              "      <td>2448.739595</td>\n",
              "    </tr>\n",
              "    <tr>\n",
              "      <th>17</th>\n",
              "      <td>Female</td>\n",
              "      <td>Poor</td>\n",
              "      <td>121.475010</td>\n",
              "      <td>49.407011</td>\n",
              "      <td>25.404741</td>\n",
              "      <td>-2745.709313</td>\n",
              "    </tr>\n",
              "  </tbody>\n",
              "</table>\n",
              "</div>"
            ],
            "text/plain": [
              "    Gender Economic status      Height     Weight        Age       Income\n",
              "1   Female            Poor  178.040214  73.396410  50.672524 -1070.664982\n",
              "3   Female     Midle Class  158.030333  74.595895  31.261843 -4648.443114\n",
              "10  Female     Midle Class  215.741032  71.922508  39.678675  5292.574111\n",
              "11  Female            Poor  205.989548  43.680857  15.779703  2448.739595\n",
              "17  Female            Poor  121.475010  49.407011  25.404741 -2745.709313"
            ]
          },
          "metadata": {
            "tags": []
          },
          "execution_count": 104
        }
      ]
    },
    {
      "cell_type": "code",
      "metadata": {
        "id": "fbhToZasIqpa"
      },
      "source": [
        "# Agrupación a dos niveles\n",
        "double_group = data.groupby([\"Gender\", \"Economic status\"])"
      ],
      "execution_count": null,
      "outputs": []
    },
    {
      "cell_type": "code",
      "metadata": {
        "colab": {
          "base_uri": "https://localhost:8080/"
        },
        "id": "kYNU1jJ_JOrd",
        "outputId": "a769c344-d449-47f7-8ad0-444ff6b6bdca"
      },
      "source": [
        "len(double_group)"
      ],
      "execution_count": null,
      "outputs": [
        {
          "output_type": "execute_result",
          "data": {
            "text/plain": [
              "6"
            ]
          },
          "metadata": {
            "tags": []
          },
          "execution_count": 106
        }
      ]
    },
    {
      "cell_type": "code",
      "metadata": {
        "colab": {
          "base_uri": "https://localhost:8080/"
        },
        "id": "8M0-ECKVJhyr",
        "outputId": "55849c6e-27e1-49aa-9cd2-2fabe27c32b2"
      },
      "source": [
        "for names, groups in double_group:\n",
        "  print(names)\n",
        "  print(groups)"
      ],
      "execution_count": null,
      "outputs": [
        {
          "output_type": "stream",
          "text": [
            "('Female', 'Midle Class')\n",
            "     Gender Economic status      Height     Weight        Age       Income\n",
            "3    Female     Midle Class  158.030333  74.595895  31.261843 -4648.443114\n",
            "10   Female     Midle Class  215.741032  71.922508  39.678675  5292.574111\n",
            "18   Female     Midle Class  179.161863  73.564541  28.331569 -2526.751068\n",
            "23   Female     Midle Class  140.575012  53.387449  17.098829   862.275986\n",
            "25   Female     Midle Class  152.452834  77.202306  18.502705  1275.698165\n",
            "..      ...             ...         ...        ...        ...          ...\n",
            "484  Female     Midle Class  114.158167  68.078388  20.806209  3120.176013\n",
            "487  Female     Midle Class  181.238283  79.365190  49.467711   961.145208\n",
            "488  Female     Midle Class  181.457112  10.961274  29.998269  4329.353394\n",
            "492  Female     Midle Class  119.456969  36.485114  30.800627   102.587084\n",
            "497  Female     Midle Class  154.245825  13.889237  16.766528  -894.136899\n",
            "\n",
            "[94 rows x 6 columns]\n",
            "('Female', 'Poor')\n",
            "     Gender Economic status      Height     Weight        Age       Income\n",
            "1    Female            Poor  178.040214  73.396410  50.672524 -1070.664982\n",
            "11   Female            Poor  205.989548  43.680857  15.779703  2448.739595\n",
            "17   Female            Poor  121.475010  49.407011  25.404741 -2745.709313\n",
            "28   Female            Poor  201.550937  56.814499  37.767534  6344.655983\n",
            "33   Female            Poor  154.333293  31.357374   7.660801 -1527.518596\n",
            "..      ...             ...         ...        ...        ...          ...\n",
            "473  Female            Poor  216.898211  89.963134  45.396158  2603.801311\n",
            "478  Female            Poor  173.705633  32.851923  37.143458   551.373962\n",
            "490  Female            Poor  180.202041  92.534694   1.154396 -5162.888473\n",
            "494  Female            Poor  155.943273  54.514281  23.217110 -7944.157766\n",
            "499  Female            Poor  159.492783  74.569711  35.815724  -674.787041\n",
            "\n",
            "[81 rows x 6 columns]\n",
            "('Female', 'Rich')\n",
            "     Gender Economic status      Height      Weight        Age       Income\n",
            "24   Female            Rich  188.100379   46.252955  38.302269  5262.492214\n",
            "30   Female            Rich  140.550728   80.328225  30.423113 -3009.428369\n",
            "37   Female            Rich  153.832332   49.343372  38.977776  1797.863251\n",
            "46   Female            Rich  168.376469  118.393137  46.477350  2419.458671\n",
            "54   Female            Rich  147.172275  100.890900  13.666901  4799.692110\n",
            "..      ...             ...         ...         ...        ...          ...\n",
            "463  Female            Rich  175.388617  104.240350  24.513615   -33.915614\n",
            "472  Female            Rich  200.632170  136.263894  39.055954  6414.126331\n",
            "485  Female            Rich  157.477513   89.637660  32.410323  7640.798883\n",
            "493  Female            Rich  167.992887   40.629060  17.308012  1135.522637\n",
            "498  Female            Rich  148.911019   68.349203  57.347488 -1259.775665\n",
            "\n",
            "[78 rows x 6 columns]\n",
            "('Male', 'Midle Class')\n",
            "    Gender Economic status      Height     Weight        Age       Income\n",
            "6     Male     Midle Class  183.338212  13.294544  13.790973  -228.150689\n",
            "7     Male     Midle Class  136.191191  17.271298  21.918827  3976.803536\n",
            "12    Male     Midle Class  144.549676  70.448987  23.873705  2634.779947\n",
            "13    Male     Midle Class   98.292138  29.802623   9.516599  4446.202894\n",
            "15    Male     Midle Class  160.750733  60.600093  25.933011  3428.483255\n",
            "..     ...             ...         ...        ...        ...          ...\n",
            "471   Male     Midle Class  167.650625  46.735947  14.927823  3967.820768\n",
            "474   Male     Midle Class  194.105139  58.139001  28.766318 -1089.739159\n",
            "475   Male     Midle Class  151.023734  98.790586  42.763879  3258.689570\n",
            "481   Male     Midle Class   91.998204  31.116616  13.950197   378.353685\n",
            "491   Male     Midle Class  177.583936  66.904821  21.412419  4902.280995\n",
            "\n",
            "[70 rows x 6 columns]\n",
            "('Male', 'Poor')\n",
            "    Gender Economic status      Height      Weight        Age       Income\n",
            "4     Male            Poor  142.331812   65.877078  56.173206  4574.481068\n",
            "8     Male            Poor  201.628726   83.779475  40.409456  -510.594568\n",
            "9     Male            Poor  244.860770   94.843644  37.274326   188.141446\n",
            "14    Male            Poor  119.174846   85.818431  45.136510 -3629.039765\n",
            "16    Male            Poor  140.877144   83.143581  15.172226  6387.923576\n",
            "..     ...             ...         ...         ...        ...          ...\n",
            "466   Male            Poor  179.335154  116.435675  32.423293  -893.822703\n",
            "467   Male            Poor  173.998420   89.554277  46.394491  3983.303359\n",
            "468   Male            Poor   91.727293   67.874674  36.959994 -5051.722792\n",
            "480   Male            Poor  157.538329   13.118968  31.664635  5764.707575\n",
            "482   Male            Poor  120.124047  100.447153  20.795892  2322.260772\n",
            "\n",
            "[87 rows x 6 columns]\n",
            "('Male', 'Rich')\n",
            "    Gender Economic status      Height      Weight        Age       Income\n",
            "0     Male            Rich  172.158760   80.596235  31.436497  -711.406131\n",
            "2     Male            Rich  111.530431   17.601142  36.979868  8184.327069\n",
            "5     Male            Rich  179.186781   17.405998  65.487303 -5473.465260\n",
            "22    Male            Rich  183.551655   27.790956  14.356219  7452.908453\n",
            "35    Male            Rich  131.683840  102.128035  45.145853  8584.138247\n",
            "..     ...             ...         ...         ...        ...          ...\n",
            "483   Male            Rich  161.822459   41.663235  37.270650  7170.734593\n",
            "486   Male            Rich  183.930531   37.793260  25.673242   765.466386\n",
            "489   Male            Rich  155.321269   50.725562  36.554664  1007.339963\n",
            "495   Male            Rich  261.442132   59.350683  30.057999  1634.931238\n",
            "496   Male            Rich  167.210944   60.056468  33.632104  3764.391571\n",
            "\n",
            "[90 rows x 6 columns]\n"
          ],
          "name": "stdout"
        }
      ]
    },
    {
      "cell_type": "markdown",
      "metadata": {
        "id": "HexKv3esJ7Si"
      },
      "source": [
        "# Agregación de datos"
      ]
    },
    {
      "cell_type": "code",
      "metadata": {
        "colab": {
          "base_uri": "https://localhost:8080/",
          "height": 266
        },
        "id": "7YY-GWgeJ-Zd",
        "outputId": "5467732d-484f-4b55-ce4c-a1d9bc080e33"
      },
      "source": [
        "double_group.mean()"
      ],
      "execution_count": null,
      "outputs": [
        {
          "output_type": "execute_result",
          "data": {
            "text/html": [
              "<div>\n",
              "<style scoped>\n",
              "    .dataframe tbody tr th:only-of-type {\n",
              "        vertical-align: middle;\n",
              "    }\n",
              "\n",
              "    .dataframe tbody tr th {\n",
              "        vertical-align: top;\n",
              "    }\n",
              "\n",
              "    .dataframe thead th {\n",
              "        text-align: right;\n",
              "    }\n",
              "</style>\n",
              "<table border=\"1\" class=\"dataframe\">\n",
              "  <thead>\n",
              "    <tr style=\"text-align: right;\">\n",
              "      <th></th>\n",
              "      <th></th>\n",
              "      <th>Height</th>\n",
              "      <th>Weight</th>\n",
              "      <th>Age</th>\n",
              "      <th>Income</th>\n",
              "    </tr>\n",
              "    <tr>\n",
              "      <th>Gender</th>\n",
              "      <th>Economic status</th>\n",
              "      <th></th>\n",
              "      <th></th>\n",
              "      <th></th>\n",
              "      <th></th>\n",
              "    </tr>\n",
              "  </thead>\n",
              "  <tbody>\n",
              "    <tr>\n",
              "      <th rowspan=\"3\" valign=\"top\">Female</th>\n",
              "      <th>Midle Class</th>\n",
              "      <td>159.036879</td>\n",
              "      <td>65.385972</td>\n",
              "      <td>30.072859</td>\n",
              "      <td>1515.261255</td>\n",
              "    </tr>\n",
              "    <tr>\n",
              "      <th>Poor</th>\n",
              "      <td>161.249605</td>\n",
              "      <td>65.566919</td>\n",
              "      <td>31.027192</td>\n",
              "      <td>723.982113</td>\n",
              "    </tr>\n",
              "    <tr>\n",
              "      <th>Rich</th>\n",
              "      <td>162.648855</td>\n",
              "      <td>65.591786</td>\n",
              "      <td>31.360765</td>\n",
              "      <td>1497.520082</td>\n",
              "    </tr>\n",
              "    <tr>\n",
              "      <th rowspan=\"3\" valign=\"top\">Male</th>\n",
              "      <th>Midle Class</th>\n",
              "      <td>157.617993</td>\n",
              "      <td>65.408441</td>\n",
              "      <td>31.447131</td>\n",
              "      <td>1209.007672</td>\n",
              "    </tr>\n",
              "    <tr>\n",
              "      <th>Poor</th>\n",
              "      <td>158.781889</td>\n",
              "      <td>67.238670</td>\n",
              "      <td>30.564762</td>\n",
              "      <td>2048.129166</td>\n",
              "    </tr>\n",
              "    <tr>\n",
              "      <th>Rich</th>\n",
              "      <td>156.914417</td>\n",
              "      <td>65.124051</td>\n",
              "      <td>29.791476</td>\n",
              "      <td>2032.280384</td>\n",
              "    </tr>\n",
              "  </tbody>\n",
              "</table>\n",
              "</div>"
            ],
            "text/plain": [
              "                            Height     Weight        Age       Income\n",
              "Gender Economic status                                               \n",
              "Female Midle Class      159.036879  65.385972  30.072859  1515.261255\n",
              "       Poor             161.249605  65.566919  31.027192   723.982113\n",
              "       Rich             162.648855  65.591786  31.360765  1497.520082\n",
              "Male   Midle Class      157.617993  65.408441  31.447131  1209.007672\n",
              "       Poor             158.781889  67.238670  30.564762  2048.129166\n",
              "       Rich             156.914417  65.124051  29.791476  2032.280384"
            ]
          },
          "metadata": {
            "tags": []
          },
          "execution_count": 108
        }
      ]
    },
    {
      "cell_type": "code",
      "metadata": {
        "colab": {
          "base_uri": "https://localhost:8080/"
        },
        "id": "ChkLCxCsKSSL",
        "outputId": "ac88e66b-00e6-44bc-ec20-00d805a3a5f6"
      },
      "source": [
        "double_group.size() # cuantos datos hay por grupo"
      ],
      "execution_count": null,
      "outputs": [
        {
          "output_type": "execute_result",
          "data": {
            "text/plain": [
              "Gender  Economic status\n",
              "Female  Midle Class        94\n",
              "        Poor               81\n",
              "        Rich               78\n",
              "Male    Midle Class        70\n",
              "        Poor               87\n",
              "        Rich               90\n",
              "dtype: int64"
            ]
          },
          "metadata": {
            "tags": []
          },
          "execution_count": 109
        }
      ]
    },
    {
      "cell_type": "code",
      "metadata": {
        "colab": {
          "base_uri": "https://localhost:8080/",
          "height": 368
        },
        "id": "uT3fEb1pKj_J",
        "outputId": "86e5cd9b-09f3-4904-e28c-678ee7439357"
      },
      "source": [
        "double_group.describe() # me devuelve estadisticos descriptivos para cada grupo y cada variable"
      ],
      "execution_count": null,
      "outputs": [
        {
          "output_type": "execute_result",
          "data": {
            "text/html": [
              "<div>\n",
              "<style scoped>\n",
              "    .dataframe tbody tr th:only-of-type {\n",
              "        vertical-align: middle;\n",
              "    }\n",
              "\n",
              "    .dataframe tbody tr th {\n",
              "        vertical-align: top;\n",
              "    }\n",
              "\n",
              "    .dataframe thead tr th {\n",
              "        text-align: left;\n",
              "    }\n",
              "\n",
              "    .dataframe thead tr:last-of-type th {\n",
              "        text-align: right;\n",
              "    }\n",
              "</style>\n",
              "<table border=\"1\" class=\"dataframe\">\n",
              "  <thead>\n",
              "    <tr>\n",
              "      <th></th>\n",
              "      <th></th>\n",
              "      <th colspan=\"8\" halign=\"left\">Height</th>\n",
              "      <th colspan=\"8\" halign=\"left\">Weight</th>\n",
              "      <th colspan=\"8\" halign=\"left\">Age</th>\n",
              "      <th colspan=\"8\" halign=\"left\">Income</th>\n",
              "    </tr>\n",
              "    <tr>\n",
              "      <th></th>\n",
              "      <th></th>\n",
              "      <th>count</th>\n",
              "      <th>mean</th>\n",
              "      <th>std</th>\n",
              "      <th>min</th>\n",
              "      <th>25%</th>\n",
              "      <th>50%</th>\n",
              "      <th>75%</th>\n",
              "      <th>max</th>\n",
              "      <th>count</th>\n",
              "      <th>mean</th>\n",
              "      <th>std</th>\n",
              "      <th>min</th>\n",
              "      <th>25%</th>\n",
              "      <th>50%</th>\n",
              "      <th>75%</th>\n",
              "      <th>max</th>\n",
              "      <th>count</th>\n",
              "      <th>mean</th>\n",
              "      <th>std</th>\n",
              "      <th>min</th>\n",
              "      <th>25%</th>\n",
              "      <th>50%</th>\n",
              "      <th>75%</th>\n",
              "      <th>max</th>\n",
              "      <th>count</th>\n",
              "      <th>mean</th>\n",
              "      <th>std</th>\n",
              "      <th>min</th>\n",
              "      <th>25%</th>\n",
              "      <th>50%</th>\n",
              "      <th>75%</th>\n",
              "      <th>max</th>\n",
              "    </tr>\n",
              "    <tr>\n",
              "      <th>Gender</th>\n",
              "      <th>Economic status</th>\n",
              "      <th></th>\n",
              "      <th></th>\n",
              "      <th></th>\n",
              "      <th></th>\n",
              "      <th></th>\n",
              "      <th></th>\n",
              "      <th></th>\n",
              "      <th></th>\n",
              "      <th></th>\n",
              "      <th></th>\n",
              "      <th></th>\n",
              "      <th></th>\n",
              "      <th></th>\n",
              "      <th></th>\n",
              "      <th></th>\n",
              "      <th></th>\n",
              "      <th></th>\n",
              "      <th></th>\n",
              "      <th></th>\n",
              "      <th></th>\n",
              "      <th></th>\n",
              "      <th></th>\n",
              "      <th></th>\n",
              "      <th></th>\n",
              "      <th></th>\n",
              "      <th></th>\n",
              "      <th></th>\n",
              "      <th></th>\n",
              "      <th></th>\n",
              "      <th></th>\n",
              "      <th></th>\n",
              "      <th></th>\n",
              "    </tr>\n",
              "  </thead>\n",
              "  <tbody>\n",
              "    <tr>\n",
              "      <th rowspan=\"3\" valign=\"top\">Female</th>\n",
              "      <th>Midle Class</th>\n",
              "      <td>94.0</td>\n",
              "      <td>159.036879</td>\n",
              "      <td>27.021573</td>\n",
              "      <td>75.426512</td>\n",
              "      <td>140.090049</td>\n",
              "      <td>159.711411</td>\n",
              "      <td>176.708588</td>\n",
              "      <td>224.912986</td>\n",
              "      <td>94.0</td>\n",
              "      <td>65.385972</td>\n",
              "      <td>26.866457</td>\n",
              "      <td>4.675728</td>\n",
              "      <td>44.621664</td>\n",
              "      <td>65.433319</td>\n",
              "      <td>87.350401</td>\n",
              "      <td>123.920715</td>\n",
              "      <td>94.0</td>\n",
              "      <td>30.072859</td>\n",
              "      <td>11.447380</td>\n",
              "      <td>5.468383</td>\n",
              "      <td>22.651560</td>\n",
              "      <td>30.069808</td>\n",
              "      <td>38.761524</td>\n",
              "      <td>56.533430</td>\n",
              "      <td>94.0</td>\n",
              "      <td>1515.261255</td>\n",
              "      <td>3531.249378</td>\n",
              "      <td>-9949.057733</td>\n",
              "      <td>-219.419474</td>\n",
              "      <td>1865.795695</td>\n",
              "      <td>3722.079675</td>\n",
              "      <td>8189.737666</td>\n",
              "    </tr>\n",
              "    <tr>\n",
              "      <th>Poor</th>\n",
              "      <td>81.0</td>\n",
              "      <td>161.249605</td>\n",
              "      <td>27.560640</td>\n",
              "      <td>98.453941</td>\n",
              "      <td>142.863671</td>\n",
              "      <td>165.840813</td>\n",
              "      <td>177.541795</td>\n",
              "      <td>221.717570</td>\n",
              "      <td>81.0</td>\n",
              "      <td>65.566919</td>\n",
              "      <td>25.507428</td>\n",
              "      <td>4.444633</td>\n",
              "      <td>47.213308</td>\n",
              "      <td>64.204936</td>\n",
              "      <td>82.667856</td>\n",
              "      <td>132.472448</td>\n",
              "      <td>81.0</td>\n",
              "      <td>31.027192</td>\n",
              "      <td>11.650116</td>\n",
              "      <td>1.154396</td>\n",
              "      <td>23.402549</td>\n",
              "      <td>31.968809</td>\n",
              "      <td>37.858261</td>\n",
              "      <td>58.123380</td>\n",
              "      <td>81.0</td>\n",
              "      <td>723.982113</td>\n",
              "      <td>3450.093580</td>\n",
              "      <td>-8416.554975</td>\n",
              "      <td>-1179.457704</td>\n",
              "      <td>940.801675</td>\n",
              "      <td>2897.359997</td>\n",
              "      <td>7688.813458</td>\n",
              "    </tr>\n",
              "    <tr>\n",
              "      <th>Rich</th>\n",
              "      <td>78.0</td>\n",
              "      <td>162.648855</td>\n",
              "      <td>26.246252</td>\n",
              "      <td>83.848349</td>\n",
              "      <td>147.164165</td>\n",
              "      <td>165.235742</td>\n",
              "      <td>183.408354</td>\n",
              "      <td>210.307820</td>\n",
              "      <td>78.0</td>\n",
              "      <td>65.591786</td>\n",
              "      <td>22.904047</td>\n",
              "      <td>6.464787</td>\n",
              "      <td>50.393715</td>\n",
              "      <td>63.166825</td>\n",
              "      <td>80.402273</td>\n",
              "      <td>136.263894</td>\n",
              "      <td>78.0</td>\n",
              "      <td>31.360765</td>\n",
              "      <td>11.918250</td>\n",
              "      <td>7.552436</td>\n",
              "      <td>23.298602</td>\n",
              "      <td>31.342896</td>\n",
              "      <td>39.263589</td>\n",
              "      <td>58.180612</td>\n",
              "      <td>78.0</td>\n",
              "      <td>1497.520082</td>\n",
              "      <td>3483.123292</td>\n",
              "      <td>-7728.434083</td>\n",
              "      <td>-1308.906826</td>\n",
              "      <td>1918.798723</td>\n",
              "      <td>3919.261247</td>\n",
              "      <td>10677.254328</td>\n",
              "    </tr>\n",
              "    <tr>\n",
              "      <th rowspan=\"3\" valign=\"top\">Male</th>\n",
              "      <th>Midle Class</th>\n",
              "      <td>70.0</td>\n",
              "      <td>157.617993</td>\n",
              "      <td>29.995303</td>\n",
              "      <td>91.998204</td>\n",
              "      <td>134.981392</td>\n",
              "      <td>162.065412</td>\n",
              "      <td>176.927423</td>\n",
              "      <td>223.733190</td>\n",
              "      <td>70.0</td>\n",
              "      <td>65.408441</td>\n",
              "      <td>24.372619</td>\n",
              "      <td>13.294544</td>\n",
              "      <td>47.856177</td>\n",
              "      <td>61.867662</td>\n",
              "      <td>84.932177</td>\n",
              "      <td>111.319388</td>\n",
              "      <td>70.0</td>\n",
              "      <td>31.447131</td>\n",
              "      <td>13.874118</td>\n",
              "      <td>-4.396677</td>\n",
              "      <td>22.059807</td>\n",
              "      <td>30.656489</td>\n",
              "      <td>41.082762</td>\n",
              "      <td>62.807435</td>\n",
              "      <td>70.0</td>\n",
              "      <td>1209.007672</td>\n",
              "      <td>3216.234668</td>\n",
              "      <td>-6272.846285</td>\n",
              "      <td>-717.768537</td>\n",
              "      <td>944.642910</td>\n",
              "      <td>3451.796394</td>\n",
              "      <td>9846.910954</td>\n",
              "    </tr>\n",
              "    <tr>\n",
              "      <th>Poor</th>\n",
              "      <td>87.0</td>\n",
              "      <td>158.781889</td>\n",
              "      <td>34.967370</td>\n",
              "      <td>91.727293</td>\n",
              "      <td>138.037967</td>\n",
              "      <td>158.159629</td>\n",
              "      <td>181.988130</td>\n",
              "      <td>244.860770</td>\n",
              "      <td>87.0</td>\n",
              "      <td>67.238670</td>\n",
              "      <td>26.426215</td>\n",
              "      <td>7.576136</td>\n",
              "      <td>51.888069</td>\n",
              "      <td>66.312444</td>\n",
              "      <td>88.734624</td>\n",
              "      <td>116.435675</td>\n",
              "      <td>87.0</td>\n",
              "      <td>30.564762</td>\n",
              "      <td>10.325861</td>\n",
              "      <td>6.693322</td>\n",
              "      <td>22.932957</td>\n",
              "      <td>29.813951</td>\n",
              "      <td>37.837787</td>\n",
              "      <td>56.173206</td>\n",
              "      <td>87.0</td>\n",
              "      <td>2048.129166</td>\n",
              "      <td>3394.889920</td>\n",
              "      <td>-7220.389410</td>\n",
              "      <td>-78.783391</td>\n",
              "      <td>2606.895000</td>\n",
              "      <td>4301.449055</td>\n",
              "      <td>8636.421803</td>\n",
              "    </tr>\n",
              "    <tr>\n",
              "      <th>Rich</th>\n",
              "      <td>90.0</td>\n",
              "      <td>156.914417</td>\n",
              "      <td>28.955677</td>\n",
              "      <td>55.802891</td>\n",
              "      <td>139.615717</td>\n",
              "      <td>155.358569</td>\n",
              "      <td>178.399088</td>\n",
              "      <td>261.442132</td>\n",
              "      <td>90.0</td>\n",
              "      <td>65.124051</td>\n",
              "      <td>26.166188</td>\n",
              "      <td>-10.740928</td>\n",
              "      <td>48.414927</td>\n",
              "      <td>67.447036</td>\n",
              "      <td>83.885907</td>\n",
              "      <td>127.927441</td>\n",
              "      <td>90.0</td>\n",
              "      <td>29.791476</td>\n",
              "      <td>11.274789</td>\n",
              "      <td>0.381120</td>\n",
              "      <td>23.000962</td>\n",
              "      <td>30.569538</td>\n",
              "      <td>36.890044</td>\n",
              "      <td>65.487303</td>\n",
              "      <td>90.0</td>\n",
              "      <td>2032.280384</td>\n",
              "      <td>3686.910822</td>\n",
              "      <td>-6178.268888</td>\n",
              "      <td>-26.648155</td>\n",
              "      <td>1778.956644</td>\n",
              "      <td>4318.241282</td>\n",
              "      <td>10091.158031</td>\n",
              "    </tr>\n",
              "  </tbody>\n",
              "</table>\n",
              "</div>"
            ],
            "text/plain": [
              "                       Height              ...       Income              \n",
              "                        count        mean  ...          75%           max\n",
              "Gender Economic status                     ...                           \n",
              "Female Midle Class       94.0  159.036879  ...  3722.079675   8189.737666\n",
              "       Poor              81.0  161.249605  ...  2897.359997   7688.813458\n",
              "       Rich              78.0  162.648855  ...  3919.261247  10677.254328\n",
              "Male   Midle Class       70.0  157.617993  ...  3451.796394   9846.910954\n",
              "       Poor              87.0  158.781889  ...  4301.449055   8636.421803\n",
              "       Rich              90.0  156.914417  ...  4318.241282  10091.158031\n",
              "\n",
              "[6 rows x 32 columns]"
            ]
          },
          "metadata": {
            "tags": []
          },
          "execution_count": 110
        }
      ]
    },
    {
      "cell_type": "code",
      "metadata": {
        "colab": {
          "base_uri": "https://localhost:8080/",
          "height": 266
        },
        "id": "tbtaAwcIKa6Y",
        "outputId": "2f335f6c-26e6-4b9a-b5b5-cb3807a38c84"
      },
      "source": [
        "double_group.count()"
      ],
      "execution_count": null,
      "outputs": [
        {
          "output_type": "execute_result",
          "data": {
            "text/html": [
              "<div>\n",
              "<style scoped>\n",
              "    .dataframe tbody tr th:only-of-type {\n",
              "        vertical-align: middle;\n",
              "    }\n",
              "\n",
              "    .dataframe tbody tr th {\n",
              "        vertical-align: top;\n",
              "    }\n",
              "\n",
              "    .dataframe thead th {\n",
              "        text-align: right;\n",
              "    }\n",
              "</style>\n",
              "<table border=\"1\" class=\"dataframe\">\n",
              "  <thead>\n",
              "    <tr style=\"text-align: right;\">\n",
              "      <th></th>\n",
              "      <th></th>\n",
              "      <th>Height</th>\n",
              "      <th>Weight</th>\n",
              "      <th>Age</th>\n",
              "      <th>Income</th>\n",
              "    </tr>\n",
              "    <tr>\n",
              "      <th>Gender</th>\n",
              "      <th>Economic status</th>\n",
              "      <th></th>\n",
              "      <th></th>\n",
              "      <th></th>\n",
              "      <th></th>\n",
              "    </tr>\n",
              "  </thead>\n",
              "  <tbody>\n",
              "    <tr>\n",
              "      <th rowspan=\"3\" valign=\"top\">Female</th>\n",
              "      <th>Midle Class</th>\n",
              "      <td>94</td>\n",
              "      <td>94</td>\n",
              "      <td>94</td>\n",
              "      <td>94</td>\n",
              "    </tr>\n",
              "    <tr>\n",
              "      <th>Poor</th>\n",
              "      <td>81</td>\n",
              "      <td>81</td>\n",
              "      <td>81</td>\n",
              "      <td>81</td>\n",
              "    </tr>\n",
              "    <tr>\n",
              "      <th>Rich</th>\n",
              "      <td>78</td>\n",
              "      <td>78</td>\n",
              "      <td>78</td>\n",
              "      <td>78</td>\n",
              "    </tr>\n",
              "    <tr>\n",
              "      <th rowspan=\"3\" valign=\"top\">Male</th>\n",
              "      <th>Midle Class</th>\n",
              "      <td>70</td>\n",
              "      <td>70</td>\n",
              "      <td>70</td>\n",
              "      <td>70</td>\n",
              "    </tr>\n",
              "    <tr>\n",
              "      <th>Poor</th>\n",
              "      <td>87</td>\n",
              "      <td>87</td>\n",
              "      <td>87</td>\n",
              "      <td>87</td>\n",
              "    </tr>\n",
              "    <tr>\n",
              "      <th>Rich</th>\n",
              "      <td>90</td>\n",
              "      <td>90</td>\n",
              "      <td>90</td>\n",
              "      <td>90</td>\n",
              "    </tr>\n",
              "  </tbody>\n",
              "</table>\n",
              "</div>"
            ],
            "text/plain": [
              "                        Height  Weight  Age  Income\n",
              "Gender Economic status                             \n",
              "Female Midle Class          94      94   94      94\n",
              "       Poor                 81      81   81      81\n",
              "       Rich                 78      78   78      78\n",
              "Male   Midle Class          70      70   70      70\n",
              "       Poor                 87      87   87      87\n",
              "       Rich                 90      90   90      90"
            ]
          },
          "metadata": {
            "tags": []
          },
          "execution_count": 111
        }
      ]
    },
    {
      "cell_type": "code",
      "metadata": {
        "colab": {
          "base_uri": "https://localhost:8080/",
          "height": 337
        },
        "id": "IqT_NTCdKvt9",
        "outputId": "ecc68fab-9402-420f-b8d8-07830179b2a8"
      },
      "source": [
        "# GRupo de Ingresos\n",
        "grouped_incoem = double_group[\"Income\"]\n",
        "grouped_incoem.describe() # Estaditicos descriptivos para los ingresos una sola variable"
      ],
      "execution_count": null,
      "outputs": [
        {
          "output_type": "execute_result",
          "data": {
            "text/html": [
              "<div>\n",
              "<style scoped>\n",
              "    .dataframe tbody tr th:only-of-type {\n",
              "        vertical-align: middle;\n",
              "    }\n",
              "\n",
              "    .dataframe tbody tr th {\n",
              "        vertical-align: top;\n",
              "    }\n",
              "\n",
              "    .dataframe thead th {\n",
              "        text-align: right;\n",
              "    }\n",
              "</style>\n",
              "<table border=\"1\" class=\"dataframe\">\n",
              "  <thead>\n",
              "    <tr style=\"text-align: right;\">\n",
              "      <th></th>\n",
              "      <th></th>\n",
              "      <th>count</th>\n",
              "      <th>mean</th>\n",
              "      <th>std</th>\n",
              "      <th>min</th>\n",
              "      <th>25%</th>\n",
              "      <th>50%</th>\n",
              "      <th>75%</th>\n",
              "      <th>max</th>\n",
              "    </tr>\n",
              "    <tr>\n",
              "      <th>Gender</th>\n",
              "      <th>Economic status</th>\n",
              "      <th></th>\n",
              "      <th></th>\n",
              "      <th></th>\n",
              "      <th></th>\n",
              "      <th></th>\n",
              "      <th></th>\n",
              "      <th></th>\n",
              "      <th></th>\n",
              "    </tr>\n",
              "  </thead>\n",
              "  <tbody>\n",
              "    <tr>\n",
              "      <th rowspan=\"3\" valign=\"top\">Female</th>\n",
              "      <th>Midle Class</th>\n",
              "      <td>94.0</td>\n",
              "      <td>1515.261255</td>\n",
              "      <td>3531.249378</td>\n",
              "      <td>-9949.057733</td>\n",
              "      <td>-219.419474</td>\n",
              "      <td>1865.795695</td>\n",
              "      <td>3722.079675</td>\n",
              "      <td>8189.737666</td>\n",
              "    </tr>\n",
              "    <tr>\n",
              "      <th>Poor</th>\n",
              "      <td>81.0</td>\n",
              "      <td>723.982113</td>\n",
              "      <td>3450.093580</td>\n",
              "      <td>-8416.554975</td>\n",
              "      <td>-1179.457704</td>\n",
              "      <td>940.801675</td>\n",
              "      <td>2897.359997</td>\n",
              "      <td>7688.813458</td>\n",
              "    </tr>\n",
              "    <tr>\n",
              "      <th>Rich</th>\n",
              "      <td>78.0</td>\n",
              "      <td>1497.520082</td>\n",
              "      <td>3483.123292</td>\n",
              "      <td>-7728.434083</td>\n",
              "      <td>-1308.906826</td>\n",
              "      <td>1918.798723</td>\n",
              "      <td>3919.261247</td>\n",
              "      <td>10677.254328</td>\n",
              "    </tr>\n",
              "    <tr>\n",
              "      <th rowspan=\"3\" valign=\"top\">Male</th>\n",
              "      <th>Midle Class</th>\n",
              "      <td>70.0</td>\n",
              "      <td>1209.007672</td>\n",
              "      <td>3216.234668</td>\n",
              "      <td>-6272.846285</td>\n",
              "      <td>-717.768537</td>\n",
              "      <td>944.642910</td>\n",
              "      <td>3451.796394</td>\n",
              "      <td>9846.910954</td>\n",
              "    </tr>\n",
              "    <tr>\n",
              "      <th>Poor</th>\n",
              "      <td>87.0</td>\n",
              "      <td>2048.129166</td>\n",
              "      <td>3394.889920</td>\n",
              "      <td>-7220.389410</td>\n",
              "      <td>-78.783391</td>\n",
              "      <td>2606.895000</td>\n",
              "      <td>4301.449055</td>\n",
              "      <td>8636.421803</td>\n",
              "    </tr>\n",
              "    <tr>\n",
              "      <th>Rich</th>\n",
              "      <td>90.0</td>\n",
              "      <td>2032.280384</td>\n",
              "      <td>3686.910822</td>\n",
              "      <td>-6178.268888</td>\n",
              "      <td>-26.648155</td>\n",
              "      <td>1778.956644</td>\n",
              "      <td>4318.241282</td>\n",
              "      <td>10091.158031</td>\n",
              "    </tr>\n",
              "  </tbody>\n",
              "</table>\n",
              "</div>"
            ],
            "text/plain": [
              "                        count         mean  ...          75%           max\n",
              "Gender Economic status                      ...                           \n",
              "Female Midle Class       94.0  1515.261255  ...  3722.079675   8189.737666\n",
              "       Poor              81.0   723.982113  ...  2897.359997   7688.813458\n",
              "       Rich              78.0  1497.520082  ...  3919.261247  10677.254328\n",
              "Male   Midle Class       70.0  1209.007672  ...  3451.796394   9846.910954\n",
              "       Poor              87.0  2048.129166  ...  4301.449055   8636.421803\n",
              "       Rich              90.0  2032.280384  ...  4318.241282  10091.158031\n",
              "\n",
              "[6 rows x 8 columns]"
            ]
          },
          "metadata": {
            "tags": []
          },
          "execution_count": 112
        }
      ]
    },
    {
      "cell_type": "code",
      "metadata": {
        "colab": {
          "base_uri": "https://localhost:8080/",
          "height": 266
        },
        "id": "91l2E3PRLQXO",
        "outputId": "651f6e84-1c4a-4cce-fb2e-ba104047846f"
      },
      "source": [
        "double_group.aggregate(\n",
        "   { \n",
        "      \"Income\": np.sum,\n",
        "      \"Age\": np.mean,\n",
        "      \"Height\": np.std\n",
        "    }\n",
        ")"
      ],
      "execution_count": null,
      "outputs": [
        {
          "output_type": "execute_result",
          "data": {
            "text/html": [
              "<div>\n",
              "<style scoped>\n",
              "    .dataframe tbody tr th:only-of-type {\n",
              "        vertical-align: middle;\n",
              "    }\n",
              "\n",
              "    .dataframe tbody tr th {\n",
              "        vertical-align: top;\n",
              "    }\n",
              "\n",
              "    .dataframe thead th {\n",
              "        text-align: right;\n",
              "    }\n",
              "</style>\n",
              "<table border=\"1\" class=\"dataframe\">\n",
              "  <thead>\n",
              "    <tr style=\"text-align: right;\">\n",
              "      <th></th>\n",
              "      <th></th>\n",
              "      <th>Income</th>\n",
              "      <th>Age</th>\n",
              "      <th>Height</th>\n",
              "    </tr>\n",
              "    <tr>\n",
              "      <th>Gender</th>\n",
              "      <th>Economic status</th>\n",
              "      <th></th>\n",
              "      <th></th>\n",
              "      <th></th>\n",
              "    </tr>\n",
              "  </thead>\n",
              "  <tbody>\n",
              "    <tr>\n",
              "      <th rowspan=\"3\" valign=\"top\">Female</th>\n",
              "      <th>Midle Class</th>\n",
              "      <td>142434.557965</td>\n",
              "      <td>30.072859</td>\n",
              "      <td>27.021573</td>\n",
              "    </tr>\n",
              "    <tr>\n",
              "      <th>Poor</th>\n",
              "      <td>58642.551120</td>\n",
              "      <td>31.027192</td>\n",
              "      <td>27.560640</td>\n",
              "    </tr>\n",
              "    <tr>\n",
              "      <th>Rich</th>\n",
              "      <td>116806.566414</td>\n",
              "      <td>31.360765</td>\n",
              "      <td>26.246252</td>\n",
              "    </tr>\n",
              "    <tr>\n",
              "      <th rowspan=\"3\" valign=\"top\">Male</th>\n",
              "      <th>Midle Class</th>\n",
              "      <td>84630.537007</td>\n",
              "      <td>31.447131</td>\n",
              "      <td>29.995303</td>\n",
              "    </tr>\n",
              "    <tr>\n",
              "      <th>Poor</th>\n",
              "      <td>178187.237454</td>\n",
              "      <td>30.564762</td>\n",
              "      <td>34.967370</td>\n",
              "    </tr>\n",
              "    <tr>\n",
              "      <th>Rich</th>\n",
              "      <td>182905.234549</td>\n",
              "      <td>29.791476</td>\n",
              "      <td>28.955677</td>\n",
              "    </tr>\n",
              "  </tbody>\n",
              "</table>\n",
              "</div>"
            ],
            "text/plain": [
              "                               Income        Age     Height\n",
              "Gender Economic status                                     \n",
              "Female Midle Class      142434.557965  30.072859  27.021573\n",
              "       Poor              58642.551120  31.027192  27.560640\n",
              "       Rich             116806.566414  31.360765  26.246252\n",
              "Male   Midle Class       84630.537007  31.447131  29.995303\n",
              "       Poor             178187.237454  30.564762  34.967370\n",
              "       Rich             182905.234549  29.791476  28.955677"
            ]
          },
          "metadata": {
            "tags": []
          },
          "execution_count": 113
        }
      ]
    },
    {
      "cell_type": "code",
      "metadata": {
        "colab": {
          "base_uri": "https://localhost:8080/",
          "height": 142
        },
        "id": "kE4RY6ODMWzP",
        "outputId": "56b9b9e5-c6c2-431f-a2f4-b43b8cd653c9"
      },
      "source": [
        "double_group_sex = data.groupby([\"Gender\"])\n",
        "double_group_sex.aggregate(\n",
        "   { \n",
        "      \"Income\": np.sum,\n",
        "      \"Age\": np.mean,\n",
        "      \"Height\": np.std\n",
        "    }\n",
        ")"
      ],
      "execution_count": null,
      "outputs": [
        {
          "output_type": "execute_result",
          "data": {
            "text/html": [
              "<div>\n",
              "<style scoped>\n",
              "    .dataframe tbody tr th:only-of-type {\n",
              "        vertical-align: middle;\n",
              "    }\n",
              "\n",
              "    .dataframe tbody tr th {\n",
              "        vertical-align: top;\n",
              "    }\n",
              "\n",
              "    .dataframe thead th {\n",
              "        text-align: right;\n",
              "    }\n",
              "</style>\n",
              "<table border=\"1\" class=\"dataframe\">\n",
              "  <thead>\n",
              "    <tr style=\"text-align: right;\">\n",
              "      <th></th>\n",
              "      <th>Income</th>\n",
              "      <th>Age</th>\n",
              "      <th>Height</th>\n",
              "    </tr>\n",
              "    <tr>\n",
              "      <th>Gender</th>\n",
              "      <th></th>\n",
              "      <th></th>\n",
              "      <th></th>\n",
              "    </tr>\n",
              "  </thead>\n",
              "  <tbody>\n",
              "    <tr>\n",
              "      <th>Female</th>\n",
              "      <td>317883.675498</td>\n",
              "      <td>30.775458</td>\n",
              "      <td>26.895557</td>\n",
              "    </tr>\n",
              "    <tr>\n",
              "      <th>Male</th>\n",
              "      <td>445723.009011</td>\n",
              "      <td>30.533062</td>\n",
              "      <td>31.365351</td>\n",
              "    </tr>\n",
              "  </tbody>\n",
              "</table>\n",
              "</div>"
            ],
            "text/plain": [
              "               Income        Age     Height\n",
              "Gender                                     \n",
              "Female  317883.675498  30.775458  26.895557\n",
              "Male    445723.009011  30.533062  31.365351"
            ]
          },
          "metadata": {
            "tags": []
          },
          "execution_count": 114
        }
      ]
    },
    {
      "cell_type": "markdown",
      "metadata": {
        "id": "dLDHieWMOYhN"
      },
      "source": [
        "## Transofrmación de datos y operaciones con datso agrupados"
      ]
    },
    {
      "cell_type": "code",
      "metadata": {
        "colab": {
          "base_uri": "https://localhost:8080/",
          "height": 266
        },
        "id": "gXgHejtANWDd",
        "outputId": "59c00922-5981-4410-fac7-fbdf379c2c43"
      },
      "source": [
        "double_group.aggregate(\n",
        "    {\n",
        "        \"Age\": np.sum,\n",
        "        \"Height\": lambda h: (np.mean(h))/np.std(h)\n",
        "    }\n",
        ")\n"
      ],
      "execution_count": null,
      "outputs": [
        {
          "output_type": "execute_result",
          "data": {
            "text/html": [
              "<div>\n",
              "<style scoped>\n",
              "    .dataframe tbody tr th:only-of-type {\n",
              "        vertical-align: middle;\n",
              "    }\n",
              "\n",
              "    .dataframe tbody tr th {\n",
              "        vertical-align: top;\n",
              "    }\n",
              "\n",
              "    .dataframe thead th {\n",
              "        text-align: right;\n",
              "    }\n",
              "</style>\n",
              "<table border=\"1\" class=\"dataframe\">\n",
              "  <thead>\n",
              "    <tr style=\"text-align: right;\">\n",
              "      <th></th>\n",
              "      <th></th>\n",
              "      <th>Age</th>\n",
              "      <th>Height</th>\n",
              "    </tr>\n",
              "    <tr>\n",
              "      <th>Gender</th>\n",
              "      <th>Economic status</th>\n",
              "      <th></th>\n",
              "      <th></th>\n",
              "    </tr>\n",
              "  </thead>\n",
              "  <tbody>\n",
              "    <tr>\n",
              "      <th rowspan=\"3\" valign=\"top\">Female</th>\n",
              "      <th>Midle Class</th>\n",
              "      <td>2826.848769</td>\n",
              "      <td>5.917110</td>\n",
              "    </tr>\n",
              "    <tr>\n",
              "      <th>Poor</th>\n",
              "      <td>2513.202545</td>\n",
              "      <td>5.887174</td>\n",
              "    </tr>\n",
              "    <tr>\n",
              "      <th>Rich</th>\n",
              "      <td>2446.139686</td>\n",
              "      <td>6.237142</td>\n",
              "    </tr>\n",
              "    <tr>\n",
              "      <th rowspan=\"3\" valign=\"top\">Male</th>\n",
              "      <th>Midle Class</th>\n",
              "      <td>2201.299189</td>\n",
              "      <td>5.292697</td>\n",
              "    </tr>\n",
              "    <tr>\n",
              "      <th>Poor</th>\n",
              "      <td>2659.134265</td>\n",
              "      <td>4.567183</td>\n",
              "    </tr>\n",
              "    <tr>\n",
              "      <th>Rich</th>\n",
              "      <td>2681.232877</td>\n",
              "      <td>5.449484</td>\n",
              "    </tr>\n",
              "  </tbody>\n",
              "</table>\n",
              "</div>"
            ],
            "text/plain": [
              "                                Age    Height\n",
              "Gender Economic status                       \n",
              "Female Midle Class      2826.848769  5.917110\n",
              "       Poor             2513.202545  5.887174\n",
              "       Rich             2446.139686  6.237142\n",
              "Male   Midle Class      2201.299189  5.292697\n",
              "       Poor             2659.134265  4.567183\n",
              "       Rich             2681.232877  5.449484"
            ]
          },
          "metadata": {
            "tags": []
          },
          "execution_count": 115
        }
      ]
    },
    {
      "cell_type": "markdown",
      "metadata": {
        "id": "S_4wRFXmPT3n"
      },
      "source": [
        "* Calcular a todas las columnas la suma , la media y la desviación."
      ]
    },
    {
      "cell_type": "code",
      "metadata": {
        "colab": {
          "base_uri": "https://localhost:8080/",
          "height": 368
        },
        "id": "-vqtJVzHPbb_",
        "outputId": "1e13f251-4516-4cad-df3f-529d833d18e0"
      },
      "source": [
        "double_group.aggregate([np.sum, np.mean, np.std])"
      ],
      "execution_count": null,
      "outputs": [
        {
          "output_type": "execute_result",
          "data": {
            "text/html": [
              "<div>\n",
              "<style scoped>\n",
              "    .dataframe tbody tr th:only-of-type {\n",
              "        vertical-align: middle;\n",
              "    }\n",
              "\n",
              "    .dataframe tbody tr th {\n",
              "        vertical-align: top;\n",
              "    }\n",
              "\n",
              "    .dataframe thead tr th {\n",
              "        text-align: left;\n",
              "    }\n",
              "\n",
              "    .dataframe thead tr:last-of-type th {\n",
              "        text-align: right;\n",
              "    }\n",
              "</style>\n",
              "<table border=\"1\" class=\"dataframe\">\n",
              "  <thead>\n",
              "    <tr>\n",
              "      <th></th>\n",
              "      <th></th>\n",
              "      <th colspan=\"3\" halign=\"left\">Height</th>\n",
              "      <th colspan=\"3\" halign=\"left\">Weight</th>\n",
              "      <th colspan=\"3\" halign=\"left\">Age</th>\n",
              "      <th colspan=\"3\" halign=\"left\">Income</th>\n",
              "    </tr>\n",
              "    <tr>\n",
              "      <th></th>\n",
              "      <th></th>\n",
              "      <th>sum</th>\n",
              "      <th>mean</th>\n",
              "      <th>std</th>\n",
              "      <th>sum</th>\n",
              "      <th>mean</th>\n",
              "      <th>std</th>\n",
              "      <th>sum</th>\n",
              "      <th>mean</th>\n",
              "      <th>std</th>\n",
              "      <th>sum</th>\n",
              "      <th>mean</th>\n",
              "      <th>std</th>\n",
              "    </tr>\n",
              "    <tr>\n",
              "      <th>Gender</th>\n",
              "      <th>Economic status</th>\n",
              "      <th></th>\n",
              "      <th></th>\n",
              "      <th></th>\n",
              "      <th></th>\n",
              "      <th></th>\n",
              "      <th></th>\n",
              "      <th></th>\n",
              "      <th></th>\n",
              "      <th></th>\n",
              "      <th></th>\n",
              "      <th></th>\n",
              "      <th></th>\n",
              "    </tr>\n",
              "  </thead>\n",
              "  <tbody>\n",
              "    <tr>\n",
              "      <th rowspan=\"3\" valign=\"top\">Female</th>\n",
              "      <th>Midle Class</th>\n",
              "      <td>14949.466649</td>\n",
              "      <td>159.036879</td>\n",
              "      <td>27.021573</td>\n",
              "      <td>6146.281336</td>\n",
              "      <td>65.385972</td>\n",
              "      <td>26.866457</td>\n",
              "      <td>2826.848769</td>\n",
              "      <td>30.072859</td>\n",
              "      <td>11.447380</td>\n",
              "      <td>142434.557965</td>\n",
              "      <td>1515.261255</td>\n",
              "      <td>3531.249378</td>\n",
              "    </tr>\n",
              "    <tr>\n",
              "      <th>Poor</th>\n",
              "      <td>13061.218021</td>\n",
              "      <td>161.249605</td>\n",
              "      <td>27.560640</td>\n",
              "      <td>5310.920476</td>\n",
              "      <td>65.566919</td>\n",
              "      <td>25.507428</td>\n",
              "      <td>2513.202545</td>\n",
              "      <td>31.027192</td>\n",
              "      <td>11.650116</td>\n",
              "      <td>58642.551120</td>\n",
              "      <td>723.982113</td>\n",
              "      <td>3450.093580</td>\n",
              "    </tr>\n",
              "    <tr>\n",
              "      <th>Rich</th>\n",
              "      <td>12686.610706</td>\n",
              "      <td>162.648855</td>\n",
              "      <td>26.246252</td>\n",
              "      <td>5116.159299</td>\n",
              "      <td>65.591786</td>\n",
              "      <td>22.904047</td>\n",
              "      <td>2446.139686</td>\n",
              "      <td>31.360765</td>\n",
              "      <td>11.918250</td>\n",
              "      <td>116806.566414</td>\n",
              "      <td>1497.520082</td>\n",
              "      <td>3483.123292</td>\n",
              "    </tr>\n",
              "    <tr>\n",
              "      <th rowspan=\"3\" valign=\"top\">Male</th>\n",
              "      <th>Midle Class</th>\n",
              "      <td>11033.259516</td>\n",
              "      <td>157.617993</td>\n",
              "      <td>29.995303</td>\n",
              "      <td>4578.590878</td>\n",
              "      <td>65.408441</td>\n",
              "      <td>24.372619</td>\n",
              "      <td>2201.299189</td>\n",
              "      <td>31.447131</td>\n",
              "      <td>13.874118</td>\n",
              "      <td>84630.537007</td>\n",
              "      <td>1209.007672</td>\n",
              "      <td>3216.234668</td>\n",
              "    </tr>\n",
              "    <tr>\n",
              "      <th>Poor</th>\n",
              "      <td>13814.024325</td>\n",
              "      <td>158.781889</td>\n",
              "      <td>34.967370</td>\n",
              "      <td>5849.764323</td>\n",
              "      <td>67.238670</td>\n",
              "      <td>26.426215</td>\n",
              "      <td>2659.134265</td>\n",
              "      <td>30.564762</td>\n",
              "      <td>10.325861</td>\n",
              "      <td>178187.237454</td>\n",
              "      <td>2048.129166</td>\n",
              "      <td>3394.889920</td>\n",
              "    </tr>\n",
              "    <tr>\n",
              "      <th>Rich</th>\n",
              "      <td>14122.297517</td>\n",
              "      <td>156.914417</td>\n",
              "      <td>28.955677</td>\n",
              "      <td>5861.164606</td>\n",
              "      <td>65.124051</td>\n",
              "      <td>26.166188</td>\n",
              "      <td>2681.232877</td>\n",
              "      <td>29.791476</td>\n",
              "      <td>11.274789</td>\n",
              "      <td>182905.234549</td>\n",
              "      <td>2032.280384</td>\n",
              "      <td>3686.910822</td>\n",
              "    </tr>\n",
              "  </tbody>\n",
              "</table>\n",
              "</div>"
            ],
            "text/plain": [
              "                              Height              ...       Income             \n",
              "                                 sum        mean  ...         mean          std\n",
              "Gender Economic status                            ...                          \n",
              "Female Midle Class      14949.466649  159.036879  ...  1515.261255  3531.249378\n",
              "       Poor             13061.218021  161.249605  ...   723.982113  3450.093580\n",
              "       Rich             12686.610706  162.648855  ...  1497.520082  3483.123292\n",
              "Male   Midle Class      11033.259516  157.617993  ...  1209.007672  3216.234668\n",
              "       Poor             13814.024325  158.781889  ...  2048.129166  3394.889920\n",
              "       Rich             14122.297517  156.914417  ...  2032.280384  3686.910822\n",
              "\n",
              "[6 rows x 12 columns]"
            ]
          },
          "metadata": {
            "tags": []
          },
          "execution_count": 116
        }
      ]
    },
    {
      "cell_type": "code",
      "metadata": {
        "colab": {
          "base_uri": "https://localhost:8080/",
          "height": 297
        },
        "id": "x4vVDIPxP0Kv",
        "outputId": "4b121785-9dd4-4eb5-da89-c5a73842c12d"
      },
      "source": [
        "double_group.aggregate([lambda x: np.sum(x) / np.std(x)]) # igual ala función anterior soloq ue usando la función lambda"
      ],
      "execution_count": null,
      "outputs": [
        {
          "output_type": "execute_result",
          "data": {
            "text/html": [
              "<div>\n",
              "<style scoped>\n",
              "    .dataframe tbody tr th:only-of-type {\n",
              "        vertical-align: middle;\n",
              "    }\n",
              "\n",
              "    .dataframe tbody tr th {\n",
              "        vertical-align: top;\n",
              "    }\n",
              "\n",
              "    .dataframe thead tr th {\n",
              "        text-align: left;\n",
              "    }\n",
              "\n",
              "    .dataframe thead tr:last-of-type th {\n",
              "        text-align: right;\n",
              "    }\n",
              "</style>\n",
              "<table border=\"1\" class=\"dataframe\">\n",
              "  <thead>\n",
              "    <tr>\n",
              "      <th></th>\n",
              "      <th></th>\n",
              "      <th>Height</th>\n",
              "      <th>Weight</th>\n",
              "      <th>Age</th>\n",
              "      <th>Income</th>\n",
              "    </tr>\n",
              "    <tr>\n",
              "      <th></th>\n",
              "      <th></th>\n",
              "      <th>&lt;lambda&gt;</th>\n",
              "      <th>&lt;lambda&gt;</th>\n",
              "      <th>&lt;lambda&gt;</th>\n",
              "      <th>&lt;lambda&gt;</th>\n",
              "    </tr>\n",
              "    <tr>\n",
              "      <th>Gender</th>\n",
              "      <th>Economic status</th>\n",
              "      <th></th>\n",
              "      <th></th>\n",
              "      <th></th>\n",
              "      <th></th>\n",
              "    </tr>\n",
              "  </thead>\n",
              "  <tbody>\n",
              "    <tr>\n",
              "      <th rowspan=\"3\" valign=\"top\">Female</th>\n",
              "      <th>Midle Class</th>\n",
              "      <td>556.208375</td>\n",
              "      <td>229.998230</td>\n",
              "      <td>248.266954</td>\n",
              "      <td>40.551735</td>\n",
              "    </tr>\n",
              "    <tr>\n",
              "      <th>Poor</th>\n",
              "      <td>476.861099</td>\n",
              "      <td>209.508013</td>\n",
              "      <td>217.067475</td>\n",
              "      <td>17.103284</td>\n",
              "    </tr>\n",
              "    <tr>\n",
              "      <th>Rich</th>\n",
              "      <td>486.497100</td>\n",
              "      <td>224.819395</td>\n",
              "      <td>206.571639</td>\n",
              "      <td>33.752065</td>\n",
              "    </tr>\n",
              "    <tr>\n",
              "      <th rowspan=\"3\" valign=\"top\">Male</th>\n",
              "      <th>Midle Class</th>\n",
              "      <td>370.488774</td>\n",
              "      <td>189.214373</td>\n",
              "      <td>159.807865</td>\n",
              "      <td>26.503537</td>\n",
              "    </tr>\n",
              "    <tr>\n",
              "      <th>Poor</th>\n",
              "      <td>397.344905</td>\n",
              "      <td>222.645437</td>\n",
              "      <td>259.014689</td>\n",
              "      <td>52.791171</td>\n",
              "    </tr>\n",
              "    <tr>\n",
              "      <th>Rich</th>\n",
              "      <td>490.453559</td>\n",
              "      <td>225.252547</td>\n",
              "      <td>239.140070</td>\n",
              "      <td>49.887272</td>\n",
              "    </tr>\n",
              "  </tbody>\n",
              "</table>\n",
              "</div>"
            ],
            "text/plain": [
              "                            Height      Weight         Age     Income\n",
              "                          <lambda>    <lambda>    <lambda>   <lambda>\n",
              "Gender Economic status                                               \n",
              "Female Midle Class      556.208375  229.998230  248.266954  40.551735\n",
              "       Poor             476.861099  209.508013  217.067475  17.103284\n",
              "       Rich             486.497100  224.819395  206.571639  33.752065\n",
              "Male   Midle Class      370.488774  189.214373  159.807865  26.503537\n",
              "       Poor             397.344905  222.645437  259.014689  52.791171\n",
              "       Rich             490.453559  225.252547  239.140070  49.887272"
            ]
          },
          "metadata": {
            "tags": []
          },
          "execution_count": 117
        }
      ]
    },
    {
      "cell_type": "markdown",
      "metadata": {
        "id": "vRGXnAlEQMv0"
      },
      "source": [
        "# Filtrado de datos"
      ]
    },
    {
      "cell_type": "code",
      "metadata": {
        "colab": {
          "base_uri": "https://localhost:8080/",
          "height": 266
        },
        "id": "zy5Zl9I0QLvG",
        "outputId": "d3351275-9758-4594-d959-5b80b669f3fd"
      },
      "source": [
        "double_group.sum()"
      ],
      "execution_count": null,
      "outputs": [
        {
          "output_type": "execute_result",
          "data": {
            "text/html": [
              "<div>\n",
              "<style scoped>\n",
              "    .dataframe tbody tr th:only-of-type {\n",
              "        vertical-align: middle;\n",
              "    }\n",
              "\n",
              "    .dataframe tbody tr th {\n",
              "        vertical-align: top;\n",
              "    }\n",
              "\n",
              "    .dataframe thead th {\n",
              "        text-align: right;\n",
              "    }\n",
              "</style>\n",
              "<table border=\"1\" class=\"dataframe\">\n",
              "  <thead>\n",
              "    <tr style=\"text-align: right;\">\n",
              "      <th></th>\n",
              "      <th></th>\n",
              "      <th>Height</th>\n",
              "      <th>Weight</th>\n",
              "      <th>Age</th>\n",
              "      <th>Income</th>\n",
              "    </tr>\n",
              "    <tr>\n",
              "      <th>Gender</th>\n",
              "      <th>Economic status</th>\n",
              "      <th></th>\n",
              "      <th></th>\n",
              "      <th></th>\n",
              "      <th></th>\n",
              "    </tr>\n",
              "  </thead>\n",
              "  <tbody>\n",
              "    <tr>\n",
              "      <th rowspan=\"3\" valign=\"top\">Female</th>\n",
              "      <th>Midle Class</th>\n",
              "      <td>14949.466649</td>\n",
              "      <td>6146.281336</td>\n",
              "      <td>2826.848769</td>\n",
              "      <td>142434.557965</td>\n",
              "    </tr>\n",
              "    <tr>\n",
              "      <th>Poor</th>\n",
              "      <td>13061.218021</td>\n",
              "      <td>5310.920476</td>\n",
              "      <td>2513.202545</td>\n",
              "      <td>58642.551120</td>\n",
              "    </tr>\n",
              "    <tr>\n",
              "      <th>Rich</th>\n",
              "      <td>12686.610706</td>\n",
              "      <td>5116.159299</td>\n",
              "      <td>2446.139686</td>\n",
              "      <td>116806.566414</td>\n",
              "    </tr>\n",
              "    <tr>\n",
              "      <th rowspan=\"3\" valign=\"top\">Male</th>\n",
              "      <th>Midle Class</th>\n",
              "      <td>11033.259516</td>\n",
              "      <td>4578.590878</td>\n",
              "      <td>2201.299189</td>\n",
              "      <td>84630.537007</td>\n",
              "    </tr>\n",
              "    <tr>\n",
              "      <th>Poor</th>\n",
              "      <td>13814.024325</td>\n",
              "      <td>5849.764323</td>\n",
              "      <td>2659.134265</td>\n",
              "      <td>178187.237454</td>\n",
              "    </tr>\n",
              "    <tr>\n",
              "      <th>Rich</th>\n",
              "      <td>14122.297517</td>\n",
              "      <td>5861.164606</td>\n",
              "      <td>2681.232877</td>\n",
              "      <td>182905.234549</td>\n",
              "    </tr>\n",
              "  </tbody>\n",
              "</table>\n",
              "</div>"
            ],
            "text/plain": [
              "                              Height       Weight          Age         Income\n",
              "Gender Economic status                                                       \n",
              "Female Midle Class      14949.466649  6146.281336  2826.848769  142434.557965\n",
              "       Poor             13061.218021  5310.920476  2513.202545   58642.551120\n",
              "       Rich             12686.610706  5116.159299  2446.139686  116806.566414\n",
              "Male   Midle Class      11033.259516  4578.590878  2201.299189   84630.537007\n",
              "       Poor             13814.024325  5849.764323  2659.134265  178187.237454\n",
              "       Rich             14122.297517  5861.164606  2681.232877  182905.234549"
            ]
          },
          "metadata": {
            "tags": []
          },
          "execution_count": 118
        }
      ]
    },
    {
      "cell_type": "code",
      "metadata": {
        "colab": {
          "base_uri": "https://localhost:8080/"
        },
        "id": "_HwxkiN4QJii",
        "outputId": "92d8682b-c9c5-4650-96ff-715aeaefdf10"
      },
      "source": [
        "double_group[\"Age\"].filter(lambda x: x.sum()>30)"
      ],
      "execution_count": null,
      "outputs": [
        {
          "output_type": "execute_result",
          "data": {
            "text/plain": [
              "0      31.436497\n",
              "1      50.672524\n",
              "2      36.979868\n",
              "3      31.261843\n",
              "4      56.173206\n",
              "         ...    \n",
              "495    30.057999\n",
              "496    33.632104\n",
              "497    16.766528\n",
              "498    57.347488\n",
              "499    35.815724\n",
              "Name: Age, Length: 500, dtype: float64"
            ]
          },
          "metadata": {
            "tags": []
          },
          "execution_count": 119
        }
      ]
    },
    {
      "cell_type": "markdown",
      "metadata": {
        "id": "b6wTMPlud8j1"
      },
      "source": [
        "# Transofrmación de variables"
      ]
    },
    {
      "cell_type": "code",
      "metadata": {
        "id": "YU012moHeAes"
      },
      "source": [
        "zcore = lambda x: (x - x.mean())/x.std()\n",
        "zgroup= double_group.transform(zcore)"
      ],
      "execution_count": null,
      "outputs": []
    },
    {
      "cell_type": "code",
      "metadata": {
        "colab": {
          "base_uri": "https://localhost:8080/",
          "height": 350
        },
        "id": "ku_DC0qRzOkH",
        "outputId": "09caca85-44b1-4c88-e81b-afefee88a93e"
      },
      "source": [
        "import matplotlib.pyplot as plt\n",
        "plt.hist(zgroup[\"Age\"])"
      ],
      "execution_count": null,
      "outputs": [
        {
          "output_type": "execute_result",
          "data": {
            "text/plain": [
              "(array([ 10.,  22.,  68.,  97., 106.,  97.,  67.,  24.,   8.,   1.]),\n",
              " array([-2.60850609, -2.03105687, -1.45360765, -0.87615843, -0.29870922,\n",
              "         0.27874   ,  0.85618922,  1.43363844,  2.01108766,  2.58853688,\n",
              "         3.16598609]),\n",
              " <a list of 10 Patch objects>)"
            ]
          },
          "metadata": {
            "tags": []
          },
          "execution_count": 123
        },
        {
          "output_type": "display_data",
          "data": {
            "image/png": "[encoded data removed]",
            "text/plain": [
              "<Figure size 432x288 with 1 Axes>"
            ]
          },
          "metadata": {
            "tags": [],
            "needs_background": "light"
          }
        }
      ]
    },
    {
      "cell_type": "code",
      "metadata": {
        "id": "9M4uABaQzqLl"
      },
      "source": [
        "# Reemplzar NAs\n",
        "fill_na_mean = lambda x: x.fillna(x.mean())\n",
        "double_group.transform(fill_na_mean)"
      ],
      "execution_count": null,
      "outputs": []
    },
    {
      "cell_type": "markdown",
      "metadata": {
        "id": "ycJoG1On0Eyp"
      },
      "source": [
        "# Operaciones Diversas"
      ]
    },
    {
      "cell_type": "code",
      "metadata": {
        "id": "ljXpXiKj0H7i"
      },
      "source": [
        "double_group.head(1)\n",
        "double_group.tail(1)\n",
        "double_group.nth(80) # se obtine el nesimo grupo\n"
      ],
      "execution_count": null,
      "outputs": []
    },
    {
      "cell_type": "markdown",
      "metadata": {
        "id": "D0LbuUk70144"
      },
      "source": [
        "# Ordenación de columnas"
      ]
    },
    {
      "cell_type": "code",
      "metadata": {
        "id": "UijqASaO1A8w"
      },
      "source": [
        "data_sorted = data.sort_values([\"Age\", \"Income\"])\n",
        "data_sorted.head()"
      ],
      "execution_count": null,
      "outputs": []
    },
    {
      "cell_type": "code",
      "metadata": {
        "id": "FU1D31Vb1nJ8"
      },
      "source": [
        "age_grouped = data_sorted.groupby(\"Gender\")\n",
        "age_grouped.head()"
      ],
      "execution_count": null,
      "outputs": []
    },
    {
      "cell_type": "code",
      "metadata": {
        "colab": {
          "base_uri": "https://localhost:8080/",
          "height": 111
        },
        "id": "xzPAqnYd2Bqd",
        "outputId": "0b37191f-e672-4d5f-c5e4-435c2f81c1e5"
      },
      "source": [
        "age_grouped.head(1) # Los más tiernos"
      ],
      "execution_count": null,
      "outputs": [
        {
          "output_type": "execute_result",
          "data": {
            "text/html": [
              "<div>\n",
              "<style scoped>\n",
              "    .dataframe tbody tr th:only-of-type {\n",
              "        vertical-align: middle;\n",
              "    }\n",
              "\n",
              "    .dataframe tbody tr th {\n",
              "        vertical-align: top;\n",
              "    }\n",
              "\n",
              "    .dataframe thead th {\n",
              "        text-align: right;\n",
              "    }\n",
              "</style>\n",
              "<table border=\"1\" class=\"dataframe\">\n",
              "  <thead>\n",
              "    <tr style=\"text-align: right;\">\n",
              "      <th></th>\n",
              "      <th>Gender</th>\n",
              "      <th>Economic status</th>\n",
              "      <th>Height</th>\n",
              "      <th>Weight</th>\n",
              "      <th>Age</th>\n",
              "      <th>Income</th>\n",
              "    </tr>\n",
              "  </thead>\n",
              "  <tbody>\n",
              "    <tr>\n",
              "      <th>416</th>\n",
              "      <td>Male</td>\n",
              "      <td>Midle Class</td>\n",
              "      <td>156.895353</td>\n",
              "      <td>94.257898</td>\n",
              "      <td>-4.396677</td>\n",
              "      <td>1706.721915</td>\n",
              "    </tr>\n",
              "    <tr>\n",
              "      <th>490</th>\n",
              "      <td>Female</td>\n",
              "      <td>Poor</td>\n",
              "      <td>180.202041</td>\n",
              "      <td>92.534694</td>\n",
              "      <td>1.154396</td>\n",
              "      <td>-5162.888473</td>\n",
              "    </tr>\n",
              "  </tbody>\n",
              "</table>\n",
              "</div>"
            ],
            "text/plain": [
              "     Gender Economic status      Height     Weight       Age       Income\n",
              "416    Male     Midle Class  156.895353  94.257898 -4.396677  1706.721915\n",
              "490  Female            Poor  180.202041  92.534694  1.154396 -5162.888473"
            ]
          },
          "metadata": {
            "tags": []
          },
          "execution_count": 140
        }
      ]
    },
    {
      "cell_type": "code",
      "metadata": {
        "id": "xDFrvCiD2H25",
        "colab": {
          "base_uri": "https://localhost:8080/",
          "height": 111
        },
        "outputId": "a65f16a0-e245-4226-9ce4-8f875e1ba341"
      },
      "source": [
        "age_grouped.tail(1) # Los más viejos"
      ],
      "execution_count": null,
      "outputs": [
        {
          "output_type": "execute_result",
          "data": {
            "text/html": [
              "<div>\n",
              "<style scoped>\n",
              "    .dataframe tbody tr th:only-of-type {\n",
              "        vertical-align: middle;\n",
              "    }\n",
              "\n",
              "    .dataframe tbody tr th {\n",
              "        vertical-align: top;\n",
              "    }\n",
              "\n",
              "    .dataframe thead th {\n",
              "        text-align: right;\n",
              "    }\n",
              "</style>\n",
              "<table border=\"1\" class=\"dataframe\">\n",
              "  <thead>\n",
              "    <tr style=\"text-align: right;\">\n",
              "      <th></th>\n",
              "      <th>Gender</th>\n",
              "      <th>Economic status</th>\n",
              "      <th>Height</th>\n",
              "      <th>Weight</th>\n",
              "      <th>Age</th>\n",
              "      <th>Income</th>\n",
              "    </tr>\n",
              "  </thead>\n",
              "  <tbody>\n",
              "    <tr>\n",
              "      <th>300</th>\n",
              "      <td>Female</td>\n",
              "      <td>Rich</td>\n",
              "      <td>149.789636</td>\n",
              "      <td>59.022798</td>\n",
              "      <td>58.180612</td>\n",
              "      <td>4239.330733</td>\n",
              "    </tr>\n",
              "    <tr>\n",
              "      <th>5</th>\n",
              "      <td>Male</td>\n",
              "      <td>Rich</td>\n",
              "      <td>179.186781</td>\n",
              "      <td>17.405998</td>\n",
              "      <td>65.487303</td>\n",
              "      <td>-5473.465260</td>\n",
              "    </tr>\n",
              "  </tbody>\n",
              "</table>\n",
              "</div>"
            ],
            "text/plain": [
              "     Gender Economic status      Height     Weight        Age       Income\n",
              "300  Female            Rich  149.789636  59.022798  58.180612  4239.330733\n",
              "5      Male            Rich  179.186781  17.405998  65.487303 -5473.465260"
            ]
          },
          "metadata": {
            "tags": []
          },
          "execution_count": 141
        }
      ]
    },
    {
      "cell_type": "markdown",
      "metadata": {
        "id": "62Cdxioto6Z9"
      },
      "source": [
        "# Conjunto de entrenamiento y testing"
      ]
    },
    {
      "cell_type": "code",
      "metadata": {
        "id": "J8QWagwOoEap"
      },
      "source": [
        "import pandas as pd\n",
        "import numpy as np\n",
        "import matplotlib.pyplot as plt\n"
      ],
      "execution_count": null,
      "outputs": []
    },
    {
      "cell_type": "code",
      "metadata": {
        "colab": {
          "base_uri": "https://localhost:8080/"
        },
        "id": "XrqDU2l9pj-R",
        "outputId": "bf257f3f-954e-4250-e5bb-3bd0b0cd1c92"
      },
      "source": [
        "data = pd.read_csv(\"/content/drive/MyDrive/Machine en Python  Udemy/Data/Tab Customer Churn Model.txt\", sep = \"\\t\")\n"
      ],
      "execution_count": null,
      "outputs": [
        {
          "output_type": "execute_result",
          "data": {
            "text/plain": [
              "(3333, 21)"
            ]
          },
          "metadata": {
            "tags": []
          },
          "execution_count": 6
        }
      ]
    },
    {
      "cell_type": "code",
      "metadata": {
        "colab": {
          "base_uri": "https://localhost:8080/"
        },
        "id": "tauF1GHVp1gf",
        "outputId": "1adba4c0-f62e-4f3b-fa37-66aff6028f34"
      },
      "source": [
        "len(data)"
      ],
      "execution_count": null,
      "outputs": [
        {
          "output_type": "execute_result",
          "data": {
            "text/plain": [
              "3333"
            ]
          },
          "metadata": {
            "tags": []
          },
          "execution_count": 7
        }
      ]
    },
    {
      "cell_type": "markdown",
      "metadata": {
        "id": "-w13Bkwkp6a2"
      },
      "source": [
        "# Dividir usanado la distribución normal"
      ]
    },
    {
      "cell_type": "code",
      "metadata": {
        "colab": {
          "base_uri": "https://localhost:8080/",
          "height": 350
        },
        "id": "q8fk0Ro0qCqo",
        "outputId": "0501c48d-7fa7-4423-d13b-17f19a20c990"
      },
      "source": [
        "a = np.random.randn(len(data))\n",
        "plt.hist(a)"
      ],
      "execution_count": null,
      "outputs": [
        {
          "output_type": "execute_result",
          "data": {
            "text/plain": [
              "(array([ 19.,  97., 264., 595., 871., 822., 447., 171.,  45.,   2.]),\n",
              " array([-3.33791717, -2.63916199, -1.9404068 , -1.24165162, -0.54289644,\n",
              "         0.15585875,  0.85461393,  1.55336911,  2.25212429,  2.95087948,\n",
              "         3.64963466]),\n",
              " <a list of 10 Patch objects>)"
            ]
          },
          "metadata": {
            "tags": []
          },
          "execution_count": 11
        },
        {
          "output_type": "display_data",
          "data": {
            "image/png": "[encoded data removed]",
            "text/plain": [
              "<Figure size 432x288 with 1 Axes>"
            ]
          },
          "metadata": {
            "tags": [],
            "needs_background": "light"
          }
        }
      ]
    },
    {
      "cell_type": "code",
      "metadata": {
        "colab": {
          "base_uri": "https://localhost:8080/"
        },
        "id": "wg3VMe66qQDo",
        "outputId": "2c7e95e0-a9ee-4efd-8e94-d21b8cac31fa"
      },
      "source": [
        "check = (a<0.8)\n",
        "check"
      ],
      "execution_count": null,
      "outputs": [
        {
          "output_type": "execute_result",
          "data": {
            "text/plain": [
              "array([False,  True,  True, ...,  True,  True,  True])"
            ]
          },
          "metadata": {
            "tags": []
          },
          "execution_count": 18
        }
      ]
    },
    {
      "cell_type": "code",
      "metadata": {
        "colab": {
          "base_uri": "https://localhost:8080/",
          "height": 333
        },
        "id": "IiJrooSuqdzg",
        "outputId": "86a84c89-38bc-4003-ab13-5beb25539356"
      },
      "source": [
        "plt.hist(check.astype(int))"
      ],
      "execution_count": null,
      "outputs": [
        {
          "output_type": "execute_result",
          "data": {
            "text/plain": [
              "(array([ 714.,    0.,    0.,    0.,    0.,    0.,    0.,    0.,    0.,\n",
              "        2619.]),\n",
              " array([0. , 0.1, 0.2, 0.3, 0.4, 0.5, 0.6, 0.7, 0.8, 0.9, 1. ]),\n",
              " <a list of 10 Patch objects>)"
            ]
          },
          "metadata": {
            "tags": []
          },
          "execution_count": 32
        },
        {
          "output_type": "display_data",
          "data": {
            "image/png": "[encoded data removed]",
            "text/plain": [
              "<Figure size 432x288 with 1 Axes>"
            ]
          },
          "metadata": {
            "tags": [],
            "needs_background": "light"
          }
        }
      ]
    },
    {
      "cell_type": "code",
      "metadata": {
        "colab": {
          "base_uri": "https://localhost:8080/"
        },
        "id": "mr-8ZaOzsHtC",
        "outputId": "b6d75b93-a40f-4593-af05-08aa2cea530a"
      },
      "source": [
        "# Dividimos los datos 80% training y 20% testing\n",
        "a = np.random.randn(len(data))\n",
        "check = (a<0.8)\n",
        "training = data[check]\n",
        "testing = data[~check]\n",
        "print(\"Data de entrenamiento =\",len(training),\n",
        "      \"\\nData de Validación    =\", len(testing))"
      ],
      "execution_count": null,
      "outputs": [
        {
          "output_type": "stream",
          "text": [
            "Data de entrenamiento = 2614 \n",
            "Data de Validación    = 719\n"
          ],
          "name": "stdout"
        }
      ]
    },
    {
      "cell_type": "markdown",
      "metadata": {
        "id": "log2CIVht7MB"
      },
      "source": [
        "# 2 Forma de dividir los datos (sklearn - estaditica)"
      ]
    },
    {
      "cell_type": "code",
      "metadata": {
        "id": "d83cK2tst-kj"
      },
      "source": [
        "from sklearn.model_selection import train_test_split\n"
      ],
      "execution_count": null,
      "outputs": []
    },
    {
      "cell_type": "code",
      "metadata": {
        "colab": {
          "base_uri": "https://localhost:8080/"
        },
        "id": "d4bj-oEAuCif",
        "outputId": "3c080873-5fe7-42e6-df3c-51aefbc3fe70"
      },
      "source": [
        "train, test = train_test_split(data, test_size = 0.2)\n",
        "print(len(train), len(test))"
      ],
      "execution_count": null,
      "outputs": [
        {
          "output_type": "stream",
          "text": [
            "2666 667\n"
          ],
          "name": "stdout"
        }
      ]
    },
    {
      "cell_type": "markdown",
      "metadata": {
        "id": "GryEpKtavc2f"
      },
      "source": [
        "# Dividir los datos con la función de shuffle, recomendable\n"
      ]
    },
    {
      "cell_type": "code",
      "metadata": {
        "id": "JM0K51obuCWA"
      },
      "source": [
        "import numpy as np\n",
        "import sklearn\n",
        "data.head(2)"
      ],
      "execution_count": null,
      "outputs": []
    },
    {
      "cell_type": "code",
      "metadata": {
        "id": "VWK23IXnuCI9"
      },
      "source": [
        "data = sklearn.utils.shuffle(data) # MEzcla los datos\n",
        "cut_id = int(0.75*len(data))\n",
        "train_data = data[: cut_id]\n",
        "testm_data = data[cut_id + 1: ]\n",
        "print(len(train_data), len(test_data))"
      ],
      "execution_count": null,
      "outputs": []
    },
    {
      "cell_type": "markdown",
      "metadata": {
        "id": "mk1AL58hxUMb"
      },
      "source": [
        "# Concatenar 2 datasets\n",
        "\n",
        "* axis = 0 denota eje horizontal, concatenaci[on uno debajo de otro\n",
        "* axis = 1 denota eje vertical"
      ]
    },
    {
      "cell_type": "code",
      "metadata": {
        "id": "XLLr6KFjxTvQ"
      },
      "source": [
        "import pandas as pd"
      ],
      "execution_count": null,
      "outputs": []
    },
    {
      "cell_type": "code",
      "metadata": {
        "id": "4kd3RJP3xtuv"
      },
      "source": [
        "red_wine = pd.read_csv(\"/content/drive/MyDrive/Machine en Python  Udemy/Data/winequality-red.csv\", sep=\";\")\n",
        "white_wine = pd.read_csv(\"/content/drive/MyDrive/Machine en Python  Udemy/Data/winequality-white.csv\", sep=\";\")\n",
        "print(len(red_wine), len(white_wine))"
      ],
      "execution_count": null,
      "outputs": []
    },
    {
      "cell_type": "code",
      "metadata": {
        "colab": {
          "base_uri": "https://localhost:8080/"
        },
        "id": "43xt75ZgysgH",
        "outputId": "5bb1f397-076c-4c05-f058-67be2d723c2f"
      },
      "source": [
        "red_wine.columns.values # Nombre de las columnas\n",
        "white_wine.columns.values # Nombre de las columnas\n",
        "print(red_wine.shape,white_wine.shape)"
      ],
      "execution_count": null,
      "outputs": [
        {
          "output_type": "stream",
          "text": [
            "(1599, 12) (4898, 12)\n"
          ],
          "name": "stdout"
        }
      ]
    },
    {
      "cell_type": "code",
      "metadata": {
        "colab": {
          "base_uri": "https://localhost:8080/"
        },
        "id": "h3XON7j-zLP3",
        "outputId": "fd7efc82-bbe2-4914-e328-d319d1553dc8"
      },
      "source": [
        "wine_data = pd.concat([red_wine, white_wine], axis=0) # los datos se apilan uno debajo de otro en el orden indicado\n",
        "wine_data.shape"
      ],
      "execution_count": null,
      "outputs": [
        {
          "output_type": "execute_result",
          "data": {
            "text/plain": [
              "(6497, 12)"
            ]
          },
          "metadata": {
            "tags": []
          },
          "execution_count": 111
        }
      ]
    },
    {
      "cell_type": "code",
      "metadata": {
        "colab": {
          "base_uri": "https://localhost:8080/"
        },
        "id": "sjmX48aY0kRg",
        "outputId": "66f3ea7f-1f58-4dc4-9533-f9d53beaf232"
      },
      "source": [
        "# Ejmmplo , scramble ( rejuntado de datos)\n",
        "data1 = wine_data.head(10)\n",
        "data2 = wine_data[300:310]\n",
        "data3 = wine_data.tail(10)\n",
        "\n",
        "data_scramble = pd.concat([data1, data2, data3], axis=0)\n",
        "data_scramble.shape"
      ],
      "execution_count": null,
      "outputs": [
        {
          "output_type": "execute_result",
          "data": {
            "text/plain": [
              "(30, 12)"
            ]
          },
          "metadata": {
            "tags": []
          },
          "execution_count": 132
        }
      ]
    },
    {
      "cell_type": "markdown",
      "metadata": {
        "id": "ZyFzA2Yk2jKP"
      },
      "source": [
        "# Carga de cientos de datos\n"
      ]
    },
    {
      "cell_type": "code",
      "metadata": {
        "colab": {
          "base_uri": "https://localhost:8080/",
          "height": 204
        },
        "id": "0CmgQ6B82lyf",
        "outputId": "b00e5179-a115-4203-9633-3af31c4858d3"
      },
      "source": [
        "data = pd.read_csv(\"/content/drive/MyDrive/Machine en Python  Udemy/Data/dataimensa/001.csv\")\n",
        "data.head()"
      ],
      "execution_count": null,
      "outputs": [
        {
          "output_type": "execute_result",
          "data": {
            "text/html": [
              "<div>\n",
              "<style scoped>\n",
              "    .dataframe tbody tr th:only-of-type {\n",
              "        vertical-align: middle;\n",
              "    }\n",
              "\n",
              "    .dataframe tbody tr th {\n",
              "        vertical-align: top;\n",
              "    }\n",
              "\n",
              "    .dataframe thead th {\n",
              "        text-align: right;\n",
              "    }\n",
              "</style>\n",
              "<table border=\"1\" class=\"dataframe\">\n",
              "  <thead>\n",
              "    <tr style=\"text-align: right;\">\n",
              "      <th></th>\n",
              "      <th>Date</th>\n",
              "      <th>sulfate</th>\n",
              "      <th>nitrate</th>\n",
              "      <th>ID</th>\n",
              "    </tr>\n",
              "  </thead>\n",
              "  <tbody>\n",
              "    <tr>\n",
              "      <th>0</th>\n",
              "      <td>2003-01-01</td>\n",
              "      <td>NaN</td>\n",
              "      <td>NaN</td>\n",
              "      <td>1</td>\n",
              "    </tr>\n",
              "    <tr>\n",
              "      <th>1</th>\n",
              "      <td>2003-01-02</td>\n",
              "      <td>NaN</td>\n",
              "      <td>NaN</td>\n",
              "      <td>1</td>\n",
              "    </tr>\n",
              "    <tr>\n",
              "      <th>2</th>\n",
              "      <td>2003-01-03</td>\n",
              "      <td>NaN</td>\n",
              "      <td>NaN</td>\n",
              "      <td>1</td>\n",
              "    </tr>\n",
              "    <tr>\n",
              "      <th>3</th>\n",
              "      <td>2003-01-04</td>\n",
              "      <td>NaN</td>\n",
              "      <td>NaN</td>\n",
              "      <td>1</td>\n",
              "    </tr>\n",
              "    <tr>\n",
              "      <th>4</th>\n",
              "      <td>2003-01-05</td>\n",
              "      <td>NaN</td>\n",
              "      <td>NaN</td>\n",
              "      <td>1</td>\n",
              "    </tr>\n",
              "  </tbody>\n",
              "</table>\n",
              "</div>"
            ],
            "text/plain": [
              "         Date  sulfate  nitrate  ID\n",
              "0  2003-01-01      NaN      NaN   1\n",
              "1  2003-01-02      NaN      NaN   1\n",
              "2  2003-01-03      NaN      NaN   1\n",
              "3  2003-01-04      NaN      NaN   1\n",
              "4  2003-01-05      NaN      NaN   1"
            ]
          },
          "metadata": {
            "tags": []
          },
          "execution_count": 133
        }
      ]
    },
    {
      "cell_type": "markdown",
      "metadata": {
        "id": "w8UT2Uo14fpy"
      },
      "source": [
        "## Tips para cargar ficheros distribuidos\n",
        "\n",
        "* Importar el priemr fichero\n",
        "* Hacemos un bucle para ir recorriendo todos y cada uno de los ficheros\n",
        "  * Importante tener una consistencia en el nommbre de los ficheros\n",
        "  * Importamos los ficheros uno a uno \n",
        "  * cad uno de ellos debe apedizarse (añadirse añ final) del primer fichero que ya habiamos argado.\n",
        "* Repetimos el bucle hasta que no queden ficheros\n"
      ]
    },
    {
      "cell_type": "code",
      "metadata": {
        "id": "CQzLA5Cd5RvP"
      },
      "source": [
        "filepath = \"/content/drive/MyDrive/Machine en Python  Udemy/Data/dataimensa/\"\n",
        "\n",
        "data = pd.read_csv(\"/content/drive/MyDrive/Machine en Python  Udemy/Data/dataimensa/001.csv\")\n",
        "\n",
        "for i in range(2,333):\n",
        "  if i < 10:\n",
        "    filename = \"00\"+str(i)\n",
        "  if 10 <= i < 100:\n",
        "    filename = \"0\"+str(i) \n",
        "  if i >= 100:\n",
        "    filename =  str(i)\n",
        "  file = filepath + filename + \".csv\"\n",
        "  temp_data = pd.read_csv(file)\n",
        "\n",
        "  data = pd.concat([data, temp_data], axis = 0)"
      ],
      "execution_count": null,
      "outputs": []
    },
    {
      "cell_type": "code",
      "metadata": {
        "colab": {
          "base_uri": "https://localhost:8080/"
        },
        "id": "Oi4W_Mie72wJ",
        "outputId": "be1ebac8-045c-4ccc-fdd6-1f3575f20d72"
      },
      "source": [
        "data.shape"
      ],
      "execution_count": null,
      "outputs": [
        {
          "output_type": "execute_result",
          "data": {
            "text/plain": [
              "(772087, 4)"
            ]
          },
          "metadata": {
            "tags": []
          },
          "execution_count": 138
        }
      ]
    },
    {
      "cell_type": "code",
      "metadata": {
        "colab": {
          "base_uri": "https://localhost:8080/",
          "height": 204
        },
        "id": "JY8UVxOY8K53",
        "outputId": "db0d2113-06b4-4ad2-ae62-983d08440675"
      },
      "source": [
        "data.tail()"
      ],
      "execution_count": null,
      "outputs": [
        {
          "output_type": "execute_result",
          "data": {
            "text/html": [
              "<div>\n",
              "<style scoped>\n",
              "    .dataframe tbody tr th:only-of-type {\n",
              "        vertical-align: middle;\n",
              "    }\n",
              "\n",
              "    .dataframe tbody tr th {\n",
              "        vertical-align: top;\n",
              "    }\n",
              "\n",
              "    .dataframe thead th {\n",
              "        text-align: right;\n",
              "    }\n",
              "</style>\n",
              "<table border=\"1\" class=\"dataframe\">\n",
              "  <thead>\n",
              "    <tr style=\"text-align: right;\">\n",
              "      <th></th>\n",
              "      <th>Date</th>\n",
              "      <th>sulfate</th>\n",
              "      <th>nitrate</th>\n",
              "      <th>ID</th>\n",
              "    </tr>\n",
              "  </thead>\n",
              "  <tbody>\n",
              "    <tr>\n",
              "      <th>726</th>\n",
              "      <td>2004-12-27</td>\n",
              "      <td>NaN</td>\n",
              "      <td>NaN</td>\n",
              "      <td>332</td>\n",
              "    </tr>\n",
              "    <tr>\n",
              "      <th>727</th>\n",
              "      <td>2004-12-28</td>\n",
              "      <td>NaN</td>\n",
              "      <td>NaN</td>\n",
              "      <td>332</td>\n",
              "    </tr>\n",
              "    <tr>\n",
              "      <th>728</th>\n",
              "      <td>2004-12-29</td>\n",
              "      <td>NaN</td>\n",
              "      <td>NaN</td>\n",
              "      <td>332</td>\n",
              "    </tr>\n",
              "    <tr>\n",
              "      <th>729</th>\n",
              "      <td>2004-12-30</td>\n",
              "      <td>NaN</td>\n",
              "      <td>NaN</td>\n",
              "      <td>332</td>\n",
              "    </tr>\n",
              "    <tr>\n",
              "      <th>730</th>\n",
              "      <td>2004-12-31</td>\n",
              "      <td>NaN</td>\n",
              "      <td>NaN</td>\n",
              "      <td>332</td>\n",
              "    </tr>\n",
              "  </tbody>\n",
              "</table>\n",
              "</div>"
            ],
            "text/plain": [
              "           Date  sulfate  nitrate   ID\n",
              "726  2004-12-27      NaN      NaN  332\n",
              "727  2004-12-28      NaN      NaN  332\n",
              "728  2004-12-29      NaN      NaN  332\n",
              "729  2004-12-30      NaN      NaN  332\n",
              "730  2004-12-31      NaN      NaN  332"
            ]
          },
          "metadata": {
            "tags": []
          },
          "execution_count": 139
        }
      ]
    },
    {
      "cell_type": "markdown",
      "metadata": {
        "id": "Gb9BRoal-e2Y"
      },
      "source": [
        "# JOINS DATASETS"
      ]
    },
    {
      "cell_type": "code",
      "metadata": {
        "id": "C10VSmUtgBE2"
      },
      "source": [
        "import pandas as pd\n",
        "import numpy as np"
      ],
      "execution_count": null,
      "outputs": []
    },
    {
      "cell_type": "code",
      "metadata": {
        "id": "SM5nIef0-ild"
      },
      "source": [
        "data_main= pd.read_csv(\"/content/drive/MyDrive/Machine en Python  Udemy/Data/Medals.csv\", encoding=\"ISO-8859-1\")\n",
        "data_main.head()"
      ],
      "execution_count": null,
      "outputs": []
    },
    {
      "cell_type": "code",
      "metadata": {
        "colab": {
          "base_uri": "https://localhost:8080/"
        },
        "id": "hRfSMxux-1bA",
        "outputId": "6dc848c9-4092-45ae-d909-f36092a4ab5a"
      },
      "source": [
        "a = data_main[\"Athlete\"].unique().tolist()\n",
        "len(a)"
      ],
      "execution_count": null,
      "outputs": [
        {
          "output_type": "execute_result",
          "data": {
            "text/plain": [
              "6956"
            ]
          },
          "metadata": {
            "tags": []
          },
          "execution_count": 10
        }
      ]
    },
    {
      "cell_type": "code",
      "metadata": {
        "id": "26WRHoi7ANAt"
      },
      "source": [
        "data_country = pd.read_csv(\"/content/drive/MyDrive/Machine en Python  Udemy/Data/Athelete_Country_Map.csv\",\n",
        "                           encoding = \"ISO-8859-1\")\n",
        "data_country.head()"
      ],
      "execution_count": null,
      "outputs": []
    },
    {
      "cell_type": "code",
      "metadata": {
        "colab": {
          "base_uri": "https://localhost:8080/"
        },
        "id": "0Htt0jCPBM25",
        "outputId": "0ba26bb7-b402-462b-d554-4094476cd669"
      },
      "source": [
        "len(data_country) # Hay 14 lineas demas, esto puede ser que un atleta haya jugado para varios paises"
      ],
      "execution_count": null,
      "outputs": [
        {
          "output_type": "execute_result",
          "data": {
            "text/plain": [
              "6970"
            ]
          },
          "metadata": {
            "tags": []
          },
          "execution_count": 154
        }
      ]
    },
    {
      "cell_type": "code",
      "metadata": {
        "id": "SOYoQdFWBNUs"
      },
      "source": [
        "data_country[data_country[\"Athlete\"]== \"Aleksandar Ciric\"] # JUgo para dos paises, cambio d enombr ele pais\n"
      ],
      "execution_count": null,
      "outputs": []
    },
    {
      "cell_type": "code",
      "metadata": {
        "id": "xCg_5H1lBOm_"
      },
      "source": [
        "data_sports = pd.read_csv(\"/content/drive/MyDrive/Machine en Python  Udemy/Data/Athelete_Sports_Map.csv\", encoding=\"ISO-8859-1\")\n",
        "data_sports.head()"
      ],
      "execution_count": null,
      "outputs": []
    },
    {
      "cell_type": "code",
      "metadata": {
        "colab": {
          "base_uri": "https://localhost:8080/"
        },
        "id": "1l_jGcyTH5FV",
        "outputId": "8fd36b7e-d2f8-4eef-ff7a-c21d705b7f30"
      },
      "source": [
        "len(data_sports)"
      ],
      "execution_count": null,
      "outputs": [
        {
          "output_type": "execute_result",
          "data": {
            "text/plain": [
              "6975"
            ]
          },
          "metadata": {
            "tags": []
          },
          "execution_count": 159
        }
      ]
    },
    {
      "cell_type": "code",
      "metadata": {
        "id": "erKb8SLdITH-"
      },
      "source": [
        "data_sports[(data_sports[\"Athlete\"]== \"Chen Jing\") | \n",
        "            (data_sports[\"Athlete\"]==\"Richard Thompson\") |\n",
        "            (data_sports[\"Athlete\"]== \"Matt Ryan\")\n",
        "            ]"
      ],
      "execution_count": null,
      "outputs": []
    },
    {
      "cell_type": "code",
      "metadata": {
        "id": "__DomjUpI___"
      },
      "source": [
        "data_main_coutry = pd.merge(left= data_main, right = data_country,\n",
        "                            left_on=\"Athlete\", right_on=\"Athlete\" \n",
        "                            )\n",
        "data_main_coutry.head()"
      ],
      "execution_count": null,
      "outputs": []
    },
    {
      "cell_type": "code",
      "metadata": {
        "colab": {
          "base_uri": "https://localhost:8080/"
        },
        "id": "XC4o1EqZKEwC",
        "outputId": "f87dbd4b-f755-4bb9-8ee0-04e61a74ad2c"
      },
      "source": [
        "data_main_coutry.shape"
      ],
      "execution_count": null,
      "outputs": [
        {
          "output_type": "execute_result",
          "data": {
            "text/plain": [
              "(8657, 9)"
            ]
          },
          "metadata": {
            "tags": []
          },
          "execution_count": 15
        }
      ]
    },
    {
      "cell_type": "code",
      "metadata": {
        "id": "JN6Ad5aAgzs7"
      },
      "source": [
        "data_main_coutry[data_main_coutry[\"Athlete\"]== \"Aleksandar Ciric\"]"
      ],
      "execution_count": null,
      "outputs": []
    },
    {
      "cell_type": "code",
      "metadata": {
        "id": "DOwYjZzlD6JV"
      },
      "source": [
        "data_country_dp = data_country.drop_duplicates(subset=\"Athlete\")"
      ],
      "execution_count": null,
      "outputs": []
    },
    {
      "cell_type": "code",
      "metadata": {
        "id": "lKJTZOo3hEn0"
      },
      "source": [
        "# Eliminamos los duplicados \n",
        "a = data_main[\"Athlete\"].unique().tolist()\n",
        "data_country_dp = data_main_coutry.drop_duplicates(subset=\"Athlete\")\n",
        "len(data_country_dp)==len(a) #6956\n",
        "\n",
        "# Realizmaos el merge \n",
        "data_main_coutry = pd.merge(left= data_main, right = data_country_dp,\n",
        "                            left_on=\"Athlete\", right_on=\"Athlete\" \n",
        "                            )\n",
        "len(data_main_coutry) # 9618\n",
        "data_main_coutry[data_main_coutry[\"Athlete\"]== \"Aleksandar Ciric\"]"
      ],
      "execution_count": null,
      "outputs": []
    },
    {
      "cell_type": "code",
      "metadata": {
        "id": "TxEaXiqritPn"
      },
      "source": [
        "data_sports_dp = data_sports.drop_duplicates(subset=\"Athlete\")\n",
        "len(data_sports_dp) ==len(a)"
      ],
      "execution_count": null,
      "outputs": []
    },
    {
      "cell_type": "code",
      "metadata": {
        "id": "x6GxmSUJjDjV"
      },
      "source": [
        "data_final = pd.merge(left= data_main_coutry, right=data_sports_dp,\n",
        "                      left_on=\"Athlete\", right_on=\"Athlete\")\n",
        "data_final.head()"
      ],
      "execution_count": null,
      "outputs": []
    },
    {
      "cell_type": "code",
      "metadata": {
        "colab": {
          "base_uri": "https://localhost:8080/"
        },
        "id": "Ip2-svyHklsJ",
        "outputId": "31e78bc4-33ff-44af-edd6-ef2dba9590ac"
      },
      "source": [
        "data_final.shape"
      ],
      "execution_count": null,
      "outputs": [
        {
          "output_type": "execute_result",
          "data": {
            "text/plain": [
              "(8657, 10)"
            ]
          },
          "metadata": {
            "tags": []
          },
          "execution_count": 38
        }
      ]
    },
    {
      "cell_type": "markdown",
      "metadata": {
        "id": "Xl8sOmExqq_0"
      },
      "source": [
        "# Tipos de joins"
      ]
    },
    {
      "cell_type": "code",
      "metadata": {
        "id": "AO4QQ7_wqyMT"
      },
      "source": [
        "from IPython.display import Image\n",
        "import pandas as pd\n",
        "import numpy as np"
      ],
      "execution_count": null,
      "outputs": []
    },
    {
      "cell_type": "code",
      "metadata": {
        "id": "_LHgIhMTrLuj"
      },
      "source": [
        "# Elegimos 6 atletas de manera aleatoria\n",
        "out_athlete = np.random.choice(data_main[\"Athlete\"], size=6, replace=False)"
      ],
      "execution_count": null,
      "outputs": []
    },
    {
      "cell_type": "code",
      "metadata": {
        "id": "6NGKEyGkCMle"
      },
      "source": [
        "data_country_dlt = data_country_dp[~(data_country_dp[\"Athlete\"].isin(out_athlete)) &\n",
        "                                   (data_country_dp[\"Athlete\"] != \"Michael Phelps\")]"
      ],
      "execution_count": null,
      "outputs": []
    },
    {
      "cell_type": "code",
      "metadata": {
        "colab": {
          "base_uri": "https://localhost:8080/"
        },
        "id": "aLeCfgb4Ee7a",
        "outputId": "7c832b2b-e30b-47a6-96bc-affff3204f86"
      },
      "source": [
        "data_country_dlt.head()\n",
        "len(data_country_dlt)"
      ],
      "execution_count": null,
      "outputs": [
        {
          "output_type": "execute_result",
          "data": {
            "text/plain": [
              "6949"
            ]
          },
          "metadata": {
            "tags": []
          },
          "execution_count": 29
        }
      ]
    },
    {
      "cell_type": "code",
      "metadata": {
        "id": "fbiLCRBoFqd8"
      },
      "source": [
        "data_country_dlt = data_country_dp[~(data_country_dp[\"Athlete\"].isin(out_athlete)) &\n",
        "                                   (data_country_dp[\"Athlete\"] != \"Michael Phelps\")]\n",
        "\n",
        "data_sports_dlt = data_sports_dp[(~data_sports_dp[\"Athlete\"].isin(out_athlete)) &\n",
        "                                 (data_sports_dp[\"Athlete\"]!= \"Michael Phelps\")]\n",
        "\n",
        "data_main_dlt = data_main[(~data_main[\"Athlete\"].isin(out_athlete)) &\n",
        "                                 (data_main[\"Athlete\"]!= \"Michael Phelps\")]"
      ],
      "execution_count": null,
      "outputs": []
    },
    {
      "cell_type": "code",
      "metadata": {
        "id": "zZdAWkMiHSLK"
      },
      "source": [
        "print(len(data_country_dlt), len(data_sports_dlt),len(data_main_dlt))"
      ],
      "execution_count": null,
      "outputs": []
    },
    {
      "cell_type": "markdown",
      "metadata": {
        "id": "2OlH2FxvrI9e"
      },
      "source": [
        "\n",
        "## Inner joins"
      ]
    },
    {
      "cell_type": "code",
      "metadata": {
        "colab": {
          "base_uri": "https://localhost:8080/"
        },
        "id": "1BPOdY3kJU-s",
        "outputId": "8234366f-24b7-4d84-bf78-df15f83756d3"
      },
      "source": [
        "# Data_main contiene toda la info \n",
        "len(data_country_dlt);len(data_main)"
      ],
      "execution_count": null,
      "outputs": [
        {
          "output_type": "execute_result",
          "data": {
            "text/plain": [
              "8618"
            ]
          },
          "metadata": {
            "tags": []
          },
          "execution_count": 50
        }
      ]
    },
    {
      "cell_type": "code",
      "metadata": {
        "id": "F3B7vVXiKPxM"
      },
      "source": [
        "merged_inner = pd.merge(left=data_main, right=data_country_dlt, how=\"inner\",\n",
        "                        left_on=\"Athlete\", right_on=\"Athlete\") # Solo la intersección de ambos datastes"
      ],
      "execution_count": null,
      "outputs": []
    },
    {
      "cell_type": "code",
      "metadata": {
        "colab": {
          "base_uri": "https://localhost:8080/"
        },
        "id": "F7SndwFuK5QT",
        "outputId": "2cb483ee-2a51-4d04-f83b-7dca28da20cb"
      },
      "source": [
        "print(len(data_main),len(data_country_dlt),len(merged_inner))\n",
        "# Intersecciónes"
      ],
      "execution_count": null,
      "outputs": [
        {
          "output_type": "stream",
          "text": [
            "8618 6949 8607\n"
          ],
          "name": "stdout"
        }
      ]
    },
    {
      "cell_type": "code",
      "metadata": {
        "colab": {
          "base_uri": "https://localhost:8080/",
          "height": 204
        },
        "id": "ZYs30AMMOIm2",
        "outputId": "82c34cc4-fd59-4ff1-bf3f-eeb6918e17cb"
      },
      "source": [
        "merged_inner.head()"
      ],
      "execution_count": null,
      "outputs": [
        {
          "output_type": "execute_result",
          "data": {
            "text/html": [
              "<div>\n",
              "<style scoped>\n",
              "    .dataframe tbody tr th:only-of-type {\n",
              "        vertical-align: middle;\n",
              "    }\n",
              "\n",
              "    .dataframe tbody tr th {\n",
              "        vertical-align: top;\n",
              "    }\n",
              "\n",
              "    .dataframe thead th {\n",
              "        text-align: right;\n",
              "    }\n",
              "</style>\n",
              "<table border=\"1\" class=\"dataframe\">\n",
              "  <thead>\n",
              "    <tr style=\"text-align: right;\">\n",
              "      <th></th>\n",
              "      <th>Athlete</th>\n",
              "      <th>Age</th>\n",
              "      <th>Year</th>\n",
              "      <th>Closing Ceremony Date</th>\n",
              "      <th>Gold Medals</th>\n",
              "      <th>Silver Medals</th>\n",
              "      <th>Bronze Medals</th>\n",
              "      <th>Total Medals</th>\n",
              "      <th>Country</th>\n",
              "    </tr>\n",
              "  </thead>\n",
              "  <tbody>\n",
              "    <tr>\n",
              "      <th>0</th>\n",
              "      <td>Natalie Coughlin</td>\n",
              "      <td>25.0</td>\n",
              "      <td>2008</td>\n",
              "      <td>08/24/2008</td>\n",
              "      <td>1</td>\n",
              "      <td>2</td>\n",
              "      <td>3</td>\n",
              "      <td>6</td>\n",
              "      <td>United States</td>\n",
              "    </tr>\n",
              "    <tr>\n",
              "      <th>1</th>\n",
              "      <td>Natalie Coughlin</td>\n",
              "      <td>21.0</td>\n",
              "      <td>2004</td>\n",
              "      <td>08/29/2004</td>\n",
              "      <td>2</td>\n",
              "      <td>2</td>\n",
              "      <td>1</td>\n",
              "      <td>5</td>\n",
              "      <td>United States</td>\n",
              "    </tr>\n",
              "    <tr>\n",
              "      <th>2</th>\n",
              "      <td>Natalie Coughlin</td>\n",
              "      <td>29.0</td>\n",
              "      <td>2012</td>\n",
              "      <td>08/12/2012</td>\n",
              "      <td>0</td>\n",
              "      <td>0</td>\n",
              "      <td>1</td>\n",
              "      <td>1</td>\n",
              "      <td>United States</td>\n",
              "    </tr>\n",
              "    <tr>\n",
              "      <th>3</th>\n",
              "      <td>Aleksey Nemov</td>\n",
              "      <td>24.0</td>\n",
              "      <td>2000</td>\n",
              "      <td>10/01/2000</td>\n",
              "      <td>2</td>\n",
              "      <td>1</td>\n",
              "      <td>3</td>\n",
              "      <td>6</td>\n",
              "      <td>Russia</td>\n",
              "    </tr>\n",
              "    <tr>\n",
              "      <th>4</th>\n",
              "      <td>Alicia Coutts</td>\n",
              "      <td>24.0</td>\n",
              "      <td>2012</td>\n",
              "      <td>08/12/2012</td>\n",
              "      <td>1</td>\n",
              "      <td>3</td>\n",
              "      <td>1</td>\n",
              "      <td>5</td>\n",
              "      <td>Australia</td>\n",
              "    </tr>\n",
              "  </tbody>\n",
              "</table>\n",
              "</div>"
            ],
            "text/plain": [
              "            Athlete   Age  Year  ... Bronze Medals  Total Medals        Country\n",
              "0  Natalie Coughlin  25.0  2008  ...             3             6  United States\n",
              "1  Natalie Coughlin  21.0  2004  ...             1             5  United States\n",
              "2  Natalie Coughlin  29.0  2012  ...             1             1  United States\n",
              "3     Aleksey Nemov  24.0  2000  ...             3             6         Russia\n",
              "4     Alicia Coutts  24.0  2012  ...             1             5      Australia\n",
              "\n",
              "[5 rows x 9 columns]"
            ]
          },
          "metadata": {
            "tags": []
          },
          "execution_count": 59
        }
      ]
    },
    {
      "cell_type": "markdown",
      "metadata": {
        "id": "HVzvBV7cO4QA"
      },
      "source": [
        "## Left Join"
      ]
    },
    {
      "cell_type": "code",
      "metadata": {
        "id": "iwS4WEXANQmL"
      },
      "source": [
        "merged_left = pd.merge(left=data_main, right=data_country_dlt, how=\"left\",\n",
        "                      left_on=\"Athlete\", right_on=\"Athlete\") "
      ],
      "execution_count": null,
      "outputs": []
    },
    {
      "cell_type": "code",
      "metadata": {
        "colab": {
          "base_uri": "https://localhost:8080/"
        },
        "id": "t4rYUYh4OrXy",
        "outputId": "96e667b9-3013-47be-d826-8db74837addf"
      },
      "source": [
        "print(len(data_main),len(data_country_dlt),len(merged_left))\n",
        "# Left join, me quedo con los d ela izquierda"
      ],
      "execution_count": null,
      "outputs": [
        {
          "output_type": "stream",
          "text": [
            "8618 6949 8618\n"
          ],
          "name": "stdout"
        }
      ]
    },
    {
      "cell_type": "code",
      "metadata": {
        "colab": {
          "base_uri": "https://localhost:8080/",
          "height": 204
        },
        "id": "FaQrVmnRPPNb",
        "outputId": "34a91370-e608-4b5a-e224-8aaf9b02751f"
      },
      "source": [
        "merged_left.head()"
      ],
      "execution_count": null,
      "outputs": [
        {
          "output_type": "execute_result",
          "data": {
            "text/html": [
              "<div>\n",
              "<style scoped>\n",
              "    .dataframe tbody tr th:only-of-type {\n",
              "        vertical-align: middle;\n",
              "    }\n",
              "\n",
              "    .dataframe tbody tr th {\n",
              "        vertical-align: top;\n",
              "    }\n",
              "\n",
              "    .dataframe thead th {\n",
              "        text-align: right;\n",
              "    }\n",
              "</style>\n",
              "<table border=\"1\" class=\"dataframe\">\n",
              "  <thead>\n",
              "    <tr style=\"text-align: right;\">\n",
              "      <th></th>\n",
              "      <th>Athlete</th>\n",
              "      <th>Age</th>\n",
              "      <th>Year</th>\n",
              "      <th>Closing Ceremony Date</th>\n",
              "      <th>Gold Medals</th>\n",
              "      <th>Silver Medals</th>\n",
              "      <th>Bronze Medals</th>\n",
              "      <th>Total Medals</th>\n",
              "      <th>Country</th>\n",
              "    </tr>\n",
              "  </thead>\n",
              "  <tbody>\n",
              "    <tr>\n",
              "      <th>0</th>\n",
              "      <td>Michael Phelps</td>\n",
              "      <td>23.0</td>\n",
              "      <td>2008</td>\n",
              "      <td>08/24/2008</td>\n",
              "      <td>8</td>\n",
              "      <td>0</td>\n",
              "      <td>0</td>\n",
              "      <td>8</td>\n",
              "      <td>NaN</td>\n",
              "    </tr>\n",
              "    <tr>\n",
              "      <th>1</th>\n",
              "      <td>Michael Phelps</td>\n",
              "      <td>19.0</td>\n",
              "      <td>2004</td>\n",
              "      <td>08/29/2004</td>\n",
              "      <td>6</td>\n",
              "      <td>0</td>\n",
              "      <td>2</td>\n",
              "      <td>8</td>\n",
              "      <td>NaN</td>\n",
              "    </tr>\n",
              "    <tr>\n",
              "      <th>2</th>\n",
              "      <td>Michael Phelps</td>\n",
              "      <td>27.0</td>\n",
              "      <td>2012</td>\n",
              "      <td>08/12/2012</td>\n",
              "      <td>4</td>\n",
              "      <td>2</td>\n",
              "      <td>0</td>\n",
              "      <td>6</td>\n",
              "      <td>NaN</td>\n",
              "    </tr>\n",
              "    <tr>\n",
              "      <th>3</th>\n",
              "      <td>Natalie Coughlin</td>\n",
              "      <td>25.0</td>\n",
              "      <td>2008</td>\n",
              "      <td>08/24/2008</td>\n",
              "      <td>1</td>\n",
              "      <td>2</td>\n",
              "      <td>3</td>\n",
              "      <td>6</td>\n",
              "      <td>United States</td>\n",
              "    </tr>\n",
              "    <tr>\n",
              "      <th>4</th>\n",
              "      <td>Aleksey Nemov</td>\n",
              "      <td>24.0</td>\n",
              "      <td>2000</td>\n",
              "      <td>10/01/2000</td>\n",
              "      <td>2</td>\n",
              "      <td>1</td>\n",
              "      <td>3</td>\n",
              "      <td>6</td>\n",
              "      <td>Russia</td>\n",
              "    </tr>\n",
              "  </tbody>\n",
              "</table>\n",
              "</div>"
            ],
            "text/plain": [
              "            Athlete   Age  Year  ... Bronze Medals  Total Medals        Country\n",
              "0    Michael Phelps  23.0  2008  ...             0             8            NaN\n",
              "1    Michael Phelps  19.0  2004  ...             2             8            NaN\n",
              "2    Michael Phelps  27.0  2012  ...             0             6            NaN\n",
              "3  Natalie Coughlin  25.0  2008  ...             3             6  United States\n",
              "4     Aleksey Nemov  24.0  2000  ...             3             6         Russia\n",
              "\n",
              "[5 rows x 9 columns]"
            ]
          },
          "metadata": {
            "tags": []
          },
          "execution_count": 58
        }
      ]
    },
    {
      "cell_type": "markdown",
      "metadata": {
        "id": "jGotEmHuO9zJ"
      },
      "source": [
        "## Rigth Join"
      ]
    },
    {
      "cell_type": "code",
      "metadata": {
        "colab": {
          "base_uri": "https://localhost:8080/"
        },
        "id": "G2V5RcdUPANM",
        "outputId": "43f7a5af-d73d-43a7-8060-b1b0686d2ce4"
      },
      "source": [
        "merged_right = pd.merge(left=data_main_dlt, right=data_country_dp, how=\"right\",\n",
        "                        left_on = \"Athlete\", right_on = \"Athlete\")\n",
        "print(len(data_main_dlt),len(data_country_dp),len(merged_right))\n"
      ],
      "execution_count": null,
      "outputs": [
        {
          "output_type": "stream",
          "text": [
            "8607 6956 8614\n"
          ],
          "name": "stdout"
        }
      ]
    },
    {
      "cell_type": "code",
      "metadata": {
        "colab": {
          "base_uri": "https://localhost:8080/",
          "height": 204
        },
        "id": "r4fxf2-qSD7p",
        "outputId": "fc2705f2-678b-408c-8391-58dec1d8cafa"
      },
      "source": [
        "merged_right.head()"
      ],
      "execution_count": null,
      "outputs": [
        {
          "output_type": "execute_result",
          "data": {
            "text/html": [
              "<div>\n",
              "<style scoped>\n",
              "    .dataframe tbody tr th:only-of-type {\n",
              "        vertical-align: middle;\n",
              "    }\n",
              "\n",
              "    .dataframe tbody tr th {\n",
              "        vertical-align: top;\n",
              "    }\n",
              "\n",
              "    .dataframe thead th {\n",
              "        text-align: right;\n",
              "    }\n",
              "</style>\n",
              "<table border=\"1\" class=\"dataframe\">\n",
              "  <thead>\n",
              "    <tr style=\"text-align: right;\">\n",
              "      <th></th>\n",
              "      <th>Athlete</th>\n",
              "      <th>Age</th>\n",
              "      <th>Year</th>\n",
              "      <th>Closing Ceremony Date</th>\n",
              "      <th>Gold Medals</th>\n",
              "      <th>Silver Medals</th>\n",
              "      <th>Bronze Medals</th>\n",
              "      <th>Total Medals</th>\n",
              "      <th>Country</th>\n",
              "    </tr>\n",
              "  </thead>\n",
              "  <tbody>\n",
              "    <tr>\n",
              "      <th>0</th>\n",
              "      <td>Michael Phelps</td>\n",
              "      <td>NaN</td>\n",
              "      <td>NaN</td>\n",
              "      <td>NaN</td>\n",
              "      <td>NaN</td>\n",
              "      <td>NaN</td>\n",
              "      <td>NaN</td>\n",
              "      <td>NaN</td>\n",
              "      <td>United States</td>\n",
              "    </tr>\n",
              "    <tr>\n",
              "      <th>1</th>\n",
              "      <td>Natalie Coughlin</td>\n",
              "      <td>25.0</td>\n",
              "      <td>2008.0</td>\n",
              "      <td>08/24/2008</td>\n",
              "      <td>1.0</td>\n",
              "      <td>2.0</td>\n",
              "      <td>3.0</td>\n",
              "      <td>6.0</td>\n",
              "      <td>United States</td>\n",
              "    </tr>\n",
              "    <tr>\n",
              "      <th>2</th>\n",
              "      <td>Natalie Coughlin</td>\n",
              "      <td>21.0</td>\n",
              "      <td>2004.0</td>\n",
              "      <td>08/29/2004</td>\n",
              "      <td>2.0</td>\n",
              "      <td>2.0</td>\n",
              "      <td>1.0</td>\n",
              "      <td>5.0</td>\n",
              "      <td>United States</td>\n",
              "    </tr>\n",
              "    <tr>\n",
              "      <th>3</th>\n",
              "      <td>Natalie Coughlin</td>\n",
              "      <td>29.0</td>\n",
              "      <td>2012.0</td>\n",
              "      <td>08/12/2012</td>\n",
              "      <td>0.0</td>\n",
              "      <td>0.0</td>\n",
              "      <td>1.0</td>\n",
              "      <td>1.0</td>\n",
              "      <td>United States</td>\n",
              "    </tr>\n",
              "    <tr>\n",
              "      <th>4</th>\n",
              "      <td>Aleksey Nemov</td>\n",
              "      <td>24.0</td>\n",
              "      <td>2000.0</td>\n",
              "      <td>10/01/2000</td>\n",
              "      <td>2.0</td>\n",
              "      <td>1.0</td>\n",
              "      <td>3.0</td>\n",
              "      <td>6.0</td>\n",
              "      <td>Russia</td>\n",
              "    </tr>\n",
              "  </tbody>\n",
              "</table>\n",
              "</div>"
            ],
            "text/plain": [
              "            Athlete   Age    Year  ... Bronze Medals  Total Medals        Country\n",
              "0    Michael Phelps   NaN     NaN  ...           NaN           NaN  United States\n",
              "1  Natalie Coughlin  25.0  2008.0  ...           3.0           6.0  United States\n",
              "2  Natalie Coughlin  21.0  2004.0  ...           1.0           5.0  United States\n",
              "3  Natalie Coughlin  29.0  2012.0  ...           1.0           1.0  United States\n",
              "4     Aleksey Nemov  24.0  2000.0  ...           3.0           6.0         Russia\n",
              "\n",
              "[5 rows x 9 columns]"
            ]
          },
          "metadata": {
            "tags": []
          },
          "execution_count": 67
        }
      ]
    },
    {
      "cell_type": "markdown",
      "metadata": {
        "id": "MDjM_mLGsxwU"
      },
      "source": [
        "## Outer Join"
      ]
    },
    {
      "cell_type": "code",
      "metadata": {
        "id": "hSX52y9sTnSf"
      },
      "source": [
        "data_country_dlt.head()"
      ],
      "execution_count": null,
      "outputs": []
    },
    {
      "cell_type": "code",
      "metadata": {
        "colab": {
          "base_uri": "https://localhost:8080/"
        },
        "id": "3XcK-YsCWG-t",
        "outputId": "00850cc4-6807-4538-84c9-e749c3d08e40"
      },
      "source": [
        "len(data_main)"
      ],
      "execution_count": null,
      "outputs": [
        {
          "output_type": "execute_result",
          "data": {
            "text/plain": [
              "8618"
            ]
          },
          "metadata": {
            "tags": []
          },
          "execution_count": 90
        }
      ]
    },
    {
      "cell_type": "code",
      "metadata": {
        "id": "272Y8TueTdHm"
      },
      "source": [
        "data_country_dy= data_country_dlt.append(\n",
        "    {\n",
        "        \"Athlete\": \"Denis Yen\",\n",
        "        \"Country\": \"Peru\"\n",
        "    }, ignore_index = True\n",
        ")"
      ],
      "execution_count": null,
      "outputs": []
    },
    {
      "cell_type": "code",
      "metadata": {
        "id": "3aja9xvnVmvG"
      },
      "source": [
        "merged_outer = pd.merge(left=data_main, right=data_country_dy, how=\"outer\",\n",
        "                        left_on=\"Athlete\", right_on=\"Athlete\")"
      ],
      "execution_count": null,
      "outputs": []
    },
    {
      "cell_type": "code",
      "metadata": {
        "colab": {
          "base_uri": "https://localhost:8080/",
          "height": 255
        },
        "id": "dza_felfWX4o",
        "outputId": "ee3ceb3e-6048-4e8f-f8bc-5c93cb71110a"
      },
      "source": [
        "merged_outer.head()\n",
        "merged_outer.tail()"
      ],
      "execution_count": null,
      "outputs": [
        {
          "output_type": "execute_result",
          "data": {
            "text/html": [
              "<div>\n",
              "<style scoped>\n",
              "    .dataframe tbody tr th:only-of-type {\n",
              "        vertical-align: middle;\n",
              "    }\n",
              "\n",
              "    .dataframe tbody tr th {\n",
              "        vertical-align: top;\n",
              "    }\n",
              "\n",
              "    .dataframe thead th {\n",
              "        text-align: right;\n",
              "    }\n",
              "</style>\n",
              "<table border=\"1\" class=\"dataframe\">\n",
              "  <thead>\n",
              "    <tr style=\"text-align: right;\">\n",
              "      <th></th>\n",
              "      <th>Athlete</th>\n",
              "      <th>Age</th>\n",
              "      <th>Year</th>\n",
              "      <th>Closing Ceremony Date</th>\n",
              "      <th>Gold Medals</th>\n",
              "      <th>Silver Medals</th>\n",
              "      <th>Bronze Medals</th>\n",
              "      <th>Total Medals</th>\n",
              "      <th>Country</th>\n",
              "    </tr>\n",
              "  </thead>\n",
              "  <tbody>\n",
              "    <tr>\n",
              "      <th>8614</th>\n",
              "      <td>Kateryna Serdiuk</td>\n",
              "      <td>17.0</td>\n",
              "      <td>2000.0</td>\n",
              "      <td>10/01/2000</td>\n",
              "      <td>0.0</td>\n",
              "      <td>1.0</td>\n",
              "      <td>0.0</td>\n",
              "      <td>1.0</td>\n",
              "      <td>Ukraine</td>\n",
              "    </tr>\n",
              "    <tr>\n",
              "      <th>8615</th>\n",
              "      <td>Wietse van Alten</td>\n",
              "      <td>21.0</td>\n",
              "      <td>2000.0</td>\n",
              "      <td>10/01/2000</td>\n",
              "      <td>0.0</td>\n",
              "      <td>0.0</td>\n",
              "      <td>1.0</td>\n",
              "      <td>1.0</td>\n",
              "      <td>Netherlands</td>\n",
              "    </tr>\n",
              "    <tr>\n",
              "      <th>8616</th>\n",
              "      <td>Sandra Wagner-Sachse</td>\n",
              "      <td>31.0</td>\n",
              "      <td>2000.0</td>\n",
              "      <td>10/01/2000</td>\n",
              "      <td>0.0</td>\n",
              "      <td>0.0</td>\n",
              "      <td>1.0</td>\n",
              "      <td>1.0</td>\n",
              "      <td>Germany</td>\n",
              "    </tr>\n",
              "    <tr>\n",
              "      <th>8617</th>\n",
              "      <td>Rod White</td>\n",
              "      <td>23.0</td>\n",
              "      <td>2000.0</td>\n",
              "      <td>10/01/2000</td>\n",
              "      <td>0.0</td>\n",
              "      <td>0.0</td>\n",
              "      <td>1.0</td>\n",
              "      <td>1.0</td>\n",
              "      <td>United States</td>\n",
              "    </tr>\n",
              "    <tr>\n",
              "      <th>8618</th>\n",
              "      <td>Denis Yen</td>\n",
              "      <td>NaN</td>\n",
              "      <td>NaN</td>\n",
              "      <td>NaN</td>\n",
              "      <td>NaN</td>\n",
              "      <td>NaN</td>\n",
              "      <td>NaN</td>\n",
              "      <td>NaN</td>\n",
              "      <td>Peru</td>\n",
              "    </tr>\n",
              "  </tbody>\n",
              "</table>\n",
              "</div>"
            ],
            "text/plain": [
              "                   Athlete   Age  ...  Total Medals        Country\n",
              "8614      Kateryna Serdiuk  17.0  ...           1.0        Ukraine\n",
              "8615      Wietse van Alten  21.0  ...           1.0    Netherlands\n",
              "8616  Sandra Wagner-Sachse  31.0  ...           1.0        Germany\n",
              "8617             Rod White  23.0  ...           1.0  United States\n",
              "8618             Denis Yen   NaN  ...           NaN           Peru\n",
              "\n",
              "[5 rows x 9 columns]"
            ]
          },
          "metadata": {
            "tags": []
          },
          "execution_count": 94
        }
      ]
    },
    {
      "cell_type": "markdown",
      "metadata": {
        "id": "vrV1wJyUEd5J"
      },
      "source": [
        "# Estadistica para la modelización \n",
        "\n",
        "---\n",
        "\n"
      ]
    },
    {
      "cell_type": "markdown",
      "metadata": {
        "id": "q-jO-5c9-ePl"
      },
      "source": [
        "## Correlación"
      ]
    },
    {
      "cell_type": "code",
      "metadata": {
        "id": "LFu3zH7r-dz8"
      },
      "source": [
        "import pandas as pd\n",
        "import numpy as np"
      ],
      "execution_count": null,
      "outputs": []
    },
    {
      "cell_type": "code",
      "metadata": {
        "colab": {
          "base_uri": "https://localhost:8080/",
          "height": 204
        },
        "id": "nkgMZzX8pAms",
        "outputId": "a7fe5947-a3ef-493e-d992-475cd484ef9a"
      },
      "source": [
        "# Gastos en publicidad, existe correlación entre las ventas y eñ gasto en publicidad?\n",
        "data_ads = pd.read_csv(\"/content/drive/MyDrive/Machine en Python  Udemy/Data/Advertising.csv\")\n",
        "data_ads.head()"
      ],
      "execution_count": null,
      "outputs": [
        {
          "output_type": "execute_result",
          "data": {
            "text/html": [
              "<div>\n",
              "<style scoped>\n",
              "    .dataframe tbody tr th:only-of-type {\n",
              "        vertical-align: middle;\n",
              "    }\n",
              "\n",
              "    .dataframe tbody tr th {\n",
              "        vertical-align: top;\n",
              "    }\n",
              "\n",
              "    .dataframe thead th {\n",
              "        text-align: right;\n",
              "    }\n",
              "</style>\n",
              "<table border=\"1\" class=\"dataframe\">\n",
              "  <thead>\n",
              "    <tr style=\"text-align: right;\">\n",
              "      <th></th>\n",
              "      <th>TV</th>\n",
              "      <th>Radio</th>\n",
              "      <th>Newspaper</th>\n",
              "      <th>Sales</th>\n",
              "    </tr>\n",
              "  </thead>\n",
              "  <tbody>\n",
              "    <tr>\n",
              "      <th>0</th>\n",
              "      <td>230.1</td>\n",
              "      <td>37.8</td>\n",
              "      <td>69.2</td>\n",
              "      <td>22.1</td>\n",
              "    </tr>\n",
              "    <tr>\n",
              "      <th>1</th>\n",
              "      <td>44.5</td>\n",
              "      <td>39.3</td>\n",
              "      <td>45.1</td>\n",
              "      <td>10.4</td>\n",
              "    </tr>\n",
              "    <tr>\n",
              "      <th>2</th>\n",
              "      <td>17.2</td>\n",
              "      <td>45.9</td>\n",
              "      <td>69.3</td>\n",
              "      <td>9.3</td>\n",
              "    </tr>\n",
              "    <tr>\n",
              "      <th>3</th>\n",
              "      <td>151.5</td>\n",
              "      <td>41.3</td>\n",
              "      <td>58.5</td>\n",
              "      <td>18.5</td>\n",
              "    </tr>\n",
              "    <tr>\n",
              "      <th>4</th>\n",
              "      <td>180.8</td>\n",
              "      <td>10.8</td>\n",
              "      <td>58.4</td>\n",
              "      <td>12.9</td>\n",
              "    </tr>\n",
              "  </tbody>\n",
              "</table>\n",
              "</div>"
            ],
            "text/plain": [
              "      TV  Radio  Newspaper  Sales\n",
              "0  230.1   37.8       69.2   22.1\n",
              "1   44.5   39.3       45.1   10.4\n",
              "2   17.2   45.9       69.3    9.3\n",
              "3  151.5   41.3       58.5   18.5\n",
              "4  180.8   10.8       58.4   12.9"
            ]
          },
          "metadata": {
            "tags": []
          },
          "execution_count": 144
        }
      ]
    },
    {
      "cell_type": "code",
      "metadata": {
        "colab": {
          "base_uri": "https://localhost:8080/"
        },
        "id": "elhQYmkI_HeM",
        "outputId": "d4fdabd4-2a4d-45c6-c7c8-05b8828d56b5"
      },
      "source": [
        "len(data)"
      ],
      "execution_count": null,
      "outputs": [
        {
          "output_type": "execute_result",
          "data": {
            "text/plain": [
              "200"
            ]
          },
          "metadata": {
            "tags": []
          },
          "execution_count": 100
        }
      ]
    },
    {
      "cell_type": "code",
      "metadata": {
        "colab": {
          "base_uri": "https://localhost:8080/",
          "height": 204
        },
        "id": "2vRqocGH_ZMD",
        "outputId": "2126fa19-00fb-4c4f-bfb8-9dd5860faaad"
      },
      "source": [
        "# Calculamos la correlación\n",
        "data_ads[\"corr\"] = (data_ads[\"TV\"] - np.mean(data_ads[\"TV\"])) * (data_ads[\"Sales\"] -np.mean(data_ads[\"Sales\"]))\n",
        "data_ads.head() "
      ],
      "execution_count": null,
      "outputs": [
        {
          "output_type": "execute_result",
          "data": {
            "text/html": [
              "<div>\n",
              "<style scoped>\n",
              "    .dataframe tbody tr th:only-of-type {\n",
              "        vertical-align: middle;\n",
              "    }\n",
              "\n",
              "    .dataframe tbody tr th {\n",
              "        vertical-align: top;\n",
              "    }\n",
              "\n",
              "    .dataframe thead th {\n",
              "        text-align: right;\n",
              "    }\n",
              "</style>\n",
              "<table border=\"1\" class=\"dataframe\">\n",
              "  <thead>\n",
              "    <tr style=\"text-align: right;\">\n",
              "      <th></th>\n",
              "      <th>TV</th>\n",
              "      <th>Radio</th>\n",
              "      <th>Newspaper</th>\n",
              "      <th>Sales</th>\n",
              "      <th>corr</th>\n",
              "      <th>corr1</th>\n",
              "      <th>corr2</th>\n",
              "    </tr>\n",
              "  </thead>\n",
              "  <tbody>\n",
              "    <tr>\n",
              "      <th>0</th>\n",
              "      <td>230.1</td>\n",
              "      <td>37.8</td>\n",
              "      <td>69.2</td>\n",
              "      <td>22.1</td>\n",
              "      <td>670.896956</td>\n",
              "      <td>6898.548306</td>\n",
              "      <td>65.246006</td>\n",
              "    </tr>\n",
              "    <tr>\n",
              "      <th>1</th>\n",
              "      <td>44.5</td>\n",
              "      <td>39.3</td>\n",
              "      <td>45.1</td>\n",
              "      <td>10.4</td>\n",
              "      <td>371.460206</td>\n",
              "      <td>10514.964306</td>\n",
              "      <td>13.122506</td>\n",
              "    </tr>\n",
              "    <tr>\n",
              "      <th>2</th>\n",
              "      <td>17.2</td>\n",
              "      <td>45.9</td>\n",
              "      <td>69.3</td>\n",
              "      <td>9.3</td>\n",
              "      <td>613.181206</td>\n",
              "      <td>16859.074806</td>\n",
              "      <td>22.302006</td>\n",
              "    </tr>\n",
              "    <tr>\n",
              "      <th>3</th>\n",
              "      <td>151.5</td>\n",
              "      <td>41.3</td>\n",
              "      <td>58.5</td>\n",
              "      <td>18.5</td>\n",
              "      <td>19.958456</td>\n",
              "      <td>19.869306</td>\n",
              "      <td>20.048006</td>\n",
              "    </tr>\n",
              "    <tr>\n",
              "      <th>4</th>\n",
              "      <td>180.8</td>\n",
              "      <td>10.8</td>\n",
              "      <td>58.4</td>\n",
              "      <td>12.9</td>\n",
              "      <td>-37.892794</td>\n",
              "      <td>1139.568806</td>\n",
              "      <td>1.260006</td>\n",
              "    </tr>\n",
              "  </tbody>\n",
              "</table>\n",
              "</div>"
            ],
            "text/plain": [
              "      TV  Radio  Newspaper  Sales        corr         corr1      corr2\n",
              "0  230.1   37.8       69.2   22.1  670.896956   6898.548306  65.246006\n",
              "1   44.5   39.3       45.1   10.4  371.460206  10514.964306  13.122506\n",
              "2   17.2   45.9       69.3    9.3  613.181206  16859.074806  22.302006\n",
              "3  151.5   41.3       58.5   18.5   19.958456     19.869306  20.048006\n",
              "4  180.8   10.8       58.4   12.9  -37.892794   1139.568806   1.260006"
            ]
          },
          "metadata": {
            "tags": []
          },
          "execution_count": 105
        }
      ]
    },
    {
      "cell_type": "code",
      "metadata": {
        "id": "ocYe7teyAknI"
      },
      "source": [
        "data_ads[\"corr1\"] = (data_ads[\"TV\"] - np.mean(data_ads[\"TV\"]))**2\n",
        "data_ads.head()"
      ],
      "execution_count": null,
      "outputs": []
    },
    {
      "cell_type": "code",
      "metadata": {
        "id": "alZk3F-WBAgk"
      },
      "source": [
        "data_ads[\"corr2\"] = ((data_ads[\"Sales\"] - np.mean(data_ads[\"Sales\"]))**2)\n",
        "data_ads.head()"
      ],
      "execution_count": null,
      "outputs": []
    },
    {
      "cell_type": "code",
      "metadata": {
        "colab": {
          "base_uri": "https://localhost:8080/"
        },
        "id": "XEXvcRPOBVi0",
        "outputId": "e5b4a902-c171-473f-960b-4cb5951860a2"
      },
      "source": [
        "corr_pearson = sum(data_ads[\"corr\"]) / np.sqrt(sum(data_ads[\"corr1\"])*sum(data_ads[\"corr2\"]))\n",
        "round(corr_pearson,2)"
      ],
      "execution_count": null,
      "outputs": [
        {
          "output_type": "execute_result",
          "data": {
            "text/plain": [
              "0.78"
            ]
          },
          "metadata": {
            "tags": []
          },
          "execution_count": 109
        }
      ]
    },
    {
      "cell_type": "code",
      "metadata": {
        "id": "X-I92vlHCRQ0"
      },
      "source": [
        "# Función para calcular la correlacion\n",
        "def corr_coeff(df, v1, v2):\n",
        "  df[\"corr\"] = (df[v1] - np.mean(df[v1])) * (df[v2] -np.mean(df[v2]))\n",
        "  df[\"corr1\"] = (df[v1] - np.mean(df[v1]))**2\n",
        "  df[\"corr2\"] = (df[v2] - np.mean(df[v2]))**2\n",
        "  corr_pearson = sum(df[\"corr\"]) / np.sqrt(sum(df[\"corr1\"])*sum(df[\"corr2\"]))\n",
        "  return round(corr_pearson,2)\n"
      ],
      "execution_count": null,
      "outputs": []
    },
    {
      "cell_type": "code",
      "metadata": {
        "colab": {
          "base_uri": "https://localhost:8080/"
        },
        "id": "XnYnU7YZDsyW",
        "outputId": "59e7f6b5-541e-4d01-f875-bc78dc795f53"
      },
      "source": [
        "corr_coeff(data_ads, \"TV\", \"Sales\")"
      ],
      "execution_count": null,
      "outputs": [
        {
          "output_type": "execute_result",
          "data": {
            "text/plain": [
              "0.78"
            ]
          },
          "metadata": {
            "tags": []
          },
          "execution_count": 115
        }
      ]
    },
    {
      "cell_type": "code",
      "metadata": {
        "colab": {
          "base_uri": "https://localhost:8080/"
        },
        "id": "Xv4nd4qLEU24",
        "outputId": "711924ea-6fe8-4658-f0b7-ad4d011de831"
      },
      "source": [
        "# Para calcular la correlación de la matriz\n",
        "cols = data_ads.columns.values\n",
        "\n",
        "for x in cols:\n",
        "  for y in cols:\n",
        "    print(x+\" vs \"+ y+\": \" + str(corr_coeff(data_ads,x,y)))\n",
        "\n"
      ],
      "execution_count": null,
      "outputs": [
        {
          "output_type": "stream",
          "text": [
            "TV vs TV: 1.0\n",
            "TV vs Radio: 0.05\n",
            "TV vs Newspaper: 0.06\n",
            "TV vs Sales: 0.78\n",
            "Radio vs TV: 0.05\n",
            "Radio vs Radio: 1.0\n",
            "Radio vs Newspaper: 0.35\n",
            "Radio vs Sales: 0.58\n",
            "Newspaper vs TV: 0.06\n",
            "Newspaper vs Radio: 0.35\n",
            "Newspaper vs Newspaper: 1.0\n",
            "Newspaper vs Sales: 0.23\n",
            "Sales vs TV: 0.78\n",
            "Sales vs Radio: 0.58\n",
            "Sales vs Newspaper: 0.23\n",
            "Sales vs Sales: 1.0\n"
          ],
          "name": "stdout"
        }
      ]
    },
    {
      "cell_type": "code",
      "metadata": {
        "colab": {
          "base_uri": "https://localhost:8080/",
          "height": 298
        },
        "id": "2bXeIhVDFYC8",
        "outputId": "341a9dc1-dad0-4c6d-9637-529a7cc6e84f"
      },
      "source": [
        "import matplotlib.pyplot as plt\n",
        "plt.plot(data_ads[\"TV\"], data[\"Sales\"],\"r*\")\n",
        "plt.title(\"Gasto en TV vs Ventas del producto\")"
      ],
      "execution_count": null,
      "outputs": [
        {
          "output_type": "execute_result",
          "data": {
            "text/plain": [
              "Text(0.5, 1.0, 'Gasto en TV vs Ventas del producto')"
            ]
          },
          "metadata": {
            "tags": []
          },
          "execution_count": 141
        },
        {
          "output_type": "display_data",
          "data": {
            "image/png": "[encoded data removed]",
            "text/plain": [
              "<Figure size 432x288 with 1 Axes>"
            ]
          },
          "metadata": {
            "tags": [],
            "needs_background": "light"
          }
        }
      ]
    },
    {
      "cell_type": "code",
      "metadata": {
        "colab": {
          "base_uri": "https://localhost:8080/",
          "height": 298
        },
        "id": "A7MpNX6RHBn_",
        "outputId": "1aa6b384-1eb4-465b-9e7b-c1d117a9b181"
      },
      "source": [
        "plt.plot(data_ads[\"Radio\"], data[\"Sales\"],\"g*\")\n",
        "plt.title(\"Gasto en Radio vs Ventas del producto\")"
      ],
      "execution_count": null,
      "outputs": [
        {
          "output_type": "execute_result",
          "data": {
            "text/plain": [
              "Text(0.5, 1.0, 'Gasto en Radio vs Ventas del producto')"
            ]
          },
          "metadata": {
            "tags": []
          },
          "execution_count": 140
        },
        {
          "output_type": "display_data",
          "data": {
            "image/png": "[encoded data removed]",
            "text/plain": [
              "<Figure size 432x288 with 1 Axes>"
            ]
          },
          "metadata": {
            "tags": [],
            "needs_background": "light"
          }
        }
      ]
    },
    {
      "cell_type": "code",
      "metadata": {
        "colab": {
          "base_uri": "https://localhost:8080/",
          "height": 298
        },
        "id": "HMZrAUHUHFn7",
        "outputId": "fdb74b77-449d-40d0-c8f1-ee986675749a"
      },
      "source": [
        "plt.plot(data_ads[\"Newspaper\"], data[\"Sales\"],\"y*\")\n",
        "plt.title(\"Gasto en Newspaper vs Ventas del producto\")"
      ],
      "execution_count": null,
      "outputs": [
        {
          "output_type": "execute_result",
          "data": {
            "text/plain": [
              "Text(0.5, 1.0, 'Gasto en Newspaper vs Ventas del producto')"
            ]
          },
          "metadata": {
            "tags": []
          },
          "execution_count": 138
        },
        {
          "output_type": "display_data",
          "data": {
            "image/png": "[encoded data removed]",
            "text/plain": [
              "<Figure size 432x288 with 1 Axes>"
            ]
          },
          "metadata": {
            "tags": [],
            "needs_background": "light"
          }
        }
      ]
    },
    {
      "cell_type": "code",
      "metadata": {
        "colab": {
          "base_uri": "https://localhost:8080/",
          "height": 173
        },
        "id": "aZ_GyMmRHjAU",
        "outputId": "a88186d5-2220-4dae-cb5e-156d8bebee23"
      },
      "source": [
        "data_ads.corr()"
      ],
      "execution_count": null,
      "outputs": [
        {
          "output_type": "execute_result",
          "data": {
            "text/html": [
              "<div>\n",
              "<style scoped>\n",
              "    .dataframe tbody tr th:only-of-type {\n",
              "        vertical-align: middle;\n",
              "    }\n",
              "\n",
              "    .dataframe tbody tr th {\n",
              "        vertical-align: top;\n",
              "    }\n",
              "\n",
              "    .dataframe thead th {\n",
              "        text-align: right;\n",
              "    }\n",
              "</style>\n",
              "<table border=\"1\" class=\"dataframe\">\n",
              "  <thead>\n",
              "    <tr style=\"text-align: right;\">\n",
              "      <th></th>\n",
              "      <th>TV</th>\n",
              "      <th>Radio</th>\n",
              "      <th>Newspaper</th>\n",
              "      <th>Sales</th>\n",
              "    </tr>\n",
              "  </thead>\n",
              "  <tbody>\n",
              "    <tr>\n",
              "      <th>TV</th>\n",
              "      <td>1.000000</td>\n",
              "      <td>0.054809</td>\n",
              "      <td>0.056648</td>\n",
              "      <td>0.782224</td>\n",
              "    </tr>\n",
              "    <tr>\n",
              "      <th>Radio</th>\n",
              "      <td>0.054809</td>\n",
              "      <td>1.000000</td>\n",
              "      <td>0.354104</td>\n",
              "      <td>0.576223</td>\n",
              "    </tr>\n",
              "    <tr>\n",
              "      <th>Newspaper</th>\n",
              "      <td>0.056648</td>\n",
              "      <td>0.354104</td>\n",
              "      <td>1.000000</td>\n",
              "      <td>0.228299</td>\n",
              "    </tr>\n",
              "    <tr>\n",
              "      <th>Sales</th>\n",
              "      <td>0.782224</td>\n",
              "      <td>0.576223</td>\n",
              "      <td>0.228299</td>\n",
              "      <td>1.000000</td>\n",
              "    </tr>\n",
              "  </tbody>\n",
              "</table>\n",
              "</div>"
            ],
            "text/plain": [
              "                 TV     Radio  Newspaper     Sales\n",
              "TV         1.000000  0.054809   0.056648  0.782224\n",
              "Radio      0.054809  1.000000   0.354104  0.576223\n",
              "Newspaper  0.056648  0.354104   1.000000  0.228299\n",
              "Sales      0.782224  0.576223   0.228299  1.000000"
            ]
          },
          "metadata": {
            "tags": []
          },
          "execution_count": 145
        }
      ]
    },
    {
      "cell_type": "code",
      "metadata": {
        "colab": {
          "base_uri": "https://localhost:8080/",
          "height": 292
        },
        "id": "wyOsg9zqHxOD",
        "outputId": "617f47c4-38ff-4fca-88b0-5ac77132cf3d"
      },
      "source": [
        "plt.matshow(data_ads.corr())"
      ],
      "execution_count": null,
      "outputs": [
        {
          "output_type": "execute_result",
          "data": {
            "text/plain": [
              "<matplotlib.image.AxesImage at 0x7fd21580ea50>"
            ]
          },
          "metadata": {
            "tags": []
          },
          "execution_count": 146
        },
        {
          "output_type": "display_data",
          "data": {
            "image/png": "[encoded data removed]",
            "text/plain": [
              "<Figure size 288x288 with 1 Axes>"
            ]
          },
          "metadata": {
            "tags": [],
            "needs_background": "light"
          }
        }
      ]
    }
  ]
}