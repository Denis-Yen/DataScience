{
  "nbformat": 4,
  "nbformat_minor": 0,
  "metadata": {
    "colab": {
      "name": "5-Arboles de decisiòn.ipynb",
      "provenance": [],
      "collapsed_sections": [],
      "mount_file_id": "1tZkLuqFMhGVyRuRgecfrAaUjU_NSmob6",
      "authorship_tag": "ABX9TyNO65eHs7Sya93xQC37hw65",
      "include_colab_link": true
    },
    "kernelspec": {
      "name": "python3",
      "display_name": "Python 3"
    },
    "language_info": {
      "name": "python"
    }
  },
  "cells": [
    {
      "cell_type": "markdown",
      "metadata": {
        "id": "view-in-github",
        "colab_type": "text"
      },
      "source": [
        "<a href=\"https://colab.research.google.com/github/Denis-Yen/DataScience/blob/main/5_Arboles_de_decisi%C3%B2n.ipynb\" target=\"_parent\"><img src=\"https://colab.research.google.com/assets/colab-badge.svg\" alt=\"Open In Colab\"/></a>"
      ]
    },
    {
      "cell_type": "markdown",
      "metadata": {
        "id": "PPHaiBHE2mE5"
      },
      "source": [
        "# Arboles de decisión - teoría\n",
        "---\n",
        "* Los nodos del arbol : son las variables\n",
        "* Las ramas las posibles categorias o valores, intervalos.\n",
        "* El nodo terminal :  decisión final del algoritmo\n",
        "\n",
        "se lee como conjunciones o disyunciones.\n",
        "\n",
        "Algunas de la sventajas:\n",
        "* facil de entender\n",
        "* no se necesita mucha limpieza de datos, pue no influye demasiado que falten valores o tener outliers.\n",
        "\n",
        "### Homogeneidad\n",
        "Se requiere la mayor uniformidad o menor variabilidad entre los datos d eun subconjuto determinado.\n",
        "\n",
        "### Entropía\n",
        "Usa la teoria de la información. Mientras más puros(homogeneos) son los nodos de un arbol se requiere menos información para representarlos.\n",
        "\n",
        "$H(s) = \\displaystyle\\sum_{i = 1}^{n} = -p_i \\log_2(p_i) $\n",
        "\n",
        "donde:\n",
        "\n",
        "$p_i$ = Probabilidad\n",
        "\n",
        "* Cuando $pi_i = 0$ los datos son perfectamente homogéneos\n",
        "* Cuando $pi_i = 1$ los datos son perfectamente heterogéneos\n",
        "\n",
        "* La entropia es máxima cuando $p_i = 0.5$\n",
        "\n",
        "### Ganancia de información\n",
        "\n",
        "Se gana información cuando tomamos como nodo de división a una categoría y esta es positiva.\n",
        "\n",
        "se define como:\n",
        "\n",
        "$\\vartriangle H(S,V) = H(S) - \\displaystyle\\sum_{c \\in V} \\frac {|V = c|}{|V|} H(V=c) $\n",
        "\n",
        "$V = $ Variable V dentro del conjunto de categorias existentes.\n",
        "\n",
        "### algoritmos para elegir los subnodos  \n",
        "* Indice de Gini - Par avariables binarias\n",
        "* Detector Automatico de la Iteración Chi Cuadrado (CHAID) - gestiona más de dos categorias\n",
        "* Reducción de la varianza - Gestiona cuando es una variable continua. La que tiene menor varinza ponderada es la que se usa para el nodo de decisión.\n",
        "\n",
        "\n",
        "### La poda del árbol\n",
        "\n",
        "El arbol puede crecer y tener muchos nodos hasta que los datos esten perfectameneclasificados y fueran totalmente homogeneos, de modo que un nodo ya no tendria heterogeneidad y todos los elemntos suyos serian clasificados bajo la misma categoria de la variable objetivo(overfiting).\n",
        "\n",
        "Existen dos tecnicas, la **reducción del error en la poda** y la **poda del coste de complejidad**\n",
        "\n",
        "## Problemas en el árbol\n",
        " * En caso de variables continuas hay que encontrar umbrales óptimos de corte para convertirlo en categorias.\n",
        "\n",
        " * Si faltan datos en el dataset, se asigna el valor más frecuente tomando en cuenta la variable target.\n",
        "\n",
        "\n",
        "\n",
        "\n",
        "\n",
        "\n",
        "\n"
      ]
    },
    {
      "cell_type": "markdown",
      "metadata": {
        "id": "ppzs5tVBVU-A"
      },
      "source": [
        "# Árboles de decisión en python\n",
        "---\n",
        "## Clasificar las flores pertenecientes a las 3 especies"
      ]
    },
    {
      "cell_type": "code",
      "metadata": {
        "id": "ardSSuMqdJ0r"
      },
      "source": [
        "import pandas as pd\n",
        "import numpy as np\n",
        "import matplotlib.pyplot as plt\n"
      ],
      "execution_count": null,
      "outputs": []
    },
    {
      "cell_type": "code",
      "metadata": {
        "colab": {
          "base_uri": "https://localhost:8080/",
          "height": 204
        },
        "id": "Rh9hbMjzVTUK",
        "outputId": "76217a7e-6001-4cd4-f6bb-18dfe318e73d"
      },
      "source": [
        "data = pd.read_csv(\"/content/drive/MyDrive/Machine en Python  Udemy/Data/iris.csv\")\n",
        "data.head()"
      ],
      "execution_count": null,
      "outputs": [
        {
          "output_type": "execute_result",
          "data": {
            "text/html": [
              "<div>\n",
              "<style scoped>\n",
              "    .dataframe tbody tr th:only-of-type {\n",
              "        vertical-align: middle;\n",
              "    }\n",
              "\n",
              "    .dataframe tbody tr th {\n",
              "        vertical-align: top;\n",
              "    }\n",
              "\n",
              "    .dataframe thead th {\n",
              "        text-align: right;\n",
              "    }\n",
              "</style>\n",
              "<table border=\"1\" class=\"dataframe\">\n",
              "  <thead>\n",
              "    <tr style=\"text-align: right;\">\n",
              "      <th></th>\n",
              "      <th>Sepal.Length</th>\n",
              "      <th>Sepal.Width</th>\n",
              "      <th>Petal.Length</th>\n",
              "      <th>Petal.Width</th>\n",
              "      <th>Species</th>\n",
              "    </tr>\n",
              "  </thead>\n",
              "  <tbody>\n",
              "    <tr>\n",
              "      <th>0</th>\n",
              "      <td>5.1</td>\n",
              "      <td>3.5</td>\n",
              "      <td>1.4</td>\n",
              "      <td>0.2</td>\n",
              "      <td>setosa</td>\n",
              "    </tr>\n",
              "    <tr>\n",
              "      <th>1</th>\n",
              "      <td>4.9</td>\n",
              "      <td>3.0</td>\n",
              "      <td>1.4</td>\n",
              "      <td>0.2</td>\n",
              "      <td>setosa</td>\n",
              "    </tr>\n",
              "    <tr>\n",
              "      <th>2</th>\n",
              "      <td>4.7</td>\n",
              "      <td>3.2</td>\n",
              "      <td>1.3</td>\n",
              "      <td>0.2</td>\n",
              "      <td>setosa</td>\n",
              "    </tr>\n",
              "    <tr>\n",
              "      <th>3</th>\n",
              "      <td>4.6</td>\n",
              "      <td>3.1</td>\n",
              "      <td>1.5</td>\n",
              "      <td>0.2</td>\n",
              "      <td>setosa</td>\n",
              "    </tr>\n",
              "    <tr>\n",
              "      <th>4</th>\n",
              "      <td>5.0</td>\n",
              "      <td>3.6</td>\n",
              "      <td>1.4</td>\n",
              "      <td>0.2</td>\n",
              "      <td>setosa</td>\n",
              "    </tr>\n",
              "  </tbody>\n",
              "</table>\n",
              "</div>"
            ],
            "text/plain": [
              "   Sepal.Length  Sepal.Width  Petal.Length  Petal.Width Species\n",
              "0           5.1          3.5           1.4          0.2  setosa\n",
              "1           4.9          3.0           1.4          0.2  setosa\n",
              "2           4.7          3.2           1.3          0.2  setosa\n",
              "3           4.6          3.1           1.5          0.2  setosa\n",
              "4           5.0          3.6           1.4          0.2  setosa"
            ]
          },
          "metadata": {
            "tags": []
          },
          "execution_count": 19
        }
      ]
    },
    {
      "cell_type": "code",
      "metadata": {
        "colab": {
          "base_uri": "https://localhost:8080/",
          "height": 316
        },
        "id": "ly1Px2jOVueZ",
        "outputId": "510dcd75-9011-419a-81d4-6e05d05fd138"
      },
      "source": [
        "plt.hist(data.Species)"
      ],
      "execution_count": null,
      "outputs": [
        {
          "output_type": "execute_result",
          "data": {
            "text/plain": [
              "(array([50.,  0.,  0.,  0.,  0., 50.,  0.,  0.,  0., 50.]),\n",
              " array([0. , 0.2, 0.4, 0.6, 0.8, 1. , 1.2, 1.4, 1.6, 1.8, 2. ]),\n",
              " <a list of 10 Patch objects>)"
            ]
          },
          "metadata": {
            "tags": []
          },
          "execution_count": 20
        },
        {
          "output_type": "display_data",
          "data": {
            "image/png": "[encoded data removed]",
            "text/plain": [
              "<Figure size 432x288 with 1 Axes>"
            ]
          },
          "metadata": {
            "tags": [],
            "needs_background": "light"
          }
        }
      ]
    },
    {
      "cell_type": "code",
      "metadata": {
        "colab": {
          "base_uri": "https://localhost:8080/"
        },
        "id": "STZC7NYuV24P",
        "outputId": "02faa393-ae20-4c4b-f4ee-0afa26511d3f"
      },
      "source": [
        "data.Species.unique()"
      ],
      "execution_count": null,
      "outputs": [
        {
          "output_type": "execute_result",
          "data": {
            "text/plain": [
              "array(['setosa', 'versicolor', 'virginica'], dtype=object)"
            ]
          },
          "metadata": {
            "tags": []
          },
          "execution_count": 21
        }
      ]
    },
    {
      "cell_type": "markdown",
      "metadata": {
        "id": "FpREN2N9XfhO"
      },
      "source": [
        "Seleccionamos los features y el target"
      ]
    },
    {
      "cell_type": "code",
      "metadata": {
        "id": "Oc1_uICgV-YH"
      },
      "source": [
        "colnames = data.columns.values.tolist()\n",
        "predictors = colnames[:4] # No toma en cuenta la ultima fila\n",
        "target = colnames[4]"
      ],
      "execution_count": null,
      "outputs": []
    },
    {
      "cell_type": "markdown",
      "metadata": {
        "id": "i-DfyeudXZnv"
      },
      "source": [
        "Dividimos en training y testing"
      ]
    },
    {
      "cell_type": "code",
      "metadata": {
        "colab": {
          "base_uri": "https://localhost:8080/",
          "height": 204
        },
        "id": "tyKVAHLXWeM-",
        "outputId": "7fc164c5-b19f-4795-d956-d60824495616"
      },
      "source": [
        "data[\"is_train\"] = np.random.uniform(0,1, len(data)) <=0.75\n",
        "data.head()"
      ],
      "execution_count": null,
      "outputs": [
        {
          "output_type": "execute_result",
          "data": {
            "text/html": [
              "<div>\n",
              "<style scoped>\n",
              "    .dataframe tbody tr th:only-of-type {\n",
              "        vertical-align: middle;\n",
              "    }\n",
              "\n",
              "    .dataframe tbody tr th {\n",
              "        vertical-align: top;\n",
              "    }\n",
              "\n",
              "    .dataframe thead th {\n",
              "        text-align: right;\n",
              "    }\n",
              "</style>\n",
              "<table border=\"1\" class=\"dataframe\">\n",
              "  <thead>\n",
              "    <tr style=\"text-align: right;\">\n",
              "      <th></th>\n",
              "      <th>Sepal.Length</th>\n",
              "      <th>Sepal.Width</th>\n",
              "      <th>Petal.Length</th>\n",
              "      <th>Petal.Width</th>\n",
              "      <th>Species</th>\n",
              "      <th>is_train</th>\n",
              "    </tr>\n",
              "  </thead>\n",
              "  <tbody>\n",
              "    <tr>\n",
              "      <th>0</th>\n",
              "      <td>5.1</td>\n",
              "      <td>3.5</td>\n",
              "      <td>1.4</td>\n",
              "      <td>0.2</td>\n",
              "      <td>setosa</td>\n",
              "      <td>True</td>\n",
              "    </tr>\n",
              "    <tr>\n",
              "      <th>1</th>\n",
              "      <td>4.9</td>\n",
              "      <td>3.0</td>\n",
              "      <td>1.4</td>\n",
              "      <td>0.2</td>\n",
              "      <td>setosa</td>\n",
              "      <td>True</td>\n",
              "    </tr>\n",
              "    <tr>\n",
              "      <th>2</th>\n",
              "      <td>4.7</td>\n",
              "      <td>3.2</td>\n",
              "      <td>1.3</td>\n",
              "      <td>0.2</td>\n",
              "      <td>setosa</td>\n",
              "      <td>True</td>\n",
              "    </tr>\n",
              "    <tr>\n",
              "      <th>3</th>\n",
              "      <td>4.6</td>\n",
              "      <td>3.1</td>\n",
              "      <td>1.5</td>\n",
              "      <td>0.2</td>\n",
              "      <td>setosa</td>\n",
              "      <td>True</td>\n",
              "    </tr>\n",
              "    <tr>\n",
              "      <th>4</th>\n",
              "      <td>5.0</td>\n",
              "      <td>3.6</td>\n",
              "      <td>1.4</td>\n",
              "      <td>0.2</td>\n",
              "      <td>setosa</td>\n",
              "      <td>True</td>\n",
              "    </tr>\n",
              "  </tbody>\n",
              "</table>\n",
              "</div>"
            ],
            "text/plain": [
              "   Sepal.Length  Sepal.Width  Petal.Length  Petal.Width Species  is_train\n",
              "0           5.1          3.5           1.4          0.2  setosa      True\n",
              "1           4.9          3.0           1.4          0.2  setosa      True\n",
              "2           4.7          3.2           1.3          0.2  setosa      True\n",
              "3           4.6          3.1           1.5          0.2  setosa      True\n",
              "4           5.0          3.6           1.4          0.2  setosa      True"
            ]
          },
          "metadata": {
            "tags": []
          },
          "execution_count": 23
        }
      ]
    },
    {
      "cell_type": "code",
      "metadata": {
        "colab": {
          "base_uri": "https://localhost:8080/",
          "height": 316
        },
        "id": "TqMEA8DQXXcu",
        "outputId": "033ac23f-696d-45d5-d083-f428d3cc3de1"
      },
      "source": [
        "plt.hist(data[\"is_train\"].astype(int))"
      ],
      "execution_count": null,
      "outputs": [
        {
          "output_type": "execute_result",
          "data": {
            "text/plain": [
              "(array([ 38.,   0.,   0.,   0.,   0.,   0.,   0.,   0.,   0., 112.]),\n",
              " array([0. , 0.1, 0.2, 0.3, 0.4, 0.5, 0.6, 0.7, 0.8, 0.9, 1. ]),\n",
              " <a list of 10 Patch objects>)"
            ]
          },
          "metadata": {
            "tags": []
          },
          "execution_count": 24
        },
        {
          "output_type": "display_data",
          "data": {
            "image/png": "[encoded data removed]",
            "text/plain": [
              "<Figure size 432x288 with 1 Axes>"
            ]
          },
          "metadata": {
            "tags": [],
            "needs_background": "light"
          }
        }
      ]
    },
    {
      "cell_type": "code",
      "metadata": {
        "colab": {
          "base_uri": "https://localhost:8080/"
        },
        "id": "Dozk925aZiu7",
        "outputId": "78a4e674-6219-4f13-9c8e-88e63ee72e67"
      },
      "source": [
        "train, test = data[data[\"is_train\"]==True], data[data[\"is_train\"]==False]\n",
        "len(train), len(test)"
      ],
      "execution_count": null,
      "outputs": [
        {
          "output_type": "execute_result",
          "data": {
            "text/plain": [
              "(112, 38)"
            ]
          },
          "metadata": {
            "tags": []
          },
          "execution_count": 25
        }
      ]
    },
    {
      "cell_type": "markdown",
      "metadata": {
        "id": "ftNsiqsvaYvC"
      },
      "source": [
        "Realizamos la clasificación"
      ]
    },
    {
      "cell_type": "code",
      "metadata": {
        "id": "zZHTNN0EabZQ"
      },
      "source": [
        "from sklearn.tree import DecisionTreeClassifier # existe el otro que e spara regresioón"
      ],
      "execution_count": null,
      "outputs": []
    },
    {
      "cell_type": "code",
      "metadata": {
        "colab": {
          "base_uri": "https://localhost:8080/"
        },
        "id": "eHNDMhSJaraa",
        "outputId": "845c945f-d53c-4f23-c719-b5382c6b5492"
      },
      "source": [
        "tree = DecisionTreeClassifier(criterion=\"entropy\", # criterio de clasificación\n",
        "                              min_samples_split=20, # numero minimo de elementos par realizar una decision (nodos), por defecto es 2\n",
        "                              random_state=99 #semilla\n",
        "                              #min_samples_leaf # numero minimo de muestras para crear un nodo\n",
        "                              )\n",
        "tree.fit(train[predictors],train[target])                         "
      ],
      "execution_count": null,
      "outputs": [
        {
          "output_type": "execute_result",
          "data": {
            "text/plain": [
              "DecisionTreeClassifier(ccp_alpha=0.0, class_weight=None, criterion='entropy',\n",
              "                       max_depth=None, max_features=None, max_leaf_nodes=None,\n",
              "                       min_impurity_decrease=0.0, min_impurity_split=None,\n",
              "                       min_samples_leaf=1, min_samples_split=20,\n",
              "                       min_weight_fraction_leaf=0.0, presort='deprecated',\n",
              "                       random_state=99, splitter='best')"
            ]
          },
          "metadata": {
            "tags": []
          },
          "execution_count": 36
        }
      ]
    },
    {
      "cell_type": "markdown",
      "metadata": {
        "id": "U_QPf-nkb7dx"
      },
      "source": [
        "Predicciones"
      ]
    },
    {
      "cell_type": "code",
      "metadata": {
        "id": "Ja9sG1zJbT8R"
      },
      "source": [
        "preds = tree.predict(test[predictors])"
      ],
      "execution_count": null,
      "outputs": []
    },
    {
      "cell_type": "code",
      "metadata": {
        "colab": {
          "base_uri": "https://localhost:8080/",
          "height": 173
        },
        "id": "ppGQ_yQTcHa3",
        "outputId": "ec34180e-a907-45a2-a8ba-9f7601563f85"
      },
      "source": [
        "pd.crosstab(test[target], preds, rownames=[\"Actual\"], colnames=[\"Predictions\"])"
      ],
      "execution_count": null,
      "outputs": [
        {
          "output_type": "execute_result",
          "data": {
            "text/html": [
              "<div>\n",
              "<style scoped>\n",
              "    .dataframe tbody tr th:only-of-type {\n",
              "        vertical-align: middle;\n",
              "    }\n",
              "\n",
              "    .dataframe tbody tr th {\n",
              "        vertical-align: top;\n",
              "    }\n",
              "\n",
              "    .dataframe thead th {\n",
              "        text-align: right;\n",
              "    }\n",
              "</style>\n",
              "<table border=\"1\" class=\"dataframe\">\n",
              "  <thead>\n",
              "    <tr style=\"text-align: right;\">\n",
              "      <th>Predictions</th>\n",
              "      <th>setosa</th>\n",
              "      <th>versicolor</th>\n",
              "      <th>virginica</th>\n",
              "    </tr>\n",
              "    <tr>\n",
              "      <th>Actual</th>\n",
              "      <th></th>\n",
              "      <th></th>\n",
              "      <th></th>\n",
              "    </tr>\n",
              "  </thead>\n",
              "  <tbody>\n",
              "    <tr>\n",
              "      <th>setosa</th>\n",
              "      <td>13</td>\n",
              "      <td>0</td>\n",
              "      <td>0</td>\n",
              "    </tr>\n",
              "    <tr>\n",
              "      <th>versicolor</th>\n",
              "      <td>0</td>\n",
              "      <td>14</td>\n",
              "      <td>0</td>\n",
              "    </tr>\n",
              "    <tr>\n",
              "      <th>virginica</th>\n",
              "      <td>0</td>\n",
              "      <td>1</td>\n",
              "      <td>10</td>\n",
              "    </tr>\n",
              "  </tbody>\n",
              "</table>\n",
              "</div>"
            ],
            "text/plain": [
              "Predictions  setosa  versicolor  virginica\n",
              "Actual                                    \n",
              "setosa           13           0          0\n",
              "versicolor        0          14          0\n",
              "virginica         0           1         10"
            ]
          },
          "metadata": {
            "tags": []
          },
          "execution_count": 38
        }
      ]
    },
    {
      "cell_type": "markdown",
      "metadata": {
        "id": "_ol4hdIlce2_"
      },
      "source": [
        "#### Representación gráfica del árbol\n",
        "\n",
        "Necesitamso crear un archivo .dot -- Visualización d egrafos"
      ]
    },
    {
      "cell_type": "code",
      "metadata": {
        "id": "NVsn1JL2dFMf"
      },
      "source": [
        "from sklearn.tree import export_graphviz"
      ],
      "execution_count": null,
      "outputs": []
    },
    {
      "cell_type": "code",
      "metadata": {
        "id": "476eKZOpdCn_"
      },
      "source": [
        "with open(\"/content/drive/MyDrive/Machine en Python  Udemy/recursos/iris_dtree.dot\",\n",
        "          \"w\" # Tpo de apertura, escribir\n",
        "          ) as dotfile:\n",
        "    export_graphviz(decision_tree=tree, out_file=dotfile, feature_names=predictors)\n",
        "    dotfile.close()"
      ],
      "execution_count": null,
      "outputs": []
    },
    {
      "cell_type": "code",
      "metadata": {
        "id": "-dYVKiKlc7PA"
      },
      "source": [
        "import os \n",
        "from graphviz import Source # Visualizaciòn para grafos"
      ],
      "execution_count": null,
      "outputs": []
    },
    {
      "cell_type": "code",
      "metadata": {
        "id": "K9YVSQh9aUmp",
        "colab": {
          "base_uri": "https://localhost:8080/",
          "height": 171
        },
        "outputId": "fe393aa9-e216-41fa-9f8a-8d5eead63314"
      },
      "source": [
        "file = open(\"/content/drive/MyDrive/Machine en Python  Udemy/recursos/iris_dtree.dot\", \"r\") # r es en modo lectura\n",
        "text = file.read()\n",
        "text "
      ],
      "execution_count": null,
      "outputs": [
        {
          "output_type": "execute_result",
          "data": {
            "application/vnd.google.colaboratory.intrinsic+json": {
              "type": "string"
            },
            "text/plain": [
              "'digraph Tree {\\nnode [shape=box] ;\\n0 [label=\"Petal.Length <= 2.45\\\\nentropy = 1.584\\\\nsamples = 112\\\\nvalue = [37, 36, 39]\"] ;\\n1 [label=\"entropy = 0.0\\\\nsamples = 37\\\\nvalue = [37, 0, 0]\"] ;\\n0 -> 1 [labeldistance=2.5, labelangle=45, headlabel=\"True\"] ;\\n2 [label=\"Petal.Width <= 1.75\\\\nentropy = 0.999\\\\nsamples = 75\\\\nvalue = [0, 36, 39]\"] ;\\n0 -> 2 [labeldistance=2.5, labelangle=-45, headlabel=\"False\"] ;\\n3 [label=\"Petal.Length <= 4.95\\\\nentropy = 0.398\\\\nsamples = 38\\\\nvalue = [0, 35, 3]\"] ;\\n2 -> 3 ;\\n4 [label=\"entropy = 0.0\\\\nsamples = 33\\\\nvalue = [0, 33, 0]\"] ;\\n3 -> 4 ;\\n5 [label=\"entropy = 0.971\\\\nsamples = 5\\\\nvalue = [0, 2, 3]\"] ;\\n3 -> 5 ;\\n6 [label=\"Petal.Length <= 4.85\\\\nentropy = 0.179\\\\nsamples = 37\\\\nvalue = [0, 1, 36]\"] ;\\n2 -> 6 ;\\n7 [label=\"entropy = 0.918\\\\nsamples = 3\\\\nvalue = [0, 1, 2]\"] ;\\n6 -> 7 ;\\n8 [label=\"entropy = 0.0\\\\nsamples = 34\\\\nvalue = [0, 0, 34]\"] ;\\n6 -> 8 ;\\n}'"
            ]
          },
          "metadata": {
            "tags": []
          },
          "execution_count": 42
        }
      ]
    },
    {
      "cell_type": "code",
      "metadata": {
        "colab": {
          "base_uri": "https://localhost:8080/",
          "height": 518
        },
        "id": "UfWcOwoNtJhs",
        "outputId": "02735f89-b9ea-4305-f26e-b6eace33d9d2"
      },
      "source": [
        "Source(text)"
      ],
      "execution_count": null,
      "outputs": [
        {
          "output_type": "execute_result",
          "data": {
            "text/plain": [
              "<graphviz.files.Source at 0x7fee0a1b6fd0>"
            ],
            "image/svg+xml": "<?xml version=\"1.0\" encoding=\"UTF-8\" standalone=\"no\"?>\n<!DOCTYPE svg PUBLIC \"-//W3C//DTD SVG 1.1//EN\"\n \"http://www.w3.org/Graphics/SVG/1.1/DTD/svg11.dtd\">\n<!-- Generated by graphviz version 2.40.1 (20161225.0304)\n -->\n<!-- Title: Tree Pages: 1 -->\n<svg width=\"532pt\" height=\"373pt\"\n viewBox=\"0.00 0.00 532.00 373.00\" xmlns=\"http://www.w3.org/2000/svg\" xmlns:xlink=\"http://www.w3.org/1999/xlink\">\n<g id=\"graph0\" class=\"graph\" transform=\"scale(1 1) rotate(0) translate(4 369)\">\n<title>Tree</title>\n<polygon fill=\"#ffffff\" stroke=\"transparent\" points=\"-4,4 -4,-369 528,-369 528,4 -4,4\"/>\n<!-- 0 -->\n<g id=\"node1\" class=\"node\">\n<title>0</title>\n<polygon fill=\"none\" stroke=\"#000000\" points=\"259.5,-365 119.5,-365 119.5,-297 259.5,-297 259.5,-365\"/>\n<text text-anchor=\"middle\" x=\"189.5\" y=\"-349.8\" font-family=\"Times,serif\" font-size=\"14.00\" fill=\"#000000\">Petal.Length &lt;= 2.45</text>\n<text text-anchor=\"middle\" x=\"189.5\" y=\"-334.8\" font-family=\"Times,serif\" font-size=\"14.00\" fill=\"#000000\">entropy = 1.584</text>\n<text text-anchor=\"middle\" x=\"189.5\" y=\"-319.8\" font-family=\"Times,serif\" font-size=\"14.00\" fill=\"#000000\">samples = 112</text>\n<text text-anchor=\"middle\" x=\"189.5\" y=\"-304.8\" font-family=\"Times,serif\" font-size=\"14.00\" fill=\"#000000\">value = [37, 36, 39]</text>\n</g>\n<!-- 1 -->\n<g id=\"node2\" class=\"node\">\n<title>1</title>\n<polygon fill=\"none\" stroke=\"#000000\" points=\"176,-253.5 59,-253.5 59,-200.5 176,-200.5 176,-253.5\"/>\n<text text-anchor=\"middle\" x=\"117.5\" y=\"-238.3\" font-family=\"Times,serif\" font-size=\"14.00\" fill=\"#000000\">entropy = 0.0</text>\n<text text-anchor=\"middle\" x=\"117.5\" y=\"-223.3\" font-family=\"Times,serif\" font-size=\"14.00\" fill=\"#000000\">samples = 37</text>\n<text text-anchor=\"middle\" x=\"117.5\" y=\"-208.3\" font-family=\"Times,serif\" font-size=\"14.00\" fill=\"#000000\">value = [37, 0, 0]</text>\n</g>\n<!-- 0&#45;&gt;1 -->\n<g id=\"edge1\" class=\"edge\">\n<title>0&#45;&gt;1</title>\n<path fill=\"none\" stroke=\"#000000\" d=\"M165.9245,-296.9465C158.1463,-285.7113 149.4861,-273.2021 141.6645,-261.9043\"/>\n<polygon fill=\"#000000\" stroke=\"#000000\" points=\"144.4452,-259.7719 135.8753,-253.5422 138.6898,-263.7564 144.4452,-259.7719\"/>\n<text text-anchor=\"middle\" x=\"131.4032\" y=\"-274.4389\" font-family=\"Times,serif\" font-size=\"14.00\" fill=\"#000000\">True</text>\n</g>\n<!-- 2 -->\n<g id=\"node3\" class=\"node\">\n<title>2</title>\n<polygon fill=\"none\" stroke=\"#000000\" points=\"328.5,-261 194.5,-261 194.5,-193 328.5,-193 328.5,-261\"/>\n<text text-anchor=\"middle\" x=\"261.5\" y=\"-245.8\" font-family=\"Times,serif\" font-size=\"14.00\" fill=\"#000000\">Petal.Width &lt;= 1.75</text>\n<text text-anchor=\"middle\" x=\"261.5\" y=\"-230.8\" font-family=\"Times,serif\" font-size=\"14.00\" fill=\"#000000\">entropy = 0.999</text>\n<text text-anchor=\"middle\" x=\"261.5\" y=\"-215.8\" font-family=\"Times,serif\" font-size=\"14.00\" fill=\"#000000\">samples = 75</text>\n<text text-anchor=\"middle\" x=\"261.5\" y=\"-200.8\" font-family=\"Times,serif\" font-size=\"14.00\" fill=\"#000000\">value = [0, 36, 39]</text>\n</g>\n<!-- 0&#45;&gt;2 -->\n<g id=\"edge2\" class=\"edge\">\n<title>0&#45;&gt;2</title>\n<path fill=\"none\" stroke=\"#000000\" d=\"M213.0755,-296.9465C219.1671,-288.1475 225.7996,-278.5672 232.1466,-269.3993\"/>\n<polygon fill=\"#000000\" stroke=\"#000000\" points=\"235.0571,-271.3442 237.8715,-261.13 229.3017,-267.3597 235.0571,-271.3442\"/>\n<text text-anchor=\"middle\" x=\"242.3437\" y=\"-282.0267\" font-family=\"Times,serif\" font-size=\"14.00\" fill=\"#000000\">False</text>\n</g>\n<!-- 3 -->\n<g id=\"node4\" class=\"node\">\n<title>3</title>\n<polygon fill=\"none\" stroke=\"#000000\" points=\"252.5,-157 112.5,-157 112.5,-89 252.5,-89 252.5,-157\"/>\n<text text-anchor=\"middle\" x=\"182.5\" y=\"-141.8\" font-family=\"Times,serif\" font-size=\"14.00\" fill=\"#000000\">Petal.Length &lt;= 4.95</text>\n<text text-anchor=\"middle\" x=\"182.5\" y=\"-126.8\" font-family=\"Times,serif\" font-size=\"14.00\" fill=\"#000000\">entropy = 0.398</text>\n<text text-anchor=\"middle\" x=\"182.5\" y=\"-111.8\" font-family=\"Times,serif\" font-size=\"14.00\" fill=\"#000000\">samples = 38</text>\n<text text-anchor=\"middle\" x=\"182.5\" y=\"-96.8\" font-family=\"Times,serif\" font-size=\"14.00\" fill=\"#000000\">value = [0, 35, 3]</text>\n</g>\n<!-- 2&#45;&gt;3 -->\n<g id=\"edge3\" class=\"edge\">\n<title>2&#45;&gt;3</title>\n<path fill=\"none\" stroke=\"#000000\" d=\"M235.6324,-192.9465C228.8804,-184.0578 221.5226,-174.3716 214.4941,-165.1188\"/>\n<polygon fill=\"#000000\" stroke=\"#000000\" points=\"217.2617,-162.976 208.4257,-157.13 211.6875,-167.2102 217.2617,-162.976\"/>\n</g>\n<!-- 6 -->\n<g id=\"node7\" class=\"node\">\n<title>6</title>\n<polygon fill=\"none\" stroke=\"#000000\" points=\"410.5,-157 270.5,-157 270.5,-89 410.5,-89 410.5,-157\"/>\n<text text-anchor=\"middle\" x=\"340.5\" y=\"-141.8\" font-family=\"Times,serif\" font-size=\"14.00\" fill=\"#000000\">Petal.Length &lt;= 4.85</text>\n<text text-anchor=\"middle\" x=\"340.5\" y=\"-126.8\" font-family=\"Times,serif\" font-size=\"14.00\" fill=\"#000000\">entropy = 0.179</text>\n<text text-anchor=\"middle\" x=\"340.5\" y=\"-111.8\" font-family=\"Times,serif\" font-size=\"14.00\" fill=\"#000000\">samples = 37</text>\n<text text-anchor=\"middle\" x=\"340.5\" y=\"-96.8\" font-family=\"Times,serif\" font-size=\"14.00\" fill=\"#000000\">value = [0, 1, 36]</text>\n</g>\n<!-- 2&#45;&gt;6 -->\n<g id=\"edge6\" class=\"edge\">\n<title>2&#45;&gt;6</title>\n<path fill=\"none\" stroke=\"#000000\" d=\"M287.3676,-192.9465C294.1196,-184.0578 301.4774,-174.3716 308.5059,-165.1188\"/>\n<polygon fill=\"#000000\" stroke=\"#000000\" points=\"311.3125,-167.2102 314.5743,-157.13 305.7383,-162.976 311.3125,-167.2102\"/>\n</g>\n<!-- 4 -->\n<g id=\"node5\" class=\"node\">\n<title>4</title>\n<polygon fill=\"none\" stroke=\"#000000\" points=\"117,-53 0,-53 0,0 117,0 117,-53\"/>\n<text text-anchor=\"middle\" x=\"58.5\" y=\"-37.8\" font-family=\"Times,serif\" font-size=\"14.00\" fill=\"#000000\">entropy = 0.0</text>\n<text text-anchor=\"middle\" x=\"58.5\" y=\"-22.8\" font-family=\"Times,serif\" font-size=\"14.00\" fill=\"#000000\">samples = 33</text>\n<text text-anchor=\"middle\" x=\"58.5\" y=\"-7.8\" font-family=\"Times,serif\" font-size=\"14.00\" fill=\"#000000\">value = [0, 33, 0]</text>\n</g>\n<!-- 3&#45;&gt;4 -->\n<g id=\"edge4\" class=\"edge\">\n<title>3&#45;&gt;4</title>\n<path fill=\"none\" stroke=\"#000000\" d=\"M138.7822,-88.9777C126.5451,-79.4545 113.2645,-69.1191 101.0934,-59.6473\"/>\n<polygon fill=\"#000000\" stroke=\"#000000\" points=\"102.9125,-56.628 92.8711,-53.2485 98.6134,-62.1523 102.9125,-56.628\"/>\n</g>\n<!-- 5 -->\n<g id=\"node6\" class=\"node\">\n<title>5</title>\n<polygon fill=\"none\" stroke=\"#000000\" points=\"245.5,-53 135.5,-53 135.5,0 245.5,0 245.5,-53\"/>\n<text text-anchor=\"middle\" x=\"190.5\" y=\"-37.8\" font-family=\"Times,serif\" font-size=\"14.00\" fill=\"#000000\">entropy = 0.971</text>\n<text text-anchor=\"middle\" x=\"190.5\" y=\"-22.8\" font-family=\"Times,serif\" font-size=\"14.00\" fill=\"#000000\">samples = 5</text>\n<text text-anchor=\"middle\" x=\"190.5\" y=\"-7.8\" font-family=\"Times,serif\" font-size=\"14.00\" fill=\"#000000\">value = [0, 2, 3]</text>\n</g>\n<!-- 3&#45;&gt;5 -->\n<g id=\"edge5\" class=\"edge\">\n<title>3&#45;&gt;5</title>\n<path fill=\"none\" stroke=\"#000000\" d=\"M185.3205,-88.9777C186.0113,-80.6449 186.7537,-71.6903 187.4545,-63.2364\"/>\n<polygon fill=\"#000000\" stroke=\"#000000\" points=\"190.9443,-63.5035 188.2825,-53.2485 183.9682,-62.9251 190.9443,-63.5035\"/>\n</g>\n<!-- 7 -->\n<g id=\"node8\" class=\"node\">\n<title>7</title>\n<polygon fill=\"none\" stroke=\"#000000\" points=\"388.5,-53 278.5,-53 278.5,0 388.5,0 388.5,-53\"/>\n<text text-anchor=\"middle\" x=\"333.5\" y=\"-37.8\" font-family=\"Times,serif\" font-size=\"14.00\" fill=\"#000000\">entropy = 0.918</text>\n<text text-anchor=\"middle\" x=\"333.5\" y=\"-22.8\" font-family=\"Times,serif\" font-size=\"14.00\" fill=\"#000000\">samples = 3</text>\n<text text-anchor=\"middle\" x=\"333.5\" y=\"-7.8\" font-family=\"Times,serif\" font-size=\"14.00\" fill=\"#000000\">value = [0, 1, 2]</text>\n</g>\n<!-- 6&#45;&gt;7 -->\n<g id=\"edge7\" class=\"edge\">\n<title>6&#45;&gt;7</title>\n<path fill=\"none\" stroke=\"#000000\" d=\"M338.0321,-88.9777C337.4276,-80.6449 336.778,-71.6903 336.1648,-63.2364\"/>\n<polygon fill=\"#000000\" stroke=\"#000000\" points=\"339.6547,-62.969 335.4403,-53.2485 332.6731,-63.4755 339.6547,-62.969\"/>\n</g>\n<!-- 8 -->\n<g id=\"node9\" class=\"node\">\n<title>8</title>\n<polygon fill=\"none\" stroke=\"#000000\" points=\"524,-53 407,-53 407,0 524,0 524,-53\"/>\n<text text-anchor=\"middle\" x=\"465.5\" y=\"-37.8\" font-family=\"Times,serif\" font-size=\"14.00\" fill=\"#000000\">entropy = 0.0</text>\n<text text-anchor=\"middle\" x=\"465.5\" y=\"-22.8\" font-family=\"Times,serif\" font-size=\"14.00\" fill=\"#000000\">samples = 34</text>\n<text text-anchor=\"middle\" x=\"465.5\" y=\"-7.8\" font-family=\"Times,serif\" font-size=\"14.00\" fill=\"#000000\">value = [0, 0, 34]</text>\n</g>\n<!-- 6&#45;&gt;8 -->\n<g id=\"edge8\" class=\"edge\">\n<title>6&#45;&gt;8</title>\n<path fill=\"none\" stroke=\"#000000\" d=\"M384.5703,-88.9777C397.0248,-79.3629 410.5515,-68.9203 422.9167,-59.3743\"/>\n<polygon fill=\"#000000\" stroke=\"#000000\" points=\"425.0749,-62.1299 430.8517,-53.2485 420.7972,-56.5889 425.0749,-62.1299\"/>\n</g>\n</g>\n</svg>\n"
          },
          "metadata": {
            "tags": []
          },
          "execution_count": 43
        }
      ]
    },
    {
      "cell_type": "code",
      "metadata": {
        "colab": {
          "base_uri": "https://localhost:8080/"
        },
        "id": "mzGeHmdTuJ1t",
        "outputId": "d5150f0e-b6ef-4b13-e800-6e1bd76db164"
      },
      "source": [
        "data.Species.unique() # Orden en el que clasificará el árbol value \n",
        " * versicolor[0, 33, 0]\n",
        " * setosa[37, 0, 0]\n",
        " * virginica[0, 0, 34]\n"
      ],
      "execution_count": null,
      "outputs": [
        {
          "output_type": "execute_result",
          "data": {
            "text/plain": [
              "array(['setosa', 'versicolor', 'virginica'], dtype=object)"
            ]
          },
          "metadata": {
            "tags": []
          },
          "execution_count": 35
        }
      ]
    },
    {
      "cell_type": "markdown",
      "metadata": {
        "id": "yn3PK99Utlij"
      },
      "source": [
        "## Interpretación de resultados\n",
        "\n",
        "* La setosas son las más pequeñas.\n",
        "\n",
        "* si la longitud del petalo (petal.lenght <=2.45 es true) es menor que 2.45, la especie  es una setosa.  De lo contrario(petal.lenght <=2.45) habrá que mirar el ancho de los petalos. Este nodo clasifica perfectamente ya que tiene 37 setosas, o virginicas y 0 versicolors([37, 0, 0])\n",
        "\n",
        "* Si el largo de los petalos es mayor que 2.45 y el ancho es menor que 1.75, habrá que mirar el largo de los petalos. si estos ultimos son menores que 4.95 el árbol clasificará ima versicolor.\n",
        "\n",
        "* Si el largo de los petalos es >= 2.45  y el ancho >= 1.75, habrá que mirar la longitud de los petalos. Si estos últimos son mayores a 4.85, el árbol clasificrá una virginica.\n",
        "\n",
        "* otro punto ah señala es que la profundidad del árbol es de 2 decisones.\n",
        "\n",
        "* También se observa que las medidas  de los sepalos es irrelevante para clasificarlos."
      ]
    },
    {
      "cell_type": "markdown",
      "metadata": {
        "id": "MOYBXGr8xgp-"
      },
      "source": [
        "## Cross Validation para la Poda"
      ]
    },
    {
      "cell_type": "code",
      "metadata": {
        "id": "Jv-dQ5vH2CMC"
      },
      "source": [
        "X = data[predictors]\n",
        "Y = data[target]"
      ],
      "execution_count": null,
      "outputs": []
    },
    {
      "cell_type": "code",
      "metadata": {
        "colab": {
          "base_uri": "https://localhost:8080/"
        },
        "id": "h9ZA1BKH5pv8",
        "outputId": "65e04c49-0d79-422d-e9e6-e0ed4411bd39"
      },
      "source": [
        "tree = DecisionTreeClassifier(criterion=\"entropy\", max_depth=5, min_samples_split=20, random_state=99)\n",
        "tree.fit(X,Y)"
      ],
      "execution_count": null,
      "outputs": [
        {
          "output_type": "execute_result",
          "data": {
            "text/plain": [
              "DecisionTreeClassifier(ccp_alpha=0.0, class_weight=None, criterion='entropy',\n",
              "                       max_depth=5, max_features=None, max_leaf_nodes=None,\n",
              "                       min_impurity_decrease=0.0, min_impurity_split=None,\n",
              "                       min_samples_leaf=1, min_samples_split=20,\n",
              "                       min_weight_fraction_leaf=0.0, presort='deprecated',\n",
              "                       random_state=99, splitter='best')"
            ]
          },
          "metadata": {
            "tags": []
          },
          "execution_count": 46
        }
      ]
    },
    {
      "cell_type": "code",
      "metadata": {
        "id": "KyuwSMJK6H5c"
      },
      "source": [
        "from sklearn.model_selection import KFold # librería de la validación cruzada"
      ],
      "execution_count": null,
      "outputs": []
    },
    {
      "cell_type": "code",
      "metadata": {
        "id": "UfIeY4Z37k10"
      },
      "source": [
        "# Validación cruzada de 10 grupos\n",
        "cv = KFold(n_splits=10, shuffle=True, random_state=1)"
      ],
      "execution_count": null,
      "outputs": []
    },
    {
      "cell_type": "code",
      "metadata": {
        "id": "XJxEIP1P6FMD"
      },
      "source": [
        "from sklearn.model_selection import cross_val_score"
      ],
      "execution_count": null,
      "outputs": []
    },
    {
      "cell_type": "code",
      "metadata": {
        "colab": {
          "base_uri": "https://localhost:8080/"
        },
        "id": "crS6-lEK9reH",
        "outputId": "d98d4cf8-dd6d-4eaf-e742-1c7210df9b63"
      },
      "source": [
        "score = cross_val_score(estimator=tree, #árbol\n",
        "                                X= X, # Conjuto de datos X\n",
        "                                y= Y, # conjunto de datos Y\n",
        "                                scoring=\"accuracy\", # usamos el scoring de precisión, mal clasificados\n",
        "                                cv=cv, # validación cruzada\n",
        "                                n_jobs=1) # trabajos simultaemaente\n",
        "score"
      ],
      "execution_count": null,
      "outputs": [
        {
          "output_type": "execute_result",
          "data": {
            "text/plain": [
              "array([1.        , 0.93333333, 0.93333333, 0.93333333, 1.        ,\n",
              "       0.93333333, 1.        , 0.86666667, 0.93333333, 0.8       ])"
            ]
          },
          "metadata": {
            "tags": []
          },
          "execution_count": 57
        }
      ]
    },
    {
      "cell_type": "code",
      "metadata": {
        "colab": {
          "base_uri": "https://localhost:8080/"
        },
        "id": "eufXJxkn-pRA",
        "outputId": "1b915494-f84e-433b-ca15-e879c329a06b"
      },
      "source": [
        "score = np.mean(score)\n",
        "score # eficacia alta"
      ],
      "execution_count": null,
      "outputs": [
        {
          "output_type": "execute_result",
          "data": {
            "text/plain": [
              "0.9333333333333333"
            ]
          },
          "metadata": {
            "tags": []
          },
          "execution_count": 59
        }
      ]
    },
    {
      "cell_type": "markdown",
      "metadata": {
        "id": "S07HXdMh_VV2"
      },
      "source": [
        "### Automatizar el nivel de profundidad del árbol"
      ]
    },
    {
      "cell_type": "markdown",
      "metadata": {
        "id": "2kzrzYYhAtJt"
      },
      "source": [
        ""
      ]
    },
    {
      "cell_type": "code",
      "metadata": {
        "colab": {
          "base_uri": "https://localhost:8080/"
        },
        "id": "XioQ5dXF_d50",
        "outputId": "518273b0-6168-4a8d-d6da-9233ff18eba7"
      },
      "source": [
        "for i in range(1,11):\n",
        "  tree = DecisionTreeClassifier(criterion=\"entropy\", max_depth=i, min_samples_split=20, random_state=99)\n",
        "  tree.fit(X,Y)\n",
        "  cv = KFold(n_splits=10, shuffle=True, random_state=1)\n",
        "  scores = cross_val_score(estimator=tree, X=X, y= Y, scoring=\"accuracy\", cv=cv, n_jobs=1)\n",
        "  score = np.mean(scores)\n",
        "  print(\"score para i = \",i,\"es de: \", round(score,4))\n",
        "  print(\"Clasificador de rasgos\", tree.feature_importances_)\n"
      ],
      "execution_count": null,
      "outputs": [
        {
          "output_type": "stream",
          "text": [
            "score para i =  1 es de:  0.5667\n",
            "Calsificador de rasgos [0. 0. 1. 0.]\n",
            "score para i =  2 es de:  0.92\n",
            "Calsificador de rasgos [0.         0.         0.66620285 0.33379715]\n",
            "score para i =  3 es de:  0.94\n",
            "Calsificador de rasgos [0.         0.         0.68976981 0.31023019]\n",
            "score para i =  4 es de:  0.9333\n",
            "Calsificador de rasgos [0.         0.         0.66869158 0.33130842]\n",
            "score para i =  5 es de:  0.9333\n",
            "Calsificador de rasgos [0.         0.         0.66869158 0.33130842]\n",
            "score para i =  6 es de:  0.9333\n",
            "Calsificador de rasgos [0.         0.         0.66869158 0.33130842]\n",
            "score para i =  7 es de:  0.9333\n",
            "Calsificador de rasgos [0.         0.         0.66869158 0.33130842]\n",
            "score para i =  8 es de:  0.9333\n",
            "Calsificador de rasgos [0.         0.         0.66869158 0.33130842]\n",
            "score para i =  9 es de:  0.9333\n",
            "Calsificador de rasgos [0.         0.         0.66869158 0.33130842]\n",
            "score para i =  10 es de:  0.9333\n",
            "Calsificador de rasgos [0.         0.         0.66869158 0.33130842]\n"
          ],
          "name": "stdout"
        }
      ]
    },
    {
      "cell_type": "markdown",
      "metadata": {
        "id": "Js0O7LBN_d7u"
      },
      "source": [
        "Teniendo en cuenta el indicador accuracy, observamos que la puntuación maxima del indice se alcanza para una profundidad de 3, luego empieza a diminuir y ser constante.\n",
        "\n",
        "en cuanto al clasificador de rasgos de importancia, este indica la importancia de la variables que se usan para clasificar, en el caso del modelo es **Petal.Length**.\n",
        "\n",
        "Si solo se eligiria una variable(i=1) para clasificar la longitud de los petal seria la que más aporta al modelo.\n",
        "\n",
        "En caso de ser 2 , la logitud de lo petalos se lleva el 66% y el ancho de los petalos el 33%.\n",
        "\n",
        "En caso de 3, 68% y 31 % . por encima de 3 todos estan en relación de 2 a 1, y la longitud y el ancho de los sepalos no es importante en el modelo\n",
        "\n"
      ]
    },
    {
      "cell_type": "markdown",
      "metadata": {
        "id": "gxgD4Me8Frsf"
      },
      "source": [
        "# Arboles de regresión\n",
        "---\n",
        "\n",
        "#### Algoritmo\n",
        "* Empezamos con un nodo con todas las observaciones\n",
        "  * Calculamos la media y la varianza de la variable objetivo.\n",
        "* Calculamos la reducción de la varianza para todas las posibles candidatos a variable del siguiente nodo eligiendo la que da máxima reducción de la misma en el nodo.\n",
        "* Para cada nodo hoja comprobamos si:\n",
        "  * La reducción maxima de la varianza es menor que un valor fijo\n",
        "  * El número de observacionesen dicho nodo e smenor que un valor fijo.\n",
        "\n",
        "#### Ventajas\n",
        " * Modela relaciones complejas no lineales.\n",
        " * Fácil de entender.\n",
        " * auqnue falten valores, se puede promediar en el último nodo donde se ah clasificado la observación.\n",
        " * Permiten seleccionar rasgos descriptivos importantes del dataset.\n"
      ]
    },
    {
      "cell_type": "markdown",
      "metadata": {
        "id": "3j6q99ktIuGD"
      },
      "source": [
        "## Aplicación de árboles de regresión\n",
        "\n",
        "### Valores de vivienda en los suburbios de Boston"
      ]
    },
    {
      "cell_type": "code",
      "metadata": {
        "id": "hSfFULwsF--e"
      },
      "source": [
        "import pandas as pd\n",
        "import numpy as np\n",
        "import matplotlib.pyplot as plt\n",
        "from sklearn.tree import DecisionTreeRegressor"
      ],
      "execution_count": null,
      "outputs": []
    },
    {
      "cell_type": "code",
      "metadata": {
        "id": "Pr2fs7ciDDyK"
      },
      "source": [
        "data = pd.read_csv(\"/content/drive/MyDrive/Machine en Python  Udemy/Data/Boston.csv\")\n",
        "data.head()"
      ],
      "execution_count": null,
      "outputs": []
    },
    {
      "cell_type": "code",
      "metadata": {
        "id": "zIlw5lY3MdeQ"
      },
      "source": [
        "colnames = data.columns.values.tolist()\n",
        "predictors = colnames[:13]\n",
        "target = colnames[13]\n",
        "X = data[predictors]\n",
        "Y = data[target]"
      ],
      "execution_count": null,
      "outputs": []
    },
    {
      "cell_type": "markdown",
      "metadata": {
        "id": "fmJQJlElViBl"
      },
      "source": [
        "#### Modelo"
      ]
    },
    {
      "cell_type": "code",
      "metadata": {
        "id": "cGz9CXecM9Ce"
      },
      "source": [
        "regtree = DecisionTreeRegressor(criterion='mse', \n",
        "                                min_samples_split=30,\n",
        "                                min_samples_leaf=10,\n",
        "                                max_depth = 5 # 5 nodos o profundidad\n",
        "                                ,random_state=0)\n",
        "regtree.fit(X,Y)"
      ],
      "execution_count": null,
      "outputs": []
    },
    {
      "cell_type": "code",
      "metadata": {
        "id": "4OzzKn5yTBUQ"
      },
      "source": [
        "preds = regtree.predict(data[predictors])\n",
        "data[\"preds\"] = preds"
      ],
      "execution_count": null,
      "outputs": []
    },
    {
      "cell_type": "code",
      "metadata": {
        "id": "uk20K2qJS_pf"
      },
      "source": [
        "data[[\"preds\", \"medv\"]].head()"
      ],
      "execution_count": null,
      "outputs": []
    },
    {
      "cell_type": "markdown",
      "metadata": {
        "id": "ESI_HdLoUnGc"
      },
      "source": [
        "#### Gráficamos el árbol"
      ]
    },
    {
      "cell_type": "code",
      "metadata": {
        "colab": {
          "base_uri": "https://localhost:8080/",
          "height": 816
        },
        "id": "_92Cz1c5V8o0",
        "outputId": "d4498f81-ea39-4555-a396-6943f5910c7b"
      },
      "source": [
        "from sklearn.tree import export_graphviz #para generar el gráfico\n",
        "with open(\"/content/drive/MyDrive/Machine en Python  Udemy/recursos/boston_regtree.dot\", \"w\") as dotfile:\n",
        "    export_graphviz(regtree, out_file=dotfile, feature_names=predictors)\n",
        "    dotfile.close()\n",
        "\n",
        "import os\n",
        "from graphviz import Source\n",
        "file = open(\"/content/drive/MyDrive/Machine en Python  Udemy/recursos/boston_regtree.dot\", \"r\")\n",
        "text = file.read()\n",
        "Source(text)"
      ],
      "execution_count": null,
      "outputs": [
        {
          "output_type": "execute_result",
          "data": {
            "text/plain": [
              "<graphviz.files.Source at 0x7fee0560f690>"
            ],
            "image/svg+xml": "<?xml version=\"1.0\" encoding=\"UTF-8\" standalone=\"no\"?>\n<!DOCTYPE svg PUBLIC \"-//W3C//DTD SVG 1.1//EN\"\n \"http://www.w3.org/Graphics/SVG/1.1/DTD/svg11.dtd\">\n<!-- Generated by graphviz version 2.40.1 (20161225.0304)\n -->\n<!-- Title: Tree Pages: 1 -->\n<svg width=\"1213pt\" height=\"581pt\"\n viewBox=\"0.00 0.00 1213.00 581.00\" xmlns=\"http://www.w3.org/2000/svg\" xmlns:xlink=\"http://www.w3.org/1999/xlink\">\n<g id=\"graph0\" class=\"graph\" transform=\"scale(1 1) rotate(0) translate(4 577)\">\n<title>Tree</title>\n<polygon fill=\"#ffffff\" stroke=\"transparent\" points=\"-4,4 -4,-577 1209,-577 1209,4 -4,4\"/>\n<!-- 0 -->\n<g id=\"node1\" class=\"node\">\n<title>0</title>\n<polygon fill=\"none\" stroke=\"#000000\" points=\"778,-573 674,-573 674,-505 778,-505 778,-573\"/>\n<text text-anchor=\"middle\" x=\"726\" y=\"-557.8\" font-family=\"Times,serif\" font-size=\"14.00\" fill=\"#000000\">rm &lt;= 6.941</text>\n<text text-anchor=\"middle\" x=\"726\" y=\"-542.8\" font-family=\"Times,serif\" font-size=\"14.00\" fill=\"#000000\">mse = 84.42</text>\n<text text-anchor=\"middle\" x=\"726\" y=\"-527.8\" font-family=\"Times,serif\" font-size=\"14.00\" fill=\"#000000\">samples = 506</text>\n<text text-anchor=\"middle\" x=\"726\" y=\"-512.8\" font-family=\"Times,serif\" font-size=\"14.00\" fill=\"#000000\">value = 22.533</text>\n</g>\n<!-- 1 -->\n<g id=\"node2\" class=\"node\">\n<title>1</title>\n<polygon fill=\"none\" stroke=\"#000000\" points=\"656,-469 552,-469 552,-401 656,-401 656,-469\"/>\n<text text-anchor=\"middle\" x=\"604\" y=\"-453.8\" font-family=\"Times,serif\" font-size=\"14.00\" fill=\"#000000\">lstat &lt;= 14.4</text>\n<text text-anchor=\"middle\" x=\"604\" y=\"-438.8\" font-family=\"Times,serif\" font-size=\"14.00\" fill=\"#000000\">mse = 40.273</text>\n<text text-anchor=\"middle\" x=\"604\" y=\"-423.8\" font-family=\"Times,serif\" font-size=\"14.00\" fill=\"#000000\">samples = 430</text>\n<text text-anchor=\"middle\" x=\"604\" y=\"-408.8\" font-family=\"Times,serif\" font-size=\"14.00\" fill=\"#000000\">value = 19.934</text>\n</g>\n<!-- 0&#45;&gt;1 -->\n<g id=\"edge1\" class=\"edge\">\n<title>0&#45;&gt;1</title>\n<path fill=\"none\" stroke=\"#000000\" d=\"M686.0526,-504.9465C675.0988,-495.6088 663.1127,-485.3911 651.768,-475.7203\"/>\n<polygon fill=\"#000000\" stroke=\"#000000\" points=\"653.9179,-472.9538 644.0371,-469.13 649.3767,-478.2809 653.9179,-472.9538\"/>\n<text text-anchor=\"middle\" x=\"646.022\" y=\"-490.3511\" font-family=\"Times,serif\" font-size=\"14.00\" fill=\"#000000\">True</text>\n</g>\n<!-- 22 -->\n<g id=\"node23\" class=\"node\">\n<title>22</title>\n<polygon fill=\"none\" stroke=\"#000000\" points=\"900,-469 796,-469 796,-401 900,-401 900,-469\"/>\n<text text-anchor=\"middle\" x=\"848\" y=\"-453.8\" font-family=\"Times,serif\" font-size=\"14.00\" fill=\"#000000\">rm &lt;= 7.437</text>\n<text text-anchor=\"middle\" x=\"848\" y=\"-438.8\" font-family=\"Times,serif\" font-size=\"14.00\" fill=\"#000000\">mse = 79.729</text>\n<text text-anchor=\"middle\" x=\"848\" y=\"-423.8\" font-family=\"Times,serif\" font-size=\"14.00\" fill=\"#000000\">samples = 76</text>\n<text text-anchor=\"middle\" x=\"848\" y=\"-408.8\" font-family=\"Times,serif\" font-size=\"14.00\" fill=\"#000000\">value = 37.238</text>\n</g>\n<!-- 0&#45;&gt;22 -->\n<g id=\"edge22\" class=\"edge\">\n<title>0&#45;&gt;22</title>\n<path fill=\"none\" stroke=\"#000000\" d=\"M765.9474,-504.9465C776.9012,-495.6088 788.8873,-485.3911 800.232,-475.7203\"/>\n<polygon fill=\"#000000\" stroke=\"#000000\" points=\"802.6233,-478.2809 807.9629,-469.13 798.0821,-472.9538 802.6233,-478.2809\"/>\n<text text-anchor=\"middle\" x=\"805.978\" y=\"-490.3511\" font-family=\"Times,serif\" font-size=\"14.00\" fill=\"#000000\">False</text>\n</g>\n<!-- 2 -->\n<g id=\"node3\" class=\"node\">\n<title>2</title>\n<polygon fill=\"none\" stroke=\"#000000\" points=\"345,-365 245,-365 245,-297 345,-297 345,-365\"/>\n<text text-anchor=\"middle\" x=\"295\" y=\"-349.8\" font-family=\"Times,serif\" font-size=\"14.00\" fill=\"#000000\">lstat &lt;= 4.91</text>\n<text text-anchor=\"middle\" x=\"295\" y=\"-334.8\" font-family=\"Times,serif\" font-size=\"14.00\" fill=\"#000000\">mse = 26.009</text>\n<text text-anchor=\"middle\" x=\"295\" y=\"-319.8\" font-family=\"Times,serif\" font-size=\"14.00\" fill=\"#000000\">samples = 255</text>\n<text text-anchor=\"middle\" x=\"295\" y=\"-304.8\" font-family=\"Times,serif\" font-size=\"14.00\" fill=\"#000000\">value = 23.35</text>\n</g>\n<!-- 1&#45;&gt;2 -->\n<g id=\"edge2\" class=\"edge\">\n<title>1&#45;&gt;2</title>\n<path fill=\"none\" stroke=\"#000000\" d=\"M551.9318,-417.4754C497.4637,-399.1431 412.0823,-370.4063 354.8655,-351.1489\"/>\n<polygon fill=\"#000000\" stroke=\"#000000\" points=\"355.8237,-347.7785 345.2296,-347.9058 353.5907,-354.4128 355.8237,-347.7785\"/>\n</g>\n<!-- 11 -->\n<g id=\"node12\" class=\"node\">\n<title>11</title>\n<polygon fill=\"none\" stroke=\"#000000\" points=\"656,-365 552,-365 552,-297 656,-297 656,-365\"/>\n<text text-anchor=\"middle\" x=\"604\" y=\"-349.8\" font-family=\"Times,serif\" font-size=\"14.00\" fill=\"#000000\">crim &lt;= 6.992</text>\n<text text-anchor=\"middle\" x=\"604\" y=\"-334.8\" font-family=\"Times,serif\" font-size=\"14.00\" fill=\"#000000\">mse = 19.276</text>\n<text text-anchor=\"middle\" x=\"604\" y=\"-319.8\" font-family=\"Times,serif\" font-size=\"14.00\" fill=\"#000000\">samples = 175</text>\n<text text-anchor=\"middle\" x=\"604\" y=\"-304.8\" font-family=\"Times,serif\" font-size=\"14.00\" fill=\"#000000\">value = 14.956</text>\n</g>\n<!-- 1&#45;&gt;11 -->\n<g id=\"edge11\" class=\"edge\">\n<title>1&#45;&gt;11</title>\n<path fill=\"none\" stroke=\"#000000\" d=\"M604,-400.9465C604,-392.776 604,-383.9318 604,-375.3697\"/>\n<polygon fill=\"#000000\" stroke=\"#000000\" points=\"607.5001,-375.13 604,-365.13 600.5001,-375.13 607.5001,-375.13\"/>\n</g>\n<!-- 3 -->\n<g id=\"node4\" class=\"node\">\n<title>3</title>\n<polygon fill=\"none\" stroke=\"#000000\" points=\"225,-253.5 121,-253.5 121,-200.5 225,-200.5 225,-253.5\"/>\n<text text-anchor=\"middle\" x=\"173\" y=\"-238.3\" font-family=\"Times,serif\" font-size=\"14.00\" fill=\"#000000\">mse = 47.187</text>\n<text text-anchor=\"middle\" x=\"173\" y=\"-223.3\" font-family=\"Times,serif\" font-size=\"14.00\" fill=\"#000000\">samples = 20</text>\n<text text-anchor=\"middle\" x=\"173\" y=\"-208.3\" font-family=\"Times,serif\" font-size=\"14.00\" fill=\"#000000\">value = 31.565</text>\n</g>\n<!-- 2&#45;&gt;3 -->\n<g id=\"edge3\" class=\"edge\">\n<title>2&#45;&gt;3</title>\n<path fill=\"none\" stroke=\"#000000\" d=\"M255.0526,-296.9465C241.2268,-285.1606 225.7564,-271.9726 212.0071,-260.2519\"/>\n<polygon fill=\"#000000\" stroke=\"#000000\" points=\"214.0168,-257.366 204.136,-253.5422 209.4756,-262.6931 214.0168,-257.366\"/>\n</g>\n<!-- 4 -->\n<g id=\"node5\" class=\"node\">\n<title>4</title>\n<polygon fill=\"none\" stroke=\"#000000\" points=\"347,-261 243,-261 243,-193 347,-193 347,-261\"/>\n<text text-anchor=\"middle\" x=\"295\" y=\"-245.8\" font-family=\"Times,serif\" font-size=\"14.00\" fill=\"#000000\">lstat &lt;= 9.715</text>\n<text text-anchor=\"middle\" x=\"295\" y=\"-230.8\" font-family=\"Times,serif\" font-size=\"14.00\" fill=\"#000000\">mse = 17.974</text>\n<text text-anchor=\"middle\" x=\"295\" y=\"-215.8\" font-family=\"Times,serif\" font-size=\"14.00\" fill=\"#000000\">samples = 235</text>\n<text text-anchor=\"middle\" x=\"295\" y=\"-200.8\" font-family=\"Times,serif\" font-size=\"14.00\" fill=\"#000000\">value = 22.651</text>\n</g>\n<!-- 2&#45;&gt;4 -->\n<g id=\"edge4\" class=\"edge\">\n<title>2&#45;&gt;4</title>\n<path fill=\"none\" stroke=\"#000000\" d=\"M295,-296.9465C295,-288.776 295,-279.9318 295,-271.3697\"/>\n<polygon fill=\"#000000\" stroke=\"#000000\" points=\"298.5001,-271.13 295,-261.13 291.5001,-271.13 298.5001,-271.13\"/>\n</g>\n<!-- 5 -->\n<g id=\"node6\" class=\"node\">\n<title>5</title>\n<polygon fill=\"none\" stroke=\"#000000\" points=\"221,-157 117,-157 117,-89 221,-89 221,-157\"/>\n<text text-anchor=\"middle\" x=\"169\" y=\"-141.8\" font-family=\"Times,serif\" font-size=\"14.00\" fill=\"#000000\">age &lt;= 87.6</text>\n<text text-anchor=\"middle\" x=\"169\" y=\"-126.8\" font-family=\"Times,serif\" font-size=\"14.00\" fill=\"#000000\">mse = 22.287</text>\n<text text-anchor=\"middle\" x=\"169\" y=\"-111.8\" font-family=\"Times,serif\" font-size=\"14.00\" fill=\"#000000\">samples = 122</text>\n<text text-anchor=\"middle\" x=\"169\" y=\"-96.8\" font-family=\"Times,serif\" font-size=\"14.00\" fill=\"#000000\">value = 24.393</text>\n</g>\n<!-- 4&#45;&gt;5 -->\n<g id=\"edge5\" class=\"edge\">\n<title>4&#45;&gt;5</title>\n<path fill=\"none\" stroke=\"#000000\" d=\"M253.7429,-192.9465C242.4299,-183.6088 230.0508,-173.3911 218.3342,-163.7203\"/>\n<polygon fill=\"#000000\" stroke=\"#000000\" points=\"220.29,-160.7964 210.3498,-157.13 215.8341,-166.195 220.29,-160.7964\"/>\n</g>\n<!-- 8 -->\n<g id=\"node9\" class=\"node\">\n<title>8</title>\n<polygon fill=\"none\" stroke=\"#000000\" points=\"350.5,-157 239.5,-157 239.5,-89 350.5,-89 350.5,-157\"/>\n<text text-anchor=\"middle\" x=\"295\" y=\"-141.8\" font-family=\"Times,serif\" font-size=\"14.00\" fill=\"#000000\">ptratio &lt;= 17.85</text>\n<text text-anchor=\"middle\" x=\"295\" y=\"-126.8\" font-family=\"Times,serif\" font-size=\"14.00\" fill=\"#000000\">mse = 6.503</text>\n<text text-anchor=\"middle\" x=\"295\" y=\"-111.8\" font-family=\"Times,serif\" font-size=\"14.00\" fill=\"#000000\">samples = 113</text>\n<text text-anchor=\"middle\" x=\"295\" y=\"-96.8\" font-family=\"Times,serif\" font-size=\"14.00\" fill=\"#000000\">value = 20.77</text>\n</g>\n<!-- 4&#45;&gt;8 -->\n<g id=\"edge8\" class=\"edge\">\n<title>4&#45;&gt;8</title>\n<path fill=\"none\" stroke=\"#000000\" d=\"M295,-192.9465C295,-184.776 295,-175.9318 295,-167.3697\"/>\n<polygon fill=\"#000000\" stroke=\"#000000\" points=\"298.5001,-167.13 295,-157.13 291.5001,-167.13 298.5001,-167.13\"/>\n</g>\n<!-- 6 -->\n<g id=\"node7\" class=\"node\">\n<title>6</title>\n<polygon fill=\"none\" stroke=\"#000000\" points=\"104,-53 0,-53 0,0 104,0 104,-53\"/>\n<text text-anchor=\"middle\" x=\"52\" y=\"-37.8\" font-family=\"Times,serif\" font-size=\"14.00\" fill=\"#000000\">mse = 11.111</text>\n<text text-anchor=\"middle\" x=\"52\" y=\"-22.8\" font-family=\"Times,serif\" font-size=\"14.00\" fill=\"#000000\">samples = 112</text>\n<text text-anchor=\"middle\" x=\"52\" y=\"-7.8\" font-family=\"Times,serif\" font-size=\"14.00\" fill=\"#000000\">value = 23.787</text>\n</g>\n<!-- 5&#45;&gt;6 -->\n<g id=\"edge6\" class=\"edge\">\n<title>5&#45;&gt;6</title>\n<path fill=\"none\" stroke=\"#000000\" d=\"M127.7502,-88.9777C116.2039,-79.4545 103.6729,-69.1191 92.189,-59.6473\"/>\n<polygon fill=\"#000000\" stroke=\"#000000\" points=\"94.3724,-56.9113 84.4308,-53.2485 89.9184,-62.3115 94.3724,-56.9113\"/>\n</g>\n<!-- 7 -->\n<g id=\"node8\" class=\"node\">\n<title>7</title>\n<polygon fill=\"none\" stroke=\"#000000\" points=\"219.5,-53 122.5,-53 122.5,0 219.5,0 219.5,-53\"/>\n<text text-anchor=\"middle\" x=\"171\" y=\"-37.8\" font-family=\"Times,serif\" font-size=\"14.00\" fill=\"#000000\">mse = 97.42</text>\n<text text-anchor=\"middle\" x=\"171\" y=\"-22.8\" font-family=\"Times,serif\" font-size=\"14.00\" fill=\"#000000\">samples = 10</text>\n<text text-anchor=\"middle\" x=\"171\" y=\"-7.8\" font-family=\"Times,serif\" font-size=\"14.00\" fill=\"#000000\">value = 31.17</text>\n</g>\n<!-- 5&#45;&gt;7 -->\n<g id=\"edge7\" class=\"edge\">\n<title>5&#45;&gt;7</title>\n<path fill=\"none\" stroke=\"#000000\" d=\"M169.7051,-88.9777C169.8759,-80.7364 170.0593,-71.887 170.2328,-63.5153\"/>\n<polygon fill=\"#000000\" stroke=\"#000000\" points=\"173.7376,-63.3189 170.4456,-53.2485 166.7391,-63.1738 173.7376,-63.3189\"/>\n</g>\n<!-- 9 -->\n<g id=\"node10\" class=\"node\">\n<title>9</title>\n<polygon fill=\"none\" stroke=\"#000000\" points=\"345,-53 241,-53 241,0 345,0 345,-53\"/>\n<text text-anchor=\"middle\" x=\"293\" y=\"-37.8\" font-family=\"Times,serif\" font-size=\"14.00\" fill=\"#000000\">mse = 8.556</text>\n<text text-anchor=\"middle\" x=\"293\" y=\"-22.8\" font-family=\"Times,serif\" font-size=\"14.00\" fill=\"#000000\">samples = 33</text>\n<text text-anchor=\"middle\" x=\"293\" y=\"-7.8\" font-family=\"Times,serif\" font-size=\"14.00\" fill=\"#000000\">value = 21.864</text>\n</g>\n<!-- 8&#45;&gt;9 -->\n<g id=\"edge9\" class=\"edge\">\n<title>8&#45;&gt;9</title>\n<path fill=\"none\" stroke=\"#000000\" d=\"M294.2949,-88.9777C294.1241,-80.7364 293.9407,-71.887 293.7672,-63.5153\"/>\n<polygon fill=\"#000000\" stroke=\"#000000\" points=\"297.2609,-63.1738 293.5544,-53.2485 290.2624,-63.3189 297.2609,-63.1738\"/>\n</g>\n<!-- 10 -->\n<g id=\"node11\" class=\"node\">\n<title>10</title>\n<polygon fill=\"none\" stroke=\"#000000\" points=\"467,-53 363,-53 363,0 467,0 467,-53\"/>\n<text text-anchor=\"middle\" x=\"415\" y=\"-37.8\" font-family=\"Times,serif\" font-size=\"14.00\" fill=\"#000000\">mse = 4.96</text>\n<text text-anchor=\"middle\" x=\"415\" y=\"-22.8\" font-family=\"Times,serif\" font-size=\"14.00\" fill=\"#000000\">samples = 80</text>\n<text text-anchor=\"middle\" x=\"415\" y=\"-7.8\" font-family=\"Times,serif\" font-size=\"14.00\" fill=\"#000000\">value = 20.319</text>\n</g>\n<!-- 8&#45;&gt;10 -->\n<g id=\"edge10\" class=\"edge\">\n<title>8&#45;&gt;10</title>\n<path fill=\"none\" stroke=\"#000000\" d=\"M337.3075,-88.9777C349.1499,-79.4545 362.0021,-69.1191 373.7805,-59.6473\"/>\n<polygon fill=\"#000000\" stroke=\"#000000\" points=\"376.1382,-62.2427 381.7376,-53.2485 371.7514,-56.7877 376.1382,-62.2427\"/>\n</g>\n<!-- 12 -->\n<g id=\"node13\" class=\"node\">\n<title>12</title>\n<polygon fill=\"none\" stroke=\"#000000\" points=\"595,-261 491,-261 491,-193 595,-193 595,-261\"/>\n<text text-anchor=\"middle\" x=\"543\" y=\"-245.8\" font-family=\"Times,serif\" font-size=\"14.00\" fill=\"#000000\">nox &lt;= 0.531</text>\n<text text-anchor=\"middle\" x=\"543\" y=\"-230.8\" font-family=\"Times,serif\" font-size=\"14.00\" fill=\"#000000\">mse = 11.391</text>\n<text text-anchor=\"middle\" x=\"543\" y=\"-215.8\" font-family=\"Times,serif\" font-size=\"14.00\" fill=\"#000000\">samples = 101</text>\n<text text-anchor=\"middle\" x=\"543\" y=\"-200.8\" font-family=\"Times,serif\" font-size=\"14.00\" fill=\"#000000\">value = 17.138</text>\n</g>\n<!-- 11&#45;&gt;12 -->\n<g id=\"edge12\" class=\"edge\">\n<title>11&#45;&gt;12</title>\n<path fill=\"none\" stroke=\"#000000\" d=\"M584.0263,-296.9465C578.9707,-288.3271 573.4753,-278.9579 568.1983,-269.9611\"/>\n<polygon fill=\"#000000\" stroke=\"#000000\" points=\"571.0969,-267.985 563.0186,-261.13 565.0589,-271.5265 571.0969,-267.985\"/>\n</g>\n<!-- 17 -->\n<g id=\"node18\" class=\"node\">\n<title>17</title>\n<polygon fill=\"none\" stroke=\"#000000\" points=\"717,-261 613,-261 613,-193 717,-193 717,-261\"/>\n<text text-anchor=\"middle\" x=\"665\" y=\"-245.8\" font-family=\"Times,serif\" font-size=\"14.00\" fill=\"#000000\">nox &lt;= 0.606</text>\n<text text-anchor=\"middle\" x=\"665\" y=\"-230.8\" font-family=\"Times,serif\" font-size=\"14.00\" fill=\"#000000\">mse = 14.674</text>\n<text text-anchor=\"middle\" x=\"665\" y=\"-215.8\" font-family=\"Times,serif\" font-size=\"14.00\" fill=\"#000000\">samples = 74</text>\n<text text-anchor=\"middle\" x=\"665\" y=\"-200.8\" font-family=\"Times,serif\" font-size=\"14.00\" fill=\"#000000\">value = 11.978</text>\n</g>\n<!-- 11&#45;&gt;17 -->\n<g id=\"edge17\" class=\"edge\">\n<title>11&#45;&gt;17</title>\n<path fill=\"none\" stroke=\"#000000\" d=\"M623.9737,-296.9465C629.0293,-288.3271 634.5247,-278.9579 639.8017,-269.9611\"/>\n<polygon fill=\"#000000\" stroke=\"#000000\" points=\"642.9411,-271.5265 644.9814,-261.13 636.9031,-267.985 642.9411,-271.5265\"/>\n</g>\n<!-- 13 -->\n<g id=\"node14\" class=\"node\">\n<title>13</title>\n<polygon fill=\"none\" stroke=\"#000000\" points=\"473,-149.5 369,-149.5 369,-96.5 473,-96.5 473,-149.5\"/>\n<text text-anchor=\"middle\" x=\"421\" y=\"-134.3\" font-family=\"Times,serif\" font-size=\"14.00\" fill=\"#000000\">mse = 9.016</text>\n<text text-anchor=\"middle\" x=\"421\" y=\"-119.3\" font-family=\"Times,serif\" font-size=\"14.00\" fill=\"#000000\">samples = 24</text>\n<text text-anchor=\"middle\" x=\"421\" y=\"-104.3\" font-family=\"Times,serif\" font-size=\"14.00\" fill=\"#000000\">value = 20.021</text>\n</g>\n<!-- 12&#45;&gt;13 -->\n<g id=\"edge13\" class=\"edge\">\n<title>12&#45;&gt;13</title>\n<path fill=\"none\" stroke=\"#000000\" d=\"M503.0526,-192.9465C489.2268,-181.1606 473.7564,-167.9726 460.0071,-156.2519\"/>\n<polygon fill=\"#000000\" stroke=\"#000000\" points=\"462.0168,-153.366 452.136,-149.5422 457.4756,-158.6931 462.0168,-153.366\"/>\n</g>\n<!-- 14 -->\n<g id=\"node15\" class=\"node\">\n<title>14</title>\n<polygon fill=\"none\" stroke=\"#000000\" points=\"595,-157 491,-157 491,-89 595,-89 595,-157\"/>\n<text text-anchor=\"middle\" x=\"543\" y=\"-141.8\" font-family=\"Times,serif\" font-size=\"14.00\" fill=\"#000000\">lstat &lt;= 18.885</text>\n<text text-anchor=\"middle\" x=\"543\" y=\"-126.8\" font-family=\"Times,serif\" font-size=\"14.00\" fill=\"#000000\">mse = 8.733</text>\n<text text-anchor=\"middle\" x=\"543\" y=\"-111.8\" font-family=\"Times,serif\" font-size=\"14.00\" fill=\"#000000\">samples = 77</text>\n<text text-anchor=\"middle\" x=\"543\" y=\"-96.8\" font-family=\"Times,serif\" font-size=\"14.00\" fill=\"#000000\">value = 16.239</text>\n</g>\n<!-- 12&#45;&gt;14 -->\n<g id=\"edge14\" class=\"edge\">\n<title>12&#45;&gt;14</title>\n<path fill=\"none\" stroke=\"#000000\" d=\"M543,-192.9465C543,-184.776 543,-175.9318 543,-167.3697\"/>\n<polygon fill=\"#000000\" stroke=\"#000000\" points=\"546.5001,-167.13 543,-157.13 539.5001,-167.13 546.5001,-167.13\"/>\n</g>\n<!-- 15 -->\n<g id=\"node16\" class=\"node\">\n<title>15</title>\n<polygon fill=\"none\" stroke=\"#000000\" points=\"591,-53 487,-53 487,0 591,0 591,-53\"/>\n<text text-anchor=\"middle\" x=\"539\" y=\"-37.8\" font-family=\"Times,serif\" font-size=\"14.00\" fill=\"#000000\">mse = 5.952</text>\n<text text-anchor=\"middle\" x=\"539\" y=\"-22.8\" font-family=\"Times,serif\" font-size=\"14.00\" fill=\"#000000\">samples = 53</text>\n<text text-anchor=\"middle\" x=\"539\" y=\"-7.8\" font-family=\"Times,serif\" font-size=\"14.00\" fill=\"#000000\">value = 17.234</text>\n</g>\n<!-- 14&#45;&gt;15 -->\n<g id=\"edge15\" class=\"edge\">\n<title>14&#45;&gt;15</title>\n<path fill=\"none\" stroke=\"#000000\" d=\"M541.5897,-88.9777C541.2481,-80.7364 540.8813,-71.887 540.5343,-63.5153\"/>\n<polygon fill=\"#000000\" stroke=\"#000000\" points=\"544.02,-63.0949 540.1087,-53.2485 537.026,-63.3849 544.02,-63.0949\"/>\n</g>\n<!-- 16 -->\n<g id=\"node17\" class=\"node\">\n<title>16</title>\n<polygon fill=\"none\" stroke=\"#000000\" points=\"713,-53 609,-53 609,0 713,0 713,-53\"/>\n<text text-anchor=\"middle\" x=\"661\" y=\"-37.8\" font-family=\"Times,serif\" font-size=\"14.00\" fill=\"#000000\">mse = 7.862</text>\n<text text-anchor=\"middle\" x=\"661\" y=\"-22.8\" font-family=\"Times,serif\" font-size=\"14.00\" fill=\"#000000\">samples = 24</text>\n<text text-anchor=\"middle\" x=\"661\" y=\"-7.8\" font-family=\"Times,serif\" font-size=\"14.00\" fill=\"#000000\">value = 14.042</text>\n</g>\n<!-- 14&#45;&gt;16 -->\n<g id=\"edge16\" class=\"edge\">\n<title>14&#45;&gt;16</title>\n<path fill=\"none\" stroke=\"#000000\" d=\"M584.6024,-88.9777C596.2474,-79.4545 608.8854,-69.1191 620.4675,-59.6473\"/>\n<polygon fill=\"#000000\" stroke=\"#000000\" points=\"622.7667,-62.2885 628.292,-53.2485 618.3352,-56.8697 622.7667,-62.2885\"/>\n</g>\n<!-- 18 -->\n<g id=\"node19\" class=\"node\">\n<title>18</title>\n<polygon fill=\"none\" stroke=\"#000000\" points=\"717,-149.5 613,-149.5 613,-96.5 717,-96.5 717,-149.5\"/>\n<text text-anchor=\"middle\" x=\"665\" y=\"-134.3\" font-family=\"Times,serif\" font-size=\"14.00\" fill=\"#000000\">mse = 18.606</text>\n<text text-anchor=\"middle\" x=\"665\" y=\"-119.3\" font-family=\"Times,serif\" font-size=\"14.00\" fill=\"#000000\">samples = 12</text>\n<text text-anchor=\"middle\" x=\"665\" y=\"-104.3\" font-family=\"Times,serif\" font-size=\"14.00\" fill=\"#000000\">value = 16.633</text>\n</g>\n<!-- 17&#45;&gt;18 -->\n<g id=\"edge18\" class=\"edge\">\n<title>17&#45;&gt;18</title>\n<path fill=\"none\" stroke=\"#000000\" d=\"M665,-192.9465C665,-182.2621 665,-170.4254 665,-159.5742\"/>\n<polygon fill=\"#000000\" stroke=\"#000000\" points=\"668.5001,-159.5421 665,-149.5422 661.5001,-159.5422 668.5001,-159.5421\"/>\n</g>\n<!-- 19 -->\n<g id=\"node20\" class=\"node\">\n<title>19</title>\n<polygon fill=\"none\" stroke=\"#000000\" points=\"839,-157 735,-157 735,-89 839,-89 839,-157\"/>\n<text text-anchor=\"middle\" x=\"787\" y=\"-141.8\" font-family=\"Times,serif\" font-size=\"14.00\" fill=\"#000000\">lstat &lt;= 19.645</text>\n<text text-anchor=\"middle\" x=\"787\" y=\"-126.8\" font-family=\"Times,serif\" font-size=\"14.00\" fill=\"#000000\">mse = 8.908</text>\n<text text-anchor=\"middle\" x=\"787\" y=\"-111.8\" font-family=\"Times,serif\" font-size=\"14.00\" fill=\"#000000\">samples = 62</text>\n<text text-anchor=\"middle\" x=\"787\" y=\"-96.8\" font-family=\"Times,serif\" font-size=\"14.00\" fill=\"#000000\">value = 11.077</text>\n</g>\n<!-- 17&#45;&gt;19 -->\n<g id=\"edge19\" class=\"edge\">\n<title>17&#45;&gt;19</title>\n<path fill=\"none\" stroke=\"#000000\" d=\"M704.9474,-192.9465C715.9012,-183.6088 727.8873,-173.3911 739.232,-163.7203\"/>\n<polygon fill=\"#000000\" stroke=\"#000000\" points=\"741.6233,-166.2809 746.9629,-157.13 737.0821,-160.9538 741.6233,-166.2809\"/>\n</g>\n<!-- 20 -->\n<g id=\"node21\" class=\"node\">\n<title>20</title>\n<polygon fill=\"none\" stroke=\"#000000\" points=\"837,-53 733,-53 733,0 837,0 837,-53\"/>\n<text text-anchor=\"middle\" x=\"785\" y=\"-37.8\" font-family=\"Times,serif\" font-size=\"14.00\" fill=\"#000000\">mse = 4.18</text>\n<text text-anchor=\"middle\" x=\"785\" y=\"-22.8\" font-family=\"Times,serif\" font-size=\"14.00\" fill=\"#000000\">samples = 18</text>\n<text text-anchor=\"middle\" x=\"785\" y=\"-7.8\" font-family=\"Times,serif\" font-size=\"14.00\" fill=\"#000000\">value = 13.922</text>\n</g>\n<!-- 19&#45;&gt;20 -->\n<g id=\"edge20\" class=\"edge\">\n<title>19&#45;&gt;20</title>\n<path fill=\"none\" stroke=\"#000000\" d=\"M786.2949,-88.9777C786.1241,-80.7364 785.9407,-71.887 785.7672,-63.5153\"/>\n<polygon fill=\"#000000\" stroke=\"#000000\" points=\"789.2609,-63.1738 785.5544,-53.2485 782.2624,-63.3189 789.2609,-63.1738\"/>\n</g>\n<!-- 21 -->\n<g id=\"node22\" class=\"node\">\n<title>21</title>\n<polygon fill=\"none\" stroke=\"#000000\" points=\"952.5,-53 855.5,-53 855.5,0 952.5,0 952.5,-53\"/>\n<text text-anchor=\"middle\" x=\"904\" y=\"-37.8\" font-family=\"Times,serif\" font-size=\"14.00\" fill=\"#000000\">mse = 6.177</text>\n<text text-anchor=\"middle\" x=\"904\" y=\"-22.8\" font-family=\"Times,serif\" font-size=\"14.00\" fill=\"#000000\">samples = 44</text>\n<text text-anchor=\"middle\" x=\"904\" y=\"-7.8\" font-family=\"Times,serif\" font-size=\"14.00\" fill=\"#000000\">value = 9.914</text>\n</g>\n<!-- 19&#45;&gt;21 -->\n<g id=\"edge21\" class=\"edge\">\n<title>19&#45;&gt;21</title>\n<path fill=\"none\" stroke=\"#000000\" d=\"M828.2498,-88.9777C839.7961,-79.4545 852.3271,-69.1191 863.811,-59.6473\"/>\n<polygon fill=\"#000000\" stroke=\"#000000\" points=\"866.0816,-62.3115 871.5692,-53.2485 861.6276,-56.9113 866.0816,-62.3115\"/>\n</g>\n<!-- 23 -->\n<g id=\"node24\" class=\"node\">\n<title>23</title>\n<polygon fill=\"none\" stroke=\"#000000\" points=\"900,-365 796,-365 796,-297 900,-297 900,-365\"/>\n<text text-anchor=\"middle\" x=\"848\" y=\"-349.8\" font-family=\"Times,serif\" font-size=\"14.00\" fill=\"#000000\">lstat &lt;= 5.495</text>\n<text text-anchor=\"middle\" x=\"848\" y=\"-334.8\" font-family=\"Times,serif\" font-size=\"14.00\" fill=\"#000000\">mse = 41.296</text>\n<text text-anchor=\"middle\" x=\"848\" y=\"-319.8\" font-family=\"Times,serif\" font-size=\"14.00\" fill=\"#000000\">samples = 46</text>\n<text text-anchor=\"middle\" x=\"848\" y=\"-304.8\" font-family=\"Times,serif\" font-size=\"14.00\" fill=\"#000000\">value = 32.113</text>\n</g>\n<!-- 22&#45;&gt;23 -->\n<g id=\"edge23\" class=\"edge\">\n<title>22&#45;&gt;23</title>\n<path fill=\"none\" stroke=\"#000000\" d=\"M848,-400.9465C848,-392.776 848,-383.9318 848,-375.3697\"/>\n<polygon fill=\"#000000\" stroke=\"#000000\" points=\"851.5001,-375.13 848,-365.13 844.5001,-375.13 851.5001,-375.13\"/>\n</g>\n<!-- 26 -->\n<g id=\"node27\" class=\"node\">\n<title>26</title>\n<polygon fill=\"none\" stroke=\"#000000\" points=\"1083,-365 979,-365 979,-297 1083,-297 1083,-365\"/>\n<text text-anchor=\"middle\" x=\"1031\" y=\"-349.8\" font-family=\"Times,serif\" font-size=\"14.00\" fill=\"#000000\">ptratio &lt;= 15.4</text>\n<text text-anchor=\"middle\" x=\"1031\" y=\"-334.8\" font-family=\"Times,serif\" font-size=\"14.00\" fill=\"#000000\">mse = 36.628</text>\n<text text-anchor=\"middle\" x=\"1031\" y=\"-319.8\" font-family=\"Times,serif\" font-size=\"14.00\" fill=\"#000000\">samples = 30</text>\n<text text-anchor=\"middle\" x=\"1031\" y=\"-304.8\" font-family=\"Times,serif\" font-size=\"14.00\" fill=\"#000000\">value = 45.097</text>\n</g>\n<!-- 22&#45;&gt;26 -->\n<g id=\"edge26\" class=\"edge\">\n<title>22&#45;&gt;26</title>\n<path fill=\"none\" stroke=\"#000000\" d=\"M900.4405,-405.1978C922.1655,-392.8513 947.5071,-378.4495 970.0529,-365.6366\"/>\n<polygon fill=\"#000000\" stroke=\"#000000\" points=\"971.9037,-368.6105 978.8685,-360.6266 968.445,-362.5247 971.9037,-368.6105\"/>\n</g>\n<!-- 24 -->\n<g id=\"node25\" class=\"node\">\n<title>24</title>\n<polygon fill=\"none\" stroke=\"#000000\" points=\"839,-253.5 735,-253.5 735,-200.5 839,-200.5 839,-253.5\"/>\n<text text-anchor=\"middle\" x=\"787\" y=\"-238.3\" font-family=\"Times,serif\" font-size=\"14.00\" fill=\"#000000\">mse = 17.249</text>\n<text text-anchor=\"middle\" x=\"787\" y=\"-223.3\" font-family=\"Times,serif\" font-size=\"14.00\" fill=\"#000000\">samples = 23</text>\n<text text-anchor=\"middle\" x=\"787\" y=\"-208.3\" font-family=\"Times,serif\" font-size=\"14.00\" fill=\"#000000\">value = 35.248</text>\n</g>\n<!-- 23&#45;&gt;24 -->\n<g id=\"edge24\" class=\"edge\">\n<title>23&#45;&gt;24</title>\n<path fill=\"none\" stroke=\"#000000\" d=\"M828.0263,-296.9465C821.501,-285.8215 814.2431,-273.4473 807.6678,-262.237\"/>\n<polygon fill=\"#000000\" stroke=\"#000000\" points=\"810.6464,-260.3971 802.568,-253.5422 804.6084,-263.9387 810.6464,-260.3971\"/>\n</g>\n<!-- 25 -->\n<g id=\"node26\" class=\"node\">\n<title>25</title>\n<polygon fill=\"none\" stroke=\"#000000\" points=\"961,-253.5 857,-253.5 857,-200.5 961,-200.5 961,-253.5\"/>\n<text text-anchor=\"middle\" x=\"909\" y=\"-238.3\" font-family=\"Times,serif\" font-size=\"14.00\" fill=\"#000000\">mse = 45.69</text>\n<text text-anchor=\"middle\" x=\"909\" y=\"-223.3\" font-family=\"Times,serif\" font-size=\"14.00\" fill=\"#000000\">samples = 23</text>\n<text text-anchor=\"middle\" x=\"909\" y=\"-208.3\" font-family=\"Times,serif\" font-size=\"14.00\" fill=\"#000000\">value = 28.978</text>\n</g>\n<!-- 23&#45;&gt;25 -->\n<g id=\"edge25\" class=\"edge\">\n<title>23&#45;&gt;25</title>\n<path fill=\"none\" stroke=\"#000000\" d=\"M867.9737,-296.9465C874.499,-285.8215 881.7569,-273.4473 888.3322,-262.237\"/>\n<polygon fill=\"#000000\" stroke=\"#000000\" points=\"891.3916,-263.9387 893.432,-253.5422 885.3536,-260.3971 891.3916,-263.9387\"/>\n</g>\n<!-- 27 -->\n<g id=\"node28\" class=\"node\">\n<title>27</title>\n<polygon fill=\"none\" stroke=\"#000000\" points=\"1083,-253.5 979,-253.5 979,-200.5 1083,-200.5 1083,-253.5\"/>\n<text text-anchor=\"middle\" x=\"1031\" y=\"-238.3\" font-family=\"Times,serif\" font-size=\"14.00\" fill=\"#000000\">mse = 7.774</text>\n<text text-anchor=\"middle\" x=\"1031\" y=\"-223.3\" font-family=\"Times,serif\" font-size=\"14.00\" fill=\"#000000\">samples = 16</text>\n<text text-anchor=\"middle\" x=\"1031\" y=\"-208.3\" font-family=\"Times,serif\" font-size=\"14.00\" fill=\"#000000\">value = 47.975</text>\n</g>\n<!-- 26&#45;&gt;27 -->\n<g id=\"edge27\" class=\"edge\">\n<title>26&#45;&gt;27</title>\n<path fill=\"none\" stroke=\"#000000\" d=\"M1031,-296.9465C1031,-286.2621 1031,-274.4254 1031,-263.5742\"/>\n<polygon fill=\"#000000\" stroke=\"#000000\" points=\"1034.5001,-263.5421 1031,-253.5422 1027.5001,-263.5422 1034.5001,-263.5421\"/>\n</g>\n<!-- 28 -->\n<g id=\"node29\" class=\"node\">\n<title>28</title>\n<polygon fill=\"none\" stroke=\"#000000\" points=\"1205,-253.5 1101,-253.5 1101,-200.5 1205,-200.5 1205,-253.5\"/>\n<text text-anchor=\"middle\" x=\"1153\" y=\"-238.3\" font-family=\"Times,serif\" font-size=\"14.00\" fill=\"#000000\">mse = 49.315</text>\n<text text-anchor=\"middle\" x=\"1153\" y=\"-223.3\" font-family=\"Times,serif\" font-size=\"14.00\" fill=\"#000000\">samples = 14</text>\n<text text-anchor=\"middle\" x=\"1153\" y=\"-208.3\" font-family=\"Times,serif\" font-size=\"14.00\" fill=\"#000000\">value = 41.807</text>\n</g>\n<!-- 26&#45;&gt;28 -->\n<g id=\"edge28\" class=\"edge\">\n<title>26&#45;&gt;28</title>\n<path fill=\"none\" stroke=\"#000000\" d=\"M1070.9474,-296.9465C1084.7732,-285.1606 1100.2436,-271.9726 1113.9929,-260.2519\"/>\n<polygon fill=\"#000000\" stroke=\"#000000\" points=\"1116.5244,-262.6931 1121.864,-253.5422 1111.9832,-257.366 1116.5244,-262.6931\"/>\n</g>\n</g>\n</svg>\n"
          },
          "metadata": {
            "tags": []
          },
          "execution_count": 117
        }
      ]
    },
    {
      "cell_type": "markdown",
      "metadata": {
        "id": "wwfUMgOjYZ9i"
      },
      "source": [
        "#### Implementando la validación cruzada"
      ]
    },
    {
      "cell_type": "code",
      "metadata": {
        "id": "_e5BBwq8XaRb"
      },
      "source": [
        "from sklearn.model_selection import KFold\n",
        "from sklearn.model_selection import cross_val_score\n",
        "import numpy as np"
      ],
      "execution_count": null,
      "outputs": []
    },
    {
      "cell_type": "code",
      "metadata": {
        "colab": {
          "base_uri": "https://localhost:8080/"
        },
        "id": "eMrs9j01YtAQ",
        "outputId": "70f0c796-88e3-4651-86af-215cc60cdbcf"
      },
      "source": [
        "cv = KFold(n_splits=10, max,shuffle=True, random_state=1)\n",
        "scores = cross_val_score(regtree, X=X, y=Y, cv=cv,scoring=\"neg_mean_squared_error\", n_jobs=1) # usamos el error cuadratico medio mientras más bajo mejor\n",
        "score = np.mean(scores)\n",
        "print(scores)\n",
        "print(score)\n"
      ],
      "execution_count": null,
      "outputs": [
        {
          "output_type": "stream",
          "text": [
            "-20.107307036443846\n",
            "[-13.64925886 -17.28987161 -16.98569707 -47.56954086  -9.26202865\n",
            " -17.23057023 -15.41541493 -31.33011027 -22.79877067  -9.54180723]\n"
          ],
          "name": "stdout"
        }
      ]
    },
    {
      "cell_type": "code",
      "metadata": {
        "colab": {
          "base_uri": "https://localhost:8080/"
        },
        "id": "nKW4pi22ak1Q",
        "outputId": "05ccf73f-aabf-4188-acb0-140ab42cb198"
      },
      "source": [
        "list(zip(predictors,regtree.feature_importances_))"
      ],
      "execution_count": null,
      "outputs": [
        {
          "output_type": "execute_result",
          "data": {
            "text/plain": [
              "[('crim', 0.03421203230639308),\n",
              " ('zn', 0.0),\n",
              " ('indus', 0.0011605887788380146),\n",
              " ('chas', 0.0),\n",
              " ('nox', 0.01856163073811432),\n",
              " ('rm', 0.6308568014337028),\n",
              " ('age', 0.01725115143448847),\n",
              " ('dis', 0.0013745115995791378),\n",
              " ('rad', 0.0),\n",
              " ('tax', 0.0023698305298803803),\n",
              " ('ptratio', 0.009333247332530954),\n",
              " ('black', 0.0),\n",
              " ('lstat', 0.28488020584647283)]"
            ]
          },
          "metadata": {
            "tags": []
          },
          "execution_count": 109
        }
      ]
    },
    {
      "cell_type": "markdown",
      "metadata": {
        "id": "jUivy7rLb0Zn"
      },
      "source": [
        "De lo anterior se hace notar que la variable *rm* el número de habitaciones por casa(63%). La siguiente variable más importante es *lstat* (28%), age(0.17%)"
      ]
    },
    {
      "cell_type": "markdown",
      "metadata": {
        "id": "prZOHT1ecrf8"
      },
      "source": [
        "#### Automatizando el proceso"
      ]
    },
    {
      "cell_type": "code",
      "metadata": {
        "id": "Tz0NORx6byUd"
      },
      "source": [
        "for i in range(1,10):\n",
        "  regtree = DecisionTreeRegressor(criterion='mse', max_depth = i, min_samples_split=30, min_samples_leaf=10,random_state=0)\n",
        "  regtree.fit(X,Y)\n",
        "\n",
        "  from sklearn.model_selection import KFold\n",
        "  from sklearn.model_selection import cross_val_score\n",
        "  import numpy as np\n",
        "  cv = KFold(n_splits=10,shuffle=True, random_state=1)\n",
        "  scores = cross_val_score(regtree, X=X, y=Y, cv=cv,scoring=\"neg_mean_squared_error\", n_jobs=1) \n",
        "  score = np.mean(scores)\n",
        "\n",
        "  print(\"Score para i= \",i, round(score,4))\n",
        "  print(\"Clasificador de razgos= \",tree.feature_importances_)"
      ],
      "execution_count": null,
      "outputs": []
    },
    {
      "cell_type": "markdown",
      "metadata": {
        "id": "xnQM_qloirR-"
      },
      "source": [
        "La profudindidad dle árbol será de 5, y que el error cudratico medio se estabiliza en 20"
      ]
    },
    {
      "cell_type": "markdown",
      "metadata": {
        "id": "JGXFpuAQi118"
      },
      "source": [
        "# Bosques Aleatorios (aprendizaje por combinación)\n",
        "\n",
        "* Métodos de promedio: se crean varios modelos similares e independientes y se hace un promedio de las predicciones de cada modelo.\n",
        "* Métodos de impulso: reducir el sesgo del estimador combinado construyendolo de forma secueción de los estimadores base. así conseguimos un modelo más robusto a partir de varios más debiles.\n",
        "\n",
        "#### Ventajas:\n",
        "* No necesita validación cruzada, ya que utiliza el método **bagging**\n",
        "  * Con n observaciones en el dataset de entrenamiento T y m variables, decidimos hacer crecer S árboles en nuestro bosque. Cada uno sera creado con un datset de entrenamiento separado.\n",
        "* Las n observaciones para cada dataset se toman aleatoriamente con reemplazo del datset original.\n",
        "* Cada dataset puede tener obserbaciones duplicadas y algunas no aparecer nunca como entrenamiento.\n",
        "* Estos datsets se llaman muestras de **bootsrap** o bolsas.\n",
        "\n",
        "\n",
        "### Algoritmo\n",
        "* 1- Tomamaos una muestra aleatoria simple de tamaño n con reemplazo.\n",
        "* 2 - Tomamaos una muestra aleatoria simple de variables predicitoras sin reemplazo.\n",
        "* 3 - construimos un árbol de regresión con los predictores elegidos en 2 y sin podar el árbol.\n",
        "* 4 -  Clasificamos las obserbaciones fuera de la bolsa con dicho árbol y almacenamos el valor o la clase asignad apara cada una.\n",
        "* 5 - Repetimos los pasos 1 a 4 un número de veces para tener el bosque de árboles.\n",
        "* 6 - La predicción final es el promedio de las observaciones de todos los árboles o para clasificación, la clase con mayoría de votos en el conjunto de árboles.\n",
        "\n"
      ]
    },
    {
      "cell_type": "markdown",
      "metadata": {
        "id": "K5XQMulWEPnb"
      },
      "source": [
        "### Random forest para Regresión"
      ]
    },
    {
      "cell_type": "code",
      "metadata": {
        "id": "hWdIJ9HUiZ4m"
      },
      "source": [
        "from sklearn.ensemble import RandomForestRegressor"
      ],
      "execution_count": null,
      "outputs": []
    },
    {
      "cell_type": "code",
      "metadata": {
        "id": "_leBCZdEiWqQ"
      },
      "source": [
        "forest = RandomForestRegressor(n_jobs=2, # Numero de nucleos en paralelo\n",
        "                               oob_score=True, # Va hacer un muestreo solo, bootsrap\n",
        "                               n_estimators=50 # Número de árboles, se puede agregar hasta 10000 y mas\n",
        "                               )\n",
        "forest.fit(X,Y)"
      ],
      "execution_count": null,
      "outputs": []
    },
    {
      "cell_type": "code",
      "metadata": {
        "id": "roKnVKEpbwz1"
      },
      "source": [
        "# Predicciones\n",
        "data[\"rforest_pred\"] = forest.oob_prediction_ \n",
        "data[[\"rforest_pred\", \"medv\"]]"
      ],
      "execution_count": null,
      "outputs": []
    },
    {
      "cell_type": "code",
      "metadata": {
        "id": "5gaCzCOJBQuG"
      },
      "source": [
        "# Estimación del error cuadratico medio\n",
        "data[\"rforest_error\"] = (data[\"rforest_pred\"] - data[\"medv\"])**2\n",
        "sum(data[\"rforest_error\"])/len(data)"
      ],
      "execution_count": null,
      "outputs": []
    },
    {
      "cell_type": "markdown",
      "metadata": {
        "id": "g26F7iXzCcY1"
      },
      "source": [
        "El error es menor que el el modleo anterior que se usaba validación cruzada.\n",
        "\n",
        "Si se agrega más árboles al modelo mejora los indices y  disminuye el error. Esto se hace hasta que aportar mas árboles al modelo disminuya muy poco o nada."
      ]
    },
    {
      "cell_type": "code",
      "metadata": {
        "colab": {
          "base_uri": "https://localhost:8080/"
        },
        "id": "BcIDxHiNA9h9",
        "outputId": "bf4c9674-8c85-4c6e-83b8-4d9038fcbc22"
      },
      "source": [
        "forest.oob_score_ # R cudrado ajustado"
      ],
      "execution_count": null,
      "outputs": [
        {
          "output_type": "execute_result",
          "data": {
            "text/plain": [
              "0.8732732205463587"
            ]
          },
          "metadata": {
            "tags": []
          },
          "execution_count": 31
        }
      ]
    },
    {
      "cell_type": "markdown",
      "metadata": {
        "id": "NWHbM84PCzrz"
      },
      "source": [
        "### Random forest para clasificación"
      ]
    },
    {
      "cell_type": "code",
      "metadata": {
        "id": "2wVkXqX9E8uc"
      },
      "source": [
        "data = pd.read_csv(\"/content/drive/MyDrive/Machine en Python  Udemy/Data/iris.csv\")\n",
        "\n",
        "colnames = data.columns.values.tolist()\n",
        "predictors = colnames[:4]\n",
        "target = colnames[4]\n",
        "\n",
        "X = data[predictors]\n",
        "Y = data[target]"
      ],
      "execution_count": null,
      "outputs": []
    },
    {
      "cell_type": "code",
      "metadata": {
        "id": "aZlt08GabrsV"
      },
      "source": [
        "from sklearn.ensemble import RandomForestClassifier"
      ],
      "execution_count": null,
      "outputs": []
    },
    {
      "cell_type": "code",
      "metadata": {
        "colab": {
          "base_uri": "https://localhost:8080/"
        },
        "id": "oGzasaRjEk6z",
        "outputId": "5e7bec0d-2da8-47b3-b2c1-6225c9fae335"
      },
      "source": [
        "forest = RandomForestClassifier(n_jobs=2, oob_score=True, n_estimators=100)\n",
        "forest.fit(X,Y)"
      ],
      "execution_count": null,
      "outputs": [
        {
          "output_type": "execute_result",
          "data": {
            "text/plain": [
              "RandomForestClassifier(bootstrap=True, ccp_alpha=0.0, class_weight=None,\n",
              "                       criterion='gini', max_depth=None, max_features='auto',\n",
              "                       max_leaf_nodes=None, max_samples=None,\n",
              "                       min_impurity_decrease=0.0, min_impurity_split=None,\n",
              "                       min_samples_leaf=1, min_samples_split=2,\n",
              "                       min_weight_fraction_leaf=0.0, n_estimators=100, n_jobs=2,\n",
              "                       oob_score=True, random_state=None, verbose=0,\n",
              "                       warm_start=False)"
            ]
          },
          "metadata": {
            "tags": []
          },
          "execution_count": 41
        }
      ]
    },
    {
      "cell_type": "code",
      "metadata": {
        "id": "_u0CV-8_bksd"
      },
      "source": [
        "forest.oob_decision_function_"
      ],
      "execution_count": null,
      "outputs": []
    },
    {
      "cell_type": "code",
      "metadata": {
        "colab": {
          "base_uri": "https://localhost:8080/"
        },
        "id": "d-nA1jinbiR9",
        "outputId": "249e8c91-8715-4145-ebbb-f16798337454"
      },
      "source": [
        "forest.oob_score_ # Precisión mayor que la validación cruzada, con un unico árbol"
      ],
      "execution_count": null,
      "outputs": [
        {
          "output_type": "execute_result",
          "data": {
            "text/plain": [
              "0.96"
            ]
          },
          "metadata": {
            "tags": []
          },
          "execution_count": 43
        }
      ]
    },
    {
      "cell_type": "code",
      "metadata": {
        "id": "CCcz9nzpF8Sp"
      },
      "source": [
        ""
      ],
      "execution_count": null,
      "outputs": []
    },
    {
      "cell_type": "markdown",
      "metadata": {
        "id": "xBQzZsU0GPlJ"
      },
      "source": [
        "### Por qué funciona los random forest?\n",
        "\n",
        "*  Al ir tomando más y más modelos en consideración se maximiza la reducción de la varianza simplemente la varianza quedar dividida por raiz de n donde n es el número de árboles que se utilizan y por tanto al tomar una muestra aleatoria simple de devalores e ir creando árboles y árboles y árboles al final el hecho de que justamente creas un mal árbol queda compensado por la mejoría en el resto de árboles y el error va quedando dividido a medida que uno va metiendo más y más árboles dentro del bosque.\n",
        "\n",
        "* Entonces bueno random forest es uno de esos algoritmos donde todas las variables del Data Set son utilizadas óptimamente  de la forma más óptima.\n",
        "\n",
        "### Parametros más importantes de los random forest (para afinar)\n",
        "* Tamaño del nodo (min_samples_leaft)\n",
        "* Número de árboles (n_estimators), tipicamnte se usa 500\n",
        "* Número de predictores muestreados\n"
      ]
    }
  ]
}