{
  "nbformat": 4,
  "nbformat_minor": 0,
  "metadata": {
    "colab": {
      "name": "4_RegresionLogistica.ipynb",
      "provenance": [],
      "mount_file_id": "1htYos1UQ9ftuQaYZwNFpI-ifUkdJAjUj",
      "authorship_tag": "ABX9TyNBNUmE0oE2d9dyTL/TkyY+",
      "include_colab_link": true
    },
    "kernelspec": {
      "name": "python3",
      "display_name": "Python 3"
    },
    "language_info": {
      "name": "python"
    }
  },
  "cells": [
    {
      "cell_type": "markdown",
      "metadata": {
        "id": "view-in-github",
        "colab_type": "text"
      },
      "source": [
        "<a href=\"https://colab.research.google.com/github/Denis-Yen/DataScience/blob/main/4_RegresionLogistica.ipynb\" target=\"_parent\"><img src=\"https://colab.research.google.com/assets/colab-badge.svg\" alt=\"Open In Colab\"/></a>"
      ]
    },
    {
      "cell_type": "markdown",
      "metadata": {
        "id": "xXGGGkX9Ip4S"
      },
      "source": [
        "# Regresión Logística"
      ]
    },
    {
      "cell_type": "markdown",
      "metadata": {
        "id": "Vb17X8f7I1Cp"
      },
      "source": [
        "## Las tabals de contigencia"
      ]
    },
    {
      "cell_type": "code",
      "metadata": {
        "id": "WOq-RYkAS8Lg"
      },
      "source": [
        "import pandas as pd\n",
        "import numpy as np\n",
        "import matplotlib.pyplot as plt\n",
        "from sklearn.linear_model import LogisticRegression "
      ],
      "execution_count": null,
      "outputs": []
    },
    {
      "cell_type": "code",
      "metadata": {
        "colab": {
          "base_uri": "https://localhost:8080/",
          "height": 204
        },
        "id": "lGm1HY7ZUAjt",
        "outputId": "c26f3f77-7afb-40ff-ec30-02868dd607b4"
      },
      "source": [
        "df = pd.read_csv(\"/content/drive/MyDrive/Machine en Python  Udemy/Data/Gender Purchase.csv\")\n",
        "df.head()\n"
      ],
      "execution_count": null,
      "outputs": [
        {
          "output_type": "execute_result",
          "data": {
            "text/html": [
              "<div>\n",
              "<style scoped>\n",
              "    .dataframe tbody tr th:only-of-type {\n",
              "        vertical-align: middle;\n",
              "    }\n",
              "\n",
              "    .dataframe tbody tr th {\n",
              "        vertical-align: top;\n",
              "    }\n",
              "\n",
              "    .dataframe thead th {\n",
              "        text-align: right;\n",
              "    }\n",
              "</style>\n",
              "<table border=\"1\" class=\"dataframe\">\n",
              "  <thead>\n",
              "    <tr style=\"text-align: right;\">\n",
              "      <th></th>\n",
              "      <th>Gender</th>\n",
              "      <th>Purchase</th>\n",
              "    </tr>\n",
              "  </thead>\n",
              "  <tbody>\n",
              "    <tr>\n",
              "      <th>0</th>\n",
              "      <td>Female</td>\n",
              "      <td>Yes</td>\n",
              "    </tr>\n",
              "    <tr>\n",
              "      <th>1</th>\n",
              "      <td>Female</td>\n",
              "      <td>Yes</td>\n",
              "    </tr>\n",
              "    <tr>\n",
              "      <th>2</th>\n",
              "      <td>Female</td>\n",
              "      <td>No</td>\n",
              "    </tr>\n",
              "    <tr>\n",
              "      <th>3</th>\n",
              "      <td>Male</td>\n",
              "      <td>No</td>\n",
              "    </tr>\n",
              "    <tr>\n",
              "      <th>4</th>\n",
              "      <td>Male</td>\n",
              "      <td>Yes</td>\n",
              "    </tr>\n",
              "  </tbody>\n",
              "</table>\n",
              "</div>"
            ],
            "text/plain": [
              "   Gender Purchase\n",
              "0  Female      Yes\n",
              "1  Female      Yes\n",
              "2  Female       No\n",
              "3    Male       No\n",
              "4    Male      Yes"
            ]
          },
          "metadata": {
            "tags": []
          },
          "execution_count": 64
        }
      ]
    },
    {
      "cell_type": "code",
      "metadata": {
        "colab": {
          "base_uri": "https://localhost:8080/",
          "height": 142
        },
        "id": "Ji4NxC5kV4S6",
        "outputId": "50601e6f-2ba9-4766-b09b-e1e9c056960c"
      },
      "source": [
        "contigence_table = pd.crosstab(df[\"Gender\"], df[\"Purchase\"])\n",
        "contigence_table # Tabla cruzada"
      ],
      "execution_count": null,
      "outputs": [
        {
          "output_type": "execute_result",
          "data": {
            "text/html": [
              "<div>\n",
              "<style scoped>\n",
              "    .dataframe tbody tr th:only-of-type {\n",
              "        vertical-align: middle;\n",
              "    }\n",
              "\n",
              "    .dataframe tbody tr th {\n",
              "        vertical-align: top;\n",
              "    }\n",
              "\n",
              "    .dataframe thead th {\n",
              "        text-align: right;\n",
              "    }\n",
              "</style>\n",
              "<table border=\"1\" class=\"dataframe\">\n",
              "  <thead>\n",
              "    <tr style=\"text-align: right;\">\n",
              "      <th>Purchase</th>\n",
              "      <th>No</th>\n",
              "      <th>Yes</th>\n",
              "    </tr>\n",
              "    <tr>\n",
              "      <th>Gender</th>\n",
              "      <th></th>\n",
              "      <th></th>\n",
              "    </tr>\n",
              "  </thead>\n",
              "  <tbody>\n",
              "    <tr>\n",
              "      <th>Female</th>\n",
              "      <td>106</td>\n",
              "      <td>159</td>\n",
              "    </tr>\n",
              "    <tr>\n",
              "      <th>Male</th>\n",
              "      <td>125</td>\n",
              "      <td>121</td>\n",
              "    </tr>\n",
              "  </tbody>\n",
              "</table>\n",
              "</div>"
            ],
            "text/plain": [
              "Purchase   No  Yes\n",
              "Gender            \n",
              "Female    106  159\n",
              "Male      125  121"
            ]
          },
          "metadata": {
            "tags": []
          },
          "execution_count": 65
        }
      ]
    },
    {
      "cell_type": "code",
      "metadata": {
        "id": "cW8gyxLXYppg"
      },
      "source": [
        "contigence_table.sum(axis=1) # Suma por columnas\n",
        "#contigence_table.sum(axis=0) # Suma por filas\n"
      ],
      "execution_count": null,
      "outputs": []
    },
    {
      "cell_type": "code",
      "metadata": {
        "id": "llguxVbTZ2Ae"
      },
      "source": [
        "# Proporción con respecto a la suma por filas\n",
        "contigence_table.astype(\"float\").div(contigence_table.sum(axis=0))"
      ],
      "execution_count": null,
      "outputs": []
    },
    {
      "cell_type": "markdown",
      "metadata": {
        "id": "OkcZwM0Oc12L"
      },
      "source": [
        "### Probabilidad Condicional\n",
        "\n",
        "* ¿cual es la propabilidad de que un cliente compre un producto sabiendo que es un hombre?\n",
        "* ¿cual es la propabilidad de que sabiendo que un cliente compra un producto , este sea mujer?\n"
      ]
    },
    {
      "cell_type": "code",
      "metadata": {
        "id": "_el1ZysOgvaW"
      },
      "source": [
        "from IPython.display import display, Math, Latex"
      ],
      "execution_count": null,
      "outputs": []
    },
    {
      "cell_type": "code",
      "metadata": {
        "colab": {
          "base_uri": "https://localhost:8080/",
          "height": 58
        },
        "id": "JY-SSAezlzoq",
        "outputId": "d6ff4f5e-8b80-4c80-cb2b-b4c70efb4b2a"
      },
      "source": [
        "display(Math(r'P(Purchase|Male = \\frac{Número\\ total\\ de\\ compras\\ hechas\\ por\\ hombres}{Numero\\ total\\ de\\ hombres\\ del\\ grupo} = \\frac{Female\\cap Purchase}{Purchase}' ))\n",
        "\n",
        "121/246"
      ],
      "execution_count": null,
      "outputs": [
        {
          "output_type": "display_data",
          "data": {
            "text/latex": "$$P(Purchase|Male = \\frac{Número\\ total\\ de\\ compras\\ hechas\\ por\\ hombres}{Numero\\ total\\ de\\ hombres\\ del\\ grupo} = \\frac{Female\\cap Purchase}{Purchase}$$",
            "text/plain": [
              "<IPython.core.display.Math object>"
            ]
          },
          "metadata": {
            "tags": []
          }
        },
        {
          "output_type": "execute_result",
          "data": {
            "text/plain": [
              "0.491869918699187"
            ]
          },
          "metadata": {
            "tags": []
          },
          "execution_count": 80
        }
      ]
    },
    {
      "cell_type": "code",
      "metadata": {
        "colab": {
          "base_uri": "https://localhost:8080/",
          "height": 55
        },
        "id": "aNJH5hpxrW6a",
        "outputId": "44c3b4bc-4668-4e01-86dd-c0596f9b4602"
      },
      "source": [
        "display(Math(r'P(No Purchase|Male) = 1-P(Purchase|Male)'))\n",
        "125/246"
      ],
      "execution_count": null,
      "outputs": [
        {
          "output_type": "display_data",
          "data": {
            "text/latex": "$$P(No Purchase|Male) = 1-P(Purchase|Male)$$",
            "text/plain": [
              "<IPython.core.display.Math object>"
            ]
          },
          "metadata": {
            "tags": []
          }
        },
        {
          "output_type": "execute_result",
          "data": {
            "text/plain": [
              "0.508130081300813"
            ]
          },
          "metadata": {
            "tags": []
          },
          "execution_count": 82
        }
      ]
    },
    {
      "cell_type": "code",
      "metadata": {
        "colab": {
          "base_uri": "https://localhost:8080/",
          "height": 58
        },
        "id": "RJH4S7mQotkN",
        "outputId": "c5a2913b-5477-41f5-e1a4-36f6b76e387e"
      },
      "source": [
        "display(Math(r'P(Purchase|Male = \\frac{Número\\ total\\ de\\ compras\\ hechas\\ por\\ mujeres}{Numero\\ total\\ de\\ compras} = \\frac{Female\\cap Purchase}{Purchase}' ))\n",
        "159/280"
      ],
      "execution_count": null,
      "outputs": [
        {
          "output_type": "display_data",
          "data": {
            "text/latex": "$$P(Purchase|Male = \\frac{Número\\ total\\ de\\ compras\\ hechas\\ por\\ mujeres}{Numero\\ total\\ de\\ compras} = \\frac{Female\\cap Purchase}{Purchase}$$",
            "text/plain": [
              "<IPython.core.display.Math object>"
            ]
          },
          "metadata": {
            "tags": []
          }
        },
        {
          "output_type": "execute_result",
          "data": {
            "text/plain": [
              "0.491869918699187"
            ]
          },
          "metadata": {
            "tags": []
          },
          "execution_count": 73
        }
      ]
    },
    {
      "cell_type": "code",
      "metadata": {
        "colab": {
          "base_uri": "https://localhost:8080/",
          "height": 55
        },
        "id": "JCa-PbRIp3J-",
        "outputId": "ce574494-53d0-4579-95eb-236ddd9fdadb"
      },
      "source": [
        "display(Math(r'P(Male|Purchase)'))\n",
        "125/246"
      ],
      "execution_count": null,
      "outputs": [
        {
          "output_type": "display_data",
          "data": {
            "text/latex": "$$P(Male|Purchase)$$",
            "text/plain": [
              "<IPython.core.display.Math object>"
            ]
          },
          "metadata": {
            "tags": []
          }
        },
        {
          "output_type": "execute_result",
          "data": {
            "text/plain": [
              "0.508130081300813"
            ]
          },
          "metadata": {
            "tags": []
          },
          "execution_count": 83
        }
      ]
    },
    {
      "cell_type": "code",
      "metadata": {
        "colab": {
          "base_uri": "https://localhost:8080/",
          "height": 165
        },
        "id": "BSdRrOE7tPPR",
        "outputId": "a4d583ed-fe86-4fc9-cdad-179b0a4020d3"
      },
      "source": [
        "display(Math(r'P(Purchase|Male)'))\n",
        "print(121/246)\n",
        "display(Math(r'P(No \\Purchase|Male)'))\n",
        "print(125/246)\n",
        "display(Math(r'P(Purchase|Female)'))\n",
        "print(159/265)\n",
        "display(Math(r'P(No\\ Purchase|Female)'))\n",
        "print(106/265)\n"
      ],
      "execution_count": null,
      "outputs": [
        {
          "output_type": "display_data",
          "data": {
            "text/latex": "$$P(Purchase|Male)$$",
            "text/plain": [
              "<IPython.core.display.Math object>"
            ]
          },
          "metadata": {
            "tags": []
          }
        },
        {
          "output_type": "stream",
          "text": [
            "0.491869918699187\n"
          ],
          "name": "stdout"
        },
        {
          "output_type": "display_data",
          "data": {
            "text/latex": "$$P(No \\Purchase|Male)$$",
            "text/plain": [
              "<IPython.core.display.Math object>"
            ]
          },
          "metadata": {
            "tags": []
          }
        },
        {
          "output_type": "stream",
          "text": [
            "0.508130081300813\n"
          ],
          "name": "stdout"
        },
        {
          "output_type": "display_data",
          "data": {
            "text/latex": "$$P(Purchase|Female)$$",
            "text/plain": [
              "<IPython.core.display.Math object>"
            ]
          },
          "metadata": {
            "tags": []
          }
        },
        {
          "output_type": "stream",
          "text": [
            "0.6\n"
          ],
          "name": "stdout"
        },
        {
          "output_type": "display_data",
          "data": {
            "text/latex": "$$P(No\\ Purchase|Female)$$",
            "text/plain": [
              "<IPython.core.display.Math object>"
            ]
          },
          "metadata": {
            "tags": []
          }
        },
        {
          "output_type": "stream",
          "text": [
            "0.4\n"
          ],
          "name": "stdout"
        }
      ]
    },
    {
      "cell_type": "markdown",
      "metadata": {
        "id": "F9Tl9OBEuKbI"
      },
      "source": [
        "## Ratio de probabilidades\n"
      ]
    },
    {
      "cell_type": "code",
      "metadata": {
        "colab": {
          "base_uri": "https://localhost:8080/",
          "height": 132
        },
        "id": "KOPo8k0Wvrkl",
        "outputId": "4069e31b-87b7-4f50-8f7a-2a5d81733226"
      },
      "source": [
        "display(Math(r'P_m = \\ probabilidad\\ de\\ hacer\\ compra\\ sabiendo\\ que\\ es \\ un \\ hombre'))\n",
        "\n",
        "display(Math(r'P_f = \\ probabilidad\\ de\\ hacer\\ compra\\ sabiendo\\ que\\ es \\ una\\ mujer'))\n",
        "\n",
        "display(Math(r'odds\\in[0,+\\infty]'))\n",
        "\n",
        "display(Math(r'odds_{purchase,male} = \\frac{P_m}{1-P_m} = \\frac{N_{p,m}}{N_{\\bar p, m}}'))\n",
        "\n",
        "display(Math(r'odds_{purchase,female} = \\frac{P_F}{1-P_F} = \\frac{N_{p,f}}{N_{\\bar p, f}}'))"
      ],
      "execution_count": null,
      "outputs": [
        {
          "output_type": "display_data",
          "data": {
            "text/latex": "$$P_m = \\ probabilidad\\ de\\ hacer\\ compra\\ sabiendo\\ que\\ es \\ un \\ hombre$$",
            "text/plain": [
              "<IPython.core.display.Math object>"
            ]
          },
          "metadata": {
            "tags": []
          }
        },
        {
          "output_type": "display_data",
          "data": {
            "text/latex": "$$P_f = \\ probabilidad\\ de\\ hacer\\ compra\\ sabiendo\\ que\\ es \\ una\\ mujer$$",
            "text/plain": [
              "<IPython.core.display.Math object>"
            ]
          },
          "metadata": {
            "tags": []
          }
        },
        {
          "output_type": "display_data",
          "data": {
            "text/latex": "$$odds\\in[0,+\\infty]$$",
            "text/plain": [
              "<IPython.core.display.Math object>"
            ]
          },
          "metadata": {
            "tags": []
          }
        },
        {
          "output_type": "display_data",
          "data": {
            "text/latex": "$$odds_{purchase,male} = \\frac{P_m}{1-P_m} = \\frac{N_{p,m}}{N_{\\bar p, m}}$$",
            "text/plain": [
              "<IPython.core.display.Math object>"
            ]
          },
          "metadata": {
            "tags": []
          }
        },
        {
          "output_type": "display_data",
          "data": {
            "text/latex": "$$odds_{purchase,female} = \\frac{P_F}{1-P_F} = \\frac{N_{p,f}}{N_{\\bar p, f}}$$",
            "text/plain": [
              "<IPython.core.display.Math object>"
            ]
          },
          "metadata": {
            "tags": []
          }
        }
      ]
    },
    {
      "cell_type": "code",
      "metadata": {
        "id": "xwT6mz59xO-T"
      },
      "source": [
        "pm = 121/246\n",
        "pf = 159/265\n",
        "odds_m = pm/(1-pm)# 121/125\n",
        "odds_f = pf/(1-pf)# 159/106"
      ],
      "execution_count": null,
      "outputs": []
    },
    {
      "cell_type": "code",
      "metadata": {
        "colab": {
          "base_uri": "https://localhost:8080/"
        },
        "id": "e3smy3UaxTiz",
        "outputId": "c8953653-2d2b-4143-c699-b6ba7faf3a2a"
      },
      "source": [
        "odds_m, odds_f"
      ],
      "execution_count": null,
      "outputs": [
        {
          "output_type": "execute_result",
          "data": {
            "text/plain": [
              "(0.9680000000000002, 1.4999999999999998)"
            ]
          },
          "metadata": {
            "tags": []
          },
          "execution_count": 87
        }
      ]
    },
    {
      "cell_type": "markdown",
      "metadata": {
        "id": "eM75vjJ4xvLT"
      },
      "source": [
        "\n",
        "* Si el ratio es superior a 1, es más probable el éxito que el fracaso. Cuanto mayor es el ratio, más probabilidad de éxito en nuestro suceso.\n",
        "* Si el ratio es exactamente igual a 1, éxito y fracaso son equiprobables (p=0.5)\n",
        "* Si el ratio es menor que 1, el fracaso es más probable que el éxito. Cuanto menor es el ratio, menor es la probabilidad de éxito del suceso."
      ]
    },
    {
      "cell_type": "code",
      "metadata": {
        "colab": {
          "base_uri": "https://localhost:8080/",
          "height": 43
        },
        "id": "gZBch45ox4XC",
        "outputId": "21e8121d-bc74-4592-a4ad-06d9faf2e6d0"
      },
      "source": [
        "display(Math(r'odds_{ratio} = \\frac{odds_{purchase,male}}{odds_{purchase,female}}'))"
      ],
      "execution_count": null,
      "outputs": [
        {
          "output_type": "display_data",
          "data": {
            "text/latex": "$$odds_{ratio} = \\frac{odds_{purchase,male}}{odds_{purchase,female}}$$",
            "text/plain": [
              "<IPython.core.display.Math object>"
            ]
          },
          "metadata": {
            "tags": []
          }
        }
      ]
    },
    {
      "cell_type": "code",
      "metadata": {
        "colab": {
          "base_uri": "https://localhost:8080/"
        },
        "id": "_gy0MkY90vNR",
        "outputId": "c8efc9d8-05ea-417a-9db0-a199424f76a1"
      },
      "source": [
        "odds_r = odds_m/odds_f\n",
        "odds_r\n"
      ],
      "execution_count": null,
      "outputs": [
        {
          "output_type": "execute_result",
          "data": {
            "text/plain": [
              "0.6453333333333335"
            ]
          },
          "metadata": {
            "tags": []
          },
          "execution_count": 90
        }
      ]
    },
    {
      "cell_type": "code",
      "metadata": {
        "colab": {
          "base_uri": "https://localhost:8080/"
        },
        "id": "R2QWb5Qb1DwH",
        "outputId": "00799705-379b-4a3e-b20e-8c6a5d486eaa"
      },
      "source": [
        "1/odds_r # odds_f/odds_m"
      ],
      "execution_count": null,
      "outputs": [
        {
          "output_type": "execute_result",
          "data": {
            "text/plain": [
              "1.5495867768595037"
            ]
          },
          "metadata": {
            "tags": []
          },
          "execution_count": 91
        }
      ]
    },
    {
      "cell_type": "markdown",
      "metadata": {
        "id": "Ns6bDOgcWnFs"
      },
      "source": [
        "# Implementaciones del método de maxima verosimilitud para regresión lineal\n",
        "\n",
        "## Definir la función de entorno L(b)\n",
        "$L(\\beta)=\\sum_{i=1}^n P_i^{y_i}(1-Pi)^{y_i}$"
      ]
    },
    {
      "cell_type": "code",
      "metadata": {
        "id": "8-pF0y_vXAd8"
      },
      "source": [
        "def likelihood(y, pi):\n",
        "    import numpy as np\n",
        "    total_sum = 1\n",
        "    sum_in = list(range(1, len(y)+1))\n",
        "    for i in range(len(y)):\n",
        "        sum_in[i] = np.where(y[i]==1, pi[i], 1-pi[i])\n",
        "        total_sum = total_sum * sum_in[i]\n",
        "    return total_sum"
      ],
      "execution_count": null,
      "outputs": []
    },
    {
      "cell_type": "markdown",
      "metadata": {
        "id": "ObRAkNHAauVX"
      },
      "source": [
        "## Calcular las probabilidades para cada observación\n",
        "\n",
        "$P_i = P(x_i) = \\frac{1}{1+e^{-\\sum_{j=0}^k\\beta_j\\cdot x_{ij}}}$\n"
      ]
    },
    {
      "cell_type": "code",
      "metadata": {
        "id": "j8_miZ3Ia4y0"
      },
      "source": [
        "def logitprobs(X,beta):\n",
        "    import numpy as np\n",
        "    n_rows = np.shape(X)[0]\n",
        "    n_cols = np.shape(X)[1]\n",
        "    pi=list(range(1,n_rows+1))\n",
        "    expon=list(range(1,n_rows+1))\n",
        "    for i in range(n_rows):\n",
        "        expon[i] = 0\n",
        "        for j in range(n_cols):\n",
        "            ex=X[i][j] * beta[j]\n",
        "            expon[i] = ex + expon[i]\n",
        "        with np.errstate(divide=\"ignore\", invalid=\"ignore\"):\n",
        "            pi[i]=1/(1+np.exp(-expon[i]))\n",
        "    return pi"
      ],
      "execution_count": null,
      "outputs": []
    },
    {
      "cell_type": "markdown",
      "metadata": {
        "id": "bfhYxWX8bEj_"
      },
      "source": [
        "## Calcular la matriz diagonal W\n",
        "\n",
        "$W= diag(P_i \\cdot (1-P_i))_{i=1}^n$"
      ]
    },
    {
      "cell_type": "code",
      "metadata": {
        "id": "xLlO38jFbGbu"
      },
      "source": [
        "def findW(pi):\n",
        "    import numpy as np\n",
        "    n = len(pi)\n",
        "    W = np.zeros(n*n).reshape(n,n)\n",
        "    for i in range(n):\n",
        "        print(i)\n",
        "        W[i,i]=pi[i]*(1-pi[i])\n",
        "        W[i,i].astype(float)\n",
        "    return W"
      ],
      "execution_count": null,
      "outputs": []
    },
    {
      "cell_type": "markdown",
      "metadata": {
        "id": "EOjQJxFtbIo2"
      },
      "source": [
        "## Obtener la solución de la función logística\n",
        "$\\beta_{n+1} = \\beta_n -\\frac{f(\\beta_n)}{f'(\\beta_n)}$\n",
        "\n",
        "$f(\\beta) = X(Y-P)$\n",
        "\n",
        "$f'(\\beta) = XWX^T$\n"
      ]
    },
    {
      "cell_type": "code",
      "metadata": {
        "id": "R5INc0vTbdbY"
      },
      "source": [
        "def logistics(X, Y, limit):\n",
        "    import numpy as np\n",
        "    from numpy import linalg\n",
        "    nrow = np.shape(X)[0]\n",
        "    bias = np.ones(nrow).reshape(nrow,1)\n",
        "    X_new = np.append(X, bias, axis = 1)\n",
        "    ncol = np.shape(X_new)[1]\n",
        "    beta = np.zeros(ncol).reshape(ncol,1)\n",
        "    root_dif = np.array(range(1,ncol+1)).reshape(ncol,1)\n",
        "    iter_i = 10000\n",
        "    while(iter_i>limit):\n",
        "        print(\"Iter:i\"+str(iter_i) + \", limit:\" + str(limit))\n",
        "        pi = logitprobs(X_new, beta)\n",
        "        print(\"Pi:\"+str(pi))\n",
        "        W = findW(pi)\n",
        "        print(\"W:\"+str(W))\n",
        "        num = (np.transpose(np.matrix(X_new))*np.matrix(Y - np.transpose(pi)).transpose())\n",
        "        den = (np.matrix(np.transpose(X_new))*np.matrix(W)*np.matrix(X_new))\n",
        "        root_dif = np.array(linalg.inv(den)*num)\n",
        "        beta = beta + root_dif\n",
        "        print(\"Beta: \"+str(beta))\n",
        "        iter_i = np.sum(root_dif*root_dif)\n",
        "        ll = likelihood(Y, pi)\n",
        "    return beta"
      ],
      "execution_count": null,
      "outputs": []
    },
    {
      "cell_type": "markdown",
      "metadata": {
        "id": "RpIf_x4xbyJV"
      },
      "source": [
        "## Comprobación experimental"
      ]
    },
    {
      "cell_type": "code",
      "metadata": {
        "id": "l0sle0X3dbX7"
      },
      "source": [
        " import numpy as np"
      ],
      "execution_count": null,
      "outputs": []
    },
    {
      "cell_type": "code",
      "metadata": {
        "id": "J2Jghaqmd7qz"
      },
      "source": [
        "  X = np.array(range(10)).reshape(10,1)\n",
        "  X"
      ],
      "execution_count": null,
      "outputs": []
    },
    {
      "cell_type": "code",
      "metadata": {
        "id": "xhCI_KEjeRSr"
      },
      "source": [
        "Y = [0,0,0,0,1,0,1,0,1,1]\n",
        "Y"
      ],
      "execution_count": null,
      "outputs": []
    },
    {
      "cell_type": "code",
      "metadata": {
        "id": "Tx0Jz8CWeoaD"
      },
      "source": [
        "bias = np.ones(10).reshape(10,1)\n",
        "X_new = np.append(X, bias, axis = 1)\n",
        "X_new"
      ],
      "execution_count": null,
      "outputs": []
    },
    {
      "cell_type": "code",
      "metadata": {
        "colab": {
          "base_uri": "https://localhost:8080/"
        },
        "id": "dOqjeNUCe-ex",
        "outputId": "7a72cf95-7d6d-46a2-c3c1-14533bd606e4"
      },
      "source": [
        "a = logistics(X,Y, 0.0001)"
      ],
      "execution_count": null,
      "outputs": [
        {
          "output_type": "stream",
          "text": [
            "Iter:i10000, limit:0.0001\n",
            "Pi:[array([0.5]), array([0.5]), array([0.5]), array([0.5]), array([0.5]), array([0.5]), array([0.5]), array([0.5]), array([0.5]), array([0.5])]\n",
            "0\n",
            "1\n",
            "2\n",
            "3\n",
            "4\n",
            "5\n",
            "6\n",
            "7\n",
            "8\n",
            "9\n",
            "W:[[0.25 0.   0.   0.   0.   0.   0.   0.   0.   0.  ]\n",
            " [0.   0.25 0.   0.   0.   0.   0.   0.   0.   0.  ]\n",
            " [0.   0.   0.25 0.   0.   0.   0.   0.   0.   0.  ]\n",
            " [0.   0.   0.   0.25 0.   0.   0.   0.   0.   0.  ]\n",
            " [0.   0.   0.   0.   0.25 0.   0.   0.   0.   0.  ]\n",
            " [0.   0.   0.   0.   0.   0.25 0.   0.   0.   0.  ]\n",
            " [0.   0.   0.   0.   0.   0.   0.25 0.   0.   0.  ]\n",
            " [0.   0.   0.   0.   0.   0.   0.   0.25 0.   0.  ]\n",
            " [0.   0.   0.   0.   0.   0.   0.   0.   0.25 0.  ]\n",
            " [0.   0.   0.   0.   0.   0.   0.   0.   0.   0.25]]\n",
            "Beta: [[ 0.43636364]\n",
            " [-2.36363636]]\n",
            "Iter:i5.777190082644626, limit:0.0001\n",
            "Pi:[array([0.08598797]), array([0.12705276]), array([0.18378532]), array([0.2583532]), array([0.35019508]), array([0.45467026]), array([0.56329497]), array([0.66616913]), array([0.75533524]), array([0.82687453])]\n",
            "0\n",
            "1\n",
            "2\n",
            "3\n",
            "4\n",
            "5\n",
            "6\n",
            "7\n",
            "8\n",
            "9\n",
            "W:[[0.07859404 0.         0.         0.         0.         0.\n",
            "  0.         0.         0.         0.        ]\n",
            " [0.         0.11091035 0.         0.         0.         0.\n",
            "  0.         0.         0.         0.        ]\n",
            " [0.         0.         0.15000827 0.         0.         0.\n",
            "  0.         0.         0.         0.        ]\n",
            " [0.         0.         0.         0.19160683 0.         0.\n",
            "  0.         0.         0.         0.        ]\n",
            " [0.         0.         0.         0.         0.22755849 0.\n",
            "  0.         0.         0.         0.        ]\n",
            " [0.         0.         0.         0.         0.         0.24794521\n",
            "  0.         0.         0.         0.        ]\n",
            " [0.         0.         0.         0.         0.         0.\n",
            "  0.24599375 0.         0.         0.        ]\n",
            " [0.         0.         0.         0.         0.         0.\n",
            "  0.         0.22238782 0.         0.        ]\n",
            " [0.         0.         0.         0.         0.         0.\n",
            "  0.         0.         0.18480392 0.        ]\n",
            " [0.         0.         0.         0.         0.         0.\n",
            "  0.         0.         0.         0.14315304]]\n",
            "Beta: [[ 0.60426056]\n",
            " [-3.34641372]]\n",
            "Iter:i0.9940407075349109, limit:0.0001\n",
            "Pi:[array([0.0340128]), array([0.06053134]), array([0.10546805]), array([0.1774629]), array([0.28305225]), array([0.41943069]), array([0.56933774]), array([0.7075284]), array([0.81572841]), array([0.89011647])]\n",
            "0\n",
            "1\n",
            "2\n",
            "3\n",
            "4\n",
            "5\n",
            "6\n",
            "7\n",
            "8\n",
            "9\n",
            "W:[[0.03285593 0.         0.         0.         0.         0.\n",
            "  0.         0.         0.         0.        ]\n",
            " [0.         0.0568673  0.         0.         0.         0.\n",
            "  0.         0.         0.         0.        ]\n",
            " [0.         0.         0.09434454 0.         0.         0.\n",
            "  0.         0.         0.         0.        ]\n",
            " [0.         0.         0.         0.14596982 0.         0.\n",
            "  0.         0.         0.         0.        ]\n",
            " [0.         0.         0.         0.         0.20293367 0.\n",
            "  0.         0.         0.         0.        ]\n",
            " [0.         0.         0.         0.         0.         0.24350859\n",
            "  0.         0.         0.         0.        ]\n",
            " [0.         0.         0.         0.         0.         0.\n",
            "  0.24519228 0.         0.         0.        ]\n",
            " [0.         0.         0.         0.         0.         0.\n",
            "  0.         0.20693196 0.         0.        ]\n",
            " [0.         0.         0.         0.         0.         0.\n",
            "  0.         0.         0.15031557 0.        ]\n",
            " [0.         0.         0.         0.         0.         0.\n",
            "  0.         0.         0.         0.09780914]]\n",
            "Beta: [[ 0.65761412]\n",
            " [-3.66759924]]\n",
            "Iter:i0.10600674406802027, limit:0.0001\n",
            "Pi:[array([0.02490177]), array([0.04697681]), array([0.0868775]), array([0.15515129]), array([0.26170168]), array([0.40624059]), array([0.56907679]), array([0.71823018]), array([0.83108181]), array([0.90473054])]\n",
            "0\n",
            "1\n",
            "2\n",
            "3\n",
            "4\n",
            "5\n",
            "6\n",
            "7\n",
            "8\n",
            "9\n",
            "W:[[0.02428167 0.         0.         0.         0.         0.\n",
            "  0.         0.         0.         0.        ]\n",
            " [0.         0.04476999 0.         0.         0.         0.\n",
            "  0.         0.         0.         0.        ]\n",
            " [0.         0.         0.0793298  0.         0.         0.\n",
            "  0.         0.         0.         0.        ]\n",
            " [0.         0.         0.         0.13107937 0.         0.\n",
            "  0.         0.         0.         0.        ]\n",
            " [0.         0.         0.         0.         0.19321391 0.\n",
            "  0.         0.         0.         0.        ]\n",
            " [0.         0.         0.         0.         0.         0.24120917\n",
            "  0.         0.         0.         0.        ]\n",
            " [0.         0.         0.         0.         0.         0.\n",
            "  0.2452284  0.         0.         0.        ]\n",
            " [0.         0.         0.         0.         0.         0.\n",
            "  0.         0.20237559 0.         0.        ]\n",
            " [0.         0.         0.         0.         0.         0.\n",
            "  0.         0.         0.14038483 0.        ]\n",
            " [0.         0.         0.         0.         0.         0.\n",
            "  0.         0.         0.         0.08619319]]\n",
            "Beta: [[ 0.66217766]\n",
            " [-3.6953843 ]]\n",
            "Iter:i0.0007928351246008561, limit:0.0001\n",
            "Pi:[array([0.02423594]), array([0.04594805]), array([0.08540873]), array([0.15331276]), array([0.25986436]), array([0.40504298]), array([0.56897776]), array([0.71907124]), array([0.83230289]), array([0.90586963])]\n",
            "0\n",
            "1\n",
            "2\n",
            "3\n",
            "4\n",
            "5\n",
            "6\n",
            "7\n",
            "8\n",
            "9\n",
            "W:[[0.02364856 0.         0.         0.         0.         0.\n",
            "  0.         0.         0.         0.        ]\n",
            " [0.         0.04383683 0.         0.         0.         0.\n",
            "  0.         0.         0.         0.        ]\n",
            " [0.         0.         0.07811408 0.         0.         0.\n",
            "  0.         0.         0.         0.        ]\n",
            " [0.         0.         0.         0.12980796 0.         0.\n",
            "  0.         0.         0.         0.        ]\n",
            " [0.         0.         0.         0.         0.19233487 0.\n",
            "  0.         0.         0.         0.        ]\n",
            " [0.         0.         0.         0.         0.         0.24098316\n",
            "  0.         0.         0.         0.        ]\n",
            " [0.         0.         0.         0.         0.         0.\n",
            "  0.24524207 0.         0.         0.        ]\n",
            " [0.         0.         0.         0.         0.         0.\n",
            "  0.         0.20200779 0.         0.        ]\n",
            " [0.         0.         0.         0.         0.         0.\n",
            "  0.         0.         0.13957479 0.        ]\n",
            " [0.         0.         0.         0.         0.         0.\n",
            "  0.         0.         0.         0.08526985]]\n",
            "Beta: [[ 0.66220827]\n",
            " [-3.69557172]]\n"
          ],
          "name": "stdout"
        }
      ]
    },
    {
      "cell_type": "code",
      "metadata": {
        "colab": {
          "base_uri": "https://localhost:8080/"
        },
        "id": "EQoCVmF4gBT5",
        "outputId": "69232484-19ea-4a6f-a2fe-885ada21bd0f"
      },
      "source": [
        "ll = likelihood(Y, logitprobs(X,a))\n",
        "a # Y = 0.66220827*-3.69557172"
      ],
      "execution_count": null,
      "outputs": [
        {
          "output_type": "execute_result",
          "data": {
            "text/plain": [
              "array([[ 0.66220827],\n",
              "       [-3.69557172]])"
            ]
          },
          "metadata": {
            "tags": []
          },
          "execution_count": 24
        }
      ]
    },
    {
      "cell_type": "markdown",
      "metadata": {
        "id": "0YCqmNWnftGh"
      },
      "source": [
        "#  Con el paquete stats de python"
      ]
    },
    {
      "cell_type": "code",
      "metadata": {
        "id": "ob4urJRTgP0I"
      },
      "source": [
        "import statsmodels.api as sm"
      ],
      "execution_count": null,
      "outputs": []
    },
    {
      "cell_type": "code",
      "metadata": {
        "id": "P7PXDzO_gjq4"
      },
      "source": [
        "logit_model = sm.Logit(Y, X_new)"
      ],
      "execution_count": null,
      "outputs": []
    },
    {
      "cell_type": "code",
      "metadata": {
        "colab": {
          "base_uri": "https://localhost:8080/"
        },
        "id": "mEiLX9y3gr2I",
        "outputId": "8501b3bd-9476-4e6d-a3e1-83fab12d0ad2"
      },
      "source": [
        "result = logit_model.fit()"
      ],
      "execution_count": null,
      "outputs": [
        {
          "output_type": "stream",
          "text": [
            "Optimization terminated successfully.\n",
            "         Current function value: 0.431012\n",
            "         Iterations 6\n"
          ],
          "name": "stdout"
        }
      ]
    },
    {
      "cell_type": "code",
      "metadata": {
        "colab": {
          "base_uri": "https://localhost:8080/"
        },
        "id": "SO9Y9esthEGf",
        "outputId": "8c2c8c7b-b3b0-4664-ac3e-94a95db53a26"
      },
      "source": [
        "print(result.summary2()) # El summary 2 incluye los criterios AIC BIC "
      ],
      "execution_count": null,
      "outputs": [
        {
          "output_type": "stream",
          "text": [
            "                        Results: Logit\n",
            "===============================================================\n",
            "Model:              Logit            Pseudo R-squared: 0.360   \n",
            "Dependent Variable: y                AIC:              12.6202 \n",
            "Date:               2021-07-19 20:47 BIC:              13.2254 \n",
            "No. Observations:   10               Log-Likelihood:   -4.3101 \n",
            "Df Model:           1                LL-Null:          -6.7301 \n",
            "Df Residuals:       8                LLR p-value:      0.027807\n",
            "Converged:          1.0000           Scale:            1.0000  \n",
            "No. Iterations:     6.0000                                     \n",
            "-----------------------------------------------------------------\n",
            "          Coef.    Std.Err.      z      P>|z|     [0.025   0.975]\n",
            "-----------------------------------------------------------------\n",
            "x1        0.6622     0.4001    1.6551   0.0979   -0.1220   1.4464\n",
            "const    -3.6956     2.2889   -1.6145   0.1064   -8.1818   0.7906\n",
            "===============================================================\n",
            "\n"
          ],
          "name": "stdout"
        }
      ]
    },
    {
      "cell_type": "markdown",
      "metadata": {
        "id": "ia_7GbLKhjlH"
      },
      "source": [
        "# Regresión Logística aplicada a la banca\n",
        "\n",
        "Se intentará predecir si se compra o no se compra un producto de inverción"
      ]
    },
    {
      "cell_type": "code",
      "metadata": {
        "id": "8DIFVBEmiL6V"
      },
      "source": [
        "import pandas as pd\n",
        "import numpy as np\n",
        "from sklearn.linear_model import LogisticRegression\n",
        "import statsmodels.api as sm\n",
        "import matplotlib.pyplot as plt\n"
      ],
      "execution_count": null,
      "outputs": []
    },
    {
      "cell_type": "code",
      "metadata": {
        "colab": {
          "base_uri": "https://localhost:8080/",
          "height": 224
        },
        "id": "7pYs1X1shyFX",
        "outputId": "227ba0e3-2a85-43f5-df64-8f4edd84d7c3"
      },
      "source": [
        "data = pd.read_csv(\"/content/drive/MyDrive/Machine en Python  Udemy/Data/bank.csv\", sep=\";\")\n",
        "data.tail()"
      ],
      "execution_count": null,
      "outputs": [
        {
          "output_type": "execute_result",
          "data": {
            "text/html": [
              "<div>\n",
              "<style scoped>\n",
              "    .dataframe tbody tr th:only-of-type {\n",
              "        vertical-align: middle;\n",
              "    }\n",
              "\n",
              "    .dataframe tbody tr th {\n",
              "        vertical-align: top;\n",
              "    }\n",
              "\n",
              "    .dataframe thead th {\n",
              "        text-align: right;\n",
              "    }\n",
              "</style>\n",
              "<table border=\"1\" class=\"dataframe\">\n",
              "  <thead>\n",
              "    <tr style=\"text-align: right;\">\n",
              "      <th></th>\n",
              "      <th>age</th>\n",
              "      <th>job</th>\n",
              "      <th>marital</th>\n",
              "      <th>education</th>\n",
              "      <th>default</th>\n",
              "      <th>housing</th>\n",
              "      <th>loan</th>\n",
              "      <th>contact</th>\n",
              "      <th>month</th>\n",
              "      <th>day_of_week</th>\n",
              "      <th>duration</th>\n",
              "      <th>campaign</th>\n",
              "      <th>pdays</th>\n",
              "      <th>previous</th>\n",
              "      <th>poutcome</th>\n",
              "      <th>emp.var.rate</th>\n",
              "      <th>cons.price.idx</th>\n",
              "      <th>cons.conf.idx</th>\n",
              "      <th>euribor3m</th>\n",
              "      <th>nr.employed</th>\n",
              "      <th>y</th>\n",
              "    </tr>\n",
              "  </thead>\n",
              "  <tbody>\n",
              "    <tr>\n",
              "      <th>4114</th>\n",
              "      <td>30</td>\n",
              "      <td>admin.</td>\n",
              "      <td>married</td>\n",
              "      <td>basic.6y</td>\n",
              "      <td>no</td>\n",
              "      <td>yes</td>\n",
              "      <td>yes</td>\n",
              "      <td>cellular</td>\n",
              "      <td>jul</td>\n",
              "      <td>thu</td>\n",
              "      <td>53</td>\n",
              "      <td>1</td>\n",
              "      <td>999</td>\n",
              "      <td>0</td>\n",
              "      <td>nonexistent</td>\n",
              "      <td>1.4</td>\n",
              "      <td>93.918</td>\n",
              "      <td>-42.7</td>\n",
              "      <td>4.958</td>\n",
              "      <td>5228.1</td>\n",
              "      <td>no</td>\n",
              "    </tr>\n",
              "    <tr>\n",
              "      <th>4115</th>\n",
              "      <td>39</td>\n",
              "      <td>admin.</td>\n",
              "      <td>married</td>\n",
              "      <td>high.school</td>\n",
              "      <td>no</td>\n",
              "      <td>yes</td>\n",
              "      <td>no</td>\n",
              "      <td>telephone</td>\n",
              "      <td>jul</td>\n",
              "      <td>fri</td>\n",
              "      <td>219</td>\n",
              "      <td>1</td>\n",
              "      <td>999</td>\n",
              "      <td>0</td>\n",
              "      <td>nonexistent</td>\n",
              "      <td>1.4</td>\n",
              "      <td>93.918</td>\n",
              "      <td>-42.7</td>\n",
              "      <td>4.959</td>\n",
              "      <td>5228.1</td>\n",
              "      <td>no</td>\n",
              "    </tr>\n",
              "    <tr>\n",
              "      <th>4116</th>\n",
              "      <td>27</td>\n",
              "      <td>student</td>\n",
              "      <td>single</td>\n",
              "      <td>high.school</td>\n",
              "      <td>no</td>\n",
              "      <td>no</td>\n",
              "      <td>no</td>\n",
              "      <td>cellular</td>\n",
              "      <td>may</td>\n",
              "      <td>mon</td>\n",
              "      <td>64</td>\n",
              "      <td>2</td>\n",
              "      <td>999</td>\n",
              "      <td>1</td>\n",
              "      <td>failure</td>\n",
              "      <td>-1.8</td>\n",
              "      <td>92.893</td>\n",
              "      <td>-46.2</td>\n",
              "      <td>1.354</td>\n",
              "      <td>5099.1</td>\n",
              "      <td>no</td>\n",
              "    </tr>\n",
              "    <tr>\n",
              "      <th>4117</th>\n",
              "      <td>58</td>\n",
              "      <td>admin.</td>\n",
              "      <td>married</td>\n",
              "      <td>high.school</td>\n",
              "      <td>no</td>\n",
              "      <td>no</td>\n",
              "      <td>no</td>\n",
              "      <td>cellular</td>\n",
              "      <td>aug</td>\n",
              "      <td>fri</td>\n",
              "      <td>528</td>\n",
              "      <td>1</td>\n",
              "      <td>999</td>\n",
              "      <td>0</td>\n",
              "      <td>nonexistent</td>\n",
              "      <td>1.4</td>\n",
              "      <td>93.444</td>\n",
              "      <td>-36.1</td>\n",
              "      <td>4.966</td>\n",
              "      <td>5228.1</td>\n",
              "      <td>no</td>\n",
              "    </tr>\n",
              "    <tr>\n",
              "      <th>4118</th>\n",
              "      <td>34</td>\n",
              "      <td>management</td>\n",
              "      <td>single</td>\n",
              "      <td>high.school</td>\n",
              "      <td>no</td>\n",
              "      <td>yes</td>\n",
              "      <td>no</td>\n",
              "      <td>cellular</td>\n",
              "      <td>nov</td>\n",
              "      <td>wed</td>\n",
              "      <td>175</td>\n",
              "      <td>1</td>\n",
              "      <td>999</td>\n",
              "      <td>0</td>\n",
              "      <td>nonexistent</td>\n",
              "      <td>-0.1</td>\n",
              "      <td>93.200</td>\n",
              "      <td>-42.0</td>\n",
              "      <td>4.120</td>\n",
              "      <td>5195.8</td>\n",
              "      <td>no</td>\n",
              "    </tr>\n",
              "  </tbody>\n",
              "</table>\n",
              "</div>"
            ],
            "text/plain": [
              "      age         job  marital  ... euribor3m nr.employed   y\n",
              "4114   30      admin.  married  ...     4.958      5228.1  no\n",
              "4115   39      admin.  married  ...     4.959      5228.1  no\n",
              "4116   27     student   single  ...     1.354      5099.1  no\n",
              "4117   58      admin.  married  ...     4.966      5228.1  no\n",
              "4118   34  management   single  ...     4.120      5195.8  no\n",
              "\n",
              "[5 rows x 21 columns]"
            ]
          },
          "metadata": {
            "tags": []
          },
          "execution_count": 73
        }
      ]
    },
    {
      "cell_type": "code",
      "metadata": {
        "id": "GfnCcwJCmD-D"
      },
      "source": [
        "columns_names =  ['Edad', 'Trabajo', 'Civil', 'Educacion', 'default', 'housing', 'loan',\n",
        "       'contact', 'month', 'day_of_week', 'duration', 'campaign', 'pdays',\n",
        "       'previous', 'poutcome', 'emp.var.rate', 'cons.price.idx',\n",
        "       'cons.conf.idx', 'euribor3m', 'nr.employed', 'y']\n"
      ],
      "execution_count": null,
      "outputs": []
    },
    {
      "cell_type": "code",
      "metadata": {
        "id": "PTUQuF68mqaM",
        "colab": {
          "base_uri": "https://localhost:8080/",
          "height": 241
        },
        "outputId": "430d40b0-4c28-40e4-f5fd-65b38902a8e7"
      },
      "source": [
        "data.columns = columns_names\n",
        "data.head()"
      ],
      "execution_count": null,
      "outputs": [
        {
          "output_type": "execute_result",
          "data": {
            "text/html": [
              "<div>\n",
              "<style scoped>\n",
              "    .dataframe tbody tr th:only-of-type {\n",
              "        vertical-align: middle;\n",
              "    }\n",
              "\n",
              "    .dataframe tbody tr th {\n",
              "        vertical-align: top;\n",
              "    }\n",
              "\n",
              "    .dataframe thead th {\n",
              "        text-align: right;\n",
              "    }\n",
              "</style>\n",
              "<table border=\"1\" class=\"dataframe\">\n",
              "  <thead>\n",
              "    <tr style=\"text-align: right;\">\n",
              "      <th></th>\n",
              "      <th>Edad</th>\n",
              "      <th>Trabajo</th>\n",
              "      <th>Civil</th>\n",
              "      <th>Educacion</th>\n",
              "      <th>default</th>\n",
              "      <th>housing</th>\n",
              "      <th>loan</th>\n",
              "      <th>contact</th>\n",
              "      <th>month</th>\n",
              "      <th>day_of_week</th>\n",
              "      <th>duration</th>\n",
              "      <th>campaign</th>\n",
              "      <th>pdays</th>\n",
              "      <th>previous</th>\n",
              "      <th>poutcome</th>\n",
              "      <th>emp.var.rate</th>\n",
              "      <th>cons.price.idx</th>\n",
              "      <th>cons.conf.idx</th>\n",
              "      <th>euribor3m</th>\n",
              "      <th>nr.employed</th>\n",
              "      <th>y</th>\n",
              "    </tr>\n",
              "  </thead>\n",
              "  <tbody>\n",
              "    <tr>\n",
              "      <th>0</th>\n",
              "      <td>30</td>\n",
              "      <td>blue-collar</td>\n",
              "      <td>married</td>\n",
              "      <td>basic.9y</td>\n",
              "      <td>no</td>\n",
              "      <td>yes</td>\n",
              "      <td>no</td>\n",
              "      <td>cellular</td>\n",
              "      <td>may</td>\n",
              "      <td>fri</td>\n",
              "      <td>487</td>\n",
              "      <td>2</td>\n",
              "      <td>999</td>\n",
              "      <td>0</td>\n",
              "      <td>nonexistent</td>\n",
              "      <td>-1.8</td>\n",
              "      <td>92.893</td>\n",
              "      <td>-46.2</td>\n",
              "      <td>1.313</td>\n",
              "      <td>5099.1</td>\n",
              "      <td>no</td>\n",
              "    </tr>\n",
              "    <tr>\n",
              "      <th>1</th>\n",
              "      <td>39</td>\n",
              "      <td>services</td>\n",
              "      <td>single</td>\n",
              "      <td>high.school</td>\n",
              "      <td>no</td>\n",
              "      <td>no</td>\n",
              "      <td>no</td>\n",
              "      <td>telephone</td>\n",
              "      <td>may</td>\n",
              "      <td>fri</td>\n",
              "      <td>346</td>\n",
              "      <td>4</td>\n",
              "      <td>999</td>\n",
              "      <td>0</td>\n",
              "      <td>nonexistent</td>\n",
              "      <td>1.1</td>\n",
              "      <td>93.994</td>\n",
              "      <td>-36.4</td>\n",
              "      <td>4.855</td>\n",
              "      <td>5191.0</td>\n",
              "      <td>no</td>\n",
              "    </tr>\n",
              "    <tr>\n",
              "      <th>2</th>\n",
              "      <td>25</td>\n",
              "      <td>services</td>\n",
              "      <td>married</td>\n",
              "      <td>high.school</td>\n",
              "      <td>no</td>\n",
              "      <td>yes</td>\n",
              "      <td>no</td>\n",
              "      <td>telephone</td>\n",
              "      <td>jun</td>\n",
              "      <td>wed</td>\n",
              "      <td>227</td>\n",
              "      <td>1</td>\n",
              "      <td>999</td>\n",
              "      <td>0</td>\n",
              "      <td>nonexistent</td>\n",
              "      <td>1.4</td>\n",
              "      <td>94.465</td>\n",
              "      <td>-41.8</td>\n",
              "      <td>4.962</td>\n",
              "      <td>5228.1</td>\n",
              "      <td>no</td>\n",
              "    </tr>\n",
              "    <tr>\n",
              "      <th>3</th>\n",
              "      <td>38</td>\n",
              "      <td>services</td>\n",
              "      <td>married</td>\n",
              "      <td>basic.9y</td>\n",
              "      <td>no</td>\n",
              "      <td>unknown</td>\n",
              "      <td>unknown</td>\n",
              "      <td>telephone</td>\n",
              "      <td>jun</td>\n",
              "      <td>fri</td>\n",
              "      <td>17</td>\n",
              "      <td>3</td>\n",
              "      <td>999</td>\n",
              "      <td>0</td>\n",
              "      <td>nonexistent</td>\n",
              "      <td>1.4</td>\n",
              "      <td>94.465</td>\n",
              "      <td>-41.8</td>\n",
              "      <td>4.959</td>\n",
              "      <td>5228.1</td>\n",
              "      <td>no</td>\n",
              "    </tr>\n",
              "    <tr>\n",
              "      <th>4</th>\n",
              "      <td>47</td>\n",
              "      <td>admin.</td>\n",
              "      <td>married</td>\n",
              "      <td>university.degree</td>\n",
              "      <td>no</td>\n",
              "      <td>yes</td>\n",
              "      <td>no</td>\n",
              "      <td>cellular</td>\n",
              "      <td>nov</td>\n",
              "      <td>mon</td>\n",
              "      <td>58</td>\n",
              "      <td>1</td>\n",
              "      <td>999</td>\n",
              "      <td>0</td>\n",
              "      <td>nonexistent</td>\n",
              "      <td>-0.1</td>\n",
              "      <td>93.200</td>\n",
              "      <td>-42.0</td>\n",
              "      <td>4.191</td>\n",
              "      <td>5195.8</td>\n",
              "      <td>no</td>\n",
              "    </tr>\n",
              "  </tbody>\n",
              "</table>\n",
              "</div>"
            ],
            "text/plain": [
              "   Edad      Trabajo    Civil  ... euribor3m nr.employed   y\n",
              "0    30  blue-collar  married  ...     1.313      5099.1  no\n",
              "1    39     services   single  ...     4.855      5191.0  no\n",
              "2    25     services  married  ...     4.962      5228.1  no\n",
              "3    38     services  married  ...     4.959      5228.1  no\n",
              "4    47       admin.  married  ...     4.191      5195.8  no\n",
              "\n",
              "[5 rows x 21 columns]"
            ]
          },
          "metadata": {
            "tags": []
          },
          "execution_count": 69
        }
      ]
    },
    {
      "cell_type": "code",
      "metadata": {
        "id": "j5HGJfEgQwfY"
      },
      "source": [
        "# Convertimos la variable target en binaria\n",
        "data[\"y\"] = np.where(data[\"y\"]==\"yes\",1,0)"
      ],
      "execution_count": null,
      "outputs": []
    },
    {
      "cell_type": "code",
      "metadata": {
        "id": "iZG2n5V4Rp0H"
      },
      "source": [
        "# Recodificamos la variable educación\n",
        "data[\"education\"] = np.where(data[\"education\"]==\"basic.4y\", \"Basic\",data[\"education\"])\n",
        "data[\"education\"] = np.where(data[\"education\"]==\"basic.6y\", \"Basic\",data[\"education\"])\n",
        "data[\"education\"] = np.where(data[\"education\"]==\"basic.9y\", \"Basic\",data[\"education\"])\n",
        "\n",
        "data[\"education\"] = np.where(data[\"education\"]==\"high.school\", \"High School\",data[\"education\"])\n",
        "data[\"education\"] = np.where(data[\"education\"]==\"professional.course\", \"Professional Course\",data[\"education\"])\n",
        "data[\"education\"] = np.where(data[\"education\"]==\"university.degree\", \"University Degree\",data[\"education\"])\n",
        "\n",
        "data[\"education\"] = np.where(data[\"education\"]==\"illiterate\", \"Illiterate\",data[\"education\"])\n",
        "data[\"education\"] = np.where(data[\"education\"]==\"unknown\", \"Unknown\",data[\"education\"])\n"
      ],
      "execution_count": null,
      "outputs": []
    },
    {
      "cell_type": "code",
      "metadata": {
        "colab": {
          "base_uri": "https://localhost:8080/"
        },
        "id": "15Rsg2tgTgRc",
        "outputId": "e3b43239-c9bb-43c8-9792-088c3e63cbdd"
      },
      "source": [
        "data[\"education\"].unique()"
      ],
      "execution_count": null,
      "outputs": [
        {
          "output_type": "execute_result",
          "data": {
            "text/plain": [
              "array(['Basic', 'High School', 'University Degree', 'Professional Course',\n",
              "       'Unknown', 'Illiterate'], dtype=object)"
            ]
          },
          "metadata": {
            "tags": []
          },
          "execution_count": 77
        }
      ]
    },
    {
      "cell_type": "markdown",
      "metadata": {
        "id": "iiefZ0aFToU1"
      },
      "source": [
        "## Análisis exploratorio de datos"
      ]
    },
    {
      "cell_type": "code",
      "metadata": {
        "colab": {
          "base_uri": "https://localhost:8080/"
        },
        "id": "vZO2v6mzTv7U",
        "outputId": "9e8f9a9b-85c5-4278-c945-c965951eea59"
      },
      "source": [
        "data[\"y\"].value_counts()"
      ],
      "execution_count": null,
      "outputs": [
        {
          "output_type": "execute_result",
          "data": {
            "text/plain": [
              "0    3668\n",
              "1     451\n",
              "Name: y, dtype: int64"
            ]
          },
          "metadata": {
            "tags": []
          },
          "execution_count": 78
        }
      ]
    },
    {
      "cell_type": "code",
      "metadata": {
        "colab": {
          "base_uri": "https://localhost:8080/"
        },
        "id": "_zNrd7XPYZZf",
        "outputId": "d398fb9c-bf7e-452d-a86f-f62b4b55da55"
      },
      "source": [
        "data.groupby(\"y\").mean()"
      ],
      "execution_count": null,
      "outputs": [
        {
          "output_type": "execute_result",
          "data": {
            "text/html": [
              "<div>\n",
              "<style scoped>\n",
              "    .dataframe tbody tr th:only-of-type {\n",
              "        vertical-align: middle;\n",
              "    }\n",
              "\n",
              "    .dataframe tbody tr th {\n",
              "        vertical-align: top;\n",
              "    }\n",
              "\n",
              "    .dataframe thead th {\n",
              "        text-align: right;\n",
              "    }\n",
              "</style>\n",
              "<table border=\"1\" class=\"dataframe\">\n",
              "  <thead>\n",
              "    <tr style=\"text-align: right;\">\n",
              "      <th></th>\n",
              "      <th>age</th>\n",
              "      <th>duration</th>\n",
              "      <th>campaign</th>\n",
              "      <th>pdays</th>\n",
              "      <th>previous</th>\n",
              "      <th>emp.var.rate</th>\n",
              "      <th>cons.price.idx</th>\n",
              "      <th>cons.conf.idx</th>\n",
              "      <th>euribor3m</th>\n",
              "      <th>nr.employed</th>\n",
              "    </tr>\n",
              "    <tr>\n",
              "      <th>y</th>\n",
              "      <th></th>\n",
              "      <th></th>\n",
              "      <th></th>\n",
              "      <th></th>\n",
              "      <th></th>\n",
              "      <th></th>\n",
              "      <th></th>\n",
              "      <th></th>\n",
              "      <th></th>\n",
              "      <th></th>\n",
              "    </tr>\n",
              "  </thead>\n",
              "  <tbody>\n",
              "    <tr>\n",
              "      <th>0</th>\n",
              "      <td>39.895311</td>\n",
              "      <td>219.40976</td>\n",
              "      <td>2.605780</td>\n",
              "      <td>982.763086</td>\n",
              "      <td>0.141767</td>\n",
              "      <td>0.240185</td>\n",
              "      <td>93.599677</td>\n",
              "      <td>-40.586723</td>\n",
              "      <td>3.802826</td>\n",
              "      <td>5175.502072</td>\n",
              "    </tr>\n",
              "    <tr>\n",
              "      <th>1</th>\n",
              "      <td>41.889135</td>\n",
              "      <td>560.78714</td>\n",
              "      <td>1.980044</td>\n",
              "      <td>778.722838</td>\n",
              "      <td>0.585366</td>\n",
              "      <td>-1.177384</td>\n",
              "      <td>93.417268</td>\n",
              "      <td>-39.786475</td>\n",
              "      <td>2.145448</td>\n",
              "      <td>5093.118625</td>\n",
              "    </tr>\n",
              "  </tbody>\n",
              "</table>\n",
              "</div>"
            ],
            "text/plain": [
              "         age   duration  campaign  ...  cons.conf.idx  euribor3m  nr.employed\n",
              "y                                  ...                                       \n",
              "0  39.895311  219.40976  2.605780  ...     -40.586723   3.802826  5175.502072\n",
              "1  41.889135  560.78714  1.980044  ...     -39.786475   2.145448  5093.118625\n",
              "\n",
              "[2 rows x 10 columns]"
            ]
          },
          "metadata": {
            "tags": []
          },
          "execution_count": 79
        }
      ]
    },
    {
      "cell_type": "code",
      "metadata": {
        "colab": {
          "base_uri": "https://localhost:8080/"
        },
        "id": "WXmLQTVqakbh",
        "outputId": "f0855b1d-07cd-47b8-c8e3-839396beef84"
      },
      "source": [
        "data.groupby(\"education\").mean()"
      ],
      "execution_count": null,
      "outputs": [
        {
          "output_type": "execute_result",
          "data": {
            "text/html": [
              "<div>\n",
              "<style scoped>\n",
              "    .dataframe tbody tr th:only-of-type {\n",
              "        vertical-align: middle;\n",
              "    }\n",
              "\n",
              "    .dataframe tbody tr th {\n",
              "        vertical-align: top;\n",
              "    }\n",
              "\n",
              "    .dataframe thead th {\n",
              "        text-align: right;\n",
              "    }\n",
              "</style>\n",
              "<table border=\"1\" class=\"dataframe\">\n",
              "  <thead>\n",
              "    <tr style=\"text-align: right;\">\n",
              "      <th></th>\n",
              "      <th>age</th>\n",
              "      <th>duration</th>\n",
              "      <th>campaign</th>\n",
              "      <th>pdays</th>\n",
              "      <th>previous</th>\n",
              "      <th>emp.var.rate</th>\n",
              "      <th>cons.price.idx</th>\n",
              "      <th>cons.conf.idx</th>\n",
              "      <th>euribor3m</th>\n",
              "      <th>nr.employed</th>\n",
              "      <th>y</th>\n",
              "    </tr>\n",
              "    <tr>\n",
              "      <th>education</th>\n",
              "      <th></th>\n",
              "      <th></th>\n",
              "      <th></th>\n",
              "      <th></th>\n",
              "      <th></th>\n",
              "      <th></th>\n",
              "      <th></th>\n",
              "      <th></th>\n",
              "      <th></th>\n",
              "      <th></th>\n",
              "      <th></th>\n",
              "    </tr>\n",
              "  </thead>\n",
              "  <tbody>\n",
              "    <tr>\n",
              "      <th>Basic</th>\n",
              "      <td>42.337124</td>\n",
              "      <td>253.898457</td>\n",
              "      <td>2.429732</td>\n",
              "      <td>978.815597</td>\n",
              "      <td>0.149472</td>\n",
              "      <td>0.237368</td>\n",
              "      <td>93.658600</td>\n",
              "      <td>-41.120552</td>\n",
              "      <td>3.775701</td>\n",
              "      <td>5174.133144</td>\n",
              "      <td>0.079610</td>\n",
              "    </tr>\n",
              "    <tr>\n",
              "      <th>High School</th>\n",
              "      <td>38.097720</td>\n",
              "      <td>258.534202</td>\n",
              "      <td>2.630836</td>\n",
              "      <td>958.022801</td>\n",
              "      <td>0.206298</td>\n",
              "      <td>-0.002497</td>\n",
              "      <td>93.564314</td>\n",
              "      <td>-40.995765</td>\n",
              "      <td>3.511732</td>\n",
              "      <td>5163.212595</td>\n",
              "      <td>0.105320</td>\n",
              "    </tr>\n",
              "    <tr>\n",
              "      <th>Illiterate</th>\n",
              "      <td>42.000000</td>\n",
              "      <td>146.000000</td>\n",
              "      <td>4.000000</td>\n",
              "      <td>999.000000</td>\n",
              "      <td>0.000000</td>\n",
              "      <td>-2.900000</td>\n",
              "      <td>92.201000</td>\n",
              "      <td>-31.400000</td>\n",
              "      <td>0.834000</td>\n",
              "      <td>5076.200000</td>\n",
              "      <td>0.000000</td>\n",
              "    </tr>\n",
              "    <tr>\n",
              "      <th>Professional Course</th>\n",
              "      <td>40.207477</td>\n",
              "      <td>278.816822</td>\n",
              "      <td>2.512150</td>\n",
              "      <td>958.211215</td>\n",
              "      <td>0.194393</td>\n",
              "      <td>0.163925</td>\n",
              "      <td>93.599630</td>\n",
              "      <td>-40.127664</td>\n",
              "      <td>3.701426</td>\n",
              "      <td>5167.595140</td>\n",
              "      <td>0.121495</td>\n",
              "    </tr>\n",
              "    <tr>\n",
              "      <th>University Degree</th>\n",
              "      <td>39.017405</td>\n",
              "      <td>247.707278</td>\n",
              "      <td>2.583070</td>\n",
              "      <td>947.900316</td>\n",
              "      <td>0.207278</td>\n",
              "      <td>-0.009731</td>\n",
              "      <td>93.499109</td>\n",
              "      <td>-39.830063</td>\n",
              "      <td>3.547132</td>\n",
              "      <td>5163.023180</td>\n",
              "      <td>0.130538</td>\n",
              "    </tr>\n",
              "    <tr>\n",
              "      <th>Unknown</th>\n",
              "      <td>42.826347</td>\n",
              "      <td>267.281437</td>\n",
              "      <td>2.538922</td>\n",
              "      <td>939.700599</td>\n",
              "      <td>0.263473</td>\n",
              "      <td>-0.074251</td>\n",
              "      <td>93.637455</td>\n",
              "      <td>-39.487425</td>\n",
              "      <td>3.410174</td>\n",
              "      <td>5151.260479</td>\n",
              "      <td>0.155689</td>\n",
              "    </tr>\n",
              "  </tbody>\n",
              "</table>\n",
              "</div>"
            ],
            "text/plain": [
              "                           age    duration  ...  nr.employed         y\n",
              "education                                   ...                       \n",
              "Basic                42.337124  253.898457  ...  5174.133144  0.079610\n",
              "High School          38.097720  258.534202  ...  5163.212595  0.105320\n",
              "Illiterate           42.000000  146.000000  ...  5076.200000  0.000000\n",
              "Professional Course  40.207477  278.816822  ...  5167.595140  0.121495\n",
              "University Degree    39.017405  247.707278  ...  5163.023180  0.130538\n",
              "Unknown              42.826347  267.281437  ...  5151.260479  0.155689\n",
              "\n",
              "[6 rows x 11 columns]"
            ]
          },
          "metadata": {
            "tags": []
          },
          "execution_count": 80
        }
      ]
    },
    {
      "cell_type": "code",
      "metadata": {
        "colab": {
          "base_uri": "https://localhost:8080/"
        },
        "id": "SIVFyYpXb1VQ",
        "outputId": "3167b2ab-3be8-4e94-8f49-0b5ee7924776"
      },
      "source": [
        "%matplotlib inline\n",
        "pd.crosstab(data.education, data.y).plot(kind = \"bar\")\n",
        "plt.title(\"Frecuencia de compra en función\\n del nivel de educación\")\n",
        "plt.xlabel(\"Nivel de educación\")\n",
        "plt.ylabel(\"Frecuencia de compra\")"
      ],
      "execution_count": null,
      "outputs": [
        {
          "output_type": "execute_result",
          "data": {
            "text/plain": [
              "Text(0, 0.5, 'Frecuencia de compra')"
            ]
          },
          "metadata": {
            "tags": []
          },
          "execution_count": 81
        },
        {
          "output_type": "display_data",
          "data": {
            "image/png": "[encoded data removed]",
            "text/plain": [
              "<Figure size 432x288 with 1 Axes>"
            ]
          },
          "metadata": {
            "tags": [],
            "needs_background": "light"
          }
        }
      ]
    },
    {
      "cell_type": "markdown",
      "metadata": {
        "id": "a0zYSkXTcs4o"
      },
      "source": [
        "Se observa en el gráfico que las personas que mas compran son las que tienen el nivel universitario, por lo tanto seria un buen predictor."
      ]
    },
    {
      "cell_type": "code",
      "metadata": {
        "colab": {
          "base_uri": "https://localhost:8080/"
        },
        "id": "BxaspH_HePAO",
        "outputId": "bcfaf7bc-a100-4148-cb3a-63420d46a103"
      },
      "source": [
        "table=pd.crosstab(data.marital, data.y)\n",
        "table.plot(kind=\"bar\", stacked = True) #stacked lo apila a las barras\n",
        "plt.title(\"gráfico apilado de estado civil contra el nivel de compras\")\n",
        "plt.xlabel(\"Estado Civil\")\n",
        "plt.ylabel(\"Proporción de clientes\")"
      ],
      "execution_count": null,
      "outputs": [
        {
          "output_type": "execute_result",
          "data": {
            "text/plain": [
              "Text(0, 0.5, 'Proporción de clientes')"
            ]
          },
          "metadata": {
            "tags": []
          },
          "execution_count": 82
        },
        {
          "output_type": "display_data",
          "data": {
            "image/png": "[encoded data removed]",
            "text/plain": [
              "<Figure size 432x288 with 1 Axes>"
            ]
          },
          "metadata": {
            "tags": [],
            "needs_background": "light"
          }
        }
      ]
    },
    {
      "cell_type": "code",
      "metadata": {
        "colab": {
          "base_uri": "https://localhost:8080/"
        },
        "id": "ySqqJxQzc_08",
        "outputId": "dda26d14-90ca-4cf5-c674-0ff4d533ac0b"
      },
      "source": [
        "table=pd.crosstab(data.marital, data.y)\n",
        "table.div(table.sum(1).astype(float), axis =0).plot(kind = \"bar\", stacked = True)\n",
        "plt.title(\"gráfico apilado de estado civil contra el nivel de compras\")\n",
        "plt.xlabel(\"Estado Civil\")\n",
        "plt.ylabel(\"Proporción de clientes\")"
      ],
      "execution_count": null,
      "outputs": [
        {
          "output_type": "execute_result",
          "data": {
            "text/plain": [
              "Text(0, 0.5, 'Proporción de clientes')"
            ]
          },
          "metadata": {
            "tags": []
          },
          "execution_count": 83
        },
        {
          "output_type": "display_data",
          "data": {
            "image/png": "[encoded data removed]",
            "text/plain": [
              "<Figure size 432x288 with 1 Axes>"
            ]
          },
          "metadata": {
            "tags": [],
            "needs_background": "light"
          }
        }
      ]
    },
    {
      "cell_type": "markdown",
      "metadata": {
        "id": "66ohA_NyelEU"
      },
      "source": [
        "Se observa del gráfico que el estado civil no es una variable que influya deamsiado en la compra"
      ]
    },
    {
      "cell_type": "code",
      "metadata": {
        "colab": {
          "base_uri": "https://localhost:8080/"
        },
        "id": "rb9Wd6h-etAy",
        "outputId": "ed769e33-617a-4383-8585-462ed0e653cf"
      },
      "source": [
        "table=pd.crosstab(data.day_of_week, data.y).plot(kind=\"bar\")\n",
        "plt.title(\"Frecuencia de compra en función del dia de la semana\")\n",
        "plt.xlabel(\"Día de la semana\")\n",
        "plt.ylabel(\"Frecuencia de compra dle producto\")"
      ],
      "execution_count": null,
      "outputs": [
        {
          "output_type": "execute_result",
          "data": {
            "text/plain": [
              "Text(0, 0.5, 'Frecuencia de compra dle producto')"
            ]
          },
          "metadata": {
            "tags": []
          },
          "execution_count": 84
        },
        {
          "output_type": "display_data",
          "data": {
            "image/png": "[encoded data removed]",
            "text/plain": [
              "<Figure size 432x288 with 1 Axes>"
            ]
          },
          "metadata": {
            "tags": [],
            "needs_background": "light"
          }
        }
      ]
    },
    {
      "cell_type": "code",
      "metadata": {
        "colab": {
          "base_uri": "https://localhost:8080/"
        },
        "id": "Dnvkr59tfW5G",
        "outputId": "0217a1b6-9616-4d8a-a85c-ab4fc55bbda3"
      },
      "source": [
        "table=pd.crosstab(data.day_of_week, data.y)\n",
        "table.div(table.sum(1).astype(float), axis =0).plot(kind=\"bar\", stacked = True)\n",
        "plt.title(\"Frecuencia de compra en función del día de la semana\")\n",
        "plt.xlabel(\"Día de la semana\")\n",
        "plt.ylabel(\"Frecuencia de compra del producto\")"
      ],
      "execution_count": null,
      "outputs": [
        {
          "output_type": "execute_result",
          "data": {
            "text/plain": [
              "Text(0, 0.5, 'Frecuencia de compra del producto')"
            ]
          },
          "metadata": {
            "tags": []
          },
          "execution_count": 85
        },
        {
          "output_type": "display_data",
          "data": {
            "image/png": "[encoded data removed]",
            "text/plain": [
              "<Figure size 432x288 with 1 Axes>"
            ]
          },
          "metadata": {
            "tags": [],
            "needs_background": "light"
          }
        }
      ]
    },
    {
      "cell_type": "markdown",
      "metadata": {
        "id": "lJtgvZ0pf-yL"
      },
      "source": [
        "El dia de la semana no influye en la venta del producto financiero, da igual vender lunes, martes , etc"
      ]
    },
    {
      "cell_type": "code",
      "metadata": {
        "colab": {
          "base_uri": "https://localhost:8080/"
        },
        "id": "yb5N_uDDgYBV",
        "outputId": "55e768f9-78e4-43ca-fca8-dca0d819418f"
      },
      "source": [
        "table=pd.crosstab(data.month, data.y).plot(kind=\"bar\")\n",
        "plt.title(\"Frecuencia de compra en función del mes\")\n",
        "plt.xlabel(\"Mes del año\")\n",
        "plt.ylabel(\"Frecuencia de compra del producto\")"
      ],
      "execution_count": null,
      "outputs": [
        {
          "output_type": "execute_result",
          "data": {
            "text/plain": [
              "Text(0, 0.5, 'Frecuencia de compra del producto')"
            ]
          },
          "metadata": {
            "tags": []
          },
          "execution_count": 86
        },
        {
          "output_type": "display_data",
          "data": {
            "image/png": "[encoded data removed]",
            "text/plain": [
              "<Figure size 432x288 with 1 Axes>"
            ]
          },
          "metadata": {
            "tags": [],
            "needs_background": "light"
          }
        }
      ]
    },
    {
      "cell_type": "markdown",
      "metadata": {
        "id": "M2Vfh13Dgly2"
      },
      "source": [
        "Agosto, julio, junio, may, nov son los meses en que mas rechazo tiene el producto, puede ser un buen predictor."
      ]
    },
    {
      "cell_type": "code",
      "metadata": {
        "colab": {
          "base_uri": "https://localhost:8080/"
        },
        "id": "K27jShZWgIso",
        "outputId": "cb1e3550-799e-4065-99c6-458831c8f8db"
      },
      "source": [
        "table=pd.crosstab(data.month, data.y)\n",
        "table.div(table.sum(1).astype(float), axis =0).plot(kind=\"bar\", stacked = True)\n",
        "plt.title(\"Frecuencia de compra en función del mes\")\n",
        "plt.xlabel(\"Mes del año\")\n",
        "plt.ylabel(\"Frecuencia de compra del producto\")"
      ],
      "execution_count": null,
      "outputs": [
        {
          "output_type": "execute_result",
          "data": {
            "text/plain": [
              "Text(0, 0.5, 'Frecuencia de compra del producto')"
            ]
          },
          "metadata": {
            "tags": []
          },
          "execution_count": 87
        },
        {
          "output_type": "display_data",
          "data": {
            "image/png": "[encoded data removed]",
            "text/plain": [
              "<Figure size 432x288 with 1 Axes>"
            ]
          },
          "metadata": {
            "tags": [],
            "needs_background": "light"
          }
        }
      ]
    },
    {
      "cell_type": "code",
      "metadata": {
        "colab": {
          "base_uri": "https://localhost:8080/"
        },
        "id": "pgs0zc2ThKS4",
        "outputId": "b8dd3a58-5f25-4b78-b63d-821b9ad2c153"
      },
      "source": [
        "%matplotlib inline\n",
        "data.age.hist()\n",
        "plt.title(\"Histograma de la edad\")\n",
        "plt.xlabel(\"Edad\")\n",
        "plt.xlabel(\"Cliente\")"
      ],
      "execution_count": null,
      "outputs": [
        {
          "output_type": "execute_result",
          "data": {
            "text/plain": [
              "Text(0.5, 0, 'Cliente')"
            ]
          },
          "metadata": {
            "tags": []
          },
          "execution_count": 88
        },
        {
          "output_type": "display_data",
          "data": {
            "image/png": "[encoded data removed]",
            "text/plain": [
              "<Figure size 432x288 with 1 Axes>"
            ]
          },
          "metadata": {
            "tags": [],
            "needs_background": "light"
          }
        }
      ]
    },
    {
      "cell_type": "markdown",
      "metadata": {
        "id": "SKtWyJqQh1AK"
      },
      "source": [
        "se observa que las personas entre 30 y 40 años estan dispuestos a invertir"
      ]
    },
    {
      "cell_type": "code",
      "metadata": {
        "colab": {
          "base_uri": "https://localhost:8080/"
        },
        "id": "JXvp6o1chkxz",
        "outputId": "bc6644f1-7846-4858-9693-80b3d36616d3"
      },
      "source": [
        "pd.crosstab(data.age, data.y).plot(kind=\"bar\")"
      ],
      "execution_count": null,
      "outputs": [
        {
          "output_type": "execute_result",
          "data": {
            "text/plain": [
              "<matplotlib.axes._subplots.AxesSubplot at 0x7f15bfe52510>"
            ]
          },
          "metadata": {
            "tags": []
          },
          "execution_count": 89
        },
        {
          "output_type": "display_data",
          "data": {
            "image/png": "[encoded data removed]",
            "text/plain": [
              "<Figure size 432x288 with 1 Axes>"
            ]
          },
          "metadata": {
            "tags": [],
            "needs_background": "light"
          }
        }
      ]
    },
    {
      "cell_type": "code",
      "metadata": {
        "id": "_MwB9_h2h7MG",
        "colab": {
          "base_uri": "https://localhost:8080/"
        },
        "outputId": "94a6e06e-3e4a-4fea-fcd5-709dc0bb6700"
      },
      "source": [
        "pd.crosstab(data.poutcome, data.y).plot(kind =\"bar\")\n",
        "plt.title(\"Frecuencia de compra en función del éxito\\n o fracaso en inversiones anteriores\")\n",
        "plt.xlabel(\"Inversiones anteriores\")\n",
        "plt.xlabel(\"Frecuncia de compra dle producto\")"
      ],
      "execution_count": null,
      "outputs": [
        {
          "output_type": "execute_result",
          "data": {
            "text/plain": [
              "Text(0.5, 0, 'Frecuncia de compra dle producto')"
            ]
          },
          "metadata": {
            "tags": []
          },
          "execution_count": 90
        },
        {
          "output_type": "display_data",
          "data": {
            "image/png": "[encoded data removed]",
            "text/plain": [
              "<Figure size 432x288 with 1 Axes>"
            ]
          },
          "metadata": {
            "tags": [],
            "needs_background": "light"
          }
        }
      ]
    },
    {
      "cell_type": "markdown",
      "metadata": {
        "id": "Jeyq8_NMi5w3"
      },
      "source": [
        "Se observa que las personas que han tenido exito en inversiones anteriores son las que más compran."
      ]
    },
    {
      "cell_type": "markdown",
      "metadata": {
        "id": "dlkqanfNjEd9"
      },
      "source": [
        "## Selección de variables del dataset para el modelo logistico"
      ]
    },
    {
      "cell_type": "code",
      "metadata": {
        "id": "aJ3WJdEKxl64"
      },
      "source": [
        "import pandas as pd\n",
        "import numpy as np\n",
        "from sklearn.linear_model import LogisticRegression\n",
        "import statsmodels.api as sm\n",
        "import matplotlib.pyplot as plt"
      ],
      "execution_count": null,
      "outputs": []
    },
    {
      "cell_type": "markdown",
      "metadata": {
        "id": "QW5ttl_dgTGx"
      },
      "source": [
        "### Convertimos las variables categoricas a dummys\n",
        "\n"
      ]
    },
    {
      "cell_type": "code",
      "metadata": {
        "id": "wEOjxe8MyLuX",
        "colab": {
          "base_uri": "https://localhost:8080/"
        },
        "outputId": "8395e30b-93eb-4280-e330-beb2adbf10f6"
      },
      "source": [
        "data.head()"
      ],
      "execution_count": null,
      "outputs": [
        {
          "output_type": "execute_result",
          "data": {
            "text/html": [
              "<div>\n",
              "<style scoped>\n",
              "    .dataframe tbody tr th:only-of-type {\n",
              "        vertical-align: middle;\n",
              "    }\n",
              "\n",
              "    .dataframe tbody tr th {\n",
              "        vertical-align: top;\n",
              "    }\n",
              "\n",
              "    .dataframe thead th {\n",
              "        text-align: right;\n",
              "    }\n",
              "</style>\n",
              "<table border=\"1\" class=\"dataframe\">\n",
              "  <thead>\n",
              "    <tr style=\"text-align: right;\">\n",
              "      <th></th>\n",
              "      <th>age</th>\n",
              "      <th>job</th>\n",
              "      <th>marital</th>\n",
              "      <th>education</th>\n",
              "      <th>default</th>\n",
              "      <th>housing</th>\n",
              "      <th>loan</th>\n",
              "      <th>contact</th>\n",
              "      <th>month</th>\n",
              "      <th>day_of_week</th>\n",
              "      <th>duration</th>\n",
              "      <th>campaign</th>\n",
              "      <th>pdays</th>\n",
              "      <th>previous</th>\n",
              "      <th>poutcome</th>\n",
              "      <th>emp.var.rate</th>\n",
              "      <th>cons.price.idx</th>\n",
              "      <th>cons.conf.idx</th>\n",
              "      <th>euribor3m</th>\n",
              "      <th>nr.employed</th>\n",
              "      <th>y</th>\n",
              "    </tr>\n",
              "  </thead>\n",
              "  <tbody>\n",
              "    <tr>\n",
              "      <th>0</th>\n",
              "      <td>30</td>\n",
              "      <td>blue-collar</td>\n",
              "      <td>married</td>\n",
              "      <td>Basic</td>\n",
              "      <td>no</td>\n",
              "      <td>yes</td>\n",
              "      <td>no</td>\n",
              "      <td>cellular</td>\n",
              "      <td>may</td>\n",
              "      <td>fri</td>\n",
              "      <td>487</td>\n",
              "      <td>2</td>\n",
              "      <td>999</td>\n",
              "      <td>0</td>\n",
              "      <td>nonexistent</td>\n",
              "      <td>-1.8</td>\n",
              "      <td>92.893</td>\n",
              "      <td>-46.2</td>\n",
              "      <td>1.313</td>\n",
              "      <td>5099.1</td>\n",
              "      <td>0</td>\n",
              "    </tr>\n",
              "    <tr>\n",
              "      <th>1</th>\n",
              "      <td>39</td>\n",
              "      <td>services</td>\n",
              "      <td>single</td>\n",
              "      <td>High School</td>\n",
              "      <td>no</td>\n",
              "      <td>no</td>\n",
              "      <td>no</td>\n",
              "      <td>telephone</td>\n",
              "      <td>may</td>\n",
              "      <td>fri</td>\n",
              "      <td>346</td>\n",
              "      <td>4</td>\n",
              "      <td>999</td>\n",
              "      <td>0</td>\n",
              "      <td>nonexistent</td>\n",
              "      <td>1.1</td>\n",
              "      <td>93.994</td>\n",
              "      <td>-36.4</td>\n",
              "      <td>4.855</td>\n",
              "      <td>5191.0</td>\n",
              "      <td>0</td>\n",
              "    </tr>\n",
              "    <tr>\n",
              "      <th>2</th>\n",
              "      <td>25</td>\n",
              "      <td>services</td>\n",
              "      <td>married</td>\n",
              "      <td>High School</td>\n",
              "      <td>no</td>\n",
              "      <td>yes</td>\n",
              "      <td>no</td>\n",
              "      <td>telephone</td>\n",
              "      <td>jun</td>\n",
              "      <td>wed</td>\n",
              "      <td>227</td>\n",
              "      <td>1</td>\n",
              "      <td>999</td>\n",
              "      <td>0</td>\n",
              "      <td>nonexistent</td>\n",
              "      <td>1.4</td>\n",
              "      <td>94.465</td>\n",
              "      <td>-41.8</td>\n",
              "      <td>4.962</td>\n",
              "      <td>5228.1</td>\n",
              "      <td>0</td>\n",
              "    </tr>\n",
              "    <tr>\n",
              "      <th>3</th>\n",
              "      <td>38</td>\n",
              "      <td>services</td>\n",
              "      <td>married</td>\n",
              "      <td>Basic</td>\n",
              "      <td>no</td>\n",
              "      <td>unknown</td>\n",
              "      <td>unknown</td>\n",
              "      <td>telephone</td>\n",
              "      <td>jun</td>\n",
              "      <td>fri</td>\n",
              "      <td>17</td>\n",
              "      <td>3</td>\n",
              "      <td>999</td>\n",
              "      <td>0</td>\n",
              "      <td>nonexistent</td>\n",
              "      <td>1.4</td>\n",
              "      <td>94.465</td>\n",
              "      <td>-41.8</td>\n",
              "      <td>4.959</td>\n",
              "      <td>5228.1</td>\n",
              "      <td>0</td>\n",
              "    </tr>\n",
              "    <tr>\n",
              "      <th>4</th>\n",
              "      <td>47</td>\n",
              "      <td>admin.</td>\n",
              "      <td>married</td>\n",
              "      <td>University Degree</td>\n",
              "      <td>no</td>\n",
              "      <td>yes</td>\n",
              "      <td>no</td>\n",
              "      <td>cellular</td>\n",
              "      <td>nov</td>\n",
              "      <td>mon</td>\n",
              "      <td>58</td>\n",
              "      <td>1</td>\n",
              "      <td>999</td>\n",
              "      <td>0</td>\n",
              "      <td>nonexistent</td>\n",
              "      <td>-0.1</td>\n",
              "      <td>93.200</td>\n",
              "      <td>-42.0</td>\n",
              "      <td>4.191</td>\n",
              "      <td>5195.8</td>\n",
              "      <td>0</td>\n",
              "    </tr>\n",
              "  </tbody>\n",
              "</table>\n",
              "</div>"
            ],
            "text/plain": [
              "   age          job  marital  ... euribor3m nr.employed  y\n",
              "0   30  blue-collar  married  ...     1.313      5099.1  0\n",
              "1   39     services   single  ...     4.855      5191.0  0\n",
              "2   25     services  married  ...     4.962      5228.1  0\n",
              "3   38     services  married  ...     4.959      5228.1  0\n",
              "4   47       admin.  married  ...     4.191      5195.8  0\n",
              "\n",
              "[5 rows x 21 columns]"
            ]
          },
          "metadata": {
            "tags": []
          },
          "execution_count": 92
        }
      ]
    },
    {
      "cell_type": "code",
      "metadata": {
        "id": "fwn0UazYx6Iv"
      },
      "source": [
        "categories = [\"job\",\"marital\", \"education\", \"housing\", \"loan\", \"contact\", \"month\", \"day_of_week\", \"poutcome\"]\n",
        "\n",
        "for category in categories:\n",
        "  cat_list = \"cat\"+\"_\"+category\n",
        "  cat_dummies = pd.get_dummies(data[category], prefix=category)\n",
        "  data_new = data.join(cat_dummies)\n",
        "  data = data_new"
      ],
      "execution_count": null,
      "outputs": []
    },
    {
      "cell_type": "code",
      "metadata": {
        "id": "7FlnuDw-22xg"
      },
      "source": [
        "data_vars = data.columns.values.tolist()"
      ],
      "execution_count": null,
      "outputs": []
    },
    {
      "cell_type": "code",
      "metadata": {
        "id": "y544_8lqPSsS",
        "colab": {
          "base_uri": "https://localhost:8080/"
        },
        "outputId": "9c84000a-b26d-4b70-c2a7-9488cdd14295"
      },
      "source": [
        "to_keep = [v for v in data_vars if v not in categories and v != 'default']\n",
        "to_keep"
      ],
      "execution_count": null,
      "outputs": [
        {
          "output_type": "execute_result",
          "data": {
            "text/plain": [
              "['age',\n",
              " 'duration',\n",
              " 'campaign',\n",
              " 'pdays',\n",
              " 'previous',\n",
              " 'emp.var.rate',\n",
              " 'cons.price.idx',\n",
              " 'cons.conf.idx',\n",
              " 'euribor3m',\n",
              " 'nr.employed',\n",
              " 'y',\n",
              " 'job_admin.',\n",
              " 'job_blue-collar',\n",
              " 'job_entrepreneur',\n",
              " 'job_housemaid',\n",
              " 'job_management',\n",
              " 'job_retired',\n",
              " 'job_self-employed',\n",
              " 'job_services',\n",
              " 'job_student',\n",
              " 'job_technician',\n",
              " 'job_unemployed',\n",
              " 'job_unknown',\n",
              " 'marital_divorced',\n",
              " 'marital_married',\n",
              " 'marital_single',\n",
              " 'marital_unknown',\n",
              " 'education_Basic',\n",
              " 'education_High School',\n",
              " 'education_Illiterate',\n",
              " 'education_Professional Course',\n",
              " 'education_University Degree',\n",
              " 'education_Unknown',\n",
              " 'housing_no',\n",
              " 'housing_unknown',\n",
              " 'housing_yes',\n",
              " 'loan_no',\n",
              " 'loan_unknown',\n",
              " 'loan_yes',\n",
              " 'contact_cellular',\n",
              " 'contact_telephone',\n",
              " 'month_apr',\n",
              " 'month_aug',\n",
              " 'month_dec',\n",
              " 'month_jul',\n",
              " 'month_jun',\n",
              " 'month_mar',\n",
              " 'month_may',\n",
              " 'month_nov',\n",
              " 'month_oct',\n",
              " 'month_sep',\n",
              " 'day_of_week_fri',\n",
              " 'day_of_week_mon',\n",
              " 'day_of_week_thu',\n",
              " 'day_of_week_tue',\n",
              " 'day_of_week_wed',\n",
              " 'poutcome_failure',\n",
              " 'poutcome_nonexistent',\n",
              " 'poutcome_success']"
            ]
          },
          "metadata": {
            "tags": []
          },
          "execution_count": 95
        }
      ]
    },
    {
      "cell_type": "code",
      "metadata": {
        "id": "4awuuM0IPfZF",
        "colab": {
          "base_uri": "https://localhost:8080/"
        },
        "outputId": "5673b1e6-fbe3-42af-c38e-fdf4609eafcc"
      },
      "source": [
        "bank_data = data[to_keep]\n",
        "bank_data.columns.values"
      ],
      "execution_count": null,
      "outputs": [
        {
          "output_type": "execute_result",
          "data": {
            "text/plain": [
              "array(['age', 'duration', 'campaign', 'pdays', 'previous', 'emp.var.rate',\n",
              "       'cons.price.idx', 'cons.conf.idx', 'euribor3m', 'nr.employed', 'y',\n",
              "       'job_admin.', 'job_blue-collar', 'job_entrepreneur',\n",
              "       'job_housemaid', 'job_management', 'job_retired',\n",
              "       'job_self-employed', 'job_services', 'job_student',\n",
              "       'job_technician', 'job_unemployed', 'job_unknown',\n",
              "       'marital_divorced', 'marital_married', 'marital_single',\n",
              "       'marital_unknown', 'education_Basic', 'education_High School',\n",
              "       'education_Illiterate', 'education_Professional Course',\n",
              "       'education_University Degree', 'education_Unknown', 'housing_no',\n",
              "       'housing_unknown', 'housing_yes', 'loan_no', 'loan_unknown',\n",
              "       'loan_yes', 'contact_cellular', 'contact_telephone', 'month_apr',\n",
              "       'month_aug', 'month_dec', 'month_jul', 'month_jun', 'month_mar',\n",
              "       'month_may', 'month_nov', 'month_oct', 'month_sep',\n",
              "       'day_of_week_fri', 'day_of_week_mon', 'day_of_week_thu',\n",
              "       'day_of_week_tue', 'day_of_week_wed', 'poutcome_failure',\n",
              "       'poutcome_nonexistent', 'poutcome_success'], dtype=object)"
            ]
          },
          "metadata": {
            "tags": []
          },
          "execution_count": 96
        }
      ]
    },
    {
      "cell_type": "code",
      "metadata": {
        "id": "fPDnaru8QBZU"
      },
      "source": [
        "bank_data_vars = bank_data.columns.values.tolist()\n",
        "Y = ['y']\n",
        "X = [v for v in bank_data_vars if v not in Y]"
      ],
      "execution_count": null,
      "outputs": []
    },
    {
      "cell_type": "markdown",
      "metadata": {
        "id": "DKEWoP0yQgAk"
      },
      "source": [
        "### Selección de rasgos para el modelo"
      ]
    },
    {
      "cell_type": "code",
      "metadata": {
        "id": "6rYtP5-VQkhW"
      },
      "source": [
        "n = 12"
      ],
      "execution_count": null,
      "outputs": []
    },
    {
      "cell_type": "code",
      "metadata": {
        "id": "srP79so-Qi2n"
      },
      "source": [
        "from sklearn import datasets\n",
        "from sklearn.feature_selection import RFE\n",
        "from sklearn.linear_model import LogisticRegression"
      ],
      "execution_count": null,
      "outputs": []
    },
    {
      "cell_type": "code",
      "metadata": {
        "id": "ajKyYCgTQfL5"
      },
      "source": [
        "n = 12"
      ],
      "execution_count": null,
      "outputs": []
    },
    {
      "cell_type": "code",
      "metadata": {
        "id": "8pQt947-Q6gI"
      },
      "source": [
        "lr = LogisticRegression()"
      ],
      "execution_count": null,
      "outputs": []
    },
    {
      "cell_type": "code",
      "metadata": {
        "id": "_YgG93EuQ9Td",
        "colab": {
          "base_uri": "https://localhost:8080/"
        },
        "outputId": "93227d2c-64c3-413d-edc0-2cab2f459b9f"
      },
      "source": [
        "rfe = RFE(lr, n)\n",
        "rfe = rfe.fit(bank_data[X], bank_data[Y].values.ravel())"
      ],
      "execution_count": null,
      "outputs": [
        {
          "output_type": "stream",
          "text": [
            "/usr/local/lib/python3.7/dist-packages/sklearn/linear_model/_logistic.py:940: ConvergenceWarning: lbfgs failed to converge (status=1):\n",
            "STOP: TOTAL NO. of ITERATIONS REACHED LIMIT.\n",
            "\n",
            "Increase the number of iterations (max_iter) or scale the data as shown in:\n",
            "    https://scikit-learn.org/stable/modules/preprocessing.html\n",
            "Please also refer to the documentation for alternative solver options:\n",
            "    https://scikit-learn.org/stable/modules/linear_model.html#logistic-regression\n",
            "  extra_warning_msg=_LOGISTIC_SOLVER_CONVERGENCE_MSG)\n",
            "/usr/local/lib/python3.7/dist-packages/sklearn/linear_model/_logistic.py:940: ConvergenceWarning: lbfgs failed to converge (status=1):\n",
            "STOP: TOTAL NO. of ITERATIONS REACHED LIMIT.\n",
            "\n",
            "Increase the number of iterations (max_iter) or scale the data as shown in:\n",
            "    https://scikit-learn.org/stable/modules/preprocessing.html\n",
            "Please also refer to the documentation for alternative solver options:\n",
            "    https://scikit-learn.org/stable/modules/linear_model.html#logistic-regression\n",
            "  extra_warning_msg=_LOGISTIC_SOLVER_CONVERGENCE_MSG)\n",
            "/usr/local/lib/python3.7/dist-packages/sklearn/linear_model/_logistic.py:940: ConvergenceWarning: lbfgs failed to converge (status=1):\n",
            "STOP: TOTAL NO. of ITERATIONS REACHED LIMIT.\n",
            "\n",
            "Increase the number of iterations (max_iter) or scale the data as shown in:\n",
            "    https://scikit-learn.org/stable/modules/preprocessing.html\n",
            "Please also refer to the documentation for alternative solver options:\n",
            "    https://scikit-learn.org/stable/modules/linear_model.html#logistic-regression\n",
            "  extra_warning_msg=_LOGISTIC_SOLVER_CONVERGENCE_MSG)\n",
            "/usr/local/lib/python3.7/dist-packages/sklearn/linear_model/_logistic.py:940: ConvergenceWarning: lbfgs failed to converge (status=1):\n",
            "STOP: TOTAL NO. of ITERATIONS REACHED LIMIT.\n",
            "\n",
            "Increase the number of iterations (max_iter) or scale the data as shown in:\n",
            "    https://scikit-learn.org/stable/modules/preprocessing.html\n",
            "Please also refer to the documentation for alternative solver options:\n",
            "    https://scikit-learn.org/stable/modules/linear_model.html#logistic-regression\n",
            "  extra_warning_msg=_LOGISTIC_SOLVER_CONVERGENCE_MSG)\n",
            "/usr/local/lib/python3.7/dist-packages/sklearn/linear_model/_logistic.py:940: ConvergenceWarning: lbfgs failed to converge (status=1):\n",
            "STOP: TOTAL NO. of ITERATIONS REACHED LIMIT.\n",
            "\n",
            "Increase the number of iterations (max_iter) or scale the data as shown in:\n",
            "    https://scikit-learn.org/stable/modules/preprocessing.html\n",
            "Please also refer to the documentation for alternative solver options:\n",
            "    https://scikit-learn.org/stable/modules/linear_model.html#logistic-regression\n",
            "  extra_warning_msg=_LOGISTIC_SOLVER_CONVERGENCE_MSG)\n",
            "/usr/local/lib/python3.7/dist-packages/sklearn/linear_model/_logistic.py:940: ConvergenceWarning: lbfgs failed to converge (status=1):\n",
            "STOP: TOTAL NO. of ITERATIONS REACHED LIMIT.\n",
            "\n",
            "Increase the number of iterations (max_iter) or scale the data as shown in:\n",
            "    https://scikit-learn.org/stable/modules/preprocessing.html\n",
            "Please also refer to the documentation for alternative solver options:\n",
            "    https://scikit-learn.org/stable/modules/linear_model.html#logistic-regression\n",
            "  extra_warning_msg=_LOGISTIC_SOLVER_CONVERGENCE_MSG)\n",
            "/usr/local/lib/python3.7/dist-packages/sklearn/linear_model/_logistic.py:940: ConvergenceWarning: lbfgs failed to converge (status=1):\n",
            "STOP: TOTAL NO. of ITERATIONS REACHED LIMIT.\n",
            "\n",
            "Increase the number of iterations (max_iter) or scale the data as shown in:\n",
            "    https://scikit-learn.org/stable/modules/preprocessing.html\n",
            "Please also refer to the documentation for alternative solver options:\n",
            "    https://scikit-learn.org/stable/modules/linear_model.html#logistic-regression\n",
            "  extra_warning_msg=_LOGISTIC_SOLVER_CONVERGENCE_MSG)\n",
            "/usr/local/lib/python3.7/dist-packages/sklearn/linear_model/_logistic.py:940: ConvergenceWarning: lbfgs failed to converge (status=1):\n",
            "STOP: TOTAL NO. of ITERATIONS REACHED LIMIT.\n",
            "\n",
            "Increase the number of iterations (max_iter) or scale the data as shown in:\n",
            "    https://scikit-learn.org/stable/modules/preprocessing.html\n",
            "Please also refer to the documentation for alternative solver options:\n",
            "    https://scikit-learn.org/stable/modules/linear_model.html#logistic-regression\n",
            "  extra_warning_msg=_LOGISTIC_SOLVER_CONVERGENCE_MSG)\n",
            "/usr/local/lib/python3.7/dist-packages/sklearn/linear_model/_logistic.py:940: ConvergenceWarning: lbfgs failed to converge (status=1):\n",
            "STOP: TOTAL NO. of ITERATIONS REACHED LIMIT.\n",
            "\n",
            "Increase the number of iterations (max_iter) or scale the data as shown in:\n",
            "    https://scikit-learn.org/stable/modules/preprocessing.html\n",
            "Please also refer to the documentation for alternative solver options:\n",
            "    https://scikit-learn.org/stable/modules/linear_model.html#logistic-regression\n",
            "  extra_warning_msg=_LOGISTIC_SOLVER_CONVERGENCE_MSG)\n",
            "/usr/local/lib/python3.7/dist-packages/sklearn/linear_model/_logistic.py:940: ConvergenceWarning: lbfgs failed to converge (status=1):\n",
            "STOP: TOTAL NO. of ITERATIONS REACHED LIMIT.\n",
            "\n",
            "Increase the number of iterations (max_iter) or scale the data as shown in:\n",
            "    https://scikit-learn.org/stable/modules/preprocessing.html\n",
            "Please also refer to the documentation for alternative solver options:\n",
            "    https://scikit-learn.org/stable/modules/linear_model.html#logistic-regression\n",
            "  extra_warning_msg=_LOGISTIC_SOLVER_CONVERGENCE_MSG)\n",
            "/usr/local/lib/python3.7/dist-packages/sklearn/linear_model/_logistic.py:940: ConvergenceWarning: lbfgs failed to converge (status=1):\n",
            "STOP: TOTAL NO. of ITERATIONS REACHED LIMIT.\n",
            "\n",
            "Increase the number of iterations (max_iter) or scale the data as shown in:\n",
            "    https://scikit-learn.org/stable/modules/preprocessing.html\n",
            "Please also refer to the documentation for alternative solver options:\n",
            "    https://scikit-learn.org/stable/modules/linear_model.html#logistic-regression\n",
            "  extra_warning_msg=_LOGISTIC_SOLVER_CONVERGENCE_MSG)\n",
            "/usr/local/lib/python3.7/dist-packages/sklearn/linear_model/_logistic.py:940: ConvergenceWarning: lbfgs failed to converge (status=1):\n",
            "STOP: TOTAL NO. of ITERATIONS REACHED LIMIT.\n",
            "\n",
            "Increase the number of iterations (max_iter) or scale the data as shown in:\n",
            "    https://scikit-learn.org/stable/modules/preprocessing.html\n",
            "Please also refer to the documentation for alternative solver options:\n",
            "    https://scikit-learn.org/stable/modules/linear_model.html#logistic-regression\n",
            "  extra_warning_msg=_LOGISTIC_SOLVER_CONVERGENCE_MSG)\n",
            "/usr/local/lib/python3.7/dist-packages/sklearn/linear_model/_logistic.py:940: ConvergenceWarning: lbfgs failed to converge (status=1):\n",
            "STOP: TOTAL NO. of ITERATIONS REACHED LIMIT.\n",
            "\n",
            "Increase the number of iterations (max_iter) or scale the data as shown in:\n",
            "    https://scikit-learn.org/stable/modules/preprocessing.html\n",
            "Please also refer to the documentation for alternative solver options:\n",
            "    https://scikit-learn.org/stable/modules/linear_model.html#logistic-regression\n",
            "  extra_warning_msg=_LOGISTIC_SOLVER_CONVERGENCE_MSG)\n",
            "/usr/local/lib/python3.7/dist-packages/sklearn/linear_model/_logistic.py:940: ConvergenceWarning: lbfgs failed to converge (status=1):\n",
            "STOP: TOTAL NO. of ITERATIONS REACHED LIMIT.\n",
            "\n",
            "Increase the number of iterations (max_iter) or scale the data as shown in:\n",
            "    https://scikit-learn.org/stable/modules/preprocessing.html\n",
            "Please also refer to the documentation for alternative solver options:\n",
            "    https://scikit-learn.org/stable/modules/linear_model.html#logistic-regression\n",
            "  extra_warning_msg=_LOGISTIC_SOLVER_CONVERGENCE_MSG)\n",
            "/usr/local/lib/python3.7/dist-packages/sklearn/linear_model/_logistic.py:940: ConvergenceWarning: lbfgs failed to converge (status=1):\n",
            "STOP: TOTAL NO. of ITERATIONS REACHED LIMIT.\n",
            "\n",
            "Increase the number of iterations (max_iter) or scale the data as shown in:\n",
            "    https://scikit-learn.org/stable/modules/preprocessing.html\n",
            "Please also refer to the documentation for alternative solver options:\n",
            "    https://scikit-learn.org/stable/modules/linear_model.html#logistic-regression\n",
            "  extra_warning_msg=_LOGISTIC_SOLVER_CONVERGENCE_MSG)\n",
            "/usr/local/lib/python3.7/dist-packages/sklearn/linear_model/_logistic.py:940: ConvergenceWarning: lbfgs failed to converge (status=1):\n",
            "STOP: TOTAL NO. of ITERATIONS REACHED LIMIT.\n",
            "\n",
            "Increase the number of iterations (max_iter) or scale the data as shown in:\n",
            "    https://scikit-learn.org/stable/modules/preprocessing.html\n",
            "Please also refer to the documentation for alternative solver options:\n",
            "    https://scikit-learn.org/stable/modules/linear_model.html#logistic-regression\n",
            "  extra_warning_msg=_LOGISTIC_SOLVER_CONVERGENCE_MSG)\n",
            "/usr/local/lib/python3.7/dist-packages/sklearn/linear_model/_logistic.py:940: ConvergenceWarning: lbfgs failed to converge (status=1):\n",
            "STOP: TOTAL NO. of ITERATIONS REACHED LIMIT.\n",
            "\n",
            "Increase the number of iterations (max_iter) or scale the data as shown in:\n",
            "    https://scikit-learn.org/stable/modules/preprocessing.html\n",
            "Please also refer to the documentation for alternative solver options:\n",
            "    https://scikit-learn.org/stable/modules/linear_model.html#logistic-regression\n",
            "  extra_warning_msg=_LOGISTIC_SOLVER_CONVERGENCE_MSG)\n",
            "/usr/local/lib/python3.7/dist-packages/sklearn/linear_model/_logistic.py:940: ConvergenceWarning: lbfgs failed to converge (status=1):\n",
            "STOP: TOTAL NO. of ITERATIONS REACHED LIMIT.\n",
            "\n",
            "Increase the number of iterations (max_iter) or scale the data as shown in:\n",
            "    https://scikit-learn.org/stable/modules/preprocessing.html\n",
            "Please also refer to the documentation for alternative solver options:\n",
            "    https://scikit-learn.org/stable/modules/linear_model.html#logistic-regression\n",
            "  extra_warning_msg=_LOGISTIC_SOLVER_CONVERGENCE_MSG)\n",
            "/usr/local/lib/python3.7/dist-packages/sklearn/linear_model/_logistic.py:940: ConvergenceWarning: lbfgs failed to converge (status=1):\n",
            "STOP: TOTAL NO. of ITERATIONS REACHED LIMIT.\n",
            "\n",
            "Increase the number of iterations (max_iter) or scale the data as shown in:\n",
            "    https://scikit-learn.org/stable/modules/preprocessing.html\n",
            "Please also refer to the documentation for alternative solver options:\n",
            "    https://scikit-learn.org/stable/modules/linear_model.html#logistic-regression\n",
            "  extra_warning_msg=_LOGISTIC_SOLVER_CONVERGENCE_MSG)\n",
            "/usr/local/lib/python3.7/dist-packages/sklearn/linear_model/_logistic.py:940: ConvergenceWarning: lbfgs failed to converge (status=1):\n",
            "STOP: TOTAL NO. of ITERATIONS REACHED LIMIT.\n",
            "\n",
            "Increase the number of iterations (max_iter) or scale the data as shown in:\n",
            "    https://scikit-learn.org/stable/modules/preprocessing.html\n",
            "Please also refer to the documentation for alternative solver options:\n",
            "    https://scikit-learn.org/stable/modules/linear_model.html#logistic-regression\n",
            "  extra_warning_msg=_LOGISTIC_SOLVER_CONVERGENCE_MSG)\n",
            "/usr/local/lib/python3.7/dist-packages/sklearn/linear_model/_logistic.py:940: ConvergenceWarning: lbfgs failed to converge (status=1):\n",
            "STOP: TOTAL NO. of ITERATIONS REACHED LIMIT.\n",
            "\n",
            "Increase the number of iterations (max_iter) or scale the data as shown in:\n",
            "    https://scikit-learn.org/stable/modules/preprocessing.html\n",
            "Please also refer to the documentation for alternative solver options:\n",
            "    https://scikit-learn.org/stable/modules/linear_model.html#logistic-regression\n",
            "  extra_warning_msg=_LOGISTIC_SOLVER_CONVERGENCE_MSG)\n",
            "/usr/local/lib/python3.7/dist-packages/sklearn/linear_model/_logistic.py:940: ConvergenceWarning: lbfgs failed to converge (status=1):\n",
            "STOP: TOTAL NO. of ITERATIONS REACHED LIMIT.\n",
            "\n",
            "Increase the number of iterations (max_iter) or scale the data as shown in:\n",
            "    https://scikit-learn.org/stable/modules/preprocessing.html\n",
            "Please also refer to the documentation for alternative solver options:\n",
            "    https://scikit-learn.org/stable/modules/linear_model.html#logistic-regression\n",
            "  extra_warning_msg=_LOGISTIC_SOLVER_CONVERGENCE_MSG)\n",
            "/usr/local/lib/python3.7/dist-packages/sklearn/linear_model/_logistic.py:940: ConvergenceWarning: lbfgs failed to converge (status=1):\n",
            "STOP: TOTAL NO. of ITERATIONS REACHED LIMIT.\n",
            "\n",
            "Increase the number of iterations (max_iter) or scale the data as shown in:\n",
            "    https://scikit-learn.org/stable/modules/preprocessing.html\n",
            "Please also refer to the documentation for alternative solver options:\n",
            "    https://scikit-learn.org/stable/modules/linear_model.html#logistic-regression\n",
            "  extra_warning_msg=_LOGISTIC_SOLVER_CONVERGENCE_MSG)\n",
            "/usr/local/lib/python3.7/dist-packages/sklearn/linear_model/_logistic.py:940: ConvergenceWarning: lbfgs failed to converge (status=1):\n",
            "STOP: TOTAL NO. of ITERATIONS REACHED LIMIT.\n",
            "\n",
            "Increase the number of iterations (max_iter) or scale the data as shown in:\n",
            "    https://scikit-learn.org/stable/modules/preprocessing.html\n",
            "Please also refer to the documentation for alternative solver options:\n",
            "    https://scikit-learn.org/stable/modules/linear_model.html#logistic-regression\n",
            "  extra_warning_msg=_LOGISTIC_SOLVER_CONVERGENCE_MSG)\n",
            "/usr/local/lib/python3.7/dist-packages/sklearn/linear_model/_logistic.py:940: ConvergenceWarning: lbfgs failed to converge (status=1):\n",
            "STOP: TOTAL NO. of ITERATIONS REACHED LIMIT.\n",
            "\n",
            "Increase the number of iterations (max_iter) or scale the data as shown in:\n",
            "    https://scikit-learn.org/stable/modules/preprocessing.html\n",
            "Please also refer to the documentation for alternative solver options:\n",
            "    https://scikit-learn.org/stable/modules/linear_model.html#logistic-regression\n",
            "  extra_warning_msg=_LOGISTIC_SOLVER_CONVERGENCE_MSG)\n",
            "/usr/local/lib/python3.7/dist-packages/sklearn/linear_model/_logistic.py:940: ConvergenceWarning: lbfgs failed to converge (status=1):\n",
            "STOP: TOTAL NO. of ITERATIONS REACHED LIMIT.\n",
            "\n",
            "Increase the number of iterations (max_iter) or scale the data as shown in:\n",
            "    https://scikit-learn.org/stable/modules/preprocessing.html\n",
            "Please also refer to the documentation for alternative solver options:\n",
            "    https://scikit-learn.org/stable/modules/linear_model.html#logistic-regression\n",
            "  extra_warning_msg=_LOGISTIC_SOLVER_CONVERGENCE_MSG)\n",
            "/usr/local/lib/python3.7/dist-packages/sklearn/linear_model/_logistic.py:940: ConvergenceWarning: lbfgs failed to converge (status=1):\n",
            "STOP: TOTAL NO. of ITERATIONS REACHED LIMIT.\n",
            "\n",
            "Increase the number of iterations (max_iter) or scale the data as shown in:\n",
            "    https://scikit-learn.org/stable/modules/preprocessing.html\n",
            "Please also refer to the documentation for alternative solver options:\n",
            "    https://scikit-learn.org/stable/modules/linear_model.html#logistic-regression\n",
            "  extra_warning_msg=_LOGISTIC_SOLVER_CONVERGENCE_MSG)\n",
            "/usr/local/lib/python3.7/dist-packages/sklearn/linear_model/_logistic.py:940: ConvergenceWarning: lbfgs failed to converge (status=1):\n",
            "STOP: TOTAL NO. of ITERATIONS REACHED LIMIT.\n",
            "\n",
            "Increase the number of iterations (max_iter) or scale the data as shown in:\n",
            "    https://scikit-learn.org/stable/modules/preprocessing.html\n",
            "Please also refer to the documentation for alternative solver options:\n",
            "    https://scikit-learn.org/stable/modules/linear_model.html#logistic-regression\n",
            "  extra_warning_msg=_LOGISTIC_SOLVER_CONVERGENCE_MSG)\n",
            "/usr/local/lib/python3.7/dist-packages/sklearn/linear_model/_logistic.py:940: ConvergenceWarning: lbfgs failed to converge (status=1):\n",
            "STOP: TOTAL NO. of ITERATIONS REACHED LIMIT.\n",
            "\n",
            "Increase the number of iterations (max_iter) or scale the data as shown in:\n",
            "    https://scikit-learn.org/stable/modules/preprocessing.html\n",
            "Please also refer to the documentation for alternative solver options:\n",
            "    https://scikit-learn.org/stable/modules/linear_model.html#logistic-regression\n",
            "  extra_warning_msg=_LOGISTIC_SOLVER_CONVERGENCE_MSG)\n",
            "/usr/local/lib/python3.7/dist-packages/sklearn/linear_model/_logistic.py:940: ConvergenceWarning: lbfgs failed to converge (status=1):\n",
            "STOP: TOTAL NO. of ITERATIONS REACHED LIMIT.\n",
            "\n",
            "Increase the number of iterations (max_iter) or scale the data as shown in:\n",
            "    https://scikit-learn.org/stable/modules/preprocessing.html\n",
            "Please also refer to the documentation for alternative solver options:\n",
            "    https://scikit-learn.org/stable/modules/linear_model.html#logistic-regression\n",
            "  extra_warning_msg=_LOGISTIC_SOLVER_CONVERGENCE_MSG)\n"
          ],
          "name": "stderr"
        }
      ]
    },
    {
      "cell_type": "code",
      "metadata": {
        "colab": {
          "base_uri": "https://localhost:8080/"
        },
        "id": "MToxE40xcK2W",
        "outputId": "80c4b740-998d-487f-d3ef-7171f97bbdf5"
      },
      "source": [
        "print(rfe.support_)"
      ],
      "execution_count": null,
      "outputs": [
        {
          "output_type": "stream",
          "text": [
            "[False False False False  True False False False  True False False False\n",
            " False False False  True False False False  True  True False False False\n",
            " False False False False False False False False False False False False\n",
            " False False False False False False  True  True  True  True  True False\n",
            " False False False False False False False  True False  True]\n"
          ],
          "name": "stdout"
        }
      ]
    },
    {
      "cell_type": "code",
      "metadata": {
        "colab": {
          "base_uri": "https://localhost:8080/"
        },
        "id": "g5c4uZAKcPp2",
        "outputId": "88821bf7-cb7c-439e-907e-d90d75db36a9"
      },
      "source": [
        "rfe.ranking_"
      ],
      "execution_count": null,
      "outputs": [
        {
          "output_type": "execute_result",
          "data": {
            "text/plain": [
              "array([41, 39, 18, 45,  1, 17, 26, 22,  1, 35,  2,  8,  5, 38,  7,  1,  6,\n",
              "       24, 43,  1,  1, 40, 15, 30, 27, 47, 31, 12, 46, 19, 28,  4,  9, 14,\n",
              "       44, 13, 20, 33, 11,  3, 37, 21,  1,  1,  1,  1,  1, 23, 32, 42, 34,\n",
              "       25, 29, 36, 10,  1, 16,  1])"
            ]
          },
          "metadata": {
            "tags": []
          },
          "execution_count": 104
        }
      ]
    },
    {
      "cell_type": "code",
      "metadata": {
        "id": "ieuVGR56cf2E"
      },
      "source": [
        "z = list(zip(bank_data_vars, rfe.support_, rfe.ranking_))\n",
        "z\n"
      ],
      "execution_count": null,
      "outputs": []
    },
    {
      "cell_type": "markdown",
      "metadata": {
        "id": "jJtVkveWhmgP"
      },
      "source": [
        "#### Selección de variables"
      ]
    },
    {
      "cell_type": "code",
      "metadata": {
        "colab": {
          "base_uri": "https://localhost:8080/"
        },
        "id": "uMZM8IB_te8c",
        "outputId": "b36d33f3-9c58-4264-85e9-f94a9b123c5b"
      },
      "source": [
        "cols = [x for x in z if x[2]==1]\n",
        "cols"
      ],
      "execution_count": null,
      "outputs": [
        {
          "output_type": "execute_result",
          "data": {
            "text/plain": [
              "[('previous', True, 1),\n",
              " ('euribor3m', True, 1),\n",
              " ('job_management', True, 1),\n",
              " ('job_student', True, 1),\n",
              " ('job_technician', True, 1),\n",
              " ('month_aug', True, 1),\n",
              " ('month_dec', True, 1),\n",
              " ('month_jul', True, 1),\n",
              " ('month_jun', True, 1),\n",
              " ('month_mar', True, 1),\n",
              " ('day_of_week_wed', True, 1),\n",
              " ('poutcome_nonexistent', True, 1)]"
            ]
          },
          "metadata": {
            "tags": []
          },
          "execution_count": 106
        }
      ]
    },
    {
      "cell_type": "code",
      "metadata": {
        "id": "d2KLse-k44UY"
      },
      "source": [
        "# Otra forma de seleccionar las features \n",
        "cols=[]\n",
        "for i in z:\n",
        "  if i[2]==1:\n",
        "    cols.append(i[0])"
      ],
      "execution_count": null,
      "outputs": []
    },
    {
      "cell_type": "code",
      "metadata": {
        "id": "hWO63gPfgWyY"
      },
      "source": [
        "cols = [\"previous\",\"euribor3m\", \"job_management\", \"job_student\", \"job_technician\",\n",
        "        \"month_aug\", \"month_dec\", \"month_jul\", \"month_jun\", \"month_mar\", \"day_of_week_wed\", \"poutcome_nonexistent\" ]"
      ],
      "execution_count": null,
      "outputs": []
    },
    {
      "cell_type": "code",
      "metadata": {
        "id": "VcmhRx6-hpK6"
      },
      "source": [
        "X = bank_data[cols]\n",
        "Y  = bank_data[\"y\"]"
      ],
      "execution_count": null,
      "outputs": []
    },
    {
      "cell_type": "markdown",
      "metadata": {
        "id": "NsGnior2hpRx"
      },
      "source": [
        "## Implemetación del modelo en Python con statsmodel.api"
      ]
    },
    {
      "cell_type": "code",
      "metadata": {
        "id": "50YKY7FJiHxr"
      },
      "source": [
        "import statsmodels.api as sm"
      ],
      "execution_count": null,
      "outputs": []
    },
    {
      "cell_type": "code",
      "metadata": {
        "id": "ion5BMhxvrt-"
      },
      "source": [
        "logit_model = sm.Logit(Y, X)"
      ],
      "execution_count": null,
      "outputs": []
    },
    {
      "cell_type": "code",
      "metadata": {
        "colab": {
          "base_uri": "https://localhost:8080/"
        },
        "id": "gq737Kqkv2eb",
        "outputId": "908710d5-2293-4d6a-afe4-8cf11e1dc938"
      },
      "source": [
        "result = logit_model.fit()"
      ],
      "execution_count": null,
      "outputs": [
        {
          "output_type": "stream",
          "text": [
            "Optimization terminated successfully.\n",
            "         Current function value: 0.293712\n",
            "         Iterations 7\n"
          ],
          "name": "stdout"
        }
      ]
    },
    {
      "cell_type": "code",
      "metadata": {
        "colab": {
          "base_uri": "https://localhost:8080/",
          "height": 462
        },
        "id": "y9FX10tXv7cL",
        "outputId": "a9ade3b9-d4a3-410f-e075-85e353f8a36f"
      },
      "source": [
        "result.summary2()"
      ],
      "execution_count": null,
      "outputs": [
        {
          "output_type": "execute_result",
          "data": {
            "text/html": [
              "<table class=\"simpletable\">\n",
              "<tr>\n",
              "        <td>Model:</td>              <td>Logit</td>      <td>Pseudo R-squared:</td>    <td>0.150</td>  \n",
              "</tr>\n",
              "<tr>\n",
              "  <td>Dependent Variable:</td>         <td>y</td>              <td>AIC:</td>         <td>2443.5982</td>\n",
              "</tr>\n",
              "<tr>\n",
              "         <td>Date:</td>        <td>2021-07-23 16:21</td>       <td>BIC:</td>         <td>2519.4786</td>\n",
              "</tr>\n",
              "<tr>\n",
              "   <td>No. Observations:</td>        <td>4119</td>        <td>Log-Likelihood:</td>    <td>-1209.8</td> \n",
              "</tr>\n",
              "<tr>\n",
              "       <td>Df Model:</td>             <td>11</td>            <td>LL-Null:</td>        <td>-1422.9</td> \n",
              "</tr>\n",
              "<tr>\n",
              "     <td>Df Residuals:</td>          <td>4107</td>         <td>LLR p-value:</td>    <td>1.6266e-84</td>\n",
              "</tr>\n",
              "<tr>\n",
              "      <td>Converged:</td>           <td>1.0000</td>           <td>Scale:</td>         <td>1.0000</td>  \n",
              "</tr>\n",
              "<tr>\n",
              "    <td>No. Iterations:</td>        <td>7.0000</td>              <td></td>               <td></td>     \n",
              "</tr>\n",
              "</table>\n",
              "<table class=\"simpletable\">\n",
              "<tr>\n",
              "            <td></td>            <th>Coef.</th>  <th>Std.Err.</th>     <th>z</th>     <th>P>|z|</th> <th>[0.025</th>  <th>0.975]</th> \n",
              "</tr>\n",
              "<tr>\n",
              "  <th>previous</th>             <td>-0.1107</td>  <td>0.0696</td>   <td>-1.5901</td> <td>0.1118</td> <td>-0.2471</td> <td>0.0257</td> \n",
              "</tr>\n",
              "<tr>\n",
              "  <th>euribor3m</th>            <td>-0.6072</td>  <td>0.0371</td>  <td>-16.3762</td> <td>0.0000</td> <td>-0.6799</td> <td>-0.5346</td>\n",
              "</tr>\n",
              "<tr>\n",
              "  <th>job_management</th>       <td>-0.2794</td>  <td>0.2168</td>   <td>-1.2891</td> <td>0.1974</td> <td>-0.7043</td> <td>0.1454</td> \n",
              "</tr>\n",
              "<tr>\n",
              "  <th>job_student</th>          <td>-0.2113</td>  <td>0.2955</td>   <td>-0.7150</td> <td>0.4746</td> <td>-0.7905</td> <td>0.3679</td> \n",
              "</tr>\n",
              "<tr>\n",
              "  <th>job_technician</th>       <td>0.0413</td>   <td>0.1454</td>   <td>0.2842</td>  <td>0.7763</td> <td>-0.2437</td> <td>0.3264</td> \n",
              "</tr>\n",
              "<tr>\n",
              "  <th>month_aug</th>            <td>0.6548</td>   <td>0.1698</td>   <td>3.8567</td>  <td>0.0001</td> <td>0.3220</td>  <td>0.9876</td> \n",
              "</tr>\n",
              "<tr>\n",
              "  <th>month_dec</th>            <td>1.1841</td>   <td>0.4473</td>   <td>2.6474</td>  <td>0.0081</td> <td>0.3075</td>  <td>2.0608</td> \n",
              "</tr>\n",
              "<tr>\n",
              "  <th>month_jul</th>            <td>0.9980</td>   <td>0.1834</td>   <td>5.4412</td>  <td>0.0000</td> <td>0.6385</td>  <td>1.3575</td> \n",
              "</tr>\n",
              "<tr>\n",
              "  <th>month_jun</th>            <td>1.0455</td>   <td>0.1695</td>   <td>6.1702</td>  <td>0.0000</td> <td>0.7134</td>  <td>1.3777</td> \n",
              "</tr>\n",
              "<tr>\n",
              "  <th>month_mar</th>            <td>1.6392</td>   <td>0.3151</td>   <td>5.2028</td>  <td>0.0000</td> <td>1.0217</td>  <td>2.2567</td> \n",
              "</tr>\n",
              "<tr>\n",
              "  <th>day_of_week_wed</th>      <td>-0.0805</td>  <td>0.1384</td>   <td>-0.5818</td> <td>0.5607</td> <td>-0.3517</td> <td>0.1907</td> \n",
              "</tr>\n",
              "<tr>\n",
              "  <th>poutcome_nonexistent</th> <td>-0.7908</td>  <td>0.1218</td>   <td>-6.4938</td> <td>0.0000</td> <td>-1.0295</td> <td>-0.5521</td>\n",
              "</tr>\n",
              "</table>"
            ],
            "text/plain": [
              "<class 'statsmodels.iolib.summary2.Summary'>\n",
              "\"\"\"\n",
              "                           Results: Logit\n",
              "=====================================================================\n",
              "Model:                Logit             Pseudo R-squared:  0.150     \n",
              "Dependent Variable:   y                 AIC:               2443.5982 \n",
              "Date:                 2021-07-23 16:21  BIC:               2519.4786 \n",
              "No. Observations:     4119              Log-Likelihood:    -1209.8   \n",
              "Df Model:             11                LL-Null:           -1422.9   \n",
              "Df Residuals:         4107              LLR p-value:       1.6266e-84\n",
              "Converged:            1.0000            Scale:             1.0000    \n",
              "No. Iterations:       7.0000                                         \n",
              "---------------------------------------------------------------------\n",
              "                      Coef.  Std.Err.    z     P>|z|   [0.025  0.975]\n",
              "---------------------------------------------------------------------\n",
              "previous             -0.1107   0.0696  -1.5901 0.1118 -0.2471  0.0257\n",
              "euribor3m            -0.6072   0.0371 -16.3762 0.0000 -0.6799 -0.5346\n",
              "job_management       -0.2794   0.2168  -1.2891 0.1974 -0.7043  0.1454\n",
              "job_student          -0.2113   0.2955  -0.7150 0.4746 -0.7905  0.3679\n",
              "job_technician        0.0413   0.1454   0.2842 0.7763 -0.2437  0.3264\n",
              "month_aug             0.6548   0.1698   3.8567 0.0001  0.3220  0.9876\n",
              "month_dec             1.1841   0.4473   2.6474 0.0081  0.3075  2.0608\n",
              "month_jul             0.9980   0.1834   5.4412 0.0000  0.6385  1.3575\n",
              "month_jun             1.0455   0.1695   6.1702 0.0000  0.7134  1.3777\n",
              "month_mar             1.6392   0.3151   5.2028 0.0000  1.0217  2.2567\n",
              "day_of_week_wed      -0.0805   0.1384  -0.5818 0.5607 -0.3517  0.1907\n",
              "poutcome_nonexistent -0.7908   0.1218  -6.4938 0.0000 -1.0295 -0.5521\n",
              "=====================================================================\n",
              "\n",
              "\"\"\""
            ]
          },
          "metadata": {
            "tags": []
          },
          "execution_count": 112
        }
      ]
    },
    {
      "cell_type": "markdown",
      "metadata": {
        "id": "Zi0zrw6xw2OL"
      },
      "source": [
        "## Implemetación del modelo en Python con scikit-learn"
      ]
    },
    {
      "cell_type": "code",
      "metadata": {
        "id": "jNFmZdZrw9FW"
      },
      "source": [
        "from sklearn import linear_model"
      ],
      "execution_count": null,
      "outputs": []
    },
    {
      "cell_type": "code",
      "metadata": {
        "colab": {
          "base_uri": "https://localhost:8080/"
        },
        "id": "WFkWqSRMxBdf",
        "outputId": "e67042e0-8e16-4601-971d-fc90bfa093b7"
      },
      "source": [
        "logit_model = linear_model.LogisticRegression()\n",
        "logit_model.fit(X, Y)"
      ],
      "execution_count": null,
      "outputs": [
        {
          "output_type": "execute_result",
          "data": {
            "text/plain": [
              "LogisticRegression(C=1.0, class_weight=None, dual=False, fit_intercept=True,\n",
              "                   intercept_scaling=1, l1_ratio=None, max_iter=100,\n",
              "                   multi_class='auto', n_jobs=None, penalty='l2',\n",
              "                   random_state=None, solver='lbfgs', tol=0.0001, verbose=0,\n",
              "                   warm_start=False)"
            ]
          },
          "metadata": {
            "tags": []
          },
          "execution_count": 114
        }
      ]
    },
    {
      "cell_type": "code",
      "metadata": {
        "colab": {
          "base_uri": "https://localhost:8080/"
        },
        "id": "RYJeYReZxNrB",
        "outputId": "7fc13193-1f2a-4e73-e1e7-97f5f6ec3de7"
      },
      "source": [
        "logit_model.score(X,Y)"
      ],
      "execution_count": null,
      "outputs": [
        {
          "output_type": "execute_result",
          "data": {
            "text/plain": [
              "0.8975479485311969"
            ]
          },
          "metadata": {
            "tags": []
          },
          "execution_count": 115
        }
      ]
    },
    {
      "cell_type": "code",
      "metadata": {
        "colab": {
          "base_uri": "https://localhost:8080/"
        },
        "id": "mOUZ3-ZKxR5V",
        "outputId": "192f6937-33aa-4b20-c4a5-a212c2d38d8b"
      },
      "source": [
        "Y.mean() # Dado que son cero y uno, la media es el procentaje que la gente compra"
      ],
      "execution_count": null,
      "outputs": [
        {
          "output_type": "execute_result",
          "data": {
            "text/plain": [
              "0.10949259529011895"
            ]
          },
          "metadata": {
            "tags": []
          },
          "execution_count": 116
        }
      ]
    },
    {
      "cell_type": "code",
      "metadata": {
        "colab": {
          "base_uri": "https://localhost:8080/",
          "height": 421
        },
        "id": "PQQj_QrYxHD6",
        "outputId": "e0aefdf4-a33b-483c-cc54-ec78e6803e96"
      },
      "source": [
        "# Coeficientes del modelo\n",
        "pd.DataFrame(list(zip(X.columns, np.transpose(logit_model.coef_))))"
      ],
      "execution_count": null,
      "outputs": [
        {
          "output_type": "execute_result",
          "data": {
            "text/html": [
              "<div>\n",
              "<style scoped>\n",
              "    .dataframe tbody tr th:only-of-type {\n",
              "        vertical-align: middle;\n",
              "    }\n",
              "\n",
              "    .dataframe tbody tr th {\n",
              "        vertical-align: top;\n",
              "    }\n",
              "\n",
              "    .dataframe thead th {\n",
              "        text-align: right;\n",
              "    }\n",
              "</style>\n",
              "<table border=\"1\" class=\"dataframe\">\n",
              "  <thead>\n",
              "    <tr style=\"text-align: right;\">\n",
              "      <th></th>\n",
              "      <th>0</th>\n",
              "      <th>1</th>\n",
              "    </tr>\n",
              "  </thead>\n",
              "  <tbody>\n",
              "    <tr>\n",
              "      <th>0</th>\n",
              "      <td>previous</td>\n",
              "      <td>[0.5684844155557447]</td>\n",
              "    </tr>\n",
              "    <tr>\n",
              "      <th>1</th>\n",
              "      <td>euribor3m</td>\n",
              "      <td>[-0.5403161259912315]</td>\n",
              "    </tr>\n",
              "    <tr>\n",
              "      <th>2</th>\n",
              "      <td>job_management</td>\n",
              "      <td>[-0.25141258925522125]</td>\n",
              "    </tr>\n",
              "    <tr>\n",
              "      <th>3</th>\n",
              "      <td>job_student</td>\n",
              "      <td>[0.02506440301637578]</td>\n",
              "    </tr>\n",
              "    <tr>\n",
              "      <th>4</th>\n",
              "      <td>job_technician</td>\n",
              "      <td>[0.15440993133118472]</td>\n",
              "    </tr>\n",
              "    <tr>\n",
              "      <th>5</th>\n",
              "      <td>month_aug</td>\n",
              "      <td>[0.6227852146675807]</td>\n",
              "    </tr>\n",
              "    <tr>\n",
              "      <th>6</th>\n",
              "      <td>month_dec</td>\n",
              "      <td>[1.2341409026128798]</td>\n",
              "    </tr>\n",
              "    <tr>\n",
              "      <th>7</th>\n",
              "      <td>month_jul</td>\n",
              "      <td>[0.890896512537143]</td>\n",
              "    </tr>\n",
              "    <tr>\n",
              "      <th>8</th>\n",
              "      <td>month_jun</td>\n",
              "      <td>[0.9937896073978842]</td>\n",
              "    </tr>\n",
              "    <tr>\n",
              "      <th>9</th>\n",
              "      <td>month_mar</td>\n",
              "      <td>[1.5997457206561199]</td>\n",
              "    </tr>\n",
              "    <tr>\n",
              "      <th>10</th>\n",
              "      <td>day_of_week_wed</td>\n",
              "      <td>[0.036715259810556955]</td>\n",
              "    </tr>\n",
              "    <tr>\n",
              "      <th>11</th>\n",
              "      <td>poutcome_nonexistent</td>\n",
              "      <td>[0.37353471694740065]</td>\n",
              "    </tr>\n",
              "  </tbody>\n",
              "</table>\n",
              "</div>"
            ],
            "text/plain": [
              "                       0                       1\n",
              "0               previous    [0.5684844155557447]\n",
              "1              euribor3m   [-0.5403161259912315]\n",
              "2         job_management  [-0.25141258925522125]\n",
              "3            job_student   [0.02506440301637578]\n",
              "4         job_technician   [0.15440993133118472]\n",
              "5              month_aug    [0.6227852146675807]\n",
              "6              month_dec    [1.2341409026128798]\n",
              "7              month_jul     [0.890896512537143]\n",
              "8              month_jun    [0.9937896073978842]\n",
              "9              month_mar    [1.5997457206561199]\n",
              "10       day_of_week_wed  [0.036715259810556955]\n",
              "11  poutcome_nonexistent   [0.37353471694740065]"
            ]
          },
          "metadata": {
            "tags": []
          },
          "execution_count": 117
        }
      ]
    },
    {
      "cell_type": "markdown",
      "metadata": {
        "id": "Z2TYbvilyNdI"
      },
      "source": [
        "## Validación del modelo y evaluación"
      ]
    },
    {
      "cell_type": "code",
      "metadata": {
        "id": "2w7febYYtwgg"
      },
      "source": [
        "from sklearn.model_selection import train_test_split"
      ],
      "execution_count": null,
      "outputs": []
    },
    {
      "cell_type": "code",
      "metadata": {
        "id": "p_YMrkC3vs1r"
      },
      "source": [
        "X_train, X_test, Y_train, Y_test = train_test_split(X,Y, #datos \n",
        "                                                    test_size = 0.3, # 30% para testing y 70 para training\n",
        "                                                    random_state = 0) # semilla aleaoria"
      ],
      "execution_count": null,
      "outputs": []
    },
    {
      "cell_type": "markdown",
      "metadata": {
        "id": "U-CqSM0YttZd"
      },
      "source": [
        "Creamos el modelo logistico con los datos de entrenamiento"
      ]
    },
    {
      "cell_type": "code",
      "metadata": {
        "colab": {
          "base_uri": "https://localhost:8080/"
        },
        "id": "n7UX7XaMwqgp",
        "outputId": "1ca9ef97-90fb-4560-8e4c-79c83f81cb0e"
      },
      "source": [
        "lr = linear_model.LogisticRegression()\n",
        "lr.fit(X_train, Y_train)"
      ],
      "execution_count": null,
      "outputs": [
        {
          "output_type": "execute_result",
          "data": {
            "text/plain": [
              "LogisticRegression(C=1.0, class_weight=None, dual=False, fit_intercept=True,\n",
              "                   intercept_scaling=1, l1_ratio=None, max_iter=100,\n",
              "                   multi_class='auto', n_jobs=None, penalty='l2',\n",
              "                   random_state=None, solver='lbfgs', tol=0.0001, verbose=0,\n",
              "                   warm_start=False)"
            ]
          },
          "metadata": {
            "tags": []
          },
          "execution_count": 120
        }
      ]
    },
    {
      "cell_type": "markdown",
      "metadata": {
        "id": "nh1wSrj4w6ea"
      },
      "source": [
        "Dado que el modelo estima la probabilidad , necesitamos definir el umbral(treshold) que indicará apartir de que probailidad se considerará 1 o 0. \n",
        "ejemplo: si la probabilidad es mayor a 0.5, se considerara 1, 0 de caso contrario. "
      ]
    },
    {
      "cell_type": "code",
      "metadata": {
        "id": "NlNDJdbNxokY"
      },
      "source": [
        "probs = lr.predict_proba(X_test)"
      ],
      "execution_count": null,
      "outputs": []
    },
    {
      "cell_type": "code",
      "metadata": {
        "colab": {
          "base_uri": "https://localhost:8080/"
        },
        "id": "liKZitfNxyNi",
        "outputId": "c8f17987-f89c-48ae-9c43-539e1fa07654"
      },
      "source": [
        "probs # LA primera columna significa que tan seguro estoy de lo que estoy diciendo, la segunda es la probabilidad del target"
      ],
      "execution_count": null,
      "outputs": [
        {
          "output_type": "execute_result",
          "data": {
            "text/plain": [
              "array([[0.93857871, 0.06142129],\n",
              "       [0.864772  , 0.135228  ],\n",
              "       [0.93549095, 0.06450905],\n",
              "       ...,\n",
              "       [0.69836607, 0.30163393],\n",
              "       [0.96892884, 0.03107116],\n",
              "       [0.55053276, 0.44946724]])"
            ]
          },
          "metadata": {
            "tags": []
          },
          "execution_count": 122
        }
      ]
    },
    {
      "cell_type": "markdown",
      "metadata": {
        "id": "wtbqDPF0zp7p"
      },
      "source": [
        " Predicción por defecto, cataloga como 0 cuando la probabilidad es menor que 0.5.\n",
        "\n",
        " $Y_p = \\begin{cases}0 & si\\ p \\leq0.5\\\\1&si\\ p>0.5 \\end{cases}$"
      ]
    },
    {
      "cell_type": "code",
      "metadata": {
        "colab": {
          "base_uri": "https://localhost:8080/"
        },
        "id": "R3sKxqhdydkq",
        "outputId": "cc0f6086-20a9-40ad-f869-ff7a913e5a15"
      },
      "source": [
        "prediction = lr.predict(X_test) \n",
        "prediction"
      ],
      "execution_count": null,
      "outputs": [
        {
          "output_type": "execute_result",
          "data": {
            "text/plain": [
              "array([0, 0, 0, ..., 0, 0, 0])"
            ]
          },
          "metadata": {
            "tags": []
          },
          "execution_count": 123
        }
      ]
    },
    {
      "cell_type": "markdown",
      "metadata": {
        "id": "2PHhYQhWx4IJ"
      },
      "source": [
        "#### Definimos el umbral del modelo\n",
        "\n",
        " $Y_p = \\begin{cases}0 & si\\ p \\leq0.1\\\\1&si\\ p>0.1 \\end{cases}$"
      ]
    },
    {
      "cell_type": "code",
      "metadata": {
        "colab": {
          "base_uri": "https://localhost:8080/",
          "height": 204
        },
        "id": "5sGihx_n1oPS",
        "outputId": "f4176407-4340-4b89-f67e-9d51222f57e5"
      },
      "source": [
        "probs = probs = lr.predict_proba(X_test)\n",
        "prob_df = pd.DataFrame(probs[:,1]) # Nos quedamos con la segunda columna\n",
        "threshold = 0.10 # Umbral de probabilidad \n",
        "prob_df[\"prediction\"] = np.where(prob_df[0]>threshold, 1, 0)\n",
        "prob_df.head()"
      ],
      "execution_count": null,
      "outputs": [
        {
          "output_type": "execute_result",
          "data": {
            "text/html": [
              "<div>\n",
              "<style scoped>\n",
              "    .dataframe tbody tr th:only-of-type {\n",
              "        vertical-align: middle;\n",
              "    }\n",
              "\n",
              "    .dataframe tbody tr th {\n",
              "        vertical-align: top;\n",
              "    }\n",
              "\n",
              "    .dataframe thead th {\n",
              "        text-align: right;\n",
              "    }\n",
              "</style>\n",
              "<table border=\"1\" class=\"dataframe\">\n",
              "  <thead>\n",
              "    <tr style=\"text-align: right;\">\n",
              "      <th></th>\n",
              "      <th>0</th>\n",
              "      <th>prediction</th>\n",
              "    </tr>\n",
              "  </thead>\n",
              "  <tbody>\n",
              "    <tr>\n",
              "      <th>0</th>\n",
              "      <td>0.061421</td>\n",
              "      <td>0</td>\n",
              "    </tr>\n",
              "    <tr>\n",
              "      <th>1</th>\n",
              "      <td>0.135228</td>\n",
              "      <td>1</td>\n",
              "    </tr>\n",
              "    <tr>\n",
              "      <th>2</th>\n",
              "      <td>0.064509</td>\n",
              "      <td>0</td>\n",
              "    </tr>\n",
              "    <tr>\n",
              "      <th>3</th>\n",
              "      <td>0.057720</td>\n",
              "      <td>0</td>\n",
              "    </tr>\n",
              "    <tr>\n",
              "      <th>4</th>\n",
              "      <td>0.038740</td>\n",
              "      <td>0</td>\n",
              "    </tr>\n",
              "  </tbody>\n",
              "</table>\n",
              "</div>"
            ],
            "text/plain": [
              "          0  prediction\n",
              "0  0.061421           0\n",
              "1  0.135228           1\n",
              "2  0.064509           0\n",
              "3  0.057720           0\n",
              "4  0.038740           0"
            ]
          },
          "metadata": {
            "tags": []
          },
          "execution_count": 124
        }
      ]
    },
    {
      "cell_type": "code",
      "metadata": {
        "colab": {
          "base_uri": "https://localhost:8080/",
          "height": 142
        },
        "id": "0pWUm9h3xhwh",
        "outputId": "a6a4ccb7-4e77-449e-c344-a77c04b7c9b5"
      },
      "source": [
        "pd.crosstab(prob_df.prediction, columns=\"count\")"
      ],
      "execution_count": null,
      "outputs": [
        {
          "output_type": "execute_result",
          "data": {
            "text/html": [
              "<div>\n",
              "<style scoped>\n",
              "    .dataframe tbody tr th:only-of-type {\n",
              "        vertical-align: middle;\n",
              "    }\n",
              "\n",
              "    .dataframe tbody tr th {\n",
              "        vertical-align: top;\n",
              "    }\n",
              "\n",
              "    .dataframe thead th {\n",
              "        text-align: right;\n",
              "    }\n",
              "</style>\n",
              "<table border=\"1\" class=\"dataframe\">\n",
              "  <thead>\n",
              "    <tr style=\"text-align: right;\">\n",
              "      <th>col_0</th>\n",
              "      <th>count</th>\n",
              "    </tr>\n",
              "    <tr>\n",
              "      <th>prediction</th>\n",
              "      <th></th>\n",
              "    </tr>\n",
              "  </thead>\n",
              "  <tbody>\n",
              "    <tr>\n",
              "      <th>0</th>\n",
              "      <td>846</td>\n",
              "    </tr>\n",
              "    <tr>\n",
              "      <th>1</th>\n",
              "      <td>390</td>\n",
              "    </tr>\n",
              "  </tbody>\n",
              "</table>\n",
              "</div>"
            ],
            "text/plain": [
              "col_0       count\n",
              "prediction       \n",
              "0             846\n",
              "1             390"
            ]
          },
          "metadata": {
            "tags": []
          },
          "execution_count": 125
        }
      ]
    },
    {
      "cell_type": "code",
      "metadata": {
        "colab": {
          "base_uri": "https://localhost:8080/"
        },
        "id": "JDU_6B0B31tT",
        "outputId": "5f4853de-774c-45bd-8f18-02f372de8286"
      },
      "source": [
        "390/len(prob_df)*100 # del 10% incrementamos al 30% de compradores"
      ],
      "execution_count": null,
      "outputs": [
        {
          "output_type": "execute_result",
          "data": {
            "text/plain": [
              "31.55339805825243"
            ]
          },
          "metadata": {
            "tags": []
          },
          "execution_count": 126
        }
      ]
    },
    {
      "cell_type": "markdown",
      "metadata": {
        "id": "kiGJSth54Hzx"
      },
      "source": [
        " Si incremntamos el threshold a 15%\n",
        " \n",
        " $Y_p = \\begin{cases}0 & si\\ p \\leq0.15\\\\1&si\\ p>0.15 \\end{cases}$"
      ]
    },
    {
      "cell_type": "code",
      "metadata": {
        "colab": {
          "base_uri": "https://localhost:8080/",
          "height": 142
        },
        "id": "qLBkDwRV4ryb",
        "outputId": "67637592-69a1-4975-d7fb-bd3a04d0ce35"
      },
      "source": [
        "threshold = 0.15\n",
        "prob_df[\"prediction\"] = np.where(prob_df[0]>threshold, 1, 0)\n",
        "pd.crosstab(prob_df.prediction, columns=\"count\")"
      ],
      "execution_count": null,
      "outputs": [
        {
          "output_type": "execute_result",
          "data": {
            "text/html": [
              "<div>\n",
              "<style scoped>\n",
              "    .dataframe tbody tr th:only-of-type {\n",
              "        vertical-align: middle;\n",
              "    }\n",
              "\n",
              "    .dataframe tbody tr th {\n",
              "        vertical-align: top;\n",
              "    }\n",
              "\n",
              "    .dataframe thead th {\n",
              "        text-align: right;\n",
              "    }\n",
              "</style>\n",
              "<table border=\"1\" class=\"dataframe\">\n",
              "  <thead>\n",
              "    <tr style=\"text-align: right;\">\n",
              "      <th>col_0</th>\n",
              "      <th>count</th>\n",
              "    </tr>\n",
              "    <tr>\n",
              "      <th>prediction</th>\n",
              "      <th></th>\n",
              "    </tr>\n",
              "  </thead>\n",
              "  <tbody>\n",
              "    <tr>\n",
              "      <th>0</th>\n",
              "      <td>871</td>\n",
              "    </tr>\n",
              "    <tr>\n",
              "      <th>1</th>\n",
              "      <td>365</td>\n",
              "    </tr>\n",
              "  </tbody>\n",
              "</table>\n",
              "</div>"
            ],
            "text/plain": [
              "col_0       count\n",
              "prediction       \n",
              "0             871\n",
              "1             365"
            ]
          },
          "metadata": {
            "tags": []
          },
          "execution_count": 127
        }
      ]
    },
    {
      "cell_type": "code",
      "metadata": {
        "colab": {
          "base_uri": "https://localhost:8080/"
        },
        "id": "jWILMbfx5F58",
        "outputId": "9a30991e-ce42-4245-990d-9da353fc5fb7"
      },
      "source": [
        "365/len(prob_df) # 29 % de compradores"
      ],
      "execution_count": null,
      "outputs": [
        {
          "output_type": "execute_result",
          "data": {
            "text/plain": [
              "0.2953074433656958"
            ]
          },
          "metadata": {
            "tags": []
          },
          "execution_count": 128
        }
      ]
    },
    {
      "cell_type": "markdown",
      "metadata": {
        "id": "CcCl8vBF6ZKk"
      },
      "source": [
        "Para un threshold de 0.05\n",
        "$Y_p = \\begin{cases}0 & si\\ p \\leq0.05\\\\1&si\\ p>0.05 \\end{cases}$"
      ]
    },
    {
      "cell_type": "code",
      "metadata": {
        "colab": {
          "base_uri": "https://localhost:8080/",
          "height": 142
        },
        "id": "ilBxk7C66iMS",
        "outputId": "0b1e6aab-9e34-408c-dc0a-d94b55b49d9f"
      },
      "source": [
        "threshold = 0.05\n",
        "prob_df[\"prediction\"] = np.where(prob_df[0]>threshold, 1, 0)\n",
        "pd.crosstab(prob_df.prediction, columns=\"count\")"
      ],
      "execution_count": null,
      "outputs": [
        {
          "output_type": "execute_result",
          "data": {
            "text/html": [
              "<div>\n",
              "<style scoped>\n",
              "    .dataframe tbody tr th:only-of-type {\n",
              "        vertical-align: middle;\n",
              "    }\n",
              "\n",
              "    .dataframe tbody tr th {\n",
              "        vertical-align: top;\n",
              "    }\n",
              "\n",
              "    .dataframe thead th {\n",
              "        text-align: right;\n",
              "    }\n",
              "</style>\n",
              "<table border=\"1\" class=\"dataframe\">\n",
              "  <thead>\n",
              "    <tr style=\"text-align: right;\">\n",
              "      <th>col_0</th>\n",
              "      <th>count</th>\n",
              "    </tr>\n",
              "    <tr>\n",
              "      <th>prediction</th>\n",
              "      <th></th>\n",
              "    </tr>\n",
              "  </thead>\n",
              "  <tbody>\n",
              "    <tr>\n",
              "      <th>0</th>\n",
              "      <td>467</td>\n",
              "    </tr>\n",
              "    <tr>\n",
              "      <th>1</th>\n",
              "      <td>769</td>\n",
              "    </tr>\n",
              "  </tbody>\n",
              "</table>\n",
              "</div>"
            ],
            "text/plain": [
              "col_0       count\n",
              "prediction       \n",
              "0             467\n",
              "1             769"
            ]
          },
          "metadata": {
            "tags": []
          },
          "execution_count": 129
        }
      ]
    },
    {
      "cell_type": "code",
      "metadata": {
        "colab": {
          "base_uri": "https://localhost:8080/"
        },
        "id": "piU_Zlo26mhp",
        "outputId": "11104fe5-6433-4a81-823c-cf9a579cc80b"
      },
      "source": [
        "769/len(prob_df) # 62% de compradores"
      ],
      "execution_count": null,
      "outputs": [
        {
          "output_type": "execute_result",
          "data": {
            "text/plain": [
              "0.622168284789644"
            ]
          },
          "metadata": {
            "tags": []
          },
          "execution_count": 130
        }
      ]
    },
    {
      "cell_type": "markdown",
      "metadata": {
        "id": "UnaNOaRD6vDp"
      },
      "source": [
        "Comprobando la eficiacia del modelo con el paquete *metrics de skalearn*"
      ]
    },
    {
      "cell_type": "code",
      "metadata": {
        "id": "ixrgI4tMLHlq"
      },
      "source": [
        "from sklearn import metrics"
      ],
      "execution_count": null,
      "outputs": []
    },
    {
      "cell_type": "code",
      "metadata": {
        "colab": {
          "base_uri": "https://localhost:8080/"
        },
        "id": "vA2c3Ae8LMBt",
        "outputId": "164dbc8d-ca98-4260-fe36-c4048c02f5b5"
      },
      "source": [
        "metrics.accuracy_score(Y_test, prediction)"
      ],
      "execution_count": null,
      "outputs": [
        {
          "output_type": "execute_result",
          "data": {
            "text/plain": [
              "0.9004854368932039"
            ]
          },
          "metadata": {
            "tags": []
          },
          "execution_count": 137
        }
      ]
    },
    {
      "cell_type": "code",
      "metadata": {
        "colab": {
          "base_uri": "https://localhost:8080/"
        },
        "id": "VP1aBH8tNsbI",
        "outputId": "9393ba68-789c-4b08-ed2e-f2f1348e5498"
      },
      "source": [
        "metrics.confusion_matrix(Y_test, prediction)"
      ],
      "execution_count": null,
      "outputs": [
        {
          "output_type": "execute_result",
          "data": {
            "text/plain": [
              "array([[1102,   12],\n",
              "       [ 111,   11]])"
            ]
          },
          "metadata": {
            "tags": []
          },
          "execution_count": 138
        }
      ]
    },
    {
      "cell_type": "markdown",
      "metadata": {
        "id": "E1-M8Pd36ou5"
      },
      "source": [
        "## Validación cruzada"
      ]
    },
    {
      "cell_type": "code",
      "metadata": {
        "id": "yBJv3EzuN8XH"
      },
      "source": [
        "from sklearn.model_selection import cross_val_score"
      ],
      "execution_count": null,
      "outputs": []
    },
    {
      "cell_type": "code",
      "metadata": {
        "colab": {
          "base_uri": "https://localhost:8080/"
        },
        "id": "cj9zJmv9XIcr",
        "outputId": "0200bfee-559c-4a44-a7b5-5114c83f1643"
      },
      "source": [
        "scores = cross_val_score(linear_model.LogisticRegression(), X, Y, scoring=\"accuracy\", cv=4)\n",
        "scores"
      ],
      "execution_count": null,
      "outputs": [
        {
          "output_type": "execute_result",
          "data": {
            "text/plain": [
              "array([0.89805825, 0.89902913, 0.89223301, 0.89601555])"
            ]
          },
          "metadata": {
            "tags": []
          },
          "execution_count": 145
        }
      ]
    },
    {
      "cell_type": "code",
      "metadata": {
        "colab": {
          "base_uri": "https://localhost:8080/"
        },
        "id": "5Xo1dFmyYT3P",
        "outputId": "c1784585-8ab2-47a3-ef53-115b29d5b473"
      },
      "source": [
        "scores.mean()"
      ],
      "execution_count": null,
      "outputs": [
        {
          "output_type": "execute_result",
          "data": {
            "text/plain": [
              "0.8963339843565721"
            ]
          },
          "metadata": {
            "tags": []
          },
          "execution_count": 146
        }
      ]
    },
    {
      "cell_type": "markdown",
      "metadata": {
        "id": "kqqoGbtdZpb5"
      },
      "source": [
        "## Matrices de confución y la curvas ROC (caracteristica operativa del receptor)"
      ]
    },
    {
      "cell_type": "code",
      "metadata": {
        "id": "DfMaWrj7Z0cA"
      },
      "source": [
        "# Dividimos el dataset\n",
        "X_train , X_test, Y_train, Y_test = train_test_split(X,Y, test_size = 0.3, random_state = 0)"
      ],
      "execution_count": null,
      "outputs": []
    },
    {
      "cell_type": "code",
      "metadata": {
        "id": "Lm_Y3yrFhKUc"
      },
      "source": [
        "# Entrenamos el modelo\n",
        "lm = LogisticRegression()\n",
        "lm.fit(X_train, Y_train)"
      ],
      "execution_count": null,
      "outputs": []
    },
    {
      "cell_type": "code",
      "metadata": {
        "id": "iye1dAethdDh"
      },
      "source": [
        "# Estimamos las pobabilidades \n",
        "probs = lm.predict_proba(X_test)\n",
        "probs"
      ],
      "execution_count": null,
      "outputs": []
    },
    {
      "cell_type": "code",
      "metadata": {
        "colab": {
          "base_uri": "https://localhost:8080/",
          "height": 204
        },
        "id": "qEZ9UivMhlJ6",
        "outputId": "90e3e3aa-3ce9-4ca1-fad2-6c8f892e84b2"
      },
      "source": [
        "# Umbral para clasificar \n",
        "prob = probs[:,1]\n",
        "prob_df = pd.DataFrame(prob)\n",
        "threshold = 0.15\n",
        "prob_df[\"Predictión\"] = np.where(prob_df[0]>threshold, 1, 0)\n",
        "prob_df[\"Actual\"] = list(Y_test)\n",
        "prob_df.head()"
      ],
      "execution_count": null,
      "outputs": [
        {
          "output_type": "execute_result",
          "data": {
            "text/html": [
              "<div>\n",
              "<style scoped>\n",
              "    .dataframe tbody tr th:only-of-type {\n",
              "        vertical-align: middle;\n",
              "    }\n",
              "\n",
              "    .dataframe tbody tr th {\n",
              "        vertical-align: top;\n",
              "    }\n",
              "\n",
              "    .dataframe thead th {\n",
              "        text-align: right;\n",
              "    }\n",
              "</style>\n",
              "<table border=\"1\" class=\"dataframe\">\n",
              "  <thead>\n",
              "    <tr style=\"text-align: right;\">\n",
              "      <th></th>\n",
              "      <th>0</th>\n",
              "      <th>Predictión</th>\n",
              "      <th>Actual</th>\n",
              "    </tr>\n",
              "  </thead>\n",
              "  <tbody>\n",
              "    <tr>\n",
              "      <th>0</th>\n",
              "      <td>0.061421</td>\n",
              "      <td>0</td>\n",
              "      <td>0</td>\n",
              "    </tr>\n",
              "    <tr>\n",
              "      <th>1</th>\n",
              "      <td>0.135228</td>\n",
              "      <td>0</td>\n",
              "      <td>0</td>\n",
              "    </tr>\n",
              "    <tr>\n",
              "      <th>2</th>\n",
              "      <td>0.064509</td>\n",
              "      <td>0</td>\n",
              "      <td>0</td>\n",
              "    </tr>\n",
              "    <tr>\n",
              "      <th>3</th>\n",
              "      <td>0.057720</td>\n",
              "      <td>0</td>\n",
              "      <td>0</td>\n",
              "    </tr>\n",
              "    <tr>\n",
              "      <th>4</th>\n",
              "      <td>0.038740</td>\n",
              "      <td>0</td>\n",
              "      <td>0</td>\n",
              "    </tr>\n",
              "  </tbody>\n",
              "</table>\n",
              "</div>"
            ],
            "text/plain": [
              "          0  Predictión  Actual\n",
              "0  0.061421           0       0\n",
              "1  0.135228           0       0\n",
              "2  0.064509           0       0\n",
              "3  0.057720           0       0\n",
              "4  0.038740           0       0"
            ]
          },
          "metadata": {
            "tags": []
          },
          "execution_count": 170
        }
      ]
    },
    {
      "cell_type": "code",
      "metadata": {
        "colab": {
          "base_uri": "https://localhost:8080/",
          "height": 142
        },
        "id": "VC3CG0Vvl2rb",
        "outputId": "dba58e73-e6c6-413a-f4aa-309907118a0a"
      },
      "source": [
        "confusion_matrix = pd.crosstab(prob_df.Predictión, prob_df.Actual)\n",
        "confusion_matrix"
      ],
      "execution_count": null,
      "outputs": [
        {
          "output_type": "execute_result",
          "data": {
            "text/html": [
              "<div>\n",
              "<style scoped>\n",
              "    .dataframe tbody tr th:only-of-type {\n",
              "        vertical-align: middle;\n",
              "    }\n",
              "\n",
              "    .dataframe tbody tr th {\n",
              "        vertical-align: top;\n",
              "    }\n",
              "\n",
              "    .dataframe thead th {\n",
              "        text-align: right;\n",
              "    }\n",
              "</style>\n",
              "<table border=\"1\" class=\"dataframe\">\n",
              "  <thead>\n",
              "    <tr style=\"text-align: right;\">\n",
              "      <th>Actual</th>\n",
              "      <th>0</th>\n",
              "      <th>1</th>\n",
              "    </tr>\n",
              "    <tr>\n",
              "      <th>Predictión</th>\n",
              "      <th></th>\n",
              "      <th></th>\n",
              "    </tr>\n",
              "  </thead>\n",
              "  <tbody>\n",
              "    <tr>\n",
              "      <th>0</th>\n",
              "      <td>1042</td>\n",
              "      <td>76</td>\n",
              "    </tr>\n",
              "    <tr>\n",
              "      <th>1</th>\n",
              "      <td>72</td>\n",
              "      <td>46</td>\n",
              "    </tr>\n",
              "  </tbody>\n",
              "</table>\n",
              "</div>"
            ],
            "text/plain": [
              "Actual         0   1\n",
              "Predictión          \n",
              "0           1042  76\n",
              "1             72  46"
            ]
          },
          "metadata": {
            "tags": []
          },
          "execution_count": 230
        }
      ]
    },
    {
      "cell_type": "code",
      "metadata": {
        "colab": {
          "base_uri": "https://localhost:8080/"
        },
        "id": "Q5C9m5nBZtQ6",
        "outputId": "2672b4df-b2d2-497a-b94b-ec8d75831290"
      },
      "source": [
        "TN = confusion_matrix[0][0]\n",
        "FN = confusion_matrix[1][0]\n",
        "FP = confusion_matrix[0][1]\n",
        "TP = confusion_matrix[1][1]\n",
        "\n",
        "TN, FN, FP, TP"
      ],
      "execution_count": null,
      "outputs": [
        {
          "output_type": "execute_result",
          "data": {
            "text/plain": [
              "(1102, 111, 12, 11)"
            ]
          },
          "metadata": {
            "tags": []
          },
          "execution_count": 263
        }
      ]
    },
    {
      "cell_type": "code",
      "metadata": {
        "colab": {
          "base_uri": "https://localhost:8080/"
        },
        "id": "jriUebx2y7dp",
        "outputId": "0523a8cc-6eff-4e28-9d4b-9acaebff9395"
      },
      "source": [
        "sens = TP/(TP + FN)\n",
        "espec = 1 - TN/(FP + TN)\n",
        "sens, espec"
      ],
      "execution_count": null,
      "outputs": [
        {
          "output_type": "execute_result",
          "data": {
            "text/plain": [
              "(0.3770491803278688, 0.06463195691202872)"
            ]
          },
          "metadata": {
            "tags": []
          },
          "execution_count": 232
        }
      ]
    },
    {
      "cell_type": "code",
      "metadata": {
        "id": "BmAjD0u36FVx"
      },
      "source": [
        "threshold = [0.04, 0.05, 0.07, 0.10, 0.12, 0.15, 0.18, 0.20, 0.25, 0.3, 0.4, 0.5]\n",
        "sensitivities = [1] # emepzamos en 1 para que el grafico termine exacto\n",
        "especifities_1 = [1]\n",
        "\n",
        "for t in threshold:\n",
        "    prob_df[\"Predictión\"] = np.where(prob_df[0]>=t, 1, 0)\n",
        "    prob_df[\"Actual\"] = list(Y_test)\n",
        "\n",
        "    confusion_matrix = pd.crosstab(prob_df.Predictión, prob_df.Actual)\n",
        "    TN = confusion_matrix[0][0]\n",
        "    FN = confusion_matrix[1][0]\n",
        "    FP = confusion_matrix[0][1]\n",
        "    TP = confusion_matrix[1][1]\n",
        "\n",
        "    sens = TP/(TP + FN)\n",
        "    sensitivities.append(sens)\n",
        "    espec = 1 - TN/(FP + TN)\n",
        "    especifities_1.append(espec)\n",
        "sensitivities.append(0)\n",
        "especifities_1.append(0)\n"
      ],
      "execution_count": null,
      "outputs": []
    },
    {
      "cell_type": "code",
      "metadata": {
        "colab": {
          "base_uri": "https://localhost:8080/"
        },
        "id": "vxanx4JC-gXd",
        "outputId": "ad5ccf59-4f8f-4b44-a5b8-b29347ba5347"
      },
      "source": [
        "list(zip(sensitivities, especifities_1))"
      ],
      "execution_count": null,
      "outputs": [
        {
          "output_type": "execute_result",
          "data": {
            "text/plain": [
              "[(1, 1),\n",
              " (0.9426229508196722, 0.7208258527827648),\n",
              " (0.8360655737704918, 0.5987432675044884),\n",
              " (0.680327868852459, 0.2917414721723519),\n",
              " (0.6721311475409836, 0.2764811490125674),\n",
              " (0.6721311475409836, 0.2764811490125674),\n",
              " (0.6557377049180327, 0.25583482944344704),\n",
              " (0.5245901639344263, 0.14901256732495516),\n",
              " (0.4262295081967213, 0.09605026929982041),\n",
              " (0.3770491803278688, 0.06463195691202872),\n",
              " (0.3360655737704918, 0.06193895870736088),\n",
              " (0.13934426229508196, 0.022441651705565557),\n",
              " (0.09016393442622951, 0.010771992818671472),\n",
              " (0, 0)]"
            ]
          },
          "metadata": {
            "tags": []
          },
          "execution_count": 247
        }
      ]
    },
    {
      "cell_type": "code",
      "metadata": {
        "id": "x1s83k7U-uQA"
      },
      "source": [
        "import matplotlib.pyplot as plt\n"
      ],
      "execution_count": null,
      "outputs": []
    },
    {
      "cell_type": "code",
      "metadata": {
        "colab": {
          "base_uri": "https://localhost:8080/",
          "height": 312
        },
        "id": "-aE9PvS2-xfX",
        "outputId": "0acc28b8-b916-4beb-f31d-564391fe39e8"
      },
      "source": [
        "%matplotlib inline\n",
        "plt.plot(especifities_1, sensitivities,\n",
        "         marker = \"o\",\n",
        "         linestyle = \"--\",\n",
        "         color = \"red\")\n",
        "x = [i*0.01 for i in range(100)]\n",
        "y = [i*0.01 for i in range(100)]\n",
        "plt.plot(x,y)\n",
        "plt.title(\"Curva ROC\")\n",
        "plt.xlabel(\"1 - Especificidad\")\n",
        "plt.xlabel(\"Sensibilidad\")"
      ],
      "execution_count": null,
      "outputs": [
        {
          "output_type": "execute_result",
          "data": {
            "text/plain": [
              "Text(0.5, 0, 'Sensibilidad')"
            ]
          },
          "metadata": {
            "tags": []
          },
          "execution_count": 249
        },
        {
          "output_type": "display_data",
          "data": {
            "image/png": "[encoded data removed]",
            "text/plain": [
              "<Figure size 432x288 with 1 Axes>"
            ]
          },
          "metadata": {
            "tags": [],
            "needs_background": "light"
          }
        }
      ]
    },
    {
      "cell_type": "code",
      "metadata": {
        "id": "aovK9uCNF8f5"
      },
      "source": [
        "from sklearn import metrics\n",
        "# from ggplot import *"
      ],
      "execution_count": null,
      "outputs": []
    },
    {
      "cell_type": "code",
      "metadata": {
        "id": "xw-VkEXJGvao"
      },
      "source": [
        "pip install ggplot"
      ],
      "execution_count": null,
      "outputs": []
    },
    {
      "cell_type": "code",
      "metadata": {
        "id": "1ZOq31dMF-zG"
      },
      "source": [
        "espec_1, sensit, _ = metrics.roc_curve(Y_test, prob) #dividi los threshold de 0.01 en 0.01"
      ],
      "execution_count": null,
      "outputs": []
    },
    {
      "cell_type": "code",
      "metadata": {
        "id": "npSAc2GQOvsX",
        "colab": {
          "base_uri": "https://localhost:8080/"
        },
        "outputId": "bbb5a494-1011-4430-bdc4-20a5b7a444c7"
      },
      "source": [
        "metrics.auc(espec_1, sensit)"
      ],
      "execution_count": null,
      "outputs": [
        {
          "output_type": "execute_result",
          "data": {
            "text/plain": [
              "0.7527518615534037"
            ]
          },
          "metadata": {
            "tags": []
          },
          "execution_count": 274
        }
      ]
    },
    {
      "cell_type": "code",
      "metadata": {
        "colab": {
          "base_uri": "https://localhost:8080/",
          "height": 296
        },
        "id": "Dtb40upAIHYJ",
        "outputId": "42dbdbe2-09a5-4573-9e4a-a52a370eeb4e"
      },
      "source": [
        "metrics.plot_roc_curve(lm, X_test, Y_test)"
      ],
      "execution_count": null,
      "outputs": [
        {
          "output_type": "execute_result",
          "data": {
            "text/plain": [
              "<sklearn.metrics._plot.roc_curve.RocCurveDisplay at 0x7f15bc8cea10>"
            ]
          },
          "metadata": {
            "tags": []
          },
          "execution_count": 273
        },
        {
          "output_type": "display_data",
          "data": {
            "image/png": "[encoded data removed]",
            "text/plain": [
              "<Figure size 432x288 with 1 Axes>"
            ]
          },
          "metadata": {
            "tags": [],
            "needs_background": "light"
          }
        }
      ]
    },
    {
      "cell_type": "code",
      "metadata": {
        "id": "LzkN0vAxKaXJ"
      },
      "source": [
        ""
      ],
      "execution_count": null,
      "outputs": []
    }
  ]
}