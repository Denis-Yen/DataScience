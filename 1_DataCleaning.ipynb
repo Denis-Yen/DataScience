{
  "nbformat": 4,
  "nbformat_minor": 0,
  "metadata": {
    "kernelspec": {
      "display_name": "Python 3",
      "language": "python",
      "name": "python3"
    },
    "language_info": {
      "codemirror_mode": {
        "name": "ipython",
        "version": 3
      },
      "file_extension": ".py",
      "mimetype": "text/x-python",
      "name": "python",
      "nbconvert_exporter": "python",
      "pygments_lexer": "ipython3",
      "version": "3.7.6"
    },
    "toc": {
      "base_numbering": 1,
      "nav_menu": {},
      "number_sections": true,
      "sideBar": true,
      "skip_h1_title": false,
      "title_cell": "Table of Contents",
      "title_sidebar": "Contents",
      "toc_cell": false,
      "toc_position": {},
      "toc_section_display": true,
      "toc_window_display": false
    },
    "varInspector": {
      "cols": {
        "lenName": 16,
        "lenType": 16,
        "lenVar": 40
      },
      "kernels_config": {
        "python": {
          "delete_cmd_postfix": "",
          "delete_cmd_prefix": "del ",
          "library": "var_list.py",
          "varRefreshCmd": "print(var_dic_list())"
        },
        "r": {
          "delete_cmd_postfix": ") ",
          "delete_cmd_prefix": "rm(",
          "library": "var_list.r",
          "varRefreshCmd": "cat(var_dic_list()) "
        }
      },
      "types_to_exclude": [
        "module",
        "function",
        "builtin_function_or_method",
        "instance",
        "_Feature"
      ],
      "window_display": false
    },
    "colab": {
      "name": "1 - DataCleaning",
      "provenance": [],
      "collapsed_sections": [],
      "include_colab_link": true
    }
  },
  "cells": [
    {
      "cell_type": "markdown",
      "metadata": {
        "id": "view-in-github",
        "colab_type": "text"
      },
      "source": [
        "<a href=\"https://colab.research.google.com/github/Denis-Yen/DataScience/blob/main/1_DataCleaning.ipynb\" target=\"_parent\"><img src=\"https://colab.research.google.com/assets/colab-badge.svg\" alt=\"Open In Colab\"/></a>"
      ]
    },
    {
      "cell_type": "markdown",
      "metadata": {
        "id": "X43TtrPmYYKb"
      },
      "source": [
        "El **data wrangling**, a veces denominada **data munging**, es el proceso de transformar y mapear datos de un dataset *raw* (en bruto) en otro formato con la intención de hacerlo más apropiado y valioso para una variedad de propósitos posteriores, como el análisis. Un **data wrangler** es una persona que realiza estas operaciones de transformación.\n",
        "\n",
        "Esto puede incluir munging, visualización de datos, agregación de datos, entrenamiento de un modelo estadístico, así como muchos otros usos potenciales. "
      ]
    },
    {
      "cell_type": "code",
      "metadata": {
        "id": "7DYg6-BsYYKc"
      },
      "source": [
        "import pandas as pd # Pandas es la libreria o el modulo de Python de input/output a la data"
      ],
      "execution_count": null,
      "outputs": []
    },
    {
      "cell_type": "code",
      "metadata": {
        "id": "q3yNg2L1YYKd"
      },
      "source": [
        "data = pd.read_csv(\"/content/drive/MyDrive/Colab Notebooks/Churn-arboles.csv\")\n",
        "data.head(5)"
      ],
      "execution_count": null,
      "outputs": []
    },
    {
      "cell_type": "code",
      "metadata": {
        "colab": {
          "base_uri": "https://localhost:8080/"
        },
        "id": "SjZJIffQYYKe",
        "outputId": "ad0b01bc-b36e-4c22-ddc0-dc7948351f42"
      },
      "source": [
        "# La dimension del dataset\n",
        "data.shape # Observaciones, variables"
      ],
      "execution_count": null,
      "outputs": [
        {
          "output_type": "execute_result",
          "data": {
            "text/plain": [
              "(1345, 8)"
            ]
          },
          "metadata": {
            "tags": []
          },
          "execution_count": 8
        }
      ]
    },
    {
      "cell_type": "code",
      "metadata": {
        "colab": {
          "base_uri": "https://localhost:8080/",
          "height": 204
        },
        "id": "jbDAYfIcYYKg",
        "outputId": "1419d9cd-8b82-4886-94be-942f74566a61"
      },
      "source": [
        "# Observamos los primeros valores de los datos\n",
        "#data.head(1)\n",
        "data.tail()"
      ],
      "execution_count": null,
      "outputs": [
        {
          "output_type": "execute_result",
          "data": {
            "text/html": [
              "<div>\n",
              "<style scoped>\n",
              "    .dataframe tbody tr th:only-of-type {\n",
              "        vertical-align: middle;\n",
              "    }\n",
              "\n",
              "    .dataframe tbody tr th {\n",
              "        vertical-align: top;\n",
              "    }\n",
              "\n",
              "    .dataframe thead th {\n",
              "        text-align: right;\n",
              "    }\n",
              "</style>\n",
              "<table border=\"1\" class=\"dataframe\">\n",
              "  <thead>\n",
              "    <tr style=\"text-align: right;\">\n",
              "      <th></th>\n",
              "      <th>ID</th>\n",
              "      <th>EDAD</th>\n",
              "      <th>SEXO</th>\n",
              "      <th>CIVIL</th>\n",
              "      <th>HIJOS</th>\n",
              "      <th>INGRESO</th>\n",
              "      <th>AUTO</th>\n",
              "      <th>CHURN</th>\n",
              "    </tr>\n",
              "  </thead>\n",
              "  <tbody>\n",
              "    <tr>\n",
              "      <th>1340</th>\n",
              "      <td>4987</td>\n",
              "      <td>38</td>\n",
              "      <td>Femenino</td>\n",
              "      <td>Casado</td>\n",
              "      <td>2</td>\n",
              "      <td>84653.1</td>\n",
              "      <td>Si</td>\n",
              "      <td>No Fuga</td>\n",
              "    </tr>\n",
              "    <tr>\n",
              "      <th>1341</th>\n",
              "      <td>4993</td>\n",
              "      <td>95</td>\n",
              "      <td>Femenino</td>\n",
              "      <td>Soltero</td>\n",
              "      <td>2</td>\n",
              "      <td>52997.5</td>\n",
              "      <td>Si</td>\n",
              "      <td>Fuga</td>\n",
              "    </tr>\n",
              "    <tr>\n",
              "      <th>1342</th>\n",
              "      <td>4996</td>\n",
              "      <td>70</td>\n",
              "      <td>Femenino</td>\n",
              "      <td>Casado</td>\n",
              "      <td>1</td>\n",
              "      <td>85192.9</td>\n",
              "      <td>Si</td>\n",
              "      <td>Fuga</td>\n",
              "    </tr>\n",
              "    <tr>\n",
              "      <th>1343</th>\n",
              "      <td>4998</td>\n",
              "      <td>37</td>\n",
              "      <td>Masculino</td>\n",
              "      <td>Casado</td>\n",
              "      <td>0</td>\n",
              "      <td>11693.3</td>\n",
              "      <td>No</td>\n",
              "      <td>No Fuga</td>\n",
              "    </tr>\n",
              "    <tr>\n",
              "      <th>1344</th>\n",
              "      <td>4999</td>\n",
              "      <td>41</td>\n",
              "      <td>Masculino</td>\n",
              "      <td>Casado</td>\n",
              "      <td>0</td>\n",
              "      <td>59898.4</td>\n",
              "      <td>No</td>\n",
              "      <td>No Fuga</td>\n",
              "    </tr>\n",
              "  </tbody>\n",
              "</table>\n",
              "</div>"
            ],
            "text/plain": [
              "        ID  EDAD       SEXO    CIVIL  HIJOS  INGRESO AUTO    CHURN\n",
              "1340  4987    38   Femenino   Casado      2  84653.1   Si  No Fuga\n",
              "1341  4993    95   Femenino  Soltero      2  52997.5   Si     Fuga\n",
              "1342  4996    70   Femenino   Casado      1  85192.9   Si     Fuga\n",
              "1343  4998    37  Masculino   Casado      0  11693.3   No  No Fuga\n",
              "1344  4999    41  Masculino   Casado      0  59898.4   No  No Fuga"
            ]
          },
          "metadata": {
            "tags": []
          },
          "execution_count": 11
        }
      ]
    },
    {
      "cell_type": "markdown",
      "metadata": {
        "id": "aFKAPQIhYYKh"
      },
      "source": [
        "### Crear un subconjunto de datos"
      ]
    },
    {
      "cell_type": "markdown",
      "metadata": {
        "id": "mtnjW_xpYYKi"
      },
      "source": [
        "#### Subconjunto de columna o columnas"
      ]
    },
    {
      "cell_type": "code",
      "metadata": {
        "collapsed": true,
        "id": "6NC4Bk4PYYKi"
      },
      "source": [
        "data1 = data[[\"SEXO\", \"EDAD\", \"CIVIL\"]]"
      ],
      "execution_count": null,
      "outputs": []
    },
    {
      "cell_type": "code",
      "metadata": {
        "colab": {
          "base_uri": "https://localhost:8080/",
          "height": 142
        },
        "id": "1RvQJSPKYYKj",
        "outputId": "af5e8d6b-0a90-4f33-9349-07455c2185eb"
      },
      "source": [
        "data1.head(3)"
      ],
      "execution_count": null,
      "outputs": [
        {
          "output_type": "execute_result",
          "data": {
            "text/html": [
              "<div>\n",
              "<style scoped>\n",
              "    .dataframe tbody tr th:only-of-type {\n",
              "        vertical-align: middle;\n",
              "    }\n",
              "\n",
              "    .dataframe tbody tr th {\n",
              "        vertical-align: top;\n",
              "    }\n",
              "\n",
              "    .dataframe thead th {\n",
              "        text-align: right;\n",
              "    }\n",
              "</style>\n",
              "<table border=\"1\" class=\"dataframe\">\n",
              "  <thead>\n",
              "    <tr style=\"text-align: right;\">\n",
              "      <th></th>\n",
              "      <th>SEXO</th>\n",
              "      <th>EDAD</th>\n",
              "      <th>CIVIL</th>\n",
              "    </tr>\n",
              "  </thead>\n",
              "  <tbody>\n",
              "    <tr>\n",
              "      <th>0</th>\n",
              "      <td>Femenino</td>\n",
              "      <td>57</td>\n",
              "      <td>Casado</td>\n",
              "    </tr>\n",
              "    <tr>\n",
              "      <th>1</th>\n",
              "      <td>Femenino</td>\n",
              "      <td>68</td>\n",
              "      <td>Casado</td>\n",
              "    </tr>\n",
              "    <tr>\n",
              "      <th>2</th>\n",
              "      <td>Masculino</td>\n",
              "      <td>34</td>\n",
              "      <td>Soltero</td>\n",
              "    </tr>\n",
              "  </tbody>\n",
              "</table>\n",
              "</div>"
            ],
            "text/plain": [
              "        SEXO  EDAD    CIVIL\n",
              "0   Femenino    57   Casado\n",
              "1   Femenino    68   Casado\n",
              "2  Masculino    34  Soltero"
            ]
          },
          "metadata": {
            "tags": []
          },
          "execution_count": 22
        }
      ]
    },
    {
      "cell_type": "code",
      "metadata": {
        "colab": {
          "base_uri": "https://localhost:8080/"
        },
        "id": "2Ra-nOrkYYKj",
        "outputId": "0c6592c1-1a64-49ac-cd46-145c3e4b9961"
      },
      "source": [
        "type(data1)"
      ],
      "execution_count": null,
      "outputs": [
        {
          "output_type": "execute_result",
          "data": {
            "text/plain": [
              "pandas.core.frame.DataFrame"
            ]
          },
          "metadata": {
            "tags": []
          },
          "execution_count": 24
        }
      ]
    },
    {
      "cell_type": "code",
      "metadata": {
        "collapsed": true,
        "id": "vXj7x8IgYYKk"
      },
      "source": [
        "subset = data[[\"EDAD\", \"CIVIL\", \"INGRESO\"]]"
      ],
      "execution_count": null,
      "outputs": []
    },
    {
      "cell_type": "code",
      "metadata": {
        "colab": {
          "base_uri": "https://localhost:8080/",
          "height": 204
        },
        "id": "Vnxdi1x2YYKk",
        "outputId": "e1a2fec0-62c8-4b42-e305-f79b1c7f4888"
      },
      "source": [
        "subset.head()"
      ],
      "execution_count": null,
      "outputs": [
        {
          "output_type": "execute_result",
          "data": {
            "text/html": [
              "<div>\n",
              "<style scoped>\n",
              "    .dataframe tbody tr th:only-of-type {\n",
              "        vertical-align: middle;\n",
              "    }\n",
              "\n",
              "    .dataframe tbody tr th {\n",
              "        vertical-align: top;\n",
              "    }\n",
              "\n",
              "    .dataframe thead th {\n",
              "        text-align: right;\n",
              "    }\n",
              "</style>\n",
              "<table border=\"1\" class=\"dataframe\">\n",
              "  <thead>\n",
              "    <tr style=\"text-align: right;\">\n",
              "      <th></th>\n",
              "      <th>EDAD</th>\n",
              "      <th>CIVIL</th>\n",
              "      <th>INGRESO</th>\n",
              "    </tr>\n",
              "  </thead>\n",
              "  <tbody>\n",
              "    <tr>\n",
              "      <th>0</th>\n",
              "      <td>57</td>\n",
              "      <td>Casado</td>\n",
              "      <td>27535.3</td>\n",
              "    </tr>\n",
              "    <tr>\n",
              "      <th>1</th>\n",
              "      <td>68</td>\n",
              "      <td>Casado</td>\n",
              "      <td>81000.9</td>\n",
              "    </tr>\n",
              "    <tr>\n",
              "      <th>2</th>\n",
              "      <td>34</td>\n",
              "      <td>Soltero</td>\n",
              "      <td>87467.1</td>\n",
              "    </tr>\n",
              "    <tr>\n",
              "      <th>3</th>\n",
              "      <td>60</td>\n",
              "      <td>Casado</td>\n",
              "      <td>83220.6</td>\n",
              "    </tr>\n",
              "    <tr>\n",
              "      <th>4</th>\n",
              "      <td>28</td>\n",
              "      <td>Casado</td>\n",
              "      <td>20850.4</td>\n",
              "    </tr>\n",
              "  </tbody>\n",
              "</table>\n",
              "</div>"
            ],
            "text/plain": [
              "   EDAD    CIVIL  INGRESO\n",
              "0    57   Casado  27535.3\n",
              "1    68   Casado  81000.9\n",
              "2    34  Soltero  87467.1\n",
              "3    60   Casado  83220.6\n",
              "4    28   Casado  20850.4"
            ]
          },
          "metadata": {
            "tags": []
          },
          "execution_count": 26
        }
      ]
    },
    {
      "cell_type": "code",
      "metadata": {
        "id": "MfKPM0khYYKl",
        "outputId": "84a28918-43c4-4cb8-bca7-141f79a0eafd"
      },
      "source": [
        "data.head(1)"
      ],
      "execution_count": null,
      "outputs": [
        {
          "output_type": "execute_result",
          "data": {
            "text/html": [
              "<div>\n",
              "<style scoped>\n",
              "    .dataframe tbody tr th:only-of-type {\n",
              "        vertical-align: middle;\n",
              "    }\n",
              "\n",
              "    .dataframe tbody tr th {\n",
              "        vertical-align: top;\n",
              "    }\n",
              "\n",
              "    .dataframe thead th {\n",
              "        text-align: right;\n",
              "    }\n",
              "</style>\n",
              "<table border=\"1\" class=\"dataframe\">\n",
              "  <thead>\n",
              "    <tr style=\"text-align: right;\">\n",
              "      <th></th>\n",
              "      <th>ID</th>\n",
              "      <th>EDAD</th>\n",
              "      <th>SEXO</th>\n",
              "      <th>CIVIL</th>\n",
              "      <th>HIJOS</th>\n",
              "      <th>INGRESO</th>\n",
              "      <th>AUTO</th>\n",
              "      <th>CHURN</th>\n",
              "    </tr>\n",
              "  </thead>\n",
              "  <tbody>\n",
              "    <tr>\n",
              "      <th>0</th>\n",
              "      <td>0</td>\n",
              "      <td>57</td>\n",
              "      <td>Femenino</td>\n",
              "      <td>Casado</td>\n",
              "      <td>2</td>\n",
              "      <td>27535.3</td>\n",
              "      <td>Si</td>\n",
              "      <td>Fuga</td>\n",
              "    </tr>\n",
              "  </tbody>\n",
              "</table>\n",
              "</div>"
            ],
            "text/plain": [
              "   ID  EDAD      SEXO   CIVIL  HIJOS  INGRESO AUTO CHURN\n",
              "0   0    57  Femenino  Casado      2  27535.3   Si  Fuga"
            ]
          },
          "metadata": {
            "tags": []
          },
          "execution_count": 12
        }
      ]
    },
    {
      "cell_type": "code",
      "metadata": {
        "collapsed": true,
        "id": "0XxuC-A-YYKl"
      },
      "source": [
        "# Ejercicio N°01\n",
        "# Crear un dataframe con las columnas SEXO, INGRESO Y la variable Target\n",
        "subset2= data[[\"SEXO\", \"INGRESO\", \"CHURN\"]]"
      ],
      "execution_count": null,
      "outputs": []
    },
    {
      "cell_type": "code",
      "metadata": {
        "colab": {
          "base_uri": "https://localhost:8080/",
          "height": 142
        },
        "id": "8aJeIYyyYYKm",
        "outputId": "f9f0d525-7c1f-44fb-b741-36cad645224b"
      },
      "source": [
        "subset2.head(3)"
      ],
      "execution_count": null,
      "outputs": [
        {
          "output_type": "execute_result",
          "data": {
            "text/html": [
              "<div>\n",
              "<style scoped>\n",
              "    .dataframe tbody tr th:only-of-type {\n",
              "        vertical-align: middle;\n",
              "    }\n",
              "\n",
              "    .dataframe tbody tr th {\n",
              "        vertical-align: top;\n",
              "    }\n",
              "\n",
              "    .dataframe thead th {\n",
              "        text-align: right;\n",
              "    }\n",
              "</style>\n",
              "<table border=\"1\" class=\"dataframe\">\n",
              "  <thead>\n",
              "    <tr style=\"text-align: right;\">\n",
              "      <th></th>\n",
              "      <th>SEXO</th>\n",
              "      <th>INGRESO</th>\n",
              "      <th>CHURN</th>\n",
              "    </tr>\n",
              "  </thead>\n",
              "  <tbody>\n",
              "    <tr>\n",
              "      <th>0</th>\n",
              "      <td>Femenino</td>\n",
              "      <td>27535.3</td>\n",
              "      <td>Fuga</td>\n",
              "    </tr>\n",
              "    <tr>\n",
              "      <th>1</th>\n",
              "      <td>Femenino</td>\n",
              "      <td>81000.9</td>\n",
              "      <td>Fuga</td>\n",
              "    </tr>\n",
              "    <tr>\n",
              "      <th>2</th>\n",
              "      <td>Masculino</td>\n",
              "      <td>87467.1</td>\n",
              "      <td>No Fuga</td>\n",
              "    </tr>\n",
              "  </tbody>\n",
              "</table>\n",
              "</div>"
            ],
            "text/plain": [
              "        SEXO  INGRESO    CHURN\n",
              "0   Femenino  27535.3     Fuga\n",
              "1   Femenino  81000.9     Fuga\n",
              "2  Masculino  87467.1  No Fuga"
            ]
          },
          "metadata": {
            "tags": []
          },
          "execution_count": 30
        }
      ]
    },
    {
      "cell_type": "code",
      "metadata": {
        "colab": {
          "base_uri": "https://localhost:8080/"
        },
        "id": "egGCT3c9YYKm",
        "outputId": "0e551e5b-df7e-4225-dbf7-7a3a9b63e522"
      },
      "source": [
        "type(subset)"
      ],
      "execution_count": null,
      "outputs": [
        {
          "output_type": "execute_result",
          "data": {
            "text/plain": [
              "pandas.core.frame.DataFrame"
            ]
          },
          "metadata": {
            "tags": []
          },
          "execution_count": 31
        }
      ]
    },
    {
      "cell_type": "code",
      "metadata": {
        "id": "aHYwRpenYYKn",
        "outputId": "aeb9196a-3021-47be-d872-606d7d177dfe"
      },
      "source": [
        "# Siempre es muy usado generar una lista de nombres de columnas y después generar el subset de datos\n",
        "columnas_input = [\"EDAD\",\"AUTO\"]\n",
        "# Del dataset elegimos las columnas anteriormente seleccionadas\n",
        "subset = data[columnas_input]\n",
        "# Mostramos lo deseado\n",
        "subset.head()"
      ],
      "execution_count": null,
      "outputs": [
        {
          "output_type": "execute_result",
          "data": {
            "text/html": [
              "<div>\n",
              "<style scoped>\n",
              "    .dataframe tbody tr th:only-of-type {\n",
              "        vertical-align: middle;\n",
              "    }\n",
              "\n",
              "    .dataframe tbody tr th {\n",
              "        vertical-align: top;\n",
              "    }\n",
              "\n",
              "    .dataframe thead th {\n",
              "        text-align: right;\n",
              "    }\n",
              "</style>\n",
              "<table border=\"1\" class=\"dataframe\">\n",
              "  <thead>\n",
              "    <tr style=\"text-align: right;\">\n",
              "      <th></th>\n",
              "      <th>EDAD</th>\n",
              "      <th>AUTO</th>\n",
              "    </tr>\n",
              "  </thead>\n",
              "  <tbody>\n",
              "    <tr>\n",
              "      <th>0</th>\n",
              "      <td>57</td>\n",
              "      <td>Si</td>\n",
              "    </tr>\n",
              "    <tr>\n",
              "      <th>1</th>\n",
              "      <td>68</td>\n",
              "      <td>No</td>\n",
              "    </tr>\n",
              "    <tr>\n",
              "      <th>2</th>\n",
              "      <td>34</td>\n",
              "      <td>Si</td>\n",
              "    </tr>\n",
              "    <tr>\n",
              "      <th>3</th>\n",
              "      <td>60</td>\n",
              "      <td>No</td>\n",
              "    </tr>\n",
              "    <tr>\n",
              "      <th>4</th>\n",
              "      <td>28</td>\n",
              "      <td>No</td>\n",
              "    </tr>\n",
              "  </tbody>\n",
              "</table>\n",
              "</div>"
            ],
            "text/plain": [
              "   EDAD AUTO\n",
              "0    57   Si\n",
              "1    68   No\n",
              "2    34   Si\n",
              "3    60   No\n",
              "4    28   No"
            ]
          },
          "metadata": {
            "tags": []
          },
          "execution_count": 15
        }
      ]
    },
    {
      "cell_type": "code",
      "metadata": {
        "id": "uxayBx9KYYKn",
        "outputId": "20c4ef42-d86d-402e-e291-9cc3f24ce397"
      },
      "source": [
        "data.head(1)"
      ],
      "execution_count": null,
      "outputs": [
        {
          "output_type": "execute_result",
          "data": {
            "text/html": [
              "<div>\n",
              "<style scoped>\n",
              "    .dataframe tbody tr th:only-of-type {\n",
              "        vertical-align: middle;\n",
              "    }\n",
              "\n",
              "    .dataframe tbody tr th {\n",
              "        vertical-align: top;\n",
              "    }\n",
              "\n",
              "    .dataframe thead th {\n",
              "        text-align: right;\n",
              "    }\n",
              "</style>\n",
              "<table border=\"1\" class=\"dataframe\">\n",
              "  <thead>\n",
              "    <tr style=\"text-align: right;\">\n",
              "      <th></th>\n",
              "      <th>ID</th>\n",
              "      <th>EDAD</th>\n",
              "      <th>SEXO</th>\n",
              "      <th>CIVIL</th>\n",
              "      <th>HIJOS</th>\n",
              "      <th>INGRESO</th>\n",
              "      <th>AUTO</th>\n",
              "      <th>CHURN</th>\n",
              "    </tr>\n",
              "  </thead>\n",
              "  <tbody>\n",
              "    <tr>\n",
              "      <th>0</th>\n",
              "      <td>0</td>\n",
              "      <td>57</td>\n",
              "      <td>Femenino</td>\n",
              "      <td>Casado</td>\n",
              "      <td>2</td>\n",
              "      <td>27535.3</td>\n",
              "      <td>Si</td>\n",
              "      <td>Fuga</td>\n",
              "    </tr>\n",
              "  </tbody>\n",
              "</table>\n",
              "</div>"
            ],
            "text/plain": [
              "   ID  EDAD      SEXO   CIVIL  HIJOS  INGRESO AUTO CHURN\n",
              "0   0    57  Femenino  Casado      2  27535.3   Si  Fuga"
            ]
          },
          "metadata": {
            "tags": []
          },
          "execution_count": 16
        }
      ]
    },
    {
      "cell_type": "code",
      "metadata": {
        "collapsed": true,
        "colab": {
          "base_uri": "https://localhost:8080/",
          "height": 111
        },
        "id": "fg-FTU4oYYKo",
        "outputId": "cb610670-59b1-4b96-e9cf-bb33d2758e27"
      },
      "source": [
        "# Ejercicio N°02\n",
        "# Generar una lista de variables con las variables Estado Civil, Ingreso y auto.\n",
        "columnas_input = [\"CIVIL\", \"INGRESO\", \"AUTO\"]\n",
        "subset3 = data[columnas_input]\n",
        "subset3.head(2)"
      ],
      "execution_count": null,
      "outputs": [
        {
          "output_type": "execute_result",
          "data": {
            "text/html": [
              "<div>\n",
              "<style scoped>\n",
              "    .dataframe tbody tr th:only-of-type {\n",
              "        vertical-align: middle;\n",
              "    }\n",
              "\n",
              "    .dataframe tbody tr th {\n",
              "        vertical-align: top;\n",
              "    }\n",
              "\n",
              "    .dataframe thead th {\n",
              "        text-align: right;\n",
              "    }\n",
              "</style>\n",
              "<table border=\"1\" class=\"dataframe\">\n",
              "  <thead>\n",
              "    <tr style=\"text-align: right;\">\n",
              "      <th></th>\n",
              "      <th>CIVIL</th>\n",
              "      <th>INGRESO</th>\n",
              "      <th>AUTO</th>\n",
              "    </tr>\n",
              "  </thead>\n",
              "  <tbody>\n",
              "    <tr>\n",
              "      <th>0</th>\n",
              "      <td>Casado</td>\n",
              "      <td>27535.3</td>\n",
              "      <td>Si</td>\n",
              "    </tr>\n",
              "    <tr>\n",
              "      <th>1</th>\n",
              "      <td>Casado</td>\n",
              "      <td>81000.9</td>\n",
              "      <td>No</td>\n",
              "    </tr>\n",
              "  </tbody>\n",
              "</table>\n",
              "</div>"
            ],
            "text/plain": [
              "    CIVIL  INGRESO AUTO\n",
              "0  Casado  27535.3   Si\n",
              "1  Casado  81000.9   No"
            ]
          },
          "metadata": {
            "tags": []
          },
          "execution_count": 33
        }
      ]
    },
    {
      "cell_type": "code",
      "metadata": {
        "id": "c-fTxrWNYYKo"
      },
      "source": [
        "# Podemos generar otra lista de columnas que no deseemos y por complemento retirarlas del set de datos\n",
        "columnas_no_input = [\"ID\", \"EDAD\"]\n",
        "columnas_no_input"
      ],
      "execution_count": null,
      "outputs": []
    },
    {
      "cell_type": "code",
      "metadata": {
        "id": "0CicHMADYYKp"
      },
      "source": [
        "# Genero la lista total de variables\n",
        "columnas_totales = data.columns.values.tolist()\n",
        "columnas_totales"
      ],
      "execution_count": null,
      "outputs": []
    },
    {
      "cell_type": "code",
      "metadata": {
        "colab": {
          "base_uri": "https://localhost:8080/"
        },
        "id": "GogpMab2YYKp",
        "outputId": "36b8c91e-5533-4939-cba9-d2cd9abe65c6"
      },
      "source": [
        "# Me quedo con las columnas necesarias\n",
        "columnas_complemento = [x for x in columnas_totales if x not in columnas_no_input]\n",
        "columnas_complemento"
      ],
      "execution_count": null,
      "outputs": [
        {
          "output_type": "execute_result",
          "data": {
            "text/plain": [
              "['SEXO', 'CIVIL', 'HIJOS', 'INGRESO', 'AUTO', 'CHURN']"
            ]
          },
          "metadata": {
            "tags": []
          },
          "execution_count": 38
        }
      ]
    },
    {
      "cell_type": "code",
      "metadata": {
        "colab": {
          "base_uri": "https://localhost:8080/",
          "height": 204
        },
        "id": "BydzVzfTYYKq",
        "outputId": "3fbdba6c-d54e-4d5b-e26e-8cc5d199ca12"
      },
      "source": [
        "subset2 = data[columnas_complemento]\n",
        "subset2.head()"
      ],
      "execution_count": null,
      "outputs": [
        {
          "output_type": "execute_result",
          "data": {
            "text/html": [
              "<div>\n",
              "<style scoped>\n",
              "    .dataframe tbody tr th:only-of-type {\n",
              "        vertical-align: middle;\n",
              "    }\n",
              "\n",
              "    .dataframe tbody tr th {\n",
              "        vertical-align: top;\n",
              "    }\n",
              "\n",
              "    .dataframe thead th {\n",
              "        text-align: right;\n",
              "    }\n",
              "</style>\n",
              "<table border=\"1\" class=\"dataframe\">\n",
              "  <thead>\n",
              "    <tr style=\"text-align: right;\">\n",
              "      <th></th>\n",
              "      <th>SEXO</th>\n",
              "      <th>CIVIL</th>\n",
              "      <th>HIJOS</th>\n",
              "      <th>INGRESO</th>\n",
              "      <th>AUTO</th>\n",
              "      <th>CHURN</th>\n",
              "    </tr>\n",
              "  </thead>\n",
              "  <tbody>\n",
              "    <tr>\n",
              "      <th>0</th>\n",
              "      <td>Femenino</td>\n",
              "      <td>Casado</td>\n",
              "      <td>2</td>\n",
              "      <td>27535.3</td>\n",
              "      <td>Si</td>\n",
              "      <td>Fuga</td>\n",
              "    </tr>\n",
              "    <tr>\n",
              "      <th>1</th>\n",
              "      <td>Femenino</td>\n",
              "      <td>Casado</td>\n",
              "      <td>2</td>\n",
              "      <td>81000.9</td>\n",
              "      <td>No</td>\n",
              "      <td>Fuga</td>\n",
              "    </tr>\n",
              "    <tr>\n",
              "      <th>2</th>\n",
              "      <td>Masculino</td>\n",
              "      <td>Soltero</td>\n",
              "      <td>0</td>\n",
              "      <td>87467.1</td>\n",
              "      <td>Si</td>\n",
              "      <td>No Fuga</td>\n",
              "    </tr>\n",
              "    <tr>\n",
              "      <th>3</th>\n",
              "      <td>Masculino</td>\n",
              "      <td>Casado</td>\n",
              "      <td>2</td>\n",
              "      <td>83220.6</td>\n",
              "      <td>No</td>\n",
              "      <td>Fuga</td>\n",
              "    </tr>\n",
              "    <tr>\n",
              "      <th>4</th>\n",
              "      <td>Femenino</td>\n",
              "      <td>Casado</td>\n",
              "      <td>2</td>\n",
              "      <td>20850.4</td>\n",
              "      <td>No</td>\n",
              "      <td>Fuga</td>\n",
              "    </tr>\n",
              "  </tbody>\n",
              "</table>\n",
              "</div>"
            ],
            "text/plain": [
              "        SEXO    CIVIL  HIJOS  INGRESO AUTO    CHURN\n",
              "0   Femenino   Casado      2  27535.3   Si     Fuga\n",
              "1   Femenino   Casado      2  81000.9   No     Fuga\n",
              "2  Masculino  Soltero      0  87467.1   Si  No Fuga\n",
              "3  Masculino   Casado      2  83220.6   No     Fuga\n",
              "4   Femenino   Casado      2  20850.4   No     Fuga"
            ]
          },
          "metadata": {
            "tags": []
          },
          "execution_count": 39
        }
      ]
    },
    {
      "cell_type": "code",
      "metadata": {
        "collapsed": true,
        "id": "rwVEuJnKYYKq"
      },
      "source": [
        "# Ejercicio N°03\n",
        "# Generar una lista con columnas no deseadas como CIVIL, AUTO, HIJOS y CHURN, y de las columnas totales suprimirlas"
      ],
      "execution_count": null,
      "outputs": []
    },
    {
      "cell_type": "markdown",
      "metadata": {
        "id": "P1QIAFU7YYKr"
      },
      "source": [
        "#### Subconjunto de filas"
      ]
    },
    {
      "cell_type": "code",
      "metadata": {
        "colab": {
          "base_uri": "https://localhost:8080/",
          "height": 204
        },
        "id": "FSfY4ZBOYYKr",
        "outputId": "9bf8dc5b-fdbd-4b7b-ec5f-4b4e270a99ab"
      },
      "source": [
        "data[:5] # Me salen las 5 primeras filas con todas las columnas"
      ],
      "execution_count": null,
      "outputs": [
        {
          "output_type": "execute_result",
          "data": {
            "text/html": [
              "<div>\n",
              "<style scoped>\n",
              "    .dataframe tbody tr th:only-of-type {\n",
              "        vertical-align: middle;\n",
              "    }\n",
              "\n",
              "    .dataframe tbody tr th {\n",
              "        vertical-align: top;\n",
              "    }\n",
              "\n",
              "    .dataframe thead th {\n",
              "        text-align: right;\n",
              "    }\n",
              "</style>\n",
              "<table border=\"1\" class=\"dataframe\">\n",
              "  <thead>\n",
              "    <tr style=\"text-align: right;\">\n",
              "      <th></th>\n",
              "      <th>ID</th>\n",
              "      <th>EDAD</th>\n",
              "      <th>SEXO</th>\n",
              "      <th>CIVIL</th>\n",
              "      <th>HIJOS</th>\n",
              "      <th>INGRESO</th>\n",
              "      <th>AUTO</th>\n",
              "      <th>CHURN</th>\n",
              "    </tr>\n",
              "  </thead>\n",
              "  <tbody>\n",
              "    <tr>\n",
              "      <th>0</th>\n",
              "      <td>0</td>\n",
              "      <td>57</td>\n",
              "      <td>Femenino</td>\n",
              "      <td>Casado</td>\n",
              "      <td>2</td>\n",
              "      <td>27535.3</td>\n",
              "      <td>Si</td>\n",
              "      <td>Fuga</td>\n",
              "    </tr>\n",
              "    <tr>\n",
              "      <th>1</th>\n",
              "      <td>4</td>\n",
              "      <td>68</td>\n",
              "      <td>Femenino</td>\n",
              "      <td>Casado</td>\n",
              "      <td>2</td>\n",
              "      <td>81000.9</td>\n",
              "      <td>No</td>\n",
              "      <td>Fuga</td>\n",
              "    </tr>\n",
              "    <tr>\n",
              "      <th>2</th>\n",
              "      <td>8</td>\n",
              "      <td>34</td>\n",
              "      <td>Masculino</td>\n",
              "      <td>Soltero</td>\n",
              "      <td>0</td>\n",
              "      <td>87467.1</td>\n",
              "      <td>Si</td>\n",
              "      <td>No Fuga</td>\n",
              "    </tr>\n",
              "    <tr>\n",
              "      <th>3</th>\n",
              "      <td>10</td>\n",
              "      <td>60</td>\n",
              "      <td>Masculino</td>\n",
              "      <td>Casado</td>\n",
              "      <td>2</td>\n",
              "      <td>83220.6</td>\n",
              "      <td>No</td>\n",
              "      <td>Fuga</td>\n",
              "    </tr>\n",
              "    <tr>\n",
              "      <th>4</th>\n",
              "      <td>13</td>\n",
              "      <td>28</td>\n",
              "      <td>Femenino</td>\n",
              "      <td>Casado</td>\n",
              "      <td>2</td>\n",
              "      <td>20850.4</td>\n",
              "      <td>No</td>\n",
              "      <td>Fuga</td>\n",
              "    </tr>\n",
              "  </tbody>\n",
              "</table>\n",
              "</div>"
            ],
            "text/plain": [
              "   ID  EDAD       SEXO    CIVIL  HIJOS  INGRESO AUTO    CHURN\n",
              "0   0    57   Femenino   Casado      2  27535.3   Si     Fuga\n",
              "1   4    68   Femenino   Casado      2  81000.9   No     Fuga\n",
              "2   8    34  Masculino  Soltero      0  87467.1   Si  No Fuga\n",
              "3  10    60  Masculino   Casado      2  83220.6   No     Fuga\n",
              "4  13    28   Femenino   Casado      2  20850.4   No     Fuga"
            ]
          },
          "metadata": {
            "tags": []
          },
          "execution_count": 41
        }
      ]
    },
    {
      "cell_type": "code",
      "metadata": {
        "colab": {
          "base_uri": "https://localhost:8080/",
          "height": 359
        },
        "id": "m0o35Z3eYYKr",
        "outputId": "2ef63ddb-9a5f-4be1-e6e7-a4821e956e1b"
      },
      "source": [
        "data[0:10]"
      ],
      "execution_count": null,
      "outputs": [
        {
          "output_type": "execute_result",
          "data": {
            "text/html": [
              "<div>\n",
              "<style scoped>\n",
              "    .dataframe tbody tr th:only-of-type {\n",
              "        vertical-align: middle;\n",
              "    }\n",
              "\n",
              "    .dataframe tbody tr th {\n",
              "        vertical-align: top;\n",
              "    }\n",
              "\n",
              "    .dataframe thead th {\n",
              "        text-align: right;\n",
              "    }\n",
              "</style>\n",
              "<table border=\"1\" class=\"dataframe\">\n",
              "  <thead>\n",
              "    <tr style=\"text-align: right;\">\n",
              "      <th></th>\n",
              "      <th>ID</th>\n",
              "      <th>EDAD</th>\n",
              "      <th>SEXO</th>\n",
              "      <th>CIVIL</th>\n",
              "      <th>HIJOS</th>\n",
              "      <th>INGRESO</th>\n",
              "      <th>AUTO</th>\n",
              "      <th>CHURN</th>\n",
              "    </tr>\n",
              "  </thead>\n",
              "  <tbody>\n",
              "    <tr>\n",
              "      <th>0</th>\n",
              "      <td>0</td>\n",
              "      <td>57</td>\n",
              "      <td>Femenino</td>\n",
              "      <td>Casado</td>\n",
              "      <td>2</td>\n",
              "      <td>27535.30</td>\n",
              "      <td>Si</td>\n",
              "      <td>Fuga</td>\n",
              "    </tr>\n",
              "    <tr>\n",
              "      <th>1</th>\n",
              "      <td>4</td>\n",
              "      <td>68</td>\n",
              "      <td>Femenino</td>\n",
              "      <td>Casado</td>\n",
              "      <td>2</td>\n",
              "      <td>81000.90</td>\n",
              "      <td>No</td>\n",
              "      <td>Fuga</td>\n",
              "    </tr>\n",
              "    <tr>\n",
              "      <th>2</th>\n",
              "      <td>8</td>\n",
              "      <td>34</td>\n",
              "      <td>Masculino</td>\n",
              "      <td>Soltero</td>\n",
              "      <td>0</td>\n",
              "      <td>87467.10</td>\n",
              "      <td>Si</td>\n",
              "      <td>No Fuga</td>\n",
              "    </tr>\n",
              "    <tr>\n",
              "      <th>3</th>\n",
              "      <td>10</td>\n",
              "      <td>60</td>\n",
              "      <td>Masculino</td>\n",
              "      <td>Casado</td>\n",
              "      <td>2</td>\n",
              "      <td>83220.60</td>\n",
              "      <td>No</td>\n",
              "      <td>Fuga</td>\n",
              "    </tr>\n",
              "    <tr>\n",
              "      <th>4</th>\n",
              "      <td>13</td>\n",
              "      <td>28</td>\n",
              "      <td>Femenino</td>\n",
              "      <td>Casado</td>\n",
              "      <td>2</td>\n",
              "      <td>20850.40</td>\n",
              "      <td>No</td>\n",
              "      <td>Fuga</td>\n",
              "    </tr>\n",
              "    <tr>\n",
              "      <th>5</th>\n",
              "      <td>17</td>\n",
              "      <td>52</td>\n",
              "      <td>Masculino</td>\n",
              "      <td>Soltero</td>\n",
              "      <td>0</td>\n",
              "      <td>84112.60</td>\n",
              "      <td>No</td>\n",
              "      <td>No Fuga</td>\n",
              "    </tr>\n",
              "    <tr>\n",
              "      <th>6</th>\n",
              "      <td>19</td>\n",
              "      <td>87</td>\n",
              "      <td>Femenino</td>\n",
              "      <td>Soltero</td>\n",
              "      <td>2</td>\n",
              "      <td>3776.12</td>\n",
              "      <td>No</td>\n",
              "      <td>Fuga</td>\n",
              "    </tr>\n",
              "    <tr>\n",
              "      <th>7</th>\n",
              "      <td>20</td>\n",
              "      <td>88</td>\n",
              "      <td>Femenino</td>\n",
              "      <td>Casado</td>\n",
              "      <td>2</td>\n",
              "      <td>73865.90</td>\n",
              "      <td>Si</td>\n",
              "      <td>Fuga</td>\n",
              "    </tr>\n",
              "    <tr>\n",
              "      <th>8</th>\n",
              "      <td>22</td>\n",
              "      <td>76</td>\n",
              "      <td>Masculino</td>\n",
              "      <td>Casado</td>\n",
              "      <td>2</td>\n",
              "      <td>30933.60</td>\n",
              "      <td>Si</td>\n",
              "      <td>No Fuga</td>\n",
              "    </tr>\n",
              "    <tr>\n",
              "      <th>9</th>\n",
              "      <td>23</td>\n",
              "      <td>76</td>\n",
              "      <td>Femenino</td>\n",
              "      <td>Casado</td>\n",
              "      <td>1</td>\n",
              "      <td>12309.60</td>\n",
              "      <td>No</td>\n",
              "      <td>Fuga</td>\n",
              "    </tr>\n",
              "  </tbody>\n",
              "</table>\n",
              "</div>"
            ],
            "text/plain": [
              "   ID  EDAD       SEXO    CIVIL  HIJOS   INGRESO AUTO    CHURN\n",
              "0   0    57   Femenino   Casado      2  27535.30   Si     Fuga\n",
              "1   4    68   Femenino   Casado      2  81000.90   No     Fuga\n",
              "2   8    34  Masculino  Soltero      0  87467.10   Si  No Fuga\n",
              "3  10    60  Masculino   Casado      2  83220.60   No     Fuga\n",
              "4  13    28   Femenino   Casado      2  20850.40   No     Fuga\n",
              "5  17    52  Masculino  Soltero      0  84112.60   No  No Fuga\n",
              "6  19    87   Femenino  Soltero      2   3776.12   No     Fuga\n",
              "7  20    88   Femenino   Casado      2  73865.90   Si     Fuga\n",
              "8  22    76  Masculino   Casado      2  30933.60   Si  No Fuga\n",
              "9  23    76   Femenino   Casado      1  12309.60   No     Fuga"
            ]
          },
          "metadata": {
            "tags": []
          },
          "execution_count": 42
        }
      ]
    },
    {
      "cell_type": "code",
      "metadata": {
        "id": "r0h4oLfYYYKs"
      },
      "source": [
        "data[:15] # CORRECCIÓN: es lo mismo que data[0:8]"
      ],
      "execution_count": null,
      "outputs": []
    },
    {
      "cell_type": "code",
      "metadata": {
        "id": "IUSXqRaPYYKs",
        "outputId": "224d4102-efb7-4720-a92f-481f3794fcd2"
      },
      "source": [
        "data[0:4]"
      ],
      "execution_count": null,
      "outputs": [
        {
          "output_type": "execute_result",
          "data": {
            "text/html": [
              "<div>\n",
              "<style scoped>\n",
              "    .dataframe tbody tr th:only-of-type {\n",
              "        vertical-align: middle;\n",
              "    }\n",
              "\n",
              "    .dataframe tbody tr th {\n",
              "        vertical-align: top;\n",
              "    }\n",
              "\n",
              "    .dataframe thead th {\n",
              "        text-align: right;\n",
              "    }\n",
              "</style>\n",
              "<table border=\"1\" class=\"dataframe\">\n",
              "  <thead>\n",
              "    <tr style=\"text-align: right;\">\n",
              "      <th></th>\n",
              "      <th>ID</th>\n",
              "      <th>EDAD</th>\n",
              "      <th>SEXO</th>\n",
              "      <th>CIVIL</th>\n",
              "      <th>HIJOS</th>\n",
              "      <th>INGRESO</th>\n",
              "      <th>AUTO</th>\n",
              "      <th>CHURN</th>\n",
              "    </tr>\n",
              "  </thead>\n",
              "  <tbody>\n",
              "    <tr>\n",
              "      <th>0</th>\n",
              "      <td>0</td>\n",
              "      <td>57</td>\n",
              "      <td>Femenino</td>\n",
              "      <td>Casado</td>\n",
              "      <td>2</td>\n",
              "      <td>27535.3</td>\n",
              "      <td>Si</td>\n",
              "      <td>Fuga</td>\n",
              "    </tr>\n",
              "    <tr>\n",
              "      <th>1</th>\n",
              "      <td>4</td>\n",
              "      <td>68</td>\n",
              "      <td>Femenino</td>\n",
              "      <td>Casado</td>\n",
              "      <td>2</td>\n",
              "      <td>81000.9</td>\n",
              "      <td>No</td>\n",
              "      <td>Fuga</td>\n",
              "    </tr>\n",
              "    <tr>\n",
              "      <th>2</th>\n",
              "      <td>8</td>\n",
              "      <td>34</td>\n",
              "      <td>Masculino</td>\n",
              "      <td>Soltero</td>\n",
              "      <td>0</td>\n",
              "      <td>87467.1</td>\n",
              "      <td>Si</td>\n",
              "      <td>No Fuga</td>\n",
              "    </tr>\n",
              "    <tr>\n",
              "      <th>3</th>\n",
              "      <td>10</td>\n",
              "      <td>60</td>\n",
              "      <td>Masculino</td>\n",
              "      <td>Casado</td>\n",
              "      <td>2</td>\n",
              "      <td>83220.6</td>\n",
              "      <td>No</td>\n",
              "      <td>Fuga</td>\n",
              "    </tr>\n",
              "  </tbody>\n",
              "</table>\n",
              "</div>"
            ],
            "text/plain": [
              "   ID  EDAD       SEXO    CIVIL  HIJOS  INGRESO AUTO    CHURN\n",
              "0   0    57   Femenino   Casado      2  27535.3   Si     Fuga\n",
              "1   4    68   Femenino   Casado      2  81000.9   No     Fuga\n",
              "2   8    34  Masculino  Soltero      0  87467.1   Si  No Fuga\n",
              "3  10    60  Masculino   Casado      2  83220.6   No     Fuga"
            ]
          },
          "metadata": {
            "tags": []
          },
          "execution_count": 27
        }
      ]
    },
    {
      "cell_type": "markdown",
      "metadata": {
        "id": "h4GHRk-SYYKt"
      },
      "source": [
        "#### Subconjuntos de filas con condiciones booleanas"
      ]
    },
    {
      "cell_type": "code",
      "metadata": {
        "colab": {
          "base_uri": "https://localhost:8080/",
          "height": 142
        },
        "id": "NFSV9dEtYYKt",
        "outputId": "729f182f-8234-441d-9ad6-66414bf9e9ab"
      },
      "source": [
        "## Clientes con INGRESO > 30000, mayores de 34 años y de sexo femenino\n",
        "data1 = data[(data[\"INGRESO\"]>30000) & (data[\"EDAD\"]>=34) & (data[\"SEXO\"]==\"Femenino\")]\n",
        "data1.head(3)"
      ],
      "execution_count": null,
      "outputs": [
        {
          "output_type": "execute_result",
          "data": {
            "text/html": [
              "<div>\n",
              "<style scoped>\n",
              "    .dataframe tbody tr th:only-of-type {\n",
              "        vertical-align: middle;\n",
              "    }\n",
              "\n",
              "    .dataframe tbody tr th {\n",
              "        vertical-align: top;\n",
              "    }\n",
              "\n",
              "    .dataframe thead th {\n",
              "        text-align: right;\n",
              "    }\n",
              "</style>\n",
              "<table border=\"1\" class=\"dataframe\">\n",
              "  <thead>\n",
              "    <tr style=\"text-align: right;\">\n",
              "      <th></th>\n",
              "      <th>ID</th>\n",
              "      <th>EDAD</th>\n",
              "      <th>SEXO</th>\n",
              "      <th>CIVIL</th>\n",
              "      <th>HIJOS</th>\n",
              "      <th>INGRESO</th>\n",
              "      <th>AUTO</th>\n",
              "      <th>CHURN</th>\n",
              "    </tr>\n",
              "  </thead>\n",
              "  <tbody>\n",
              "    <tr>\n",
              "      <th>1</th>\n",
              "      <td>4</td>\n",
              "      <td>68</td>\n",
              "      <td>Femenino</td>\n",
              "      <td>Casado</td>\n",
              "      <td>2</td>\n",
              "      <td>81000.9</td>\n",
              "      <td>No</td>\n",
              "      <td>Fuga</td>\n",
              "    </tr>\n",
              "    <tr>\n",
              "      <th>7</th>\n",
              "      <td>20</td>\n",
              "      <td>88</td>\n",
              "      <td>Femenino</td>\n",
              "      <td>Casado</td>\n",
              "      <td>2</td>\n",
              "      <td>73865.9</td>\n",
              "      <td>Si</td>\n",
              "      <td>Fuga</td>\n",
              "    </tr>\n",
              "    <tr>\n",
              "      <th>11</th>\n",
              "      <td>28</td>\n",
              "      <td>90</td>\n",
              "      <td>Femenino</td>\n",
              "      <td>Casado</td>\n",
              "      <td>0</td>\n",
              "      <td>91620.6</td>\n",
              "      <td>No</td>\n",
              "      <td>No Fuga</td>\n",
              "    </tr>\n",
              "  </tbody>\n",
              "</table>\n",
              "</div>"
            ],
            "text/plain": [
              "    ID  EDAD      SEXO   CIVIL  HIJOS  INGRESO AUTO    CHURN\n",
              "1    4    68  Femenino  Casado      2  81000.9   No     Fuga\n",
              "7   20    88  Femenino  Casado      2  73865.9   Si     Fuga\n",
              "11  28    90  Femenino  Casado      0  91620.6   No  No Fuga"
            ]
          },
          "metadata": {
            "tags": []
          },
          "execution_count": 53
        }
      ]
    },
    {
      "cell_type": "code",
      "metadata": {
        "colab": {
          "base_uri": "https://localhost:8080/"
        },
        "id": "M5oONrbnYYKt",
        "outputId": "3704f08a-af84-4c65-87dd-553b371c6136"
      },
      "source": [
        "data.CHURN.value_counts() # Cuenta la cantidad de clientes que fugaron y cuales no\n",
        "data.SEXO.value_counts()"
      ],
      "execution_count": null,
      "outputs": [
        {
          "output_type": "execute_result",
          "data": {
            "text/plain": [
              "Femenino     673\n",
              "Masculino    672\n",
              "Name: SEXO, dtype: int64"
            ]
          },
          "metadata": {
            "tags": []
          },
          "execution_count": 54
        }
      ]
    },
    {
      "cell_type": "code",
      "metadata": {
        "id": "m4HNnGeDYYKu"
      },
      "source": [
        "## Clientes Fugados (CHURN = \"Fuga\")\n",
        "data2 = data[data[\"CHURN\"]==\"Fuga\"]\n",
        "data2.head(4)"
      ],
      "execution_count": null,
      "outputs": []
    },
    {
      "cell_type": "code",
      "metadata": {
        "id": "82GeuURmYYKv",
        "outputId": "c2dc6319-041e-44a1-a563-de5d3461d650"
      },
      "source": [
        "## AND -> &\n",
        "data3 = data[(data[\"INGRESO\"]>30000) & (data[\"CHURN\"]==\"No Fuga\")]\n",
        "data3.shape"
      ],
      "execution_count": null,
      "outputs": [
        {
          "output_type": "execute_result",
          "data": {
            "text/plain": [
              "(612, 8)"
            ]
          },
          "metadata": {
            "tags": []
          },
          "execution_count": 28
        }
      ]
    },
    {
      "cell_type": "code",
      "metadata": {
        "id": "nluLgrkLYYK0",
        "outputId": "e4c03004-0720-462b-ffe4-b695e8ca7fbf"
      },
      "source": [
        "## OR -> |\n",
        "data4 = data[(data[\"SEXO\"]==\"Femenino\") | (data[\"CHURN\"]==\"Fuga\")]\n",
        "data4.head(6)"
      ],
      "execution_count": null,
      "outputs": [
        {
          "output_type": "execute_result",
          "data": {
            "text/html": [
              "<div>\n",
              "<style scoped>\n",
              "    .dataframe tbody tr th:only-of-type {\n",
              "        vertical-align: middle;\n",
              "    }\n",
              "\n",
              "    .dataframe tbody tr th {\n",
              "        vertical-align: top;\n",
              "    }\n",
              "\n",
              "    .dataframe thead th {\n",
              "        text-align: right;\n",
              "    }\n",
              "</style>\n",
              "<table border=\"1\" class=\"dataframe\">\n",
              "  <thead>\n",
              "    <tr style=\"text-align: right;\">\n",
              "      <th></th>\n",
              "      <th>ID</th>\n",
              "      <th>EDAD</th>\n",
              "      <th>SEXO</th>\n",
              "      <th>CIVIL</th>\n",
              "      <th>HIJOS</th>\n",
              "      <th>INGRESO</th>\n",
              "      <th>AUTO</th>\n",
              "      <th>CHURN</th>\n",
              "    </tr>\n",
              "  </thead>\n",
              "  <tbody>\n",
              "    <tr>\n",
              "      <th>0</th>\n",
              "      <td>0</td>\n",
              "      <td>57</td>\n",
              "      <td>Femenino</td>\n",
              "      <td>Casado</td>\n",
              "      <td>2</td>\n",
              "      <td>27535.30</td>\n",
              "      <td>Si</td>\n",
              "      <td>Fuga</td>\n",
              "    </tr>\n",
              "    <tr>\n",
              "      <th>1</th>\n",
              "      <td>4</td>\n",
              "      <td>68</td>\n",
              "      <td>Femenino</td>\n",
              "      <td>Casado</td>\n",
              "      <td>2</td>\n",
              "      <td>81000.90</td>\n",
              "      <td>No</td>\n",
              "      <td>Fuga</td>\n",
              "    </tr>\n",
              "    <tr>\n",
              "      <th>3</th>\n",
              "      <td>10</td>\n",
              "      <td>60</td>\n",
              "      <td>Masculino</td>\n",
              "      <td>Casado</td>\n",
              "      <td>2</td>\n",
              "      <td>83220.60</td>\n",
              "      <td>No</td>\n",
              "      <td>Fuga</td>\n",
              "    </tr>\n",
              "    <tr>\n",
              "      <th>4</th>\n",
              "      <td>13</td>\n",
              "      <td>28</td>\n",
              "      <td>Femenino</td>\n",
              "      <td>Casado</td>\n",
              "      <td>2</td>\n",
              "      <td>20850.40</td>\n",
              "      <td>No</td>\n",
              "      <td>Fuga</td>\n",
              "    </tr>\n",
              "    <tr>\n",
              "      <th>6</th>\n",
              "      <td>19</td>\n",
              "      <td>87</td>\n",
              "      <td>Femenino</td>\n",
              "      <td>Soltero</td>\n",
              "      <td>2</td>\n",
              "      <td>3776.12</td>\n",
              "      <td>No</td>\n",
              "      <td>Fuga</td>\n",
              "    </tr>\n",
              "    <tr>\n",
              "      <th>7</th>\n",
              "      <td>20</td>\n",
              "      <td>88</td>\n",
              "      <td>Femenino</td>\n",
              "      <td>Casado</td>\n",
              "      <td>2</td>\n",
              "      <td>73865.90</td>\n",
              "      <td>Si</td>\n",
              "      <td>Fuga</td>\n",
              "    </tr>\n",
              "  </tbody>\n",
              "</table>\n",
              "</div>"
            ],
            "text/plain": [
              "   ID  EDAD       SEXO    CIVIL  HIJOS   INGRESO AUTO CHURN\n",
              "0   0    57   Femenino   Casado      2  27535.30   Si  Fuga\n",
              "1   4    68   Femenino   Casado      2  81000.90   No  Fuga\n",
              "3  10    60  Masculino   Casado      2  83220.60   No  Fuga\n",
              "4  13    28   Femenino   Casado      2  20850.40   No  Fuga\n",
              "6  19    87   Femenino  Soltero      2   3776.12   No  Fuga\n",
              "7  20    88   Femenino   Casado      2  73865.90   Si  Fuga"
            ]
          },
          "metadata": {
            "tags": []
          },
          "execution_count": 29
        }
      ]
    },
    {
      "cell_type": "code",
      "metadata": {
        "collapsed": true,
        "colab": {
          "base_uri": "https://localhost:8080/",
          "height": 142
        },
        "id": "OhDZnD-fYYK1",
        "outputId": "1d5576fa-b24a-4ce8-b47b-ec75e1cc44c3"
      },
      "source": [
        "# Ejercicio N°04\n",
        "# Generar un subset de clientes con ingresos mayores a 1000 soles, No Fugados y con edades mayores a 28 años.\n",
        "data5 = data[(data[\"INGRESO\"]>1000) & (data[\"CHURN\"]=='No Fuga') & (data[\"EDAD\"]>28)]\n",
        "data5.head(3)"
      ],
      "execution_count": null,
      "outputs": [
        {
          "output_type": "execute_result",
          "data": {
            "text/html": [
              "<div>\n",
              "<style scoped>\n",
              "    .dataframe tbody tr th:only-of-type {\n",
              "        vertical-align: middle;\n",
              "    }\n",
              "\n",
              "    .dataframe tbody tr th {\n",
              "        vertical-align: top;\n",
              "    }\n",
              "\n",
              "    .dataframe thead th {\n",
              "        text-align: right;\n",
              "    }\n",
              "</style>\n",
              "<table border=\"1\" class=\"dataframe\">\n",
              "  <thead>\n",
              "    <tr style=\"text-align: right;\">\n",
              "      <th></th>\n",
              "      <th>ID</th>\n",
              "      <th>EDAD</th>\n",
              "      <th>SEXO</th>\n",
              "      <th>CIVIL</th>\n",
              "      <th>HIJOS</th>\n",
              "      <th>INGRESO</th>\n",
              "      <th>AUTO</th>\n",
              "      <th>CHURN</th>\n",
              "    </tr>\n",
              "  </thead>\n",
              "  <tbody>\n",
              "    <tr>\n",
              "      <th>2</th>\n",
              "      <td>8</td>\n",
              "      <td>34</td>\n",
              "      <td>Masculino</td>\n",
              "      <td>Soltero</td>\n",
              "      <td>0</td>\n",
              "      <td>87467.1</td>\n",
              "      <td>Si</td>\n",
              "      <td>No Fuga</td>\n",
              "    </tr>\n",
              "    <tr>\n",
              "      <th>5</th>\n",
              "      <td>17</td>\n",
              "      <td>52</td>\n",
              "      <td>Masculino</td>\n",
              "      <td>Soltero</td>\n",
              "      <td>0</td>\n",
              "      <td>84112.6</td>\n",
              "      <td>No</td>\n",
              "      <td>No Fuga</td>\n",
              "    </tr>\n",
              "    <tr>\n",
              "      <th>8</th>\n",
              "      <td>22</td>\n",
              "      <td>76</td>\n",
              "      <td>Masculino</td>\n",
              "      <td>Casado</td>\n",
              "      <td>2</td>\n",
              "      <td>30933.6</td>\n",
              "      <td>Si</td>\n",
              "      <td>No Fuga</td>\n",
              "    </tr>\n",
              "  </tbody>\n",
              "</table>\n",
              "</div>"
            ],
            "text/plain": [
              "   ID  EDAD       SEXO    CIVIL  HIJOS  INGRESO AUTO    CHURN\n",
              "2   8    34  Masculino  Soltero      0  87467.1   Si  No Fuga\n",
              "5  17    52  Masculino  Soltero      0  84112.6   No  No Fuga\n",
              "8  22    76  Masculino   Casado      2  30933.6   Si  No Fuga"
            ]
          },
          "metadata": {
            "tags": []
          },
          "execution_count": 59
        }
      ]
    },
    {
      "cell_type": "code",
      "metadata": {
        "id": "i0E2SggMYYK1"
      },
      "source": [
        "## EDAD, AUTO y CHURN de los primeros 20 individuos\n",
        "subset_primeros_50 = data[[\"EDAD\", \"AUTO\", \"CHURN\"]][2:50] # Empezando desde el tercero\n",
        "subset_primeros_50"
      ],
      "execution_count": null,
      "outputs": []
    },
    {
      "cell_type": "code",
      "metadata": {
        "id": "xIsteB3-YYK2"
      },
      "source": [
        "subset[:10]"
      ],
      "execution_count": null,
      "outputs": []
    },
    {
      "cell_type": "markdown",
      "metadata": {
        "id": "ydXAVIJgYYK2"
      },
      "source": [
        "#### Filtrado con ix -> loc e iloc"
      ]
    },
    {
      "cell_type": "code",
      "metadata": {
        "id": "QwGA6XG7YYK2"
      },
      "source": [
        "data.ix[1:10, 3:6] ## Primeras 10 filas, columnas de la 3 a la 6\n"
      ],
      "execution_count": null,
      "outputs": []
    },
    {
      "cell_type": "code",
      "metadata": {
        "id": "ZMPA2VPxYYK3"
      },
      "source": [
        "data.iloc[2:10 , 2:6] # data[filas,columnas]"
      ],
      "execution_count": null,
      "outputs": []
    },
    {
      "cell_type": "code",
      "metadata": {
        "colab": {
          "base_uri": "https://localhost:8080/",
          "height": 328
        },
        "id": "ISeB4xcuYYK3",
        "outputId": "dad4e115-ed40-4c4c-a578-27744f993f01"
      },
      "source": [
        "data.iloc[:,3:6] ##Todas las filas para las columnas entre la 3 y la 6\n",
        "data.iloc[1:10,:] ##Todas las columnas para las filas de la 1 a la 10"
      ],
      "execution_count": null,
      "outputs": [
        {
          "output_type": "execute_result",
          "data": {
            "text/html": [
              "<div>\n",
              "<style scoped>\n",
              "    .dataframe tbody tr th:only-of-type {\n",
              "        vertical-align: middle;\n",
              "    }\n",
              "\n",
              "    .dataframe tbody tr th {\n",
              "        vertical-align: top;\n",
              "    }\n",
              "\n",
              "    .dataframe thead th {\n",
              "        text-align: right;\n",
              "    }\n",
              "</style>\n",
              "<table border=\"1\" class=\"dataframe\">\n",
              "  <thead>\n",
              "    <tr style=\"text-align: right;\">\n",
              "      <th></th>\n",
              "      <th>ID</th>\n",
              "      <th>EDAD</th>\n",
              "      <th>SEXO</th>\n",
              "      <th>CIVIL</th>\n",
              "      <th>HIJOS</th>\n",
              "      <th>INGRESO</th>\n",
              "      <th>AUTO</th>\n",
              "      <th>CHURN</th>\n",
              "    </tr>\n",
              "  </thead>\n",
              "  <tbody>\n",
              "    <tr>\n",
              "      <th>1</th>\n",
              "      <td>4</td>\n",
              "      <td>68</td>\n",
              "      <td>Femenino</td>\n",
              "      <td>Casado</td>\n",
              "      <td>2</td>\n",
              "      <td>81000.90</td>\n",
              "      <td>No</td>\n",
              "      <td>Fuga</td>\n",
              "    </tr>\n",
              "    <tr>\n",
              "      <th>2</th>\n",
              "      <td>8</td>\n",
              "      <td>34</td>\n",
              "      <td>Masculino</td>\n",
              "      <td>Soltero</td>\n",
              "      <td>0</td>\n",
              "      <td>87467.10</td>\n",
              "      <td>Si</td>\n",
              "      <td>No Fuga</td>\n",
              "    </tr>\n",
              "    <tr>\n",
              "      <th>3</th>\n",
              "      <td>10</td>\n",
              "      <td>60</td>\n",
              "      <td>Masculino</td>\n",
              "      <td>Casado</td>\n",
              "      <td>2</td>\n",
              "      <td>83220.60</td>\n",
              "      <td>No</td>\n",
              "      <td>Fuga</td>\n",
              "    </tr>\n",
              "    <tr>\n",
              "      <th>4</th>\n",
              "      <td>13</td>\n",
              "      <td>28</td>\n",
              "      <td>Femenino</td>\n",
              "      <td>Casado</td>\n",
              "      <td>2</td>\n",
              "      <td>20850.40</td>\n",
              "      <td>No</td>\n",
              "      <td>Fuga</td>\n",
              "    </tr>\n",
              "    <tr>\n",
              "      <th>5</th>\n",
              "      <td>17</td>\n",
              "      <td>52</td>\n",
              "      <td>Masculino</td>\n",
              "      <td>Soltero</td>\n",
              "      <td>0</td>\n",
              "      <td>84112.60</td>\n",
              "      <td>No</td>\n",
              "      <td>No Fuga</td>\n",
              "    </tr>\n",
              "    <tr>\n",
              "      <th>6</th>\n",
              "      <td>19</td>\n",
              "      <td>87</td>\n",
              "      <td>Femenino</td>\n",
              "      <td>Soltero</td>\n",
              "      <td>2</td>\n",
              "      <td>3776.12</td>\n",
              "      <td>No</td>\n",
              "      <td>Fuga</td>\n",
              "    </tr>\n",
              "    <tr>\n",
              "      <th>7</th>\n",
              "      <td>20</td>\n",
              "      <td>88</td>\n",
              "      <td>Femenino</td>\n",
              "      <td>Casado</td>\n",
              "      <td>2</td>\n",
              "      <td>73865.90</td>\n",
              "      <td>Si</td>\n",
              "      <td>Fuga</td>\n",
              "    </tr>\n",
              "    <tr>\n",
              "      <th>8</th>\n",
              "      <td>22</td>\n",
              "      <td>76</td>\n",
              "      <td>Masculino</td>\n",
              "      <td>Casado</td>\n",
              "      <td>2</td>\n",
              "      <td>30933.60</td>\n",
              "      <td>Si</td>\n",
              "      <td>No Fuga</td>\n",
              "    </tr>\n",
              "    <tr>\n",
              "      <th>9</th>\n",
              "      <td>23</td>\n",
              "      <td>76</td>\n",
              "      <td>Femenino</td>\n",
              "      <td>Casado</td>\n",
              "      <td>1</td>\n",
              "      <td>12309.60</td>\n",
              "      <td>No</td>\n",
              "      <td>Fuga</td>\n",
              "    </tr>\n",
              "  </tbody>\n",
              "</table>\n",
              "</div>"
            ],
            "text/plain": [
              "   ID  EDAD       SEXO    CIVIL  HIJOS   INGRESO AUTO    CHURN\n",
              "1   4    68   Femenino   Casado      2  81000.90   No     Fuga\n",
              "2   8    34  Masculino  Soltero      0  87467.10   Si  No Fuga\n",
              "3  10    60  Masculino   Casado      2  83220.60   No     Fuga\n",
              "4  13    28   Femenino   Casado      2  20850.40   No     Fuga\n",
              "5  17    52  Masculino  Soltero      0  84112.60   No  No Fuga\n",
              "6  19    87   Femenino  Soltero      2   3776.12   No     Fuga\n",
              "7  20    88   Femenino   Casado      2  73865.90   Si     Fuga\n",
              "8  22    76  Masculino   Casado      2  30933.60   Si  No Fuga\n",
              "9  23    76   Femenino   Casado      1  12309.60   No     Fuga"
            ]
          },
          "metadata": {
            "tags": []
          },
          "execution_count": 69
        }
      ]
    },
    {
      "cell_type": "code",
      "metadata": {
        "colab": {
          "base_uri": "https://localhost:8080/",
          "height": 142
        },
        "id": "w4paTeUlnAib",
        "outputId": "a63c605b-9c5f-45b2-b958-2fe5466c7628"
      },
      "source": [
        "data.head(3)"
      ],
      "execution_count": null,
      "outputs": [
        {
          "output_type": "execute_result",
          "data": {
            "text/html": [
              "<div>\n",
              "<style scoped>\n",
              "    .dataframe tbody tr th:only-of-type {\n",
              "        vertical-align: middle;\n",
              "    }\n",
              "\n",
              "    .dataframe tbody tr th {\n",
              "        vertical-align: top;\n",
              "    }\n",
              "\n",
              "    .dataframe thead th {\n",
              "        text-align: right;\n",
              "    }\n",
              "</style>\n",
              "<table border=\"1\" class=\"dataframe\">\n",
              "  <thead>\n",
              "    <tr style=\"text-align: right;\">\n",
              "      <th></th>\n",
              "      <th>ID</th>\n",
              "      <th>EDAD</th>\n",
              "      <th>SEXO</th>\n",
              "      <th>CIVIL</th>\n",
              "      <th>HIJOS</th>\n",
              "      <th>INGRESO</th>\n",
              "      <th>AUTO</th>\n",
              "      <th>CHURN</th>\n",
              "    </tr>\n",
              "  </thead>\n",
              "  <tbody>\n",
              "    <tr>\n",
              "      <th>0</th>\n",
              "      <td>0</td>\n",
              "      <td>57</td>\n",
              "      <td>Femenino</td>\n",
              "      <td>Casado</td>\n",
              "      <td>2</td>\n",
              "      <td>27535.3</td>\n",
              "      <td>Si</td>\n",
              "      <td>Fuga</td>\n",
              "    </tr>\n",
              "    <tr>\n",
              "      <th>1</th>\n",
              "      <td>4</td>\n",
              "      <td>68</td>\n",
              "      <td>Femenino</td>\n",
              "      <td>Casado</td>\n",
              "      <td>2</td>\n",
              "      <td>81000.9</td>\n",
              "      <td>No</td>\n",
              "      <td>Fuga</td>\n",
              "    </tr>\n",
              "    <tr>\n",
              "      <th>2</th>\n",
              "      <td>8</td>\n",
              "      <td>34</td>\n",
              "      <td>Masculino</td>\n",
              "      <td>Soltero</td>\n",
              "      <td>0</td>\n",
              "      <td>87467.1</td>\n",
              "      <td>Si</td>\n",
              "      <td>No Fuga</td>\n",
              "    </tr>\n",
              "  </tbody>\n",
              "</table>\n",
              "</div>"
            ],
            "text/plain": [
              "   ID  EDAD       SEXO    CIVIL  HIJOS  INGRESO AUTO    CHURN\n",
              "0   0    57   Femenino   Casado      2  27535.3   Si     Fuga\n",
              "1   4    68   Femenino   Casado      2  81000.9   No     Fuga\n",
              "2   8    34  Masculino  Soltero      0  87467.1   Si  No Fuga"
            ]
          },
          "metadata": {
            "tags": []
          },
          "execution_count": 70
        }
      ]
    },
    {
      "cell_type": "code",
      "metadata": {
        "id": "IHy_8QvvYYK4"
      },
      "source": [
        "# Generamos un subset a nivel de filas y columnas\n",
        "#data.iloc[1:10,[2,5,7]] # Filas del 1 al 10 y columnas en la posición 2,5 y 7\n",
        "data.iloc[0:20,[1,5]] # Filas de 0 a la 20, y columnas en la posicion 2 y 5"
      ],
      "execution_count": null,
      "outputs": []
    },
    {
      "cell_type": "code",
      "metadata": {
        "id": "Th2ahsTtYYK4"
      },
      "source": [
        "# Puedo hacer el subset de acuerdo a lo que necesite\n",
        "data.iloc[[1,5,8,36], [2,5,7]]"
      ],
      "execution_count": null,
      "outputs": []
    },
    {
      "cell_type": "code",
      "metadata": {
        "id": "7rVyw2IXYYK4"
      },
      "source": [
        "data.iloc[[1,5,8,36], [2, 3, 4]]"
      ],
      "execution_count": null,
      "outputs": []
    },
    {
      "cell_type": "markdown",
      "metadata": {
        "id": "ODA2vnBKYYK5"
      },
      "source": [
        "#### Insertar nuevas filas en el dataframe"
      ]
    },
    {
      "cell_type": "code",
      "metadata": {
        "collapsed": true,
        "id": "jmjndJJtYYK6"
      },
      "source": [
        "data[\"IngresoPerHijo\"] = data[\"INGRESO\"]/(data[\"HIJOS\"]+1) # se suma 1 para que la division no sea divida por 0"
      ],
      "execution_count": null,
      "outputs": []
    },
    {
      "cell_type": "code",
      "metadata": {
        "id": "RX9gfsXOYYK6"
      },
      "source": [
        "data.head()"
      ],
      "execution_count": null,
      "outputs": []
    },
    {
      "cell_type": "code",
      "metadata": {
        "colab": {
          "base_uri": "https://localhost:8080/",
          "height": 111
        },
        "id": "RbqFdN6pYYK6",
        "outputId": "7071d0c5-3010-4e56-9673-b255401d49e6"
      },
      "source": [
        "data[\"Ingreso/Edad\"] = data[\"INGRESO\"]/data[\"EDAD\"]\n",
        "data.head(2)"
      ],
      "execution_count": null,
      "outputs": [
        {
          "output_type": "execute_result",
          "data": {
            "text/html": [
              "<div>\n",
              "<style scoped>\n",
              "    .dataframe tbody tr th:only-of-type {\n",
              "        vertical-align: middle;\n",
              "    }\n",
              "\n",
              "    .dataframe tbody tr th {\n",
              "        vertical-align: top;\n",
              "    }\n",
              "\n",
              "    .dataframe thead th {\n",
              "        text-align: right;\n",
              "    }\n",
              "</style>\n",
              "<table border=\"1\" class=\"dataframe\">\n",
              "  <thead>\n",
              "    <tr style=\"text-align: right;\">\n",
              "      <th></th>\n",
              "      <th>ID</th>\n",
              "      <th>EDAD</th>\n",
              "      <th>SEXO</th>\n",
              "      <th>CIVIL</th>\n",
              "      <th>HIJOS</th>\n",
              "      <th>INGRESO</th>\n",
              "      <th>AUTO</th>\n",
              "      <th>CHURN</th>\n",
              "      <th>Ingreso/Hijo</th>\n",
              "      <th>IngresoPerHijo</th>\n",
              "      <th>Ingreso/Edad</th>\n",
              "    </tr>\n",
              "  </thead>\n",
              "  <tbody>\n",
              "    <tr>\n",
              "      <th>0</th>\n",
              "      <td>0</td>\n",
              "      <td>57</td>\n",
              "      <td>Femenino</td>\n",
              "      <td>Casado</td>\n",
              "      <td>2</td>\n",
              "      <td>27535.3</td>\n",
              "      <td>Si</td>\n",
              "      <td>Fuga</td>\n",
              "      <td>9178.433333</td>\n",
              "      <td>9178.433333</td>\n",
              "      <td>483.075439</td>\n",
              "    </tr>\n",
              "    <tr>\n",
              "      <th>1</th>\n",
              "      <td>4</td>\n",
              "      <td>68</td>\n",
              "      <td>Femenino</td>\n",
              "      <td>Casado</td>\n",
              "      <td>2</td>\n",
              "      <td>81000.9</td>\n",
              "      <td>No</td>\n",
              "      <td>Fuga</td>\n",
              "      <td>27000.300000</td>\n",
              "      <td>27000.300000</td>\n",
              "      <td>1191.189706</td>\n",
              "    </tr>\n",
              "  </tbody>\n",
              "</table>\n",
              "</div>"
            ],
            "text/plain": [
              "   ID  EDAD      SEXO   CIVIL  ...  CHURN  Ingreso/Hijo IngresoPerHijo Ingreso/Edad\n",
              "0   0    57  Femenino  Casado  ...   Fuga   9178.433333    9178.433333   483.075439\n",
              "1   4    68  Femenino  Casado  ...   Fuga  27000.300000   27000.300000  1191.189706\n",
              "\n",
              "[2 rows x 11 columns]"
            ]
          },
          "metadata": {
            "tags": []
          },
          "execution_count": 84
        }
      ]
    },
    {
      "cell_type": "code",
      "metadata": {
        "collapsed": true,
        "id": "5uQc0fgDYYK7"
      },
      "source": [
        "# Ejercicio N°05\n",
        "# Generar la variable INGRESO/EDAD o Numero de hijos **2\n",
        "import numpy as np\n",
        "np.power(data.HIJOS,2) # POtencia del numero de hijos al cuadrado\n"
      ],
      "execution_count": null,
      "outputs": []
    },
    {
      "cell_type": "code",
      "metadata": {
        "id": "3IzJhTYYYYK8"
      },
      "source": [
        "data = data.iloc[:, 0:9]"
      ],
      "execution_count": null,
      "outputs": []
    },
    {
      "cell_type": "code",
      "metadata": {
        "colab": {
          "base_uri": "https://localhost:8080/",
          "height": 204
        },
        "id": "4QPscRf0YYK8",
        "outputId": "8e3596ce-5247-4373-f7ab-e1493025853f"
      },
      "source": [
        "data.head()"
      ],
      "execution_count": null,
      "outputs": [
        {
          "output_type": "execute_result",
          "data": {
            "text/html": [
              "<div>\n",
              "<style scoped>\n",
              "    .dataframe tbody tr th:only-of-type {\n",
              "        vertical-align: middle;\n",
              "    }\n",
              "\n",
              "    .dataframe tbody tr th {\n",
              "        vertical-align: top;\n",
              "    }\n",
              "\n",
              "    .dataframe thead th {\n",
              "        text-align: right;\n",
              "    }\n",
              "</style>\n",
              "<table border=\"1\" class=\"dataframe\">\n",
              "  <thead>\n",
              "    <tr style=\"text-align: right;\">\n",
              "      <th></th>\n",
              "      <th>ID</th>\n",
              "      <th>EDAD</th>\n",
              "      <th>SEXO</th>\n",
              "      <th>CIVIL</th>\n",
              "      <th>HIJOS</th>\n",
              "      <th>INGRESO</th>\n",
              "      <th>AUTO</th>\n",
              "      <th>CHURN</th>\n",
              "      <th>Ingreso/Hijo</th>\n",
              "    </tr>\n",
              "  </thead>\n",
              "  <tbody>\n",
              "    <tr>\n",
              "      <th>0</th>\n",
              "      <td>0</td>\n",
              "      <td>57</td>\n",
              "      <td>Femenino</td>\n",
              "      <td>Casado</td>\n",
              "      <td>2</td>\n",
              "      <td>27535.3</td>\n",
              "      <td>Si</td>\n",
              "      <td>Fuga</td>\n",
              "      <td>9178.433333</td>\n",
              "    </tr>\n",
              "    <tr>\n",
              "      <th>1</th>\n",
              "      <td>4</td>\n",
              "      <td>68</td>\n",
              "      <td>Femenino</td>\n",
              "      <td>Casado</td>\n",
              "      <td>2</td>\n",
              "      <td>81000.9</td>\n",
              "      <td>No</td>\n",
              "      <td>Fuga</td>\n",
              "      <td>27000.300000</td>\n",
              "    </tr>\n",
              "    <tr>\n",
              "      <th>2</th>\n",
              "      <td>8</td>\n",
              "      <td>34</td>\n",
              "      <td>Masculino</td>\n",
              "      <td>Soltero</td>\n",
              "      <td>0</td>\n",
              "      <td>87467.1</td>\n",
              "      <td>Si</td>\n",
              "      <td>No Fuga</td>\n",
              "      <td>87467.100000</td>\n",
              "    </tr>\n",
              "    <tr>\n",
              "      <th>3</th>\n",
              "      <td>10</td>\n",
              "      <td>60</td>\n",
              "      <td>Masculino</td>\n",
              "      <td>Casado</td>\n",
              "      <td>2</td>\n",
              "      <td>83220.6</td>\n",
              "      <td>No</td>\n",
              "      <td>Fuga</td>\n",
              "      <td>27740.200000</td>\n",
              "    </tr>\n",
              "    <tr>\n",
              "      <th>4</th>\n",
              "      <td>13</td>\n",
              "      <td>28</td>\n",
              "      <td>Femenino</td>\n",
              "      <td>Casado</td>\n",
              "      <td>2</td>\n",
              "      <td>20850.4</td>\n",
              "      <td>No</td>\n",
              "      <td>Fuga</td>\n",
              "      <td>6950.133333</td>\n",
              "    </tr>\n",
              "  </tbody>\n",
              "</table>\n",
              "</div>"
            ],
            "text/plain": [
              "   ID  EDAD       SEXO    CIVIL  HIJOS  INGRESO AUTO    CHURN  Ingreso/Hijo\n",
              "0   0    57   Femenino   Casado      2  27535.3   Si     Fuga   9178.433333\n",
              "1   4    68   Femenino   Casado      2  81000.9   No     Fuga  27000.300000\n",
              "2   8    34  Masculino  Soltero      0  87467.1   Si  No Fuga  87467.100000\n",
              "3  10    60  Masculino   Casado      2  83220.6   No     Fuga  27740.200000\n",
              "4  13    28   Femenino   Casado      2  20850.4   No     Fuga   6950.133333"
            ]
          },
          "metadata": {
            "tags": []
          },
          "execution_count": 93
        }
      ]
    },
    {
      "cell_type": "markdown",
      "metadata": {
        "id": "MFlLtvUSYYK8"
      },
      "source": [
        "### Generación aleatoria de números"
      ]
    },
    {
      "cell_type": "code",
      "metadata": {
        "collapsed": true,
        "id": "pSmgq0r4YYK9"
      },
      "source": [
        "import numpy as np"
      ],
      "execution_count": null,
      "outputs": []
    },
    {
      "cell_type": "code",
      "metadata": {
        "colab": {
          "base_uri": "https://localhost:8080/"
        },
        "id": "fFNhXHGQYYK9",
        "outputId": "ed6a7cc6-4ebe-4308-c317-02c1253b8e91"
      },
      "source": [
        "##Generar un número aleatorio entero entre 1 y 100\n",
        "np.random.randint(1,100)"
      ],
      "execution_count": null,
      "outputs": [
        {
          "output_type": "execute_result",
          "data": {
            "text/plain": [
              "56"
            ]
          },
          "metadata": {
            "tags": []
          },
          "execution_count": 97
        }
      ]
    },
    {
      "cell_type": "code",
      "metadata": {
        "colab": {
          "base_uri": "https://localhost:8080/"
        },
        "id": "Rbp43C7aYYK9",
        "outputId": "95bb6117-9a8b-4a8f-ea0c-a1e640555fb4"
      },
      "source": [
        "##La forma más clásica de generar un número aleatorio es entre 0 y 1 (con decimales)\n",
        "np.random.random()"
      ],
      "execution_count": null,
      "outputs": [
        {
          "output_type": "execute_result",
          "data": {
            "text/plain": [
              "0.5387592989518204"
            ]
          },
          "metadata": {
            "tags": []
          },
          "execution_count": 98
        }
      ]
    }
  ]
}